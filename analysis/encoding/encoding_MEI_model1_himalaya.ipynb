{
 "cells": [
  {
   "cell_type": "markdown",
   "id": "described-selling",
   "metadata": {},
   "source": [
    "# `MEI`: Encoding model\n",
    "Here we adapt an encoding model to the MEI dataset. This code uses Himilaya (instead of scikit learn) and is devloped from this tutorial: https://github.com/snastase/encling-tutorial/blob/main/encling_tutorial.ipynb and https://gallantlab.org/voxelwise_tutorials/_auto_examples/shortclips/03_plot_wordnet_model.html"
   ]
  },
  {
   "cell_type": "code",
   "execution_count": 1,
   "id": "unlike-sword",
   "metadata": {},
   "outputs": [],
   "source": [
    "from os.path import join\n",
    "import numpy as np\n",
    "import matplotlib.pyplot as plt\n",
    "import seaborn as sns\n",
    "import nibabel as nib\n",
    "import pandas as pd\n",
    "import json\n",
    "from scipy.stats import zscore"
   ]
  },
  {
   "cell_type": "code",
   "execution_count": 2,
   "id": "declared-instrument",
   "metadata": {},
   "outputs": [
    {
     "name": "stderr",
     "output_type": "stream",
     "text": [
      "/jukebox/pkgs/PYGER/base/envs/0.11.0/lib/python3.7/site-packages/nilearn/datasets/__init__.py:90: FutureWarning: Fetchers from the nilearn.datasets module will be updated in version 0.9 to return python strings instead of bytes and Pandas dataframes instead of Numpy arrays.\n",
      "  \"Numpy arrays.\", FutureWarning)\n"
     ]
    }
   ],
   "source": [
    "from nilearn.plotting import view_img"
   ]
  },
  {
   "cell_type": "markdown",
   "id": "south-hepatitis",
   "metadata": {},
   "source": [
    "### Semantic encoding model\n",
    "GloVe ([Pennington et al., 2014](http://dx.doi.org/10.3115/v1/D14-1162])) represents each word in a 300-dimensional semantic space where words that are nearer in space are more semantically similar based on co-occurrence statistics from a large corpus of text. We start with a time-stamped stimulus transcript. For each TR, we identify which words occurred in that TR, then assign that TR the semantic embeddings associated with each word. For TRs with multiple words, we average the semantic embeddings; for TRs with no words, we use a 300-dimensional vector of zeros; we exclude a small number of stop words. Finally, to account for the hemodynamic lag in fMRI, we create lagged versions of the embeddings."
   ]
  },
  {
   "cell_type": "code",
   "execution_count": 3,
   "id": "light-consortium",
   "metadata": {},
   "outputs": [],
   "source": [
    "# Load in time-stamped transcript\n",
    "transcript_fn = 'shrek_transcript_final.csv'\n",
    "transcript = pd.read_csv(transcript_fn, sep=',')\n",
    "\n",
    "# Stimulus is roughly 800 seconds long\n",
    "tr = 1.5\n",
    "stim_dur = 134\n",
    "stim_trs = int(np.ceil(134 / tr))\n",
    "\n",
    "# Convert transcript to list for simplicity\n",
    "transcript = transcript.values.tolist()\n",
    "\n",
    "# Loop through TRs\n",
    "transcript_trs = []"
   ]
  },
  {
   "cell_type": "code",
   "execution_count": 4,
   "id": "accompanied-metadata",
   "metadata": {
    "scrolled": true
   },
   "outputs": [
    {
     "name": "stdout",
     "output_type": "stream",
     "text": [
      "[['okay', 7.6, 7.6], ['let', 8.0, 8.0], ['me', 8.1, 8.1], ['get', 8.2, 8.2], ['this', 8.2, 8.2], ['straight', 8.4, 8.4], ['you', 8.7, 8.8], ['want', 8.8, 9.3], ['to', 9.3, 9.4], ['go', 9.4, 9.5], ['fight', 9.5, 9.8], ['a', 9.8, 9.9], ['dragon', 9.9, 10.2], ['and', 10.2, 10.3], ['rescue', 10.3, 10.8], ['a', 10.8, 10.9], ['princess', 10.9, 11.1], ['just', 11.1, 11.6], ['so', 11.6, 11.6], ['farquad', 11.6, 12.0], ['will', 12.0, 12.1], ['give', 12.2, 12.4], ['you', 12.4, 12.4], ['back', 12.4, 12.6], ['a', 12.6, 12.7], ['swamp', 12.7, 13.2], ['which', 13.2, 13.4], ['you', 13.4, 13.5], ['only', 13.5, 13.8], [\"don't\", 13.8, 14.1], ['have', 14.1, 14.3], ['cuz', 14.3, 14.5], ['he', 14.5, 14.6], ['filled', 14.6, 14.9], ['it', 14.9, 14.9], ['full', 14.9, 15.1], ['of', 15.1, 15.2], ['freaks', 15.2, 15.2], ['in', 15.2, 15.5], ['the', 15.5, 15.5], ['first', 15.5, 15.8], ['place', 15.8, 16.1], ['that', 16.1, 16.1], ['about', 16.1, 16.1], ['right', 16.2, 16.2], ['you', 16.5, 16.6], ['know', 16.6, 16.6], ['what', 16.7, 16.8], ['maybe', 17.8, 18.1], [\"there's\", 18.1, 18.3], ['a', 18.3, 18.4], ['good', 18.4, 18.4], ['reason', 18.4, 18.8], ['donkeys', 18.8, 19.6], [\"shouldn't\", 19.6, 20.0], ['talk', 20.0, 20.3], ['i', 20.3, 21.2], [\"don't\", 21.2, 21.3], ['get', 21.3, 21.6], ['it', 21.6, 21.7], ['shrek', 21.7, 22.1], ['why', 22.2, 22.2], [\"don't\", 22.2, 22.2], ['you', 22.3, 22.3], ['just', 22.4, 22.5], ['pull', 22.6, 22.7], ['some', 22.8, 22.8], ['of', 22.8, 22.8], ['that', 22.8, 22.9], ['ogre', 23.1, 23.2], ['stuff', 23.3, 23.5], ['on', 23.6, 23.6], ['him', 23.6, 23.7], ['you', 23.8, 23.8], ['know', 23.9, 24.0], ['throttle', 24.2, 24.4], ['him', 24.4, 24.5], ['lay', 24.7, 24.7], ['siege', 24.8, 25.1], ['to', 25.1, 25.2], ['his', 25.2, 25.3], ['fortress', 25.3, 25.7], ['grind', 26.2, 26.3], ['his', 26.4, 26.4], ['bones', 26.5, 27.0], ['to', 27.1, 27.1], ['make', 27.2, 27.3], ['your', 27.4, 27.4], ['bread', 27.7, 27.9], ['you', 28.1, 28.1], ['know', 28.1, 28.1], ['the', 28.2, 28.2], ['whole', 28.2, 28.3], ['ogre', 28.5, 28.7], ['trip', 28.8, 28.9], ['oh', 28.9, 29.5], ['i', 30.0, 30.1], ['know', 30.1, 30.3], ['what', 30.4, 30.6], ['maybe', 31.2, 31.4], ['i', 31.5, 31.8], ['could', 31.9, 32.1], ['have', 32.1, 32.2], ['decapitated', 32.2, 32.8], ['an', 32.9, 32.9], ['entire', 33.1, 33.5], ['village', 33.5, 33.9], ['to', 33.9, 33.9], ['put', 33.9, 34.1], ['their', 34.1, 34.3], ['heads', 34.3, 34.7], ['on', 34.7, 34.8], ['a', 34.8, 34.9], ['plate', 34.9, 35.3], ['grab', 35.3, 35.9], ['a', 35.9, 36.0], ['knife', 36.0, 36.5], ['cut', 36.5, 36.7], ['open', 36.7, 37.0], ['their', 37.0, 37.2], ['spleen', 37.2, 37.8], ['and', 37.8, 37.9], ['drink', 37.9, 38.3], ['their', 38.3, 38.5], ['fluids', 38.5, 39.2], ['does', 39.2, 40.1], ['that', 40.1, 40.3], ['sound', 40.3, 40.6], ['good', 40.6, 40.6], ['to', 40.6, 40.8], ['you', 40.8, 41.0], ['uh', 41.2, 42.1], ['no', 43.0, 43.1], ['not', 43.3, 43.3], ['really', 43.4, 43.7], ['no', 43.7, 44.0], ['for', 44.0, 44.8], ['your', 44.8, 45.1], ['information', 45.1, 45.8], [\"there's\", 45.8, 46.0], ['a', 46.0, 46.0], ['lot', 46.0, 46.3], ['more', 46.3, 46.4], ['to', 46.4, 46.7], ['ogres', 46.7, 47.2], ['than', 47.2, 47.3], ['people', 47.3, 47.7], ['think', 47.7, 47.9], ['example', 48.5, 49.4], ['example', 49.4, 50.5], ['okay', 50.5, 51.5], ['ogres', 53.1, 54.1], ['are', 54.1, 54.4], ['like', 54.4, 54.7], ['onions', 54.7, 54.9], ['they', 56.6, 56.7], ['stink', 56.8, 57.1], ['yes', 57.3, 57.7], ['no', 57.7, 58.0], ['or', 58.1, 58.2], ['they', 58.2, 58.3], ['make', 58.3, 58.4], ['you', 58.4, 58.4], ['cry', 58.5, 58.7], ['no', 58.9, 59.5], ['oh', 59.6, 59.8], ['you', 59.9, 59.9], ['leave', 60.0, 60.1], ['them', 60.1, 60.2], ['out', 60.2, 60.3], ['in', 60.3, 60.4], ['the', 60.5, 60.5], ['sun', 60.6, 60.7], ['they', 60.8, 60.8], ['get', 61.0, 61.1], ['all', 61.2, 61.2], ['brown', 61.3, 61.5], ['start', 61.6, 61.7], ['sprouting', 61.8, 61.9], ['little', 62.1, 62.2], ['white', 62.3, 62.5], ['hairs', 62.6, 62.8], ['no', 63.1, 63.7], ['layers', 64.3, 64.9], ['onions', 65.6, 65.9], ['have', 66.6, 66.7], ['layers', 67.2, 67.6], ['ogres', 67.9, 68.5], ['have', 68.7, 68.9], ['layers', 69.2, 69.3], ['onions', 69.5, 69.7], ['have', 69.8, 69.8], ['layers', 69.9, 70.0], ['you', 70.0, 71.3], ['get', 71.3, 71.5], ['it', 71.5, 71.7], ['we', 71.7, 72.0], ['both', 72.0, 72.2], ['have', 72.2, 72.4], ['layers', 72.4, 72.9], ['oh', 75.2, 75.5], ['you', 75.5, 76.2], ['both', 76.2, 76.4], ['have', 76.4, 76.6], ['layers', 76.6, 77.1], ['you', 79.8, 79.8], ['know', 79.9, 80.1], ['not', 80.2, 80.2], ['everybody', 80.3, 80.5], ['likes', 80.7, 80.7], ['onions', 80.9, 81.3], ['cake', 82.4, 82.8], ['everybody', 83.1, 83.9], ['loves', 83.9, 84.0], ['cakes', 84.0, 84.4], ['cakes', 84.5, 84.6], ['have', 84.7, 84.8], ['layers', 84.8, 85.1], ['i', 85.3, 85.5], [\"don't\", 85.5, 85.8], ['care', 85.8, 86.4], ['what', 86.4, 87.5], ['everyone', 87.5, 87.9], ['likes', 87.9, 88.5], ['ogres', 88.5, 89.9], ['are', 89.9, 90.6], ['not', 90.6, 91.0], ['like', 91.0, 91.6], ['cakes', 91.6, 92.3], ['you', 95.2, 95.3], ['know', 95.3, 95.3], ['what', 95.4, 95.4], ['else', 95.5, 95.6], ['everybody', 95.7, 96.0], ['likes', 96.1, 96.2], ['parfait', 96.3, 97.0], ['have', 97.0, 97.5], ['you', 97.5, 97.7], ['ever', 97.7, 97.9], ['met', 97.9, 98.1], ['a', 98.1, 98.1], ['person', 98.1, 98.3], ['you', 98.3, 98.6], ['say', 98.6, 98.7], ['hey', 98.7, 98.8], [\"let's\", 98.8, 99.3], ['get', 99.3, 99.4], ['some', 99.4, 99.6], ['parfait', 99.6, 99.8], ['they', 99.8, 100.1], ['say', 100.1, 100.3], ['hey', 100.3, 100.3], ['no', 100.3, 100.6], ['I', 100.6, 100.7], [\"don't\", 100.7, 100.8], ['like', 100.8, 101.0], ['no', 101.0, 101.0], ['parfait', 101.0, 101.5], ['parfaits', 101.6, 101.9], ['are', 102.0, 102.0], ['delicious', 102.1, 102.5], ['no', 102.8, 103.2], ['you', 103.5, 103.6], ['dense', 103.9, 104.1], ['irritating', 104.5, 104.9], ['miniature', 105.0, 105.2], ['beast', 105.3, 106.0], ['of', 106.0, 106.1], ['burden', 106.1, 106.4], ['ogres', 107.0, 107.2], ['are', 107.5, 107.5], ['like', 107.7, 107.8], ['onions', 107.9, 107.9], ['end', 108.0, 109.0], ['of', 109.0, 109.2], ['story', 109.2, 109.4], ['bye', 109.4, 110.0], ['bye', 110.0, 110.2], ['see', 111.3, 111.3], ['ya', 111.3, 111.4], ['later', 111.5, 111.6], ['parfaits', 116.7, 117.5], ['may', 117.5, 117.6], ['be', 117.6, 117.8], ['the', 117.8, 117.9], ['most', 117.9, 118.0], ['delicious', 118.0, 118.4], ['thing', 118.4, 119.0], ['on', 119.0, 119.1], ['the', 119.1, 119.2], ['whole', 119.2, 119.5], ['damn', 119.5, 119.7], ['planet', 119.7, 120.1], ['you', 120.1, 120.5], ['know', 120.5, 120.6], ['i', 120.6, 121.2], ['think', 121.2, 121.5], ['i', 121.5, 121.7], ['preferred', 121.7, 122.1], ['your', 122.1, 122.3], ['humming', 122.3, 122.8], ['do', 122.8, 123.6], ['you', 123.6, 123.6], ['have', 123.6, 123.8], ['a', 123.8, 123.9], ['tissue', 123.9, 124.2], ['or', 124.2, 124.4], ['something', 124.4, 124.7], ['cuz', 124.7, 125.0], [\"I'm\", 125.0, 125.1], ['making', 125.1, 125.2], ['a', 125.2, 125.4], ['mess', 125.4, 125.5], ['just', 126.1, 126.2], ['the', 126.2, 126.3], ['word', 126.4, 126.5], ['parfait', 126.7, 127.0], ['makes', 127.2, 127.2], ['me', 127.3, 127.3], ['start', 127.5, 127.5], ['slobbering', 128.0, 128.2]]\n"
     ]
    }
   ],
   "source": [
    "print(transcript)"
   ]
  },
  {
   "cell_type": "code",
   "execution_count": 5,
   "id": "electoral-astronomy",
   "metadata": {},
   "outputs": [],
   "source": [
    "# Loop through TRs\n",
    "for t in np.arange(stim_trs):\n",
    "\n",
    "    # Container for words in this TR\n",
    "    tr_words = []\n",
    "\n",
    "    try:\n",
    "        # Check if upcoming word onset is in this TR\n",
    "        while t * tr < transcript[0][2] <= t * tr + tr:\n",
    "            #print(transcript)\n",
    "\n",
    "            # If so, pop this word out of list and keep it\n",
    "            w = transcript.pop(0)\n",
    "            tr_words.append(w[0])\n",
    "    except:\n",
    "        transcript_trs.append(tr_words)\n",
    "        \n",
    "        continue\n",
    "\n",
    "\n",
    "    # Append words and move to the next TR\n",
    "    transcript_trs.append(tr_words)"
   ]
  },
  {
   "cell_type": "code",
   "execution_count": 6,
   "id": "rocky-paint",
   "metadata": {},
   "outputs": [
    {
     "data": {
      "text/plain": [
       "[['okay', 'let', 'me', 'get', 'this', 'straight', 'you'],\n",
       " ['want', 'to', 'go', 'fight', 'a', 'dragon', 'and'],\n",
       " ['rescue', 'a', 'princess', 'just', 'so', 'farquad'],\n",
       " ['will', 'give', 'you', 'back', 'a', 'swamp', 'which', 'you'],\n",
       " ['only', \"don't\", 'have', 'cuz', 'he', 'filled', 'it']]"
      ]
     },
     "execution_count": 6,
     "metadata": {},
     "output_type": "execute_result"
    }
   ],
   "source": [
    "transcript_trs[5:10]"
   ]
  },
  {
   "cell_type": "markdown",
   "id": "exceptional-setting",
   "metadata": {},
   "source": [
    "## Get glove embeddings for target movie"
   ]
  },
  {
   "cell_type": "markdown",
   "id": "chicken-pharmacy",
   "metadata": {},
   "source": [
    "Use the get_embeddings.ipynb script to produce the shrek_embeddings json"
   ]
  },
  {
   "cell_type": "code",
   "execution_count": 7,
   "id": "technological-balance",
   "metadata": {},
   "outputs": [],
   "source": [
    "# Load in dictionary of GloVe embeddings\n",
    "with open('shrek_embeddings.json') as f:\n",
    "    glove = json.load(f)\n",
    "    \n",
    "# Load list of standard stop words\n",
    "stopwords = np.load('nltk_stopwords.npy')\n",
    "append = [\"farquad\", \"there's\", \"let's\", \"I\", \"I'm\"]\n",
    "stopwords = np.append(stopwords, append)"
   ]
  },
  {
   "cell_type": "code",
   "execution_count": 8,
   "id": "impaired-bloom",
   "metadata": {},
   "outputs": [
    {
     "name": "stdout",
     "output_type": "stream",
     "text": [
      "['i' 'me' 'my' 'myself' 'we' 'our' 'ours' 'ourselves' 'you' \"you're\"\n",
      " \"you've\" \"you'll\" \"you'd\" 'your' 'yours' 'yourself' 'yourselves' 'he'\n",
      " 'him' 'his' 'himself' 'she' \"she's\" 'her' 'hers' 'herself' 'it' \"it's\"\n",
      " 'its' 'itself' 'they' 'them' 'their' 'theirs' 'themselves' 'what' 'which'\n",
      " 'who' 'whom' 'this' 'that' \"that'll\" 'these' 'those' 'am' 'is' 'are'\n",
      " 'was' 'were' 'be' 'been' 'being' 'have' 'has' 'had' 'having' 'do' 'does'\n",
      " 'did' 'doing' 'a' 'an' 'the' 'and' 'but' 'if' 'or' 'because' 'as' 'until'\n",
      " 'while' 'of' 'at' 'by' 'for' 'with' 'about' 'against' 'between' 'into'\n",
      " 'through' 'during' 'before' 'after' 'above' 'below' 'to' 'from' 'up'\n",
      " 'down' 'in' 'out' 'on' 'off' 'over' 'under' 'again' 'further' 'then'\n",
      " 'once' 'here' 'there' 'when' 'where' 'why' 'how' 'all' 'any' 'both'\n",
      " 'each' 'few' 'more' 'most' 'other' 'some' 'such' 'no' 'nor' 'not' 'only'\n",
      " 'own' 'same' 'so' 'than' 'too' 'very' 's' 't' 'can' 'will' 'just' 'don'\n",
      " \"don't\" 'should' \"should've\" 'now' 'd' 'll' 'm' 'o' 're' 've' 'y' 'ain'\n",
      " 'aren' \"aren't\" 'couldn' \"couldn't\" 'didn' \"didn't\" 'doesn' \"doesn't\"\n",
      " 'hadn' \"hadn't\" 'hasn' \"hasn't\" 'haven' \"haven't\" 'isn' \"isn't\" 'ma'\n",
      " 'mightn' \"mightn't\" 'mustn' \"mustn't\" 'needn' \"needn't\" 'shan' \"shan't\"\n",
      " 'shouldn' \"shouldn't\" 'wasn' \"wasn't\" 'weren' \"weren't\" 'won' \"won't\"\n",
      " 'wouldn' \"wouldn't\" 'farquad' \"there's\" \"let's\" 'I' \"I'm\"]\n"
     ]
    }
   ],
   "source": [
    "print(stopwords)"
   ]
  },
  {
   "cell_type": "markdown",
   "id": "alien-bronze",
   "metadata": {},
   "source": [
    "Now that we have a transcript, a dictionary of word embeddings, and a list of stop words, we're ready to construct our predictor matrix. For each TR, obtain the words from `transcript_trs`. If a word is in our list of stop words, ignore it; otherwise, obtain the GloVe embedding for that word. If there are multiple words in a TR (excluding stop words), average their word embeddings to obtain a single embedding per TR. If a TR is empty (i.e. contains no words), set the embedding to a zero vector of the same dimensionality as the other embeddings. Lastly, visualize the resulting predictor matrix; z-score each column (i.e. GloVe dimension) for visualization."
   ]
  },
  {
   "cell_type": "code",
   "execution_count": 9,
   "id": "palestinian-artist",
   "metadata": {},
   "outputs": [],
   "source": [
    "# Assign GloVe embeddings to each TR:\n",
    "glove_dim = 300\n",
    "\n",
    "embeddings = []\n",
    "for t in transcript_trs:\n",
    "    embeddings_tr = []\n",
    "    \n",
    "    # Grab the embedding for each word in a TR\n",
    "    for w in t:\n",
    "        \n",
    "        # Ignore stop words\n",
    "        if w not in stopwords:\n",
    "            embeddings_tr.append(np.array(glove[w]).astype(float))\n",
    "        \n",
    "    # For non-empty TRs, average the embeddings\n",
    "    if len(embeddings_tr) > 0:\n",
    "        embeddings_tr = np.mean(embeddings_tr, axis=0)\n",
    "    else:\n",
    "        embeddings_tr = np.zeros(glove_dim)\n",
    "    embeddings.append(embeddings_tr)\n",
    "\n",
    "embeddings = np.stack(embeddings, axis=0)"
   ]
  },
  {
   "cell_type": "code",
   "execution_count": 10,
   "id": "precise-implement",
   "metadata": {},
   "outputs": [
    {
     "data": {
      "text/plain": [
       "(90, 300)"
      ]
     },
     "execution_count": 10,
     "metadata": {},
     "output_type": "execute_result"
    }
   ],
   "source": [
    "embeddings.shape"
   ]
  },
  {
   "cell_type": "code",
   "execution_count": 11,
   "id": "composed-operations",
   "metadata": {},
   "outputs": [
    {
     "data": {
      "image/png": "[encoded data removed]",
      "text/plain": [
       "<Figure size 960x288 with 1 Axes>"
      ]
     },
     "metadata": {
      "needs_background": "light"
     },
     "output_type": "display_data"
    }
   ],
   "source": [
    "# Visualize predictor matrix of GloVe embeddings:\n",
    "plt.matshow(zscore(embeddings, axis=0), cmap='binary_r')\n",
    "plt.xlabel('GloVe features')\n",
    "plt.ylabel('TRs');"
   ]
  },
  {
   "cell_type": "markdown",
   "id": "serious-haven",
   "metadata": {},
   "source": [
    "### lags are now handled internally by himalaya **"
   ]
  },
  {
   "cell_type": "markdown",
   "id": "organic-annual",
   "metadata": {},
   "source": [
    "### Load brain atlas for visualization\n",
    "We will use a corticalcortical parcellation containing 400 parcels from [Schaefer and colleages (2018)](https://doi.org/10.1093/cercor/bhx179) to reduce the computational load. \n",
    " - Load in the functional data and atlas. "
   ]
  },
  {
   "cell_type": "code",
   "execution_count": 13,
   "id": "orange-staff",
   "metadata": {},
   "outputs": [],
   "source": [
    "# Filenames for intact notthefall data and Schaefer atlas\n",
    "func_fn = ('sub-284_task-black_space-MNI152NLin2009cAsym_res-native_desc-clean_bold.nii.gz')\n",
    "atlas_fn = ('Schaefer2018_400Parcels_17Networks_order_FSLMNI152_2.5mm.nii.gz')\n",
    "\n",
    "# Load in the Schaefer 400-parcel atlas\n",
    "atlas_nii = nib.load(atlas_fn)\n",
    "atlas_img = atlas_nii.get_fdata()"
   ]
  },
  {
   "cell_type": "markdown",
   "id": "answering-christmas",
   "metadata": {},
   "source": [
    "# All subjects "
   ]
  },
  {
   "cell_type": "markdown",
   "id": "suspended-facial",
   "metadata": {},
   "source": [
    "### Ridge regression\n",
    "KernelRidgeCV: this will select the best parameter setting from the inner cross-validation fold within the training half to predict the test half. Higher alpha values increase regularization and reduce overfitting. Within each cross-validation fold, we'll apply two transforms: StandardScaler will be used to mean-center or z-score each column of the predictor matrix within the training set, then apply that transformation to the training set; Delayer will horiztonally stack lagged versions our predictor matrix to account for the hemodynamic lag. We use himalaya's KernelRidgeCV (rather than RidgeCV) because the multi-delayed version of the predictor matrix will be considerably wider than the number of fMRI samples. We'll combine these transforms and the estimator into a Pipeline that will run the whole analysis"
   ]
  },
  {
   "cell_type": "code",
   "execution_count": 15,
   "id": "express-mayor",
   "metadata": {},
   "outputs": [
    {
     "name": "stdout",
     "output_type": "stream",
     "text": [
      "Defaulting to user installation because normal site-packages is not writeable\n",
      "Collecting himalaya\n",
      "  Using cached himalaya-0.4.2-py3-none-any.whl (83 kB)\n",
      "Requirement already satisfied: numpy in /mnt/cup/PNI-facilities/Computing/sw/pkg/SD6/PYGER/base/envs/0.11.0/lib/python3.7/site-packages (from himalaya) (1.19.2)\n",
      "Requirement already satisfied: scikit-learn in /mnt/cup/PNI-facilities/Computing/sw/pkg/SD6/PYGER/base/envs/0.11.0/lib/python3.7/site-packages (from himalaya) (0.23.2)\n",
      "Requirement already satisfied: scipy>=0.19.1 in /mnt/cup/PNI-facilities/Computing/sw/pkg/SD6/PYGER/base/envs/0.11.0/lib/python3.7/site-packages (from scikit-learn->himalaya) (1.5.2)\n",
      "Requirement already satisfied: joblib>=0.11 in /mnt/cup/PNI-facilities/Computing/sw/pkg/SD6/PYGER/base/envs/0.11.0/lib/python3.7/site-packages (from scikit-learn->himalaya) (1.0.0)\n",
      "Requirement already satisfied: threadpoolctl>=2.0.0 in /mnt/cup/PNI-facilities/Computing/sw/pkg/SD6/PYGER/base/envs/0.11.0/lib/python3.7/site-packages (from scikit-learn->himalaya) (2.1.0)\n",
      "Installing collected packages: himalaya\n",
      "Successfully installed himalaya-0.4.2\n"
     ]
    }
   ],
   "source": [
    "# install himalaya if necessary\n",
    "#!pip install himalaya"
   ]
  },
  {
   "cell_type": "code",
   "execution_count": 20,
   "id": "north-lottery",
   "metadata": {},
   "outputs": [],
   "source": []
  },
  {
   "cell_type": "code",
   "execution_count": 29,
   "id": "former-advance",
   "metadata": {},
   "outputs": [],
   "source": [
    "# Ridge regression with alpha grid and nested CV:\n",
    "from sklearn.preprocessing import StandardScaler\n",
    "#from delayer import Delayer\n",
    "from sklearn.model_selection import KFold\n",
    "from himalaya.kernel_ridge import KernelRidgeCV\n",
    "'''\n",
    "gotta clone into cur dir to access delayer: git clone: https://github.com/gallantlab/voxelwise_tutorials.git\n",
    "'''\n",
    "from voxelwise_tutorials.voxelwise_tutorials.delayer import Delayer \n",
    "from sklearn.pipeline import make_pipeline\n",
    "from himalaya.scoring import correlation_score\n",
    "\n",
    "from scipy.stats import pearsonr\n",
    "\n",
    "from sklearn.model_selection import LeaveOneOut\n",
    "import nibabel as nib\n",
    "from nilearn.plotting import plot_stat_map\n",
    "import os\n"
   ]
  },
  {
   "cell_type": "markdown",
   "id": "apart-ivory",
   "metadata": {},
   "source": [
    "### Run analysis"
   ]
  },
  {
   "cell_type": "code",
   "execution_count": 25,
   "id": "massive-cover",
   "metadata": {},
   "outputs": [],
   "source": [
    "# List of movies, runs, and data types\n",
    "#movies = [\"office\", \"cake\", \"brushing\", \"sherlock\", \"origami\", \"shrek\"]\n",
    "movies = [\"shrek\"]\n",
    "runs = range(1, 5)  # Runs 1 to 4\n",
    "data_types = ['int', 'ext']\n",
    "\n",
    "# Define the new directory for results\n",
    "results_dir = 'model1/model_1_results'\n",
    "\n",
    "# Define the directory where the files are located\n",
    "data_dir = 'model1/model_1_fmri_data'\n",
    "\n",
    "# Check if the directory exists; if not, create it\n",
    "if not os.path.exists(results_dir):\n",
    "    os.makedirs(results_dir)"
   ]
  },
  {
   "cell_type": "markdown",
   "id": "occupational-variance",
   "metadata": {},
   "source": [
    "## Define model"
   ]
  },
  {
   "cell_type": "code",
   "execution_count": 34,
   "id": "fallen-russian",
   "metadata": {},
   "outputs": [],
   "source": [
    "# Mean-center each feature (columns of predictor matrix)\n",
    "scaler = StandardScaler(with_mean=True, with_std=True)\n",
    "\n",
    "# Create delays at 3, 4.5, 6 seconds (1.5 s TR)\n",
    "delayer = Delayer(delays=[2, 3, 4])\n",
    "\n",
    "# Ridge regression with alpha grid and nested CV\n",
    "alphas = np.logspace(1, 10, 10)\n",
    "inner_cv = KFold(n_splits=4)\n",
    "outer_cv = LeaveOneOut()\n",
    "\n",
    "# Define Model\n",
    "#ridge = KernelRidgeCV(alphas=alphas, cv=inner_cv) ## inner cv!\n",
    "ridge = KernelRidgeCV(alphas=alphas)\n",
    "\n",
    "# Chain transfroms and estimator into pipeline\n",
    "pipeline = make_pipeline(scaler, delayer, ridge)"
   ]
  },
  {
   "cell_type": "markdown",
   "id": "perceived-framework",
   "metadata": {},
   "source": [
    "Load and make images using one loop"
   ]
  },
  {
   "cell_type": "code",
   "execution_count": 31,
   "id": "changed-pitch",
   "metadata": {},
   "outputs": [
    {
     "name": "stdout",
     "output_type": "stream",
     "text": [
      "data for one sub: (90, 400)\n",
      "data for one sub: (90, 400)\n",
      "data for one sub: (90, 400)\n",
      "data for one sub: (90, 400)\n",
      "data for one sub: (90, 400)\n",
      "data for one sub: (90, 400)\n",
      "data for one sub: (90, 400)\n",
      "data for one sub: (90, 400)\n"
     ]
    }
   ],
   "source": [
    "# Define hyperparameters for Ridge regression\n",
    "#alphas = [0.1, 1.0, 10.0, 100.0, 1000.0, 10000.0]\n",
    "#ridge = RidgeCV(alphas=alphas, scoring='r2')\n",
    "#loo = LeaveOneOut()\n",
    "#inner_cv = KFold(n_splits=4)\n",
    "\n",
    "# Assuming 'trim_emb' and 'atlas_img' are defined and loaded appropriately\n",
    "# Assuming 'atlas_nii' is the atlas NIfTI image\n",
    "\n",
    "for mov in movies:\n",
    "    for run in runs:\n",
    "        for data_type in data_types:\n",
    "            file_name = os.path.join(data_dir, f\"{data_type}_run_{run}_{mov}_data.npy\")\n",
    "            #file_name = f\"{data_type}_run_{run}_{mov}_data.npy\"\n",
    "\n",
    "            # Check if the file exists\n",
    "            try:\n",
    "                data = np.load(file_name, allow_pickle=True).item()\n",
    "                print('data for one sub:', data[run].shape)\n",
    "            except FileNotFoundError:\n",
    "                print(f\"File {file_name} not found. Skipping...\")\n",
    "                continue"
   ]
  },
  {
   "cell_type": "code",
   "execution_count": 55,
   "id": "classified-leone",
   "metadata": {
    "scrolled": true
   },
   "outputs": [
    {
     "name": "stdout",
     "output_type": "stream",
     "text": [
      "Training on subjects [ 1  2  3  4  5  6  7  8  9 10 11 12 13 14 15 16 17 18], testing on subject [0]\n"
     ]
    },
    {
     "name": "stderr",
     "output_type": "stream",
     "text": [
      "/usr/people/isaacrc/.local/lib/python3.7/site-packages/himalaya/kernel_ridge/_sklearn_api.py:494: UserWarning: Solving linear kernel ridge is slower than solving ridge when n_samples > n_features (here 1620 > 900). Using himalaya.ridge.RidgeCV would be faster. Use warn=False to silence this warning.\n",
      "  \"Use warn=False to silence this warning.\", UserWarning)\n"
     ]
    },
    {
     "ename": "KeyboardInterrupt",
     "evalue": "",
     "output_type": "error",
     "traceback": [
      "\u001b[0;31m---------------------------------------------------------------------------\u001b[0m",
      "\u001b[0;31mKeyboardInterrupt\u001b[0m                         Traceback (most recent call last)",
      "\u001b[0;32m<ipython-input-55-e83988690fed>\u001b[0m in \u001b[0;36m<module>\u001b[0;34m\u001b[0m\n\u001b[1;32m     33\u001b[0m                 \u001b[0;31m# Fit the model and predict\u001b[0m\u001b[0;34m\u001b[0m\u001b[0;34m\u001b[0m\u001b[0;34m\u001b[0m\u001b[0m\n\u001b[1;32m     34\u001b[0m                 \u001b[0;31m#ridge.fit(train_labels, train_data)\u001b[0m\u001b[0;34m\u001b[0m\u001b[0;34m\u001b[0m\u001b[0;34m\u001b[0m\u001b[0m\n\u001b[0;32m---> 35\u001b[0;31m                 \u001b[0mpipeline\u001b[0m\u001b[0;34m.\u001b[0m\u001b[0mfit\u001b[0m\u001b[0;34m(\u001b[0m\u001b[0mtrain_X\u001b[0m\u001b[0;34m,\u001b[0m \u001b[0mtrain_Y\u001b[0m\u001b[0;34m)\u001b[0m\u001b[0;34m\u001b[0m\u001b[0;34m\u001b[0m\u001b[0m\n\u001b[0m\u001b[1;32m     36\u001b[0m                 \u001b[0mpredicted\u001b[0m \u001b[0;34m=\u001b[0m \u001b[0mpipeline\u001b[0m\u001b[0;34m.\u001b[0m\u001b[0mpredict\u001b[0m\u001b[0;34m(\u001b[0m\u001b[0mtest_X\u001b[0m\u001b[0;34m)\u001b[0m\u001b[0;34m\u001b[0m\u001b[0;34m\u001b[0m\u001b[0m\n\u001b[1;32m     37\u001b[0m \u001b[0;34m\u001b[0m\u001b[0m\n",
      "\u001b[0;32m/jukebox/pkgs/PYGER/base/envs/0.11.0/lib/python3.7/site-packages/sklearn/pipeline.py\u001b[0m in \u001b[0;36mfit\u001b[0;34m(self, X, y, **fit_params)\u001b[0m\n\u001b[1;32m    333\u001b[0m             \u001b[0;32mif\u001b[0m \u001b[0mself\u001b[0m\u001b[0;34m.\u001b[0m\u001b[0m_final_estimator\u001b[0m \u001b[0;34m!=\u001b[0m \u001b[0;34m'passthrough'\u001b[0m\u001b[0;34m:\u001b[0m\u001b[0;34m\u001b[0m\u001b[0;34m\u001b[0m\u001b[0m\n\u001b[1;32m    334\u001b[0m                 \u001b[0mfit_params_last_step\u001b[0m \u001b[0;34m=\u001b[0m \u001b[0mfit_params_steps\u001b[0m\u001b[0;34m[\u001b[0m\u001b[0mself\u001b[0m\u001b[0;34m.\u001b[0m\u001b[0msteps\u001b[0m\u001b[0;34m[\u001b[0m\u001b[0;34m-\u001b[0m\u001b[0;36m1\u001b[0m\u001b[0;34m]\u001b[0m\u001b[0;34m[\u001b[0m\u001b[0;36m0\u001b[0m\u001b[0;34m]\u001b[0m\u001b[0;34m]\u001b[0m\u001b[0;34m\u001b[0m\u001b[0;34m\u001b[0m\u001b[0m\n\u001b[0;32m--> 335\u001b[0;31m                 \u001b[0mself\u001b[0m\u001b[0;34m.\u001b[0m\u001b[0m_final_estimator\u001b[0m\u001b[0;34m.\u001b[0m\u001b[0mfit\u001b[0m\u001b[0;34m(\u001b[0m\u001b[0mXt\u001b[0m\u001b[0;34m,\u001b[0m \u001b[0my\u001b[0m\u001b[0;34m,\u001b[0m \u001b[0;34m**\u001b[0m\u001b[0mfit_params_last_step\u001b[0m\u001b[0;34m)\u001b[0m\u001b[0;34m\u001b[0m\u001b[0;34m\u001b[0m\u001b[0m\n\u001b[0m\u001b[1;32m    336\u001b[0m \u001b[0;34m\u001b[0m\u001b[0m\n\u001b[1;32m    337\u001b[0m         \u001b[0;32mreturn\u001b[0m \u001b[0mself\u001b[0m\u001b[0;34m\u001b[0m\u001b[0;34m\u001b[0m\u001b[0m\n",
      "\u001b[0;32m~/.local/lib/python3.7/site-packages/himalaya/backend/_utils.py\u001b[0m in \u001b[0;36mwrapper\u001b[0;34m(*args, **kwargs)\u001b[0m\n\u001b[1;32m     95\u001b[0m         \u001b[0;31m# skip if the object does not force cpu use\u001b[0m\u001b[0;34m\u001b[0m\u001b[0;34m\u001b[0m\u001b[0;34m\u001b[0m\u001b[0m\n\u001b[1;32m     96\u001b[0m         \u001b[0;32mif\u001b[0m \u001b[0;32mnot\u001b[0m \u001b[0mhasattr\u001b[0m\u001b[0;34m(\u001b[0m\u001b[0margs\u001b[0m\u001b[0;34m[\u001b[0m\u001b[0;36m0\u001b[0m\u001b[0;34m]\u001b[0m\u001b[0;34m,\u001b[0m \u001b[0;34m\"force_cpu\"\u001b[0m\u001b[0;34m)\u001b[0m \u001b[0;32mor\u001b[0m \u001b[0;32mnot\u001b[0m \u001b[0margs\u001b[0m\u001b[0;34m[\u001b[0m\u001b[0;36m0\u001b[0m\u001b[0;34m]\u001b[0m\u001b[0;34m.\u001b[0m\u001b[0mforce_cpu\u001b[0m\u001b[0;34m:\u001b[0m\u001b[0;34m\u001b[0m\u001b[0;34m\u001b[0m\u001b[0m\n\u001b[0;32m---> 97\u001b[0;31m             \u001b[0;32mreturn\u001b[0m \u001b[0mfunc\u001b[0m\u001b[0;34m(\u001b[0m\u001b[0;34m*\u001b[0m\u001b[0margs\u001b[0m\u001b[0;34m,\u001b[0m \u001b[0;34m**\u001b[0m\u001b[0mkwargs\u001b[0m\u001b[0;34m)\u001b[0m\u001b[0;34m\u001b[0m\u001b[0;34m\u001b[0m\u001b[0m\n\u001b[0m\u001b[1;32m     98\u001b[0m \u001b[0;34m\u001b[0m\u001b[0m\n\u001b[1;32m     99\u001b[0m         \u001b[0;31m# set corresponding cpu backend\u001b[0m\u001b[0;34m\u001b[0m\u001b[0;34m\u001b[0m\u001b[0;34m\u001b[0m\u001b[0m\n",
      "\u001b[0;32m~/.local/lib/python3.7/site-packages/himalaya/kernel_ridge/_sklearn_api.py\u001b[0m in \u001b[0;36mfit\u001b[0;34m(***failed resolving arguments***)\u001b[0m\n\u001b[1;32m    517\u001b[0m         tmp = self._call_solver(K=K, Y=y, cv=cv, alphas=alphas,\n\u001b[1;32m    518\u001b[0m                                 \u001b[0mY_in_cpu\u001b[0m\u001b[0;34m=\u001b[0m\u001b[0mself\u001b[0m\u001b[0;34m.\u001b[0m\u001b[0mY_in_cpu\u001b[0m\u001b[0;34m,\u001b[0m\u001b[0;34m\u001b[0m\u001b[0;34m\u001b[0m\u001b[0m\n\u001b[0;32m--> 519\u001b[0;31m                                 fit_intercept=self.fit_intercept)\n\u001b[0m\u001b[1;32m    520\u001b[0m         \u001b[0;32mif\u001b[0m \u001b[0mself\u001b[0m\u001b[0;34m.\u001b[0m\u001b[0mfit_intercept\u001b[0m\u001b[0;34m:\u001b[0m\u001b[0;34m\u001b[0m\u001b[0;34m\u001b[0m\u001b[0m\n\u001b[1;32m    521\u001b[0m             \u001b[0mself\u001b[0m\u001b[0;34m.\u001b[0m\u001b[0mbest_alphas_\u001b[0m\u001b[0;34m,\u001b[0m \u001b[0mself\u001b[0m\u001b[0;34m.\u001b[0m\u001b[0mdual_coef_\u001b[0m\u001b[0;34m,\u001b[0m \u001b[0mself\u001b[0m\u001b[0;34m.\u001b[0m\u001b[0mcv_scores_\u001b[0m \u001b[0;34m=\u001b[0m \u001b[0mtmp\u001b[0m\u001b[0;34m[\u001b[0m\u001b[0;34m:\u001b[0m\u001b[0;36m3\u001b[0m\u001b[0;34m]\u001b[0m\u001b[0;34m\u001b[0m\u001b[0;34m\u001b[0m\u001b[0m\n",
      "\u001b[0;32m~/.local/lib/python3.7/site-packages/himalaya/kernel_ridge/_sklearn_api.py\u001b[0m in \u001b[0;36m_call_solver\u001b[0;34m(self, **direct_params)\u001b[0m\n\u001b[1;32m     57\u001b[0m                 (intersection, self.__class__.__name__))\n\u001b[1;32m     58\u001b[0m \u001b[0;34m\u001b[0m\u001b[0m\n\u001b[0;32m---> 59\u001b[0;31m         \u001b[0;32mreturn\u001b[0m \u001b[0mfunction\u001b[0m\u001b[0;34m(\u001b[0m\u001b[0;34m**\u001b[0m\u001b[0mdirect_params\u001b[0m\u001b[0;34m,\u001b[0m \u001b[0;34m**\u001b[0m\u001b[0msolver_params\u001b[0m\u001b[0;34m)\u001b[0m\u001b[0;34m\u001b[0m\u001b[0;34m\u001b[0m\u001b[0m\n\u001b[0m\u001b[1;32m     60\u001b[0m \u001b[0;34m\u001b[0m\u001b[0m\n\u001b[1;32m     61\u001b[0m     \u001b[0;32mdef\u001b[0m \u001b[0m_more_tags\u001b[0m\u001b[0;34m(\u001b[0m\u001b[0mself\u001b[0m\u001b[0;34m)\u001b[0m\u001b[0;34m:\u001b[0m\u001b[0;34m\u001b[0m\u001b[0;34m\u001b[0m\u001b[0m\n",
      "\u001b[0;32m~/.local/lib/python3.7/site-packages/himalaya/kernel_ridge/_random_search.py\u001b[0m in \u001b[0;36msolve_kernel_ridge_cv_eigenvalues\u001b[0;34m(K, Y, alphas, score_func, cv, fit_intercept, local_alpha, n_targets_batch, n_targets_batch_refit, n_alphas_batch, conservative, Y_in_cpu, diagonalize_method)\u001b[0m\n\u001b[1;32m    659\u001b[0m     tmp = solve_multiple_kernel_ridge_random_search(K[None], Y,\n\u001b[1;32m    660\u001b[0m                                                     \u001b[0;34m**\u001b[0m\u001b[0mcopied_params\u001b[0m\u001b[0;34m,\u001b[0m\u001b[0;34m\u001b[0m\u001b[0;34m\u001b[0m\u001b[0m\n\u001b[0;32m--> 661\u001b[0;31m                                                     **fixed_params)\n\u001b[0m\u001b[1;32m    662\u001b[0m     \u001b[0;32mif\u001b[0m \u001b[0mfit_intercept\u001b[0m\u001b[0;34m:\u001b[0m\u001b[0;34m\u001b[0m\u001b[0;34m\u001b[0m\u001b[0m\n\u001b[1;32m    663\u001b[0m         \u001b[0mdeltas\u001b[0m\u001b[0;34m,\u001b[0m \u001b[0mdual_weights\u001b[0m\u001b[0;34m,\u001b[0m \u001b[0mcv_scores\u001b[0m\u001b[0;34m,\u001b[0m \u001b[0mintercept\u001b[0m \u001b[0;34m=\u001b[0m \u001b[0mtmp\u001b[0m\u001b[0;34m\u001b[0m\u001b[0;34m\u001b[0m\u001b[0m\n",
      "\u001b[0;32m~/.local/lib/python3.7/site-packages/himalaya/kernel_ridge/_random_search.py\u001b[0m in \u001b[0;36msolve_multiple_kernel_ridge_random_search\u001b[0;34m(Ks, Y, n_iter, concentration, alphas, score_func, cv, fit_intercept, return_weights, Xs, local_alpha, jitter_alphas, random_state, n_targets_batch, n_targets_batch_refit, n_alphas_batch, progress_bar, Ks_in_cpu, conservative, Y_in_cpu, diagonalize_method, return_alphas)\u001b[0m\n\u001b[1;32m    229\u001b[0m                     \u001b[0mKtrain\u001b[0m\u001b[0;34m=\u001b[0m\u001b[0mKtrain\u001b[0m\u001b[0;34m,\u001b[0m \u001b[0malphas\u001b[0m\u001b[0;34m=\u001b[0m\u001b[0malphas\u001b[0m\u001b[0;34m,\u001b[0m \u001b[0mKtest\u001b[0m\u001b[0;34m=\u001b[0m\u001b[0mKtest\u001b[0m\u001b[0;34m,\u001b[0m\u001b[0;34m\u001b[0m\u001b[0;34m\u001b[0m\u001b[0m\n\u001b[1;32m    230\u001b[0m                     \u001b[0mnegative_eigenvalues\u001b[0m\u001b[0;34m=\u001b[0m\u001b[0;34m\"nan\"\u001b[0m\u001b[0;34m,\u001b[0m \u001b[0mn_alphas_batch\u001b[0m\u001b[0;34m=\u001b[0m\u001b[0mn_alphas_batch\u001b[0m\u001b[0;34m,\u001b[0m\u001b[0;34m\u001b[0m\u001b[0;34m\u001b[0m\u001b[0m\n\u001b[0;32m--> 231\u001b[0;31m                     method=diagonalize_method):\n\u001b[0m\u001b[1;32m    232\u001b[0m                 \u001b[0;31m# n_alphas_batch, n_samples_test, n_samples_train = \\\u001b[0m\u001b[0;34m\u001b[0m\u001b[0;34m\u001b[0m\u001b[0;34m\u001b[0m\u001b[0m\n\u001b[1;32m    233\u001b[0m                 \u001b[0;31m# matrix.shape\u001b[0m\u001b[0;34m\u001b[0m\u001b[0;34m\u001b[0m\u001b[0;34m\u001b[0m\u001b[0m\n",
      "\u001b[0;32m~/.local/lib/python3.7/site-packages/himalaya/kernel_ridge/_random_search.py\u001b[0m in \u001b[0;36m_decompose_kernel_ridge\u001b[0;34m(Ktrain, alphas, Ktest, n_alphas_batch, method, negative_eigenvalues)\u001b[0m\n\u001b[1;32m    539\u001b[0m     \u001b[0;32mif\u001b[0m \u001b[0mmethod\u001b[0m \u001b[0;34m==\u001b[0m \u001b[0;34m\"eigh\"\u001b[0m\u001b[0;34m:\u001b[0m\u001b[0;34m\u001b[0m\u001b[0;34m\u001b[0m\u001b[0m\n\u001b[1;32m    540\u001b[0m         \u001b[0;31m# diagonalization: K = V @ np.diag(eigenvalues) @ V.T\u001b[0m\u001b[0;34m\u001b[0m\u001b[0;34m\u001b[0m\u001b[0;34m\u001b[0m\u001b[0m\n\u001b[0;32m--> 541\u001b[0;31m         \u001b[0meigenvalues\u001b[0m\u001b[0;34m,\u001b[0m \u001b[0mV\u001b[0m \u001b[0;34m=\u001b[0m \u001b[0mbackend\u001b[0m\u001b[0;34m.\u001b[0m\u001b[0meigh\u001b[0m\u001b[0;34m(\u001b[0m\u001b[0mKtrain\u001b[0m\u001b[0;34m)\u001b[0m\u001b[0;34m\u001b[0m\u001b[0;34m\u001b[0m\u001b[0m\n\u001b[0m\u001b[1;32m    542\u001b[0m         \u001b[0;31m# match SVD notations: K = U @ np.diag(eigenvalues) @ Vt\u001b[0m\u001b[0;34m\u001b[0m\u001b[0;34m\u001b[0m\u001b[0;34m\u001b[0m\u001b[0m\n\u001b[1;32m    543\u001b[0m         \u001b[0mU\u001b[0m \u001b[0;34m=\u001b[0m \u001b[0mV\u001b[0m\u001b[0;34m\u001b[0m\u001b[0;34m\u001b[0m\u001b[0m\n",
      "\u001b[0;32m/jukebox/pkgs/PYGER/base/envs/0.11.0/lib/python3.7/site-packages/scipy/linalg/decomp.py\u001b[0m in \u001b[0;36meigh\u001b[0;34m(a, b, lower, eigvals_only, overwrite_a, overwrite_b, turbo, eigvals, type, check_finite, subset_by_index, subset_by_value, driver)\u001b[0m\n\u001b[1;32m    543\u001b[0m \u001b[0;34m\u001b[0m\u001b[0m\n\u001b[1;32m    544\u001b[0m         \u001b[0mdrv_args\u001b[0m\u001b[0;34m.\u001b[0m\u001b[0mupdate\u001b[0m\u001b[0;34m(\u001b[0m\u001b[0;34m{\u001b[0m\u001b[0;34m'lower'\u001b[0m\u001b[0;34m:\u001b[0m \u001b[0mlower\u001b[0m\u001b[0;34m,\u001b[0m \u001b[0;34m'compute_v'\u001b[0m\u001b[0;34m:\u001b[0m \u001b[0;36m0\u001b[0m \u001b[0;32mif\u001b[0m \u001b[0m_job\u001b[0m \u001b[0;34m==\u001b[0m \u001b[0;34m\"N\"\u001b[0m \u001b[0;32melse\u001b[0m \u001b[0;36m1\u001b[0m\u001b[0;34m}\u001b[0m\u001b[0;34m)\u001b[0m\u001b[0;34m\u001b[0m\u001b[0;34m\u001b[0m\u001b[0m\n\u001b[0;32m--> 545\u001b[0;31m         \u001b[0mw\u001b[0m\u001b[0;34m,\u001b[0m \u001b[0mv\u001b[0m\u001b[0;34m,\u001b[0m \u001b[0;34m*\u001b[0m\u001b[0mother_args\u001b[0m\u001b[0;34m,\u001b[0m \u001b[0minfo\u001b[0m \u001b[0;34m=\u001b[0m \u001b[0mdrv\u001b[0m\u001b[0;34m(\u001b[0m\u001b[0ma\u001b[0m\u001b[0;34m=\u001b[0m\u001b[0ma1\u001b[0m\u001b[0;34m,\u001b[0m \u001b[0;34m**\u001b[0m\u001b[0mdrv_args\u001b[0m\u001b[0;34m,\u001b[0m \u001b[0;34m**\u001b[0m\u001b[0mlwork_args\u001b[0m\u001b[0;34m)\u001b[0m\u001b[0;34m\u001b[0m\u001b[0;34m\u001b[0m\u001b[0m\n\u001b[0m\u001b[1;32m    546\u001b[0m \u001b[0;34m\u001b[0m\u001b[0m\n\u001b[1;32m    547\u001b[0m     \u001b[0;32melse\u001b[0m\u001b[0;34m:\u001b[0m  \u001b[0;31m# Generalized problem\u001b[0m\u001b[0;34m\u001b[0m\u001b[0;34m\u001b[0m\u001b[0m\n",
      "\u001b[0;31mKeyboardInterrupt\u001b[0m: "
     ]
    }
   ],
   "source": [
    "# Define hyperparameters for Ridge regression\n",
    "#alphas = [0.1, 1.0, 10.0, 100.0, 1000.0, 10000.0]\n",
    "#ridge = RidgeCV(alphas=alphas, scoring='r2')\n",
    "\n",
    "\n",
    "# Assuming 'trim_emb' and 'atlas_img' are defined and loaded appropriately\n",
    "# Assuming 'atlas_nii' is the atlas NIfTI image\n",
    "\n",
    "for mov in movies:\n",
    "    for run in runs:\n",
    "        for data_type in data_types:\n",
    "            file_name = os.path.join(data_dir, f\"{data_type}_run_{run}_{mov}_data.npy\")\n",
    "            #file_name = f\"{data_type}_run_{run}_{mov}_data.npy\"\n",
    "\n",
    "            # Check if the file exists\n",
    "            try:\n",
    "                data = np.load(file_name, allow_pickle=True).item()\n",
    "            except FileNotFoundError:\n",
    "                print(f\"File {file_name} not found. Skipping...\")\n",
    "                continue\n",
    "\n",
    "            all_subjects = []\n",
    "            for train_index, test_index in outer_cv.split(data):\n",
    "                print(f'Training on subjects {train_index}, testing on subject {test_index}')\n",
    "\n",
    "                # Aggregate training and test data\n",
    "                train_Y = np.vstack([data[idx] for idx in train_index])\n",
    "                train_X = np.vstack([embeddings for _ in train_index])\n",
    "\n",
    "                test_Y = data[test_index[0]]\n",
    "                test_X = embeddings\n",
    "\n",
    "                # Fit the model and predict\n",
    "                #ridge.fit(train_labels, train_data)\n",
    "                pipeline.fit(train_X, train_Y)\n",
    "                predicted = pipeline.predict(test_X)\n",
    "\n",
    "                # Compute correlation\n",
    "                #r_parcels = [pearsonr(test_data[:, i], predicted[:, i])[0] for i in range(test_data.shape[1])]\n",
    "                r_parcels = correlation_score(test_Y, predicted)\n",
    "                all_subjects.append(r_parcels)\n",
    "\n",
    "            # Processing the results\n",
    "            matrix_data = np.array(all_subjects)\n",
    "            average_across_subjects = np.mean(matrix_data, axis=0)\n",
    "\n",
    "            # Visualize the results\n",
    "            r_img = np.zeros(atlas_img.shape)\n",
    "            for i, parcel in enumerate(np.unique(atlas_img)[1:]):\n",
    "                r_img[atlas_img == parcel] = average_across_subjects[i]\n",
    "\n",
    "            r_nii = nib.Nifti1Image(r_img, atlas_nii.affine, atlas_nii.header)\n",
    "            \n",
    "            # Save the results\n",
    "            result_file_name = os.path.join(results_dir, f\"{data_type}_run_{run}_{mov}_results.npy\")\n",
    "            np.save(result_file_name, average_across_subjects)\n",
    "            print(f\"Saved results to {result_file_name}\")\n"
   ]
  },
  {
   "cell_type": "markdown",
   "id": "moved-eating",
   "metadata": {},
   "source": [
    "# Banded Ridge"
   ]
  },
  {
   "cell_type": "code",
   "execution_count": 38,
   "id": "different-stone",
   "metadata": {},
   "outputs": [],
   "source": [
    "from himalaya.kernel_ridge import Kernelizer, ColumnKernelizer\n",
    "import random\n",
    "from himalaya.kernel_ridge import MultipleKernelRidgeCV"
   ]
  },
  {
   "cell_type": "code",
   "execution_count": 48,
   "id": "blocked-garage",
   "metadata": {
    "scrolled": true
   },
   "outputs": [],
   "source": [
    "nuis_regress = np.array([random.choice([0, 1]) for _ in range(embeddings.shape[0])]).reshape((90,1))\n"
   ]
  },
  {
   "cell_type": "code",
   "execution_count": 49,
   "id": "continent-brazil",
   "metadata": {},
   "outputs": [
    {
     "data": {
      "text/plain": [
       "(90, 1)"
      ]
     },
     "execution_count": 49,
     "metadata": {},
     "output_type": "execute_result"
    }
   ],
   "source": [
    "nuis_regress.shape"
   ]
  },
  {
   "cell_type": "code",
   "execution_count": 36,
   "id": "three-change",
   "metadata": {},
   "outputs": [
    {
     "data": {
      "text/plain": [
       "(90, 300)"
      ]
     },
     "execution_count": 36,
     "metadata": {},
     "output_type": "execute_result"
    }
   ],
   "source": [
    "embeddings.shape"
   ]
  },
  {
   "cell_type": "markdown",
   "id": "genuine-hostel",
   "metadata": {},
   "source": [
    "### merge models"
   ]
  },
  {
   "cell_type": "code",
   "execution_count": 54,
   "id": "cubic-wireless",
   "metadata": {},
   "outputs": [
    {
     "name": "stdout",
     "output_type": "stream",
     "text": [
      "Joint predictor matrix shape: (90, 301)\n",
      "model 1 slice: slice(0, 300, None)\n",
      "model 2 slice: slice(300, 301, None)\n"
     ]
    }
   ],
   "source": [
    "# Horizontal-stack both embeddings to create joint model\n",
    "X_joint = np.hstack([embeddings, nuis_regress])\n",
    "print(f\"Joint predictor matrix shape: {X_joint.shape}\")\n",
    "\n",
    "width_m1 = embeddings.shape[1]\n",
    "width_m2 = nuis_regress.shape[1]\n",
    "\n",
    "slice_m1 = slice(0, width_m1)\n",
    "slice_m2 = slice(width_m1, width_m1 + width_m2)\n",
    "print(f\"model 1 slice: {slice_m1}\")\n",
    "print(f\"model 2 slice: {slice_m2}\")\n"
   ]
  },
  {
   "cell_type": "markdown",
   "id": "lesbian-canyon",
   "metadata": {},
   "source": [
    "### Define model"
   ]
  },
  {
   "cell_type": "code",
   "execution_count": null,
   "id": "scenic-philippines",
   "metadata": {},
   "outputs": [],
   "source": [
    "## Define cvs\n",
    "inner_cv = KFold(n_splits=4)\n",
    "outer_cv = LeaveOneOut()\n",
    "\n",
    "# Make pipeline with kernelizer for each feature space\n",
    "column_pipeline = make_pipeline(\n",
    "    StandardScaler(with_mean=True, with_std=True),\n",
    "    Delayer(delays=[2, 3, 4, 5]),\n",
    "    Kernelizer(kernel=\"linear\"),\n",
    ")\n",
    "\n",
    "# Compile joint column kernelizer\n",
    "column_kernelizer = ColumnKernelizer(\n",
    "    [('model1', column_pipeline, slice_m1),\n",
    "     ('model2', column_pipeline, slice_m2)])"
   ]
  },
  {
   "cell_type": "code",
   "execution_count": null,
   "id": "accurate-chaos",
   "metadata": {},
   "outputs": [],
   "source": [
    "# Ridge regression with alpha grid and nested CV\n",
    "solver = 'random_search'\n",
    "n_iter = 20\n",
    "alphas = np.logspace(1, 10, 10)\n",
    "solver_params = dict(n_iter=n_iter, alphas=alphas)\n",
    "\n",
    "# Banded ridge regression with column kernelizer\n",
    "banded_ridge = MultipleKernelRidgeCV(kernels=\"precomputed\", solver=solver,\n",
    "                                     solver_params=solver_params, cv=inner_cv)\n",
    "\n",
    "# Chain transfroms and estimator into pipeline\n",
    "pipeline = make_pipeline(column_kernelizer, banded_ridge)"
   ]
  },
  {
   "cell_type": "markdown",
   "id": "naval-indiana",
   "metadata": {},
   "source": [
    "### Run "
   ]
  },
  {
   "cell_type": "code",
   "execution_count": 56,
   "id": "accompanied-norfolk",
   "metadata": {},
   "outputs": [
    {
     "name": "stdout",
     "output_type": "stream",
     "text": [
      "Training on subjects [ 1  2  3  4  5  6  7  8  9 10 11 12 13 14 15 16 17 18], testing on subject [0]\n"
     ]
    },
    {
     "name": "stderr",
     "output_type": "stream",
     "text": [
      "/usr/people/isaacrc/.local/lib/python3.7/site-packages/himalaya/kernel_ridge/_sklearn_api.py:494: UserWarning: Solving linear kernel ridge is slower than solving ridge when n_samples > n_features (here 1620 > 903). Using himalaya.ridge.RidgeCV would be faster. Use warn=False to silence this warning.\n",
      "  \"Use warn=False to silence this warning.\", UserWarning)\n"
     ]
    },
    {
     "name": "stdout",
     "output_type": "stream",
     "text": [
      "Training on subjects [ 0  2  3  4  5  6  7  8  9 10 11 12 13 14 15 16 17 18], testing on subject [1]\n"
     ]
    },
    {
     "name": "stderr",
     "output_type": "stream",
     "text": [
      "/usr/people/isaacrc/.local/lib/python3.7/site-packages/himalaya/kernel_ridge/_sklearn_api.py:494: UserWarning: Solving linear kernel ridge is slower than solving ridge when n_samples > n_features (here 1620 > 903). Using himalaya.ridge.RidgeCV would be faster. Use warn=False to silence this warning.\n",
      "  \"Use warn=False to silence this warning.\", UserWarning)\n"
     ]
    },
    {
     "name": "stdout",
     "output_type": "stream",
     "text": [
      "Training on subjects [ 0  1  3  4  5  6  7  8  9 10 11 12 13 14 15 16 17 18], testing on subject [2]\n"
     ]
    },
    {
     "name": "stderr",
     "output_type": "stream",
     "text": [
      "/usr/people/isaacrc/.local/lib/python3.7/site-packages/himalaya/kernel_ridge/_sklearn_api.py:494: UserWarning: Solving linear kernel ridge is slower than solving ridge when n_samples > n_features (here 1620 > 903). Using himalaya.ridge.RidgeCV would be faster. Use warn=False to silence this warning.\n",
      "  \"Use warn=False to silence this warning.\", UserWarning)\n"
     ]
    },
    {
     "name": "stdout",
     "output_type": "stream",
     "text": [
      "Training on subjects [ 0  1  2  4  5  6  7  8  9 10 11 12 13 14 15 16 17 18], testing on subject [3]\n"
     ]
    },
    {
     "name": "stderr",
     "output_type": "stream",
     "text": [
      "/usr/people/isaacrc/.local/lib/python3.7/site-packages/himalaya/kernel_ridge/_sklearn_api.py:494: UserWarning: Solving linear kernel ridge is slower than solving ridge when n_samples > n_features (here 1620 > 903). Using himalaya.ridge.RidgeCV would be faster. Use warn=False to silence this warning.\n",
      "  \"Use warn=False to silence this warning.\", UserWarning)\n"
     ]
    },
    {
     "name": "stdout",
     "output_type": "stream",
     "text": [
      "Training on subjects [ 0  1  2  3  5  6  7  8  9 10 11 12 13 14 15 16 17 18], testing on subject [4]\n"
     ]
    },
    {
     "name": "stderr",
     "output_type": "stream",
     "text": [
      "/usr/people/isaacrc/.local/lib/python3.7/site-packages/himalaya/kernel_ridge/_sklearn_api.py:494: UserWarning: Solving linear kernel ridge is slower than solving ridge when n_samples > n_features (here 1620 > 903). Using himalaya.ridge.RidgeCV would be faster. Use warn=False to silence this warning.\n",
      "  \"Use warn=False to silence this warning.\", UserWarning)\n"
     ]
    },
    {
     "name": "stdout",
     "output_type": "stream",
     "text": [
      "Training on subjects [ 0  1  2  3  4  6  7  8  9 10 11 12 13 14 15 16 17 18], testing on subject [5]\n"
     ]
    },
    {
     "name": "stderr",
     "output_type": "stream",
     "text": [
      "/usr/people/isaacrc/.local/lib/python3.7/site-packages/himalaya/kernel_ridge/_sklearn_api.py:494: UserWarning: Solving linear kernel ridge is slower than solving ridge when n_samples > n_features (here 1620 > 903). Using himalaya.ridge.RidgeCV would be faster. Use warn=False to silence this warning.\n",
      "  \"Use warn=False to silence this warning.\", UserWarning)\n"
     ]
    },
    {
     "name": "stdout",
     "output_type": "stream",
     "text": [
      "Training on subjects [ 0  1  2  3  4  5  7  8  9 10 11 12 13 14 15 16 17 18], testing on subject [6]\n"
     ]
    },
    {
     "name": "stderr",
     "output_type": "stream",
     "text": [
      "/usr/people/isaacrc/.local/lib/python3.7/site-packages/himalaya/kernel_ridge/_sklearn_api.py:494: UserWarning: Solving linear kernel ridge is slower than solving ridge when n_samples > n_features (here 1620 > 903). Using himalaya.ridge.RidgeCV would be faster. Use warn=False to silence this warning.\n",
      "  \"Use warn=False to silence this warning.\", UserWarning)\n"
     ]
    },
    {
     "name": "stdout",
     "output_type": "stream",
     "text": [
      "Training on subjects [ 0  1  2  3  4  5  6  8  9 10 11 12 13 14 15 16 17 18], testing on subject [7]\n"
     ]
    },
    {
     "name": "stderr",
     "output_type": "stream",
     "text": [
      "/usr/people/isaacrc/.local/lib/python3.7/site-packages/himalaya/kernel_ridge/_sklearn_api.py:494: UserWarning: Solving linear kernel ridge is slower than solving ridge when n_samples > n_features (here 1620 > 903). Using himalaya.ridge.RidgeCV would be faster. Use warn=False to silence this warning.\n",
      "  \"Use warn=False to silence this warning.\", UserWarning)\n"
     ]
    },
    {
     "name": "stdout",
     "output_type": "stream",
     "text": [
      "Training on subjects [ 0  1  2  3  4  5  6  7  9 10 11 12 13 14 15 16 17 18], testing on subject [8]\n"
     ]
    },
    {
     "name": "stderr",
     "output_type": "stream",
     "text": [
      "/usr/people/isaacrc/.local/lib/python3.7/site-packages/himalaya/kernel_ridge/_sklearn_api.py:494: UserWarning: Solving linear kernel ridge is slower than solving ridge when n_samples > n_features (here 1620 > 903). Using himalaya.ridge.RidgeCV would be faster. Use warn=False to silence this warning.\n",
      "  \"Use warn=False to silence this warning.\", UserWarning)\n"
     ]
    },
    {
     "name": "stdout",
     "output_type": "stream",
     "text": [
      "Training on subjects [ 0  1  2  3  4  5  6  7  8 10 11 12 13 14 15 16 17 18], testing on subject [9]\n"
     ]
    },
    {
     "name": "stderr",
     "output_type": "stream",
     "text": [
      "/usr/people/isaacrc/.local/lib/python3.7/site-packages/himalaya/kernel_ridge/_sklearn_api.py:494: UserWarning: Solving linear kernel ridge is slower than solving ridge when n_samples > n_features (here 1620 > 903). Using himalaya.ridge.RidgeCV would be faster. Use warn=False to silence this warning.\n",
      "  \"Use warn=False to silence this warning.\", UserWarning)\n"
     ]
    },
    {
     "name": "stdout",
     "output_type": "stream",
     "text": [
      "Training on subjects [ 0  1  2  3  4  5  6  7  8  9 11 12 13 14 15 16 17 18], testing on subject [10]\n"
     ]
    },
    {
     "name": "stderr",
     "output_type": "stream",
     "text": [
      "/usr/people/isaacrc/.local/lib/python3.7/site-packages/himalaya/kernel_ridge/_sklearn_api.py:494: UserWarning: Solving linear kernel ridge is slower than solving ridge when n_samples > n_features (here 1620 > 903). Using himalaya.ridge.RidgeCV would be faster. Use warn=False to silence this warning.\n",
      "  \"Use warn=False to silence this warning.\", UserWarning)\n"
     ]
    },
    {
     "name": "stdout",
     "output_type": "stream",
     "text": [
      "Training on subjects [ 0  1  2  3  4  5  6  7  8  9 10 12 13 14 15 16 17 18], testing on subject [11]\n"
     ]
    },
    {
     "name": "stderr",
     "output_type": "stream",
     "text": [
      "/usr/people/isaacrc/.local/lib/python3.7/site-packages/himalaya/kernel_ridge/_sklearn_api.py:494: UserWarning: Solving linear kernel ridge is slower than solving ridge when n_samples > n_features (here 1620 > 903). Using himalaya.ridge.RidgeCV would be faster. Use warn=False to silence this warning.\n",
      "  \"Use warn=False to silence this warning.\", UserWarning)\n"
     ]
    },
    {
     "name": "stdout",
     "output_type": "stream",
     "text": [
      "Training on subjects [ 0  1  2  3  4  5  6  7  8  9 10 11 13 14 15 16 17 18], testing on subject [12]\n"
     ]
    },
    {
     "name": "stderr",
     "output_type": "stream",
     "text": [
      "/usr/people/isaacrc/.local/lib/python3.7/site-packages/himalaya/kernel_ridge/_sklearn_api.py:494: UserWarning: Solving linear kernel ridge is slower than solving ridge when n_samples > n_features (here 1620 > 903). Using himalaya.ridge.RidgeCV would be faster. Use warn=False to silence this warning.\n",
      "  \"Use warn=False to silence this warning.\", UserWarning)\n"
     ]
    },
    {
     "name": "stdout",
     "output_type": "stream",
     "text": [
      "Training on subjects [ 0  1  2  3  4  5  6  7  8  9 10 11 12 14 15 16 17 18], testing on subject [13]\n"
     ]
    },
    {
     "name": "stderr",
     "output_type": "stream",
     "text": [
      "/usr/people/isaacrc/.local/lib/python3.7/site-packages/himalaya/kernel_ridge/_sklearn_api.py:494: UserWarning: Solving linear kernel ridge is slower than solving ridge when n_samples > n_features (here 1620 > 903). Using himalaya.ridge.RidgeCV would be faster. Use warn=False to silence this warning.\n",
      "  \"Use warn=False to silence this warning.\", UserWarning)\n"
     ]
    },
    {
     "name": "stdout",
     "output_type": "stream",
     "text": [
      "Training on subjects [ 0  1  2  3  4  5  6  7  8  9 10 11 12 13 15 16 17 18], testing on subject [14]\n"
     ]
    },
    {
     "name": "stderr",
     "output_type": "stream",
     "text": [
      "/usr/people/isaacrc/.local/lib/python3.7/site-packages/himalaya/kernel_ridge/_sklearn_api.py:494: UserWarning: Solving linear kernel ridge is slower than solving ridge when n_samples > n_features (here 1620 > 903). Using himalaya.ridge.RidgeCV would be faster. Use warn=False to silence this warning.\n",
      "  \"Use warn=False to silence this warning.\", UserWarning)\n"
     ]
    },
    {
     "name": "stdout",
     "output_type": "stream",
     "text": [
      "Training on subjects [ 0  1  2  3  4  5  6  7  8  9 10 11 12 13 14 16 17 18], testing on subject [15]\n"
     ]
    },
    {
     "name": "stderr",
     "output_type": "stream",
     "text": [
      "/usr/people/isaacrc/.local/lib/python3.7/site-packages/himalaya/kernel_ridge/_sklearn_api.py:494: UserWarning: Solving linear kernel ridge is slower than solving ridge when n_samples > n_features (here 1620 > 903). Using himalaya.ridge.RidgeCV would be faster. Use warn=False to silence this warning.\n",
      "  \"Use warn=False to silence this warning.\", UserWarning)\n"
     ]
    },
    {
     "name": "stdout",
     "output_type": "stream",
     "text": [
      "Training on subjects [ 0  1  2  3  4  5  6  7  8  9 10 11 12 13 14 15 17 18], testing on subject [16]\n"
     ]
    },
    {
     "name": "stderr",
     "output_type": "stream",
     "text": [
      "/usr/people/isaacrc/.local/lib/python3.7/site-packages/himalaya/kernel_ridge/_sklearn_api.py:494: UserWarning: Solving linear kernel ridge is slower than solving ridge when n_samples > n_features (here 1620 > 903). Using himalaya.ridge.RidgeCV would be faster. Use warn=False to silence this warning.\n",
      "  \"Use warn=False to silence this warning.\", UserWarning)\n"
     ]
    },
    {
     "name": "stdout",
     "output_type": "stream",
     "text": [
      "Training on subjects [ 0  1  2  3  4  5  6  7  8  9 10 11 12 13 14 15 16 18], testing on subject [17]\n"
     ]
    },
    {
     "name": "stderr",
     "output_type": "stream",
     "text": [
      "/usr/people/isaacrc/.local/lib/python3.7/site-packages/himalaya/kernel_ridge/_sklearn_api.py:494: UserWarning: Solving linear kernel ridge is slower than solving ridge when n_samples > n_features (here 1620 > 903). Using himalaya.ridge.RidgeCV would be faster. Use warn=False to silence this warning.\n",
      "  \"Use warn=False to silence this warning.\", UserWarning)\n"
     ]
    },
    {
     "name": "stdout",
     "output_type": "stream",
     "text": [
      "Training on subjects [ 0  1  2  3  4  5  6  7  8  9 10 11 12 13 14 15 16 17], testing on subject [18]\n"
     ]
    },
    {
     "name": "stderr",
     "output_type": "stream",
     "text": [
      "/usr/people/isaacrc/.local/lib/python3.7/site-packages/himalaya/kernel_ridge/_sklearn_api.py:494: UserWarning: Solving linear kernel ridge is slower than solving ridge when n_samples > n_features (here 1620 > 903). Using himalaya.ridge.RidgeCV would be faster. Use warn=False to silence this warning.\n",
      "  \"Use warn=False to silence this warning.\", UserWarning)\n"
     ]
    },
    {
     "ename": "NameError",
     "evalue": "name 'atlas_img' is not defined",
     "output_type": "error",
     "traceback": [
      "\u001b[0;31m---------------------------------------------------------------------------\u001b[0m",
      "\u001b[0;31mNameError\u001b[0m                                 Traceback (most recent call last)",
      "\u001b[0;32m<ipython-input-56-96847b40333c>\u001b[0m in \u001b[0;36m<module>\u001b[0;34m\u001b[0m\n\u001b[1;32m     46\u001b[0m \u001b[0;34m\u001b[0m\u001b[0m\n\u001b[1;32m     47\u001b[0m             \u001b[0;31m# Visualize the results\u001b[0m\u001b[0;34m\u001b[0m\u001b[0;34m\u001b[0m\u001b[0;34m\u001b[0m\u001b[0m\n\u001b[0;32m---> 48\u001b[0;31m             \u001b[0mr_img\u001b[0m \u001b[0;34m=\u001b[0m \u001b[0mnp\u001b[0m\u001b[0;34m.\u001b[0m\u001b[0mzeros\u001b[0m\u001b[0;34m(\u001b[0m\u001b[0matlas_img\u001b[0m\u001b[0;34m.\u001b[0m\u001b[0mshape\u001b[0m\u001b[0;34m)\u001b[0m\u001b[0;34m\u001b[0m\u001b[0;34m\u001b[0m\u001b[0m\n\u001b[0m\u001b[1;32m     49\u001b[0m             \u001b[0;32mfor\u001b[0m \u001b[0mi\u001b[0m\u001b[0;34m,\u001b[0m \u001b[0mparcel\u001b[0m \u001b[0;32min\u001b[0m \u001b[0menumerate\u001b[0m\u001b[0;34m(\u001b[0m\u001b[0mnp\u001b[0m\u001b[0;34m.\u001b[0m\u001b[0munique\u001b[0m\u001b[0;34m(\u001b[0m\u001b[0matlas_img\u001b[0m\u001b[0;34m)\u001b[0m\u001b[0;34m[\u001b[0m\u001b[0;36m1\u001b[0m\u001b[0;34m:\u001b[0m\u001b[0;34m]\u001b[0m\u001b[0;34m)\u001b[0m\u001b[0;34m:\u001b[0m\u001b[0;34m\u001b[0m\u001b[0;34m\u001b[0m\u001b[0m\n\u001b[1;32m     50\u001b[0m                 \u001b[0mr_img\u001b[0m\u001b[0;34m[\u001b[0m\u001b[0matlas_img\u001b[0m \u001b[0;34m==\u001b[0m \u001b[0mparcel\u001b[0m\u001b[0;34m]\u001b[0m \u001b[0;34m=\u001b[0m \u001b[0maverage_across_subjects\u001b[0m\u001b[0;34m[\u001b[0m\u001b[0mi\u001b[0m\u001b[0;34m]\u001b[0m\u001b[0;34m\u001b[0m\u001b[0;34m\u001b[0m\u001b[0m\n",
      "\u001b[0;31mNameError\u001b[0m: name 'atlas_img' is not defined"
     ]
    }
   ],
   "source": [
    "# Define hyperparameters for Ridge regression\n",
    "#alphas = [0.1, 1.0, 10.0, 100.0, 1000.0, 10000.0]\n",
    "#ridge = RidgeCV(alphas=alphas, scoring='r2')\n",
    "\n",
    "\n",
    "# Assuming 'trim_emb' and 'atlas_img' are defined and loaded appropriately\n",
    "# Assuming 'atlas_nii' is the atlas NIfTI image\n",
    "\n",
    "for mov in movies:\n",
    "    for run in runs:\n",
    "        for data_type in data_types:\n",
    "            file_name = os.path.join(data_dir, f\"{data_type}_run_{run}_{mov}_data.npy\")\n",
    "            #file_name = f\"{data_type}_run_{run}_{mov}_data.npy\"\n",
    "\n",
    "            # Check if the file exists\n",
    "            try:\n",
    "                data = np.load(file_name, allow_pickle=True).item()\n",
    "            except FileNotFoundError:\n",
    "                print(f\"File {file_name} not found. Skipping...\")\n",
    "                continue\n",
    "\n",
    "            all_subjects = []\n",
    "            for train_index, test_index in outer_cv.split(data):\n",
    "                print(f'Training on subjects {train_index}, testing on subject {test_index}')\n",
    "\n",
    "                # Aggregate training and test data\n",
    "                train_Y = np.vstack([data[idx] for idx in train_index])\n",
    "                train_X = np.vstack([X_joint for _ in train_index]) # changed\n",
    "\n",
    "                test_Y = data[test_index[0]]\n",
    "                test_X = X_joint # Now x-joing\n",
    "\n",
    "                # Fit the model and predict\n",
    "                #ridge.fit(train_labels, train_data)\n",
    "                pipeline.fit(train_X, train_Y)\n",
    "                predicted = pipeline.predict(test_X)\n",
    "\n",
    "                # Compute correlation\n",
    "                #r_parcels = [pearsonr(test_data[:, i], predicted[:, i])[0] for i in range(test_data.shape[1])]\n",
    "                r_parcels = correlation_score(test_Y, predicted)\n",
    "                all_subjects.append(r_parcels)\n",
    "\n",
    "            # Processing the results\n",
    "            matrix_data = np.array(all_subjects)\n",
    "            average_across_subjects = np.mean(matrix_data, axis=0)\n",
    "\n",
    "            # Visualize the results\n",
    "            r_img = np.zeros(atlas_img.shape)\n",
    "            for i, parcel in enumerate(np.unique(atlas_img)[1:]):\n",
    "                r_img[atlas_img == parcel] = average_across_subjects[i]\n",
    "\n",
    "            r_nii = nib.Nifti1Image(r_img, atlas_nii.affine, atlas_nii.header)\n",
    "            \n",
    "            # Save the results\n",
    "            result_file_name = os.path.join(results_dir, f\"{data_type}_run_{run}_{mov}_results.npy\")\n",
    "            np.save(result_file_name, average_across_subjects)\n",
    "            print(f\"Saved results to {result_file_name}\")\n"
   ]
  },
  {
   "cell_type": "code",
   "execution_count": null,
   "id": "religious-husband",
   "metadata": {},
   "outputs": [],
   "source": []
  },
  {
   "cell_type": "code",
   "execution_count": null,
   "id": "impossible-background",
   "metadata": {},
   "outputs": [],
   "source": []
  },
  {
   "cell_type": "markdown",
   "id": "reflected-salad",
   "metadata": {},
   "source": [
    "#### References\n",
    "\n",
    "* Huth, A. G., De Heer, W. A., Griffiths, T. L., Theunissen, F. E., & Gallant, J. L. (2016). Natural speech reveals the semantic maps that tile human cerebral cortex. *Nature*, *532*(7600), 453-458. https://doi.org/10.1038/nature17637\n",
    "\n",
    "* Nastase, S. A., Liu, Y.-F., Hillman, H., Zadbood, A., Hasenfratz, L., Keshavarzian, N., Chen, J., Honey, C. J., Yeshurun, Y., Regev, M., Nguyen, M., Chang, C. H. C., Baldassano, C., Lositsky, O., Simony, E., Chow, M. A., Leong, Y. C., Brooks, P. P., Micciche, E., Choe, G., Goldstein, A., Vanderwal, T., Halchenko, Y. O., Norman, K. A., & Hasson, U. (2020). Narratives: fMRI data for evaluating models of naturalistic language comprehension. *bioRxiv*. https://doi.org/10.1101/2020.12.23.424091\n",
    "\n",
    "* Pennington, J., Socher, R., & Manning, C. D. (2014, October). GloVe: Global Vectors for Word Representation. In *Proceedings of the 2014 Conference on Empirical Methods in Natural Language Processing (EMNLP)* (pp. 1532-1543). https://www.aclweb.org/anthology/D14-1162\n",
    "\n",
    "* Schaefer, A., Kong, R., Gordon, E. M., Laumann, T. O., Zuo, X. N., Holmes, A. J., ... & Yeo, B. T. (2018). Local-global parcellation of the human cerebral cortex from intrinsic functional connectivity MRI. Cerebral cortex, 28(9), 3095-3114. https://doi.org/10.1093/cercor/bhx179"
   ]
  }
 ],
 "metadata": {
  "kernelspec": {
   "display_name": "Python 3 (ipykernel)",
   "language": "python",
   "name": "python3"
  },
  "language_info": {
   "codemirror_mode": {
    "name": "ipython",
    "version": 3
   },
   "file_extension": ".py",
   "mimetype": "text/x-python",
   "name": "python",
   "nbconvert_exporter": "python",
   "pygments_lexer": "ipython3",
   "version": "3.7.9"
  }
 },
 "nbformat": 4,
 "nbformat_minor": 5
}
