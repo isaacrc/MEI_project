{
 "cells": [
  {
   "cell_type": "markdown",
   "id": "elder-rates",
   "metadata": {},
   "source": [
    "# `comp-03`: Voxelwise encoding models\n",
    "This demo introduces forward encoding models—that is, using regularized regression to predict voxelwise activity from an explicit model of the stimulus in left-out data. Here, we use a semantic forward encoding model capturing the meaning of words to predict fMRI activity while participants listen to a spoken narrative (similarly to e.g. [Huth et al., 2016](https://doi.org/10.1038/nature17637)). The words in each TR are assigned a vector (i.e. word embedding) representing their location in a high-dimensional semantic space. For each voxel, we'll fit a model that predicts the time series of brain activity from the semantic vectors assigned to eachtime point."
   ]
  },
  {
   "cell_type": "code",
   "execution_count": 1,
   "id": "metric-edwards",
   "metadata": {},
   "outputs": [],
   "source": [
    "from os.path import join\n",
    "import numpy as np\n",
    "import matplotlib.pyplot as plt\n",
    "import seaborn as sns\n",
    "import nibabel as nib\n",
    "import pandas as pd\n",
    "import json"
   ]
  },
  {
   "cell_type": "markdown",
   "id": "straight-athens",
   "metadata": {},
   "source": [
    "### Naturalistic story-listening dataset\n",
    "As an example, we'll use fMRI data collected for a single subject listening to a spoken story called \"[I Knew You Were Black](https://themoth.org/stories/i-knew-you-were-black)\" by Carol Daniel. These data are available as part of the publicly available [Narratives](https://github.com/snastase/narratives) collection ([Nastase et al., 2019](https://openneuro.org/datasets/ds002345)). Here, we'll download a single subject from the server for analysis. If you're working on the server, use `cp` on the command line to create a copy of the following file in your working directory; if you're working locally, use `scp` to download the file to your machine:\n",
    "\n",
    "`/jukebox/PNI-classes/students/NEU502/2023-NEU502B/brainiak-aperture-data/sub-284_task-black_space-MNI152NLin2009cAsym_res-native_desc-clean_bold.nii.gz`\n",
    "\n",
    "This dataset has been preprocessed using fMRIPrep with confound regression in AFNI. The functional data have been spatially normalized to a template in MNI space. To reduce computational demands, we compute parcel-wise ISCs using a cortical parcellation containing 400 parcels from Schaefer and colleages (2018). Load in the functional data and atlas. Use the parcellation to extract the mean functional time series for each parcel."
   ]
  },
  {
   "cell_type": "code",
   "execution_count": 5,
   "id": "endless-wildlife",
   "metadata": {},
   "outputs": [],
   "source": [
    "from nilearn.input_data import NiftiMasker , MultiNiftiMasker, NiftiLabelsMasker"
   ]
  },
  {
   "cell_type": "code",
   "execution_count": 22,
   "id": "engaging-salem",
   "metadata": {},
   "outputs": [
    {
     "data": {
      "text/plain": [
       "{'description': b\"Yeo 2011 Atlas\\n\\n\\nNotes\\n-----\\nThis atlas provides a labeling of some cortical voxels in the MNI152\\nspace.\\n\\nFour versions of the atlas are available, according to the cortical\\nmodel (thick or thin cortical surface) and to the number of regions\\nconsidered (7 or 17).\\n\\nContent\\n-------\\n    :'anat': Background anatomical image for reference and visualization\\n    :'thin_7': Cortical parcelation into 7 regions, thin cortical model\\n    :'thin_17': Cortical parcelation into 17 regions, thin cortical model\\n    :'thick_7': Cortical parcelation into 17 regions, thick cortical model\\n    :'thick_17': Cortical parcelation into 17 regions, thick cortical model\\n    :'colors_7': Text file for the coloring of 7-regions parcellation\\n    :'colors_17': Text file for the coloring of 17-regions parcellation\\n\\n\\nReferences\\n----------\\nFor more information on this dataset's structure, see\\nhttp://surfer.nmr.mgh.harvard.edu/fswiki/CorticalParcellation_Yeo2011\\n\\nYeo BT, Krienen FM, Sepulcre J, Sabuncu MR, Lashkari D, Hollinshead M,\\nRoffman JL, Smoller JW, Zollei L., Polimeni JR, Fischl B, Liu H,\\nBuckner RL. The organization of the human cerebral cortex estimated by\\nintrinsic functional connectivity. J Neurophysiol 106(3):1125-65, 2011.\\n\\nLicence: unknown.\\n\",\n",
       " 'thin_7': '/usr/people/isaacrc/nilearn_data/yeo_2011/Yeo_JNeurophysiol11_MNI152/Yeo2011_7Networks_MNI152_FreeSurferConformed1mm.nii.gz',\n",
       " 'thick_7': '/usr/people/isaacrc/nilearn_data/yeo_2011/Yeo_JNeurophysiol11_MNI152/Yeo2011_7Networks_MNI152_FreeSurferConformed1mm_LiberalMask.nii.gz',\n",
       " 'thin_17': '/usr/people/isaacrc/nilearn_data/yeo_2011/Yeo_JNeurophysiol11_MNI152/Yeo2011_17Networks_MNI152_FreeSurferConformed1mm.nii.gz',\n",
       " 'thick_17': '/usr/people/isaacrc/nilearn_data/yeo_2011/Yeo_JNeurophysiol11_MNI152/Yeo2011_17Networks_MNI152_FreeSurferConformed1mm_LiberalMask.nii.gz',\n",
       " 'colors_7': '/usr/people/isaacrc/nilearn_data/yeo_2011/Yeo_JNeurophysiol11_MNI152/Yeo2011_7Networks_ColorLUT.txt',\n",
       " 'colors_17': '/usr/people/isaacrc/nilearn_data/yeo_2011/Yeo_JNeurophysiol11_MNI152/Yeo2011_17Networks_ColorLUT.txt',\n",
       " 'anat': '/usr/people/isaacrc/nilearn_data/yeo_2011/Yeo_JNeurophysiol11_MNI152/FSL_MNI152_FreeSurferConformed_1mm.nii.gz'}"
      ]
     },
     "execution_count": 22,
     "metadata": {},
     "output_type": "execute_result"
    }
   ],
   "source": [
    "dataset"
   ]
  },
  {
   "cell_type": "code",
   "execution_count": 23,
   "id": "revised-solid",
   "metadata": {},
   "outputs": [],
   "source": [
    "from nilearn import datasets\n",
    "\n",
    "dataset = datasets.fetch_atlas_harvard_oxford('cort-maxprob-thr25-2mm')\n",
    "atlas_filename = dataset.maps\n",
    "labels = dataset.labels\n",
    "\n",
    "masker = NiftiLabelsMasker(labels_img=atlas_filename, standardize=True,\n",
    "                           memory='nilearn_cache', verbose=5)\n",
    "\n",
    "time_series = masker.fit_transform(func_fn)"
   ]
  },
  {
   "cell_type": "code",
   "execution_count": 28,
   "id": "significant-overall",
   "metadata": {},
   "outputs": [
    {
     "data": {
      "text/plain": [
       "'/usr/people/isaacrc/nilearn_data/fsl/data/atlases/HarvardOxford/HarvardOxford-cort-maxprob-thr25-2mm.nii.gz'"
      ]
     },
     "execution_count": 28,
     "metadata": {},
     "output_type": "execute_result"
    }
   ],
   "source": [
    "atlas_filename"
   ]
  },
  {
   "cell_type": "code",
   "execution_count": 27,
   "id": "optional-musical",
   "metadata": {},
   "outputs": [
    {
     "data": {
      "text/plain": [
       "(550, 48)"
      ]
     },
     "execution_count": 27,
     "metadata": {},
     "output_type": "execute_result"
    }
   ],
   "source": [
    "time_series.shape"
   ]
  },
  {
   "cell_type": "code",
   "execution_count": null,
   "id": "isolated-amber",
   "metadata": {},
   "outputs": [],
   "source": []
  },
  {
   "cell_type": "code",
   "execution_count": 29,
   "id": "marine-chicken",
   "metadata": {},
   "outputs": [
    {
     "ename": "NameError",
     "evalue": "name 'parc_img' is not defined",
     "output_type": "error",
     "traceback": [
      "\u001b[0;31m---------------------------------------------------------------------------\u001b[0m",
      "\u001b[0;31mNameError\u001b[0m                                 Traceback (most recent call last)",
      "\u001b[0;32m<ipython-input-29-b156b8f0d86d>\u001b[0m in \u001b[0;36m<module>\u001b[0;34m\u001b[0m\n\u001b[1;32m      3\u001b[0m \u001b[0mroi_img\u001b[0m \u001b[0;34m=\u001b[0m \u001b[0mnp\u001b[0m\u001b[0;34m.\u001b[0m\u001b[0mzeros_like\u001b[0m\u001b[0;34m(\u001b[0m\u001b[0matlas_img\u001b[0m\u001b[0;34m)\u001b[0m\u001b[0;34m\u001b[0m\u001b[0;34m\u001b[0m\u001b[0m\n\u001b[1;32m      4\u001b[0m \u001b[0mroi_img\u001b[0m\u001b[0;34m[\u001b[0m\u001b[0matlas_img\u001b[0m\u001b[0;34m==\u001b[0m\u001b[0;36m196\u001b[0m\u001b[0;34m]\u001b[0m \u001b[0;34m=\u001b[0m \u001b[0;36m1\u001b[0m\u001b[0;34m\u001b[0m\u001b[0;34m\u001b[0m\u001b[0m\n\u001b[0;32m----> 5\u001b[0;31m \u001b[0mroi_nii\u001b[0m \u001b[0;34m=\u001b[0m \u001b[0mnib\u001b[0m\u001b[0;34m.\u001b[0m\u001b[0mNifti1Image\u001b[0m\u001b[0;34m(\u001b[0m\u001b[0mparc_img\u001b[0m\u001b[0;34m,\u001b[0m \u001b[0matlas_nii\u001b[0m\u001b[0;34m.\u001b[0m\u001b[0maffine\u001b[0m\u001b[0;34m)\u001b[0m\u001b[0;34m\u001b[0m\u001b[0;34m\u001b[0m\u001b[0m\n\u001b[0m\u001b[1;32m      6\u001b[0m \u001b[0mplot_stat_map\u001b[0m\u001b[0;34m(\u001b[0m\u001b[0mroi_nii\u001b[0m\u001b[0;34m,\u001b[0m \u001b[0maxes\u001b[0m\u001b[0;34m=\u001b[0m\u001b[0maxes\u001b[0m\u001b[0;34m[\u001b[0m\u001b[0;36m1\u001b[0m\u001b[0;34m]\u001b[0m\u001b[0;34m,\u001b[0m \u001b[0mvmax\u001b[0m\u001b[0;34m=\u001b[0m\u001b[0;36m1\u001b[0m\u001b[0;34m,\u001b[0m \u001b[0mcmap\u001b[0m\u001b[0;34m=\u001b[0m\u001b[0;34m'viridis'\u001b[0m\u001b[0;34m)\u001b[0m\u001b[0;34m\u001b[0m\u001b[0;34m\u001b[0m\u001b[0m\n",
      "\u001b[0;31mNameError\u001b[0m: name 'parc_img' is not defined"
     ]
    },
    {
     "data": {
      "image/png": "[encoded data removed]",
      "text/plain": [
       "<Figure size 504x360 with 2 Axes>"
      ]
     },
     "metadata": {
      "needs_background": "light"
     },
     "output_type": "display_data"
    }
   ],
   "source": [
    "fig, axes = plt.subplots(2, 1, figsize=(7,5), tight_layout=True)\n",
    "axes[0].plot(time_series.T[:, 30])\n",
    "roi_img = np.zeros_like(atlas_img)\n",
    "roi_img[atlas_img==196] = 1\n",
    "roi_nii = nib.Nifti1Image(parc_img, atlas_nii.affine)\n",
    "plot_stat_map(roi_nii, axes=axes[1], vmax=1, cmap='viridis')\n"
   ]
  },
  {
   "cell_type": "code",
   "execution_count": 15,
   "id": "changing-payday",
   "metadata": {},
   "outputs": [
    {
     "name": "stdout",
     "output_type": "stream",
     "text": [
      "[NiftiLabelsMasker.fit_transform] loading data from /usr/people/isaacrc/nilearn_data/fsl/data/atlases/HarvardOxford/HarvardOxford-cort-maxprob-thr25-2mm.nii.gz\n",
      "Resampling labels\n",
      "________________________________________________________________________________\n",
      "[Memory] Calling nilearn.input_data.base_masker.filter_and_extract...\n",
      "filter_and_extract('sub-284_task-black_space-MNI152NLin2009cAsym_res-native_desc-clean_bold.nii.gz', <nilearn.input_data.nifti_labels_masker._ExtractionFunctor object at 0x7fd4151b9fd0>, \n",
      "{ 'background_label': 0,\n",
      "  'detrend': False,\n",
      "  'dtype': None,\n",
      "  'high_pass': None,\n",
      "  'high_variance_confounds': False,\n",
      "  'labels_img': '/usr/people/isaacrc/nilearn_data/fsl/data/atlases/HarvardOxford/HarvardOxford-cort-maxprob-thr25-2mm.nii.gz',\n",
      "  'low_pass': None,\n",
      "  'mask_img': None,\n",
      "  'smoothing_fwhm': None,\n",
      "  'standardize': True,\n",
      "  'standardize_confounds': True,\n",
      "  'strategy': 'mean',\n",
      "  't_r': None,\n",
      "  'target_affine': None,\n",
      "  'target_shape': None}, confounds=None, dtype=None, memory=Memory(location=nilearn_cache/joblib), memory_level=1, verbose=5)\n",
      "[NiftiLabelsMasker.transform_single_imgs] Loading data from sub-284_task-black_space-MNI152NLin2009cAsym_res-native_desc-clean_bold.nii.gz\n",
      "[NiftiLabelsMasker.transform_single_imgs] Extracting region signals\n",
      "[NiftiLabelsMasker.transform_single_imgs] Cleaning extracted signals\n",
      "______________________________________________filter_and_extract - 15.3s, 0.3min\n"
     ]
    }
   ],
   "source": [
    "time_series = masker.fit_transform(func_fn)"
   ]
  },
  {
   "cell_type": "code",
   "execution_count": 16,
   "id": "compound-technical",
   "metadata": {},
   "outputs": [
    {
     "data": {
      "text/plain": [
       "(550, 48)"
      ]
     },
     "execution_count": 16,
     "metadata": {},
     "output_type": "execute_result"
    }
   ],
   "source": [
    "time_series.shape"
   ]
  },
  {
   "cell_type": "code",
   "execution_count": 10,
   "id": "french-growth",
   "metadata": {},
   "outputs": [],
   "source": [
    "func_img = nib.load(func_fn)"
   ]
  },
  {
   "cell_type": "code",
   "execution_count": 11,
   "id": "built-flesh",
   "metadata": {
    "collapsed": true
   },
   "outputs": [
    {
     "ename": "TypeError",
     "evalue": "Data given cannot be loaded because it is not compatible with nibabel format:\n0.0",
     "output_type": "error",
     "traceback": [
      "\u001b[0;31m---------------------------------------------------------------------------\u001b[0m",
      "\u001b[0;31mTypeError\u001b[0m                                 Traceback (most recent call last)",
      "\u001b[0;32m<ipython-input-11-7d0525beff26>\u001b[0m in \u001b[0;36m<module>\u001b[0;34m\u001b[0m\n\u001b[0;32m----> 1\u001b[0;31m \u001b[0mmasker\u001b[0m\u001b[0;34m.\u001b[0m\u001b[0mfit\u001b[0m\u001b[0;34m(\u001b[0m\u001b[0;34m)\u001b[0m\u001b[0;34m\u001b[0m\u001b[0;34m\u001b[0m\u001b[0m\n\u001b[0m\u001b[1;32m      2\u001b[0m \u001b[0mX_train\u001b[0m \u001b[0;34m=\u001b[0m \u001b[0mmasker\u001b[0m\u001b[0;34m.\u001b[0m\u001b[0mtransform\u001b[0m\u001b[0;34m(\u001b[0m\u001b[0mfunc_img\u001b[0m\u001b[0;34m)\u001b[0m\u001b[0;34m\u001b[0m\u001b[0;34m\u001b[0m\u001b[0m\n",
      "\u001b[0;32m/jukebox/pkgs/PYGER/base/envs/0.11.0/lib/python3.7/site-packages/nilearn/input_data/multi_nifti_masker.py\u001b[0m in \u001b[0;36mfit\u001b[0;34m(self, imgs, y)\u001b[0m\n\u001b[1;32m    229\u001b[0m                               \u001b[0;34m' been provided at masker creation. Given mask'\u001b[0m\u001b[0;34m\u001b[0m\u001b[0;34m\u001b[0m\u001b[0m\n\u001b[1;32m    230\u001b[0m                               ' will be used.' % self.__class__.__name__)\n\u001b[0;32m--> 231\u001b[0;31m             \u001b[0mself\u001b[0m\u001b[0;34m.\u001b[0m\u001b[0mmask_img_\u001b[0m \u001b[0;34m=\u001b[0m \u001b[0m_utils\u001b[0m\u001b[0;34m.\u001b[0m\u001b[0mcheck_niimg_3d\u001b[0m\u001b[0;34m(\u001b[0m\u001b[0mself\u001b[0m\u001b[0;34m.\u001b[0m\u001b[0mmask_img\u001b[0m\u001b[0;34m)\u001b[0m\u001b[0;34m\u001b[0m\u001b[0;34m\u001b[0m\u001b[0m\n\u001b[0m\u001b[1;32m    232\u001b[0m \u001b[0;34m\u001b[0m\u001b[0m\n\u001b[1;32m    233\u001b[0m         \u001b[0;31m# If resampling is requested, resample the mask as well.\u001b[0m\u001b[0;34m\u001b[0m\u001b[0;34m\u001b[0m\u001b[0;34m\u001b[0m\u001b[0m\n",
      "\u001b[0;32m/jukebox/pkgs/PYGER/base/envs/0.11.0/lib/python3.7/site-packages/nilearn/_utils/niimg_conversions.py\u001b[0m in \u001b[0;36mcheck_niimg_3d\u001b[0;34m(niimg, dtype)\u001b[0m\n\u001b[1;32m    336\u001b[0m \u001b[0;34m\u001b[0m\u001b[0m\n\u001b[1;32m    337\u001b[0m     \"\"\"\n\u001b[0;32m--> 338\u001b[0;31m     \u001b[0;32mreturn\u001b[0m \u001b[0mcheck_niimg\u001b[0m\u001b[0;34m(\u001b[0m\u001b[0mniimg\u001b[0m\u001b[0;34m,\u001b[0m \u001b[0mensure_ndim\u001b[0m\u001b[0;34m=\u001b[0m\u001b[0;36m3\u001b[0m\u001b[0;34m,\u001b[0m \u001b[0mdtype\u001b[0m\u001b[0;34m=\u001b[0m\u001b[0mdtype\u001b[0m\u001b[0;34m)\u001b[0m\u001b[0;34m\u001b[0m\u001b[0;34m\u001b[0m\u001b[0m\n\u001b[0m\u001b[1;32m    339\u001b[0m \u001b[0;34m\u001b[0m\u001b[0m\n\u001b[1;32m    340\u001b[0m \u001b[0;34m\u001b[0m\u001b[0m\n",
      "\u001b[0;32m/jukebox/pkgs/PYGER/base/envs/0.11.0/lib/python3.7/site-packages/nilearn/_utils/niimg_conversions.py\u001b[0m in \u001b[0;36mcheck_niimg\u001b[0;34m(niimg, ensure_ndim, atleast_4d, dtype, return_iterator, wildcards)\u001b[0m\n\u001b[1;32m    278\u001b[0m             return _iter_check_niimg(niimg, ensure_ndim=ensure_ndim,\n\u001b[1;32m    279\u001b[0m                                      dtype=dtype)\n\u001b[0;32m--> 280\u001b[0;31m         \u001b[0;32mreturn\u001b[0m \u001b[0mconcat_niimgs\u001b[0m\u001b[0;34m(\u001b[0m\u001b[0mniimg\u001b[0m\u001b[0;34m,\u001b[0m \u001b[0mensure_ndim\u001b[0m\u001b[0;34m=\u001b[0m\u001b[0mensure_ndim\u001b[0m\u001b[0;34m,\u001b[0m \u001b[0mdtype\u001b[0m\u001b[0;34m=\u001b[0m\u001b[0mdtype\u001b[0m\u001b[0;34m)\u001b[0m\u001b[0;34m\u001b[0m\u001b[0;34m\u001b[0m\u001b[0m\n\u001b[0m\u001b[1;32m    281\u001b[0m \u001b[0;34m\u001b[0m\u001b[0m\n\u001b[1;32m    282\u001b[0m     \u001b[0;31m# Otherwise, it should be a filename or a SpatialImage, we load it\u001b[0m\u001b[0;34m\u001b[0m\u001b[0;34m\u001b[0m\u001b[0;34m\u001b[0m\u001b[0m\n",
      "\u001b[0;32m/jukebox/pkgs/PYGER/base/envs/0.11.0/lib/python3.7/site-packages/nilearn/_utils/niimg_conversions.py\u001b[0m in \u001b[0;36mconcat_niimgs\u001b[0;34m(niimgs, dtype, ensure_ndim, memory, memory_level, auto_resample, verbose)\u001b[0m\n\u001b[1;32m    448\u001b[0m     \u001b[0miterator\u001b[0m\u001b[0;34m,\u001b[0m \u001b[0mliterator\u001b[0m \u001b[0;34m=\u001b[0m \u001b[0mitertools\u001b[0m\u001b[0;34m.\u001b[0m\u001b[0mtee\u001b[0m\u001b[0;34m(\u001b[0m\u001b[0miter\u001b[0m\u001b[0;34m(\u001b[0m\u001b[0mniimgs\u001b[0m\u001b[0;34m)\u001b[0m\u001b[0;34m)\u001b[0m\u001b[0;34m\u001b[0m\u001b[0;34m\u001b[0m\u001b[0m\n\u001b[1;32m    449\u001b[0m     \u001b[0;32mtry\u001b[0m\u001b[0;34m:\u001b[0m\u001b[0;34m\u001b[0m\u001b[0;34m\u001b[0m\u001b[0m\n\u001b[0;32m--> 450\u001b[0;31m         \u001b[0mfirst_niimg\u001b[0m \u001b[0;34m=\u001b[0m \u001b[0mcheck_niimg\u001b[0m\u001b[0;34m(\u001b[0m\u001b[0mnext\u001b[0m\u001b[0;34m(\u001b[0m\u001b[0mliterator\u001b[0m\u001b[0;34m)\u001b[0m\u001b[0;34m,\u001b[0m \u001b[0mensure_ndim\u001b[0m\u001b[0;34m=\u001b[0m\u001b[0mndim\u001b[0m\u001b[0;34m)\u001b[0m\u001b[0;34m\u001b[0m\u001b[0;34m\u001b[0m\u001b[0m\n\u001b[0m\u001b[1;32m    451\u001b[0m     \u001b[0;32mexcept\u001b[0m \u001b[0mStopIteration\u001b[0m\u001b[0;34m:\u001b[0m\u001b[0;34m\u001b[0m\u001b[0;34m\u001b[0m\u001b[0m\n\u001b[1;32m    452\u001b[0m         \u001b[0;32mraise\u001b[0m \u001b[0mTypeError\u001b[0m\u001b[0;34m(\u001b[0m\u001b[0;34m'Cannot concatenate empty objects'\u001b[0m\u001b[0;34m)\u001b[0m\u001b[0;34m\u001b[0m\u001b[0;34m\u001b[0m\u001b[0m\n",
      "\u001b[0;32m/jukebox/pkgs/PYGER/base/envs/0.11.0/lib/python3.7/site-packages/nilearn/_utils/niimg_conversions.py\u001b[0m in \u001b[0;36mcheck_niimg\u001b[0;34m(niimg, ensure_ndim, atleast_4d, dtype, return_iterator, wildcards)\u001b[0m\n\u001b[1;32m    278\u001b[0m             return _iter_check_niimg(niimg, ensure_ndim=ensure_ndim,\n\u001b[1;32m    279\u001b[0m                                      dtype=dtype)\n\u001b[0;32m--> 280\u001b[0;31m         \u001b[0;32mreturn\u001b[0m \u001b[0mconcat_niimgs\u001b[0m\u001b[0;34m(\u001b[0m\u001b[0mniimg\u001b[0m\u001b[0;34m,\u001b[0m \u001b[0mensure_ndim\u001b[0m\u001b[0;34m=\u001b[0m\u001b[0mensure_ndim\u001b[0m\u001b[0;34m,\u001b[0m \u001b[0mdtype\u001b[0m\u001b[0;34m=\u001b[0m\u001b[0mdtype\u001b[0m\u001b[0;34m)\u001b[0m\u001b[0;34m\u001b[0m\u001b[0;34m\u001b[0m\u001b[0m\n\u001b[0m\u001b[1;32m    281\u001b[0m \u001b[0;34m\u001b[0m\u001b[0m\n\u001b[1;32m    282\u001b[0m     \u001b[0;31m# Otherwise, it should be a filename or a SpatialImage, we load it\u001b[0m\u001b[0;34m\u001b[0m\u001b[0;34m\u001b[0m\u001b[0;34m\u001b[0m\u001b[0m\n",
      "\u001b[0;32m/jukebox/pkgs/PYGER/base/envs/0.11.0/lib/python3.7/site-packages/nilearn/_utils/niimg_conversions.py\u001b[0m in \u001b[0;36mconcat_niimgs\u001b[0;34m(niimgs, dtype, ensure_ndim, memory, memory_level, auto_resample, verbose)\u001b[0m\n\u001b[1;32m    448\u001b[0m     \u001b[0miterator\u001b[0m\u001b[0;34m,\u001b[0m \u001b[0mliterator\u001b[0m \u001b[0;34m=\u001b[0m \u001b[0mitertools\u001b[0m\u001b[0;34m.\u001b[0m\u001b[0mtee\u001b[0m\u001b[0;34m(\u001b[0m\u001b[0miter\u001b[0m\u001b[0;34m(\u001b[0m\u001b[0mniimgs\u001b[0m\u001b[0;34m)\u001b[0m\u001b[0;34m)\u001b[0m\u001b[0;34m\u001b[0m\u001b[0;34m\u001b[0m\u001b[0m\n\u001b[1;32m    449\u001b[0m     \u001b[0;32mtry\u001b[0m\u001b[0;34m:\u001b[0m\u001b[0;34m\u001b[0m\u001b[0;34m\u001b[0m\u001b[0m\n\u001b[0;32m--> 450\u001b[0;31m         \u001b[0mfirst_niimg\u001b[0m \u001b[0;34m=\u001b[0m \u001b[0mcheck_niimg\u001b[0m\u001b[0;34m(\u001b[0m\u001b[0mnext\u001b[0m\u001b[0;34m(\u001b[0m\u001b[0mliterator\u001b[0m\u001b[0;34m)\u001b[0m\u001b[0;34m,\u001b[0m \u001b[0mensure_ndim\u001b[0m\u001b[0;34m=\u001b[0m\u001b[0mndim\u001b[0m\u001b[0;34m)\u001b[0m\u001b[0;34m\u001b[0m\u001b[0;34m\u001b[0m\u001b[0m\n\u001b[0m\u001b[1;32m    451\u001b[0m     \u001b[0;32mexcept\u001b[0m \u001b[0mStopIteration\u001b[0m\u001b[0;34m:\u001b[0m\u001b[0;34m\u001b[0m\u001b[0;34m\u001b[0m\u001b[0m\n\u001b[1;32m    452\u001b[0m         \u001b[0;32mraise\u001b[0m \u001b[0mTypeError\u001b[0m\u001b[0;34m(\u001b[0m\u001b[0;34m'Cannot concatenate empty objects'\u001b[0m\u001b[0;34m)\u001b[0m\u001b[0;34m\u001b[0m\u001b[0;34m\u001b[0m\u001b[0m\n",
      "\u001b[0;32m/jukebox/pkgs/PYGER/base/envs/0.11.0/lib/python3.7/site-packages/nilearn/_utils/niimg_conversions.py\u001b[0m in \u001b[0;36mcheck_niimg\u001b[0;34m(niimg, ensure_ndim, atleast_4d, dtype, return_iterator, wildcards)\u001b[0m\n\u001b[1;32m    278\u001b[0m             return _iter_check_niimg(niimg, ensure_ndim=ensure_ndim,\n\u001b[1;32m    279\u001b[0m                                      dtype=dtype)\n\u001b[0;32m--> 280\u001b[0;31m         \u001b[0;32mreturn\u001b[0m \u001b[0mconcat_niimgs\u001b[0m\u001b[0;34m(\u001b[0m\u001b[0mniimg\u001b[0m\u001b[0;34m,\u001b[0m \u001b[0mensure_ndim\u001b[0m\u001b[0;34m=\u001b[0m\u001b[0mensure_ndim\u001b[0m\u001b[0;34m,\u001b[0m \u001b[0mdtype\u001b[0m\u001b[0;34m=\u001b[0m\u001b[0mdtype\u001b[0m\u001b[0;34m)\u001b[0m\u001b[0;34m\u001b[0m\u001b[0;34m\u001b[0m\u001b[0m\n\u001b[0m\u001b[1;32m    281\u001b[0m \u001b[0;34m\u001b[0m\u001b[0m\n\u001b[1;32m    282\u001b[0m     \u001b[0;31m# Otherwise, it should be a filename or a SpatialImage, we load it\u001b[0m\u001b[0;34m\u001b[0m\u001b[0;34m\u001b[0m\u001b[0;34m\u001b[0m\u001b[0m\n",
      "\u001b[0;32m/jukebox/pkgs/PYGER/base/envs/0.11.0/lib/python3.7/site-packages/nilearn/_utils/niimg_conversions.py\u001b[0m in \u001b[0;36mconcat_niimgs\u001b[0;34m(niimgs, dtype, ensure_ndim, memory, memory_level, auto_resample, verbose)\u001b[0m\n\u001b[1;32m    448\u001b[0m     \u001b[0miterator\u001b[0m\u001b[0;34m,\u001b[0m \u001b[0mliterator\u001b[0m \u001b[0;34m=\u001b[0m \u001b[0mitertools\u001b[0m\u001b[0;34m.\u001b[0m\u001b[0mtee\u001b[0m\u001b[0;34m(\u001b[0m\u001b[0miter\u001b[0m\u001b[0;34m(\u001b[0m\u001b[0mniimgs\u001b[0m\u001b[0;34m)\u001b[0m\u001b[0;34m)\u001b[0m\u001b[0;34m\u001b[0m\u001b[0;34m\u001b[0m\u001b[0m\n\u001b[1;32m    449\u001b[0m     \u001b[0;32mtry\u001b[0m\u001b[0;34m:\u001b[0m\u001b[0;34m\u001b[0m\u001b[0;34m\u001b[0m\u001b[0m\n\u001b[0;32m--> 450\u001b[0;31m         \u001b[0mfirst_niimg\u001b[0m \u001b[0;34m=\u001b[0m \u001b[0mcheck_niimg\u001b[0m\u001b[0;34m(\u001b[0m\u001b[0mnext\u001b[0m\u001b[0;34m(\u001b[0m\u001b[0mliterator\u001b[0m\u001b[0;34m)\u001b[0m\u001b[0;34m,\u001b[0m \u001b[0mensure_ndim\u001b[0m\u001b[0;34m=\u001b[0m\u001b[0mndim\u001b[0m\u001b[0;34m)\u001b[0m\u001b[0;34m\u001b[0m\u001b[0;34m\u001b[0m\u001b[0m\n\u001b[0m\u001b[1;32m    451\u001b[0m     \u001b[0;32mexcept\u001b[0m \u001b[0mStopIteration\u001b[0m\u001b[0;34m:\u001b[0m\u001b[0;34m\u001b[0m\u001b[0;34m\u001b[0m\u001b[0m\n\u001b[1;32m    452\u001b[0m         \u001b[0;32mraise\u001b[0m \u001b[0mTypeError\u001b[0m\u001b[0;34m(\u001b[0m\u001b[0;34m'Cannot concatenate empty objects'\u001b[0m\u001b[0;34m)\u001b[0m\u001b[0;34m\u001b[0m\u001b[0;34m\u001b[0m\u001b[0m\n",
      "\u001b[0;32m/jukebox/pkgs/PYGER/base/envs/0.11.0/lib/python3.7/site-packages/nilearn/_utils/niimg_conversions.py\u001b[0m in \u001b[0;36mcheck_niimg\u001b[0;34m(niimg, ensure_ndim, atleast_4d, dtype, return_iterator, wildcards)\u001b[0m\n\u001b[1;32m    281\u001b[0m \u001b[0;34m\u001b[0m\u001b[0m\n\u001b[1;32m    282\u001b[0m     \u001b[0;31m# Otherwise, it should be a filename or a SpatialImage, we load it\u001b[0m\u001b[0;34m\u001b[0m\u001b[0;34m\u001b[0m\u001b[0;34m\u001b[0m\u001b[0m\n\u001b[0;32m--> 283\u001b[0;31m     \u001b[0mniimg\u001b[0m \u001b[0;34m=\u001b[0m \u001b[0mload_niimg\u001b[0m\u001b[0;34m(\u001b[0m\u001b[0mniimg\u001b[0m\u001b[0;34m,\u001b[0m \u001b[0mdtype\u001b[0m\u001b[0;34m=\u001b[0m\u001b[0mdtype\u001b[0m\u001b[0;34m)\u001b[0m\u001b[0;34m\u001b[0m\u001b[0;34m\u001b[0m\u001b[0m\n\u001b[0m\u001b[1;32m    284\u001b[0m \u001b[0;34m\u001b[0m\u001b[0m\n\u001b[1;32m    285\u001b[0m     \u001b[0;32mif\u001b[0m \u001b[0mensure_ndim\u001b[0m \u001b[0;34m==\u001b[0m \u001b[0;36m3\u001b[0m \u001b[0;32mand\u001b[0m \u001b[0mlen\u001b[0m\u001b[0;34m(\u001b[0m\u001b[0mniimg\u001b[0m\u001b[0;34m.\u001b[0m\u001b[0mshape\u001b[0m\u001b[0;34m)\u001b[0m \u001b[0;34m==\u001b[0m \u001b[0;36m4\u001b[0m \u001b[0;32mand\u001b[0m \u001b[0mniimg\u001b[0m\u001b[0;34m.\u001b[0m\u001b[0mshape\u001b[0m\u001b[0;34m[\u001b[0m\u001b[0;36m3\u001b[0m\u001b[0;34m]\u001b[0m \u001b[0;34m==\u001b[0m \u001b[0;36m1\u001b[0m\u001b[0;34m:\u001b[0m\u001b[0;34m\u001b[0m\u001b[0;34m\u001b[0m\u001b[0m\n",
      "\u001b[0;32m/jukebox/pkgs/PYGER/base/envs/0.11.0/lib/python3.7/site-packages/nilearn/_utils/niimg.py\u001b[0m in \u001b[0;36mload_niimg\u001b[0;34m(niimg, dtype)\u001b[0m\n\u001b[1;32m    130\u001b[0m         raise TypeError(\"Data given cannot be loaded because it is\"\n\u001b[1;32m    131\u001b[0m                         \u001b[0;34m\" not compatible with nibabel format:\\n\"\u001b[0m\u001b[0;34m\u001b[0m\u001b[0;34m\u001b[0m\u001b[0m\n\u001b[0;32m--> 132\u001b[0;31m                         + _repr_niimgs(niimg, shorten=True))\n\u001b[0m\u001b[1;32m    133\u001b[0m \u001b[0;34m\u001b[0m\u001b[0m\n\u001b[1;32m    134\u001b[0m     \u001b[0mdtype\u001b[0m \u001b[0;34m=\u001b[0m \u001b[0m_get_target_dtype\u001b[0m\u001b[0;34m(\u001b[0m\u001b[0m_get_data\u001b[0m\u001b[0;34m(\u001b[0m\u001b[0mniimg\u001b[0m\u001b[0;34m)\u001b[0m\u001b[0;34m.\u001b[0m\u001b[0mdtype\u001b[0m\u001b[0;34m,\u001b[0m \u001b[0mdtype\u001b[0m\u001b[0;34m)\u001b[0m\u001b[0;34m\u001b[0m\u001b[0;34m\u001b[0m\u001b[0m\n",
      "\u001b[0;31mTypeError\u001b[0m: Data given cannot be loaded because it is not compatible with nibabel format:\n0.0"
     ]
    }
   ],
   "source": [
    "masker.fit()\n",
    "X_train = masker.transform(func_img)\n"
   ]
  },
  {
   "cell_type": "code",
   "execution_count": null,
   "id": "liquid-melbourne",
   "metadata": {},
   "outputs": [],
   "source": []
  },
  {
   "cell_type": "code",
   "execution_count": null,
   "id": "successful-region",
   "metadata": {},
   "outputs": [],
   "source": []
  },
  {
   "cell_type": "markdown",
   "id": "sweet-sensitivity",
   "metadata": {},
   "source": [
    "To orient ourselves a bit, let's try plotting the BOLD time series for an example parcel. Start with parcel `196` in left superior temporal auditory association cortex. After plotting the time series, plot the location of this parcel in the brain using `plot_stat_map`."
   ]
  },
  {
   "cell_type": "code",
   "execution_count": 7,
   "id": "chinese-nickname",
   "metadata": {},
   "outputs": [
    {
     "name": "stderr",
     "output_type": "stream",
     "text": [
      "/jukebox/pkgs/PYGER/base/envs/0.11.0/lib/python3.7/site-packages/nilearn/datasets/__init__.py:90: FutureWarning: Fetchers from the nilearn.datasets module will be updated in version 0.9 to return python strings instead of bytes and Pandas dataframes instead of Numpy arrays.\n",
      "  \"Numpy arrays.\", FutureWarning)\n"
     ]
    },
    {
     "data": {
      "text/plain": [
       "MultiNiftiMasker(detrend=True,\n",
       "                 mask_img=array([[[0., 0., 0., ..., 0., 0., 0.],\n",
       "        [0., 0., 0., ..., 0., 0., 0.],\n",
       "        [0., 0., 0., ..., 0., 0., 0.],\n",
       "        ...,\n",
       "        [0., 0., 0., ..., 0., 0., 0.],\n",
       "        [0., 0., 0., ..., 0., 0., 0.],\n",
       "        [0., 0., 0., ..., 0., 0., 0.]],\n",
       "\n",
       "       [[0., 0., 0., ..., 0., 0., 0.],\n",
       "        [0., 0., 0., ..., 0., 0., 0.],\n",
       "        [0., 0., 0., ..., 0., 0., 0.],\n",
       "        ...,\n",
       "        [0., 0., 0., ..., 0., 0., 0.],\n",
       "        [0., 0., 0., ..., 0., 0., 0.],\n",
       "        [0., 0., 0., ..., 0., 0., 0.]],\n",
       "\n",
       "       [[0....\n",
       "        [0., 0., 0., ..., 0., 0., 0.],\n",
       "        [0., 0., 0., ..., 0., 0., 0.]],\n",
       "\n",
       "       [[0., 0., 0., ..., 0., 0., 0.],\n",
       "        [0., 0., 0., ..., 0., 0., 0.],\n",
       "        [0., 0., 0., ..., 0., 0., 0.],\n",
       "        ...,\n",
       "        [0., 0., 0., ..., 0., 0., 0.],\n",
       "        [0., 0., 0., ..., 0., 0., 0.],\n",
       "        [0., 0., 0., ..., 0., 0., 0.]],\n",
       "\n",
       "       [[0., 0., 0., ..., 0., 0., 0.],\n",
       "        [0., 0., 0., ..., 0., 0., 0.],\n",
       "        [0., 0., 0., ..., 0., 0., 0.],\n",
       "        ...,\n",
       "        [0., 0., 0., ..., 0., 0., 0.],\n",
       "        [0., 0., 0., ..., 0., 0., 0.],\n",
       "        [0., 0., 0., ..., 0., 0., 0.]]]))"
      ]
     },
     "execution_count": 7,
     "metadata": {},
     "output_type": "execute_result"
    }
   ],
   "source": [
    "# Plot the time series for an example parcel:\n",
    "from nilearn.plotting import plot_stat_map\n",
    "\n",
    "masker\n",
    "# Plot parcel on MNI atlas:\n"
   ]
  },
  {
   "cell_type": "code",
   "execution_count": 31,
   "id": "communist-sender",
   "metadata": {},
   "outputs": [],
   "source": [
    "# Filenames for intact notthefall data and Schaefer atlas\n",
    "func_fn = ('sub-284_task-black_space-MNI152NLin2009cAsym_res-native_desc-clean_bold.nii.gz')\n",
    "atlas_fn = ('Schaefer2018_400Parcels_17Networks_order_FSLMNI152_2.5mm.nii.gz')\n",
    "\n",
    "# Load in the Schaefer 400-parcel atlas\n",
    "atlas_nii = nib.load(atlas_fn)\n",
    "atlas_img = atlas_nii.get_fdata()\n",
    "\n",
    "# Load in intact functional data and compute parcel means:\n",
    "masker = MultiNiftiMasker(mask_img=atlas_img, detrend=True,\n",
    "                          standardize=False)\n",
    "\n"
   ]
  },
  {
   "cell_type": "code",
   "execution_count": 48,
   "id": "endangered-alabama",
   "metadata": {},
   "outputs": [
    {
     "ename": "TypeError",
     "evalue": "Cannot slice image objects; consider using `img.slicer[slice]` to generate a sliced image (see documentation for caveats) or slicing image array data with `img.dataobj[slice]` or `img.get_fdata()[slice]`",
     "output_type": "error",
     "traceback": [
      "\u001b[0;31m---------------------------------------------------------------------------\u001b[0m",
      "\u001b[0;31mTypeError\u001b[0m                                 Traceback (most recent call last)",
      "\u001b[0;32m<ipython-input-48-e765943572fc>\u001b[0m in \u001b[0;36m<module>\u001b[0;34m\u001b[0m\n\u001b[1;32m      3\u001b[0m \u001b[0mfunc_parcels\u001b[0m \u001b[0;34m=\u001b[0m \u001b[0mnp\u001b[0m\u001b[0;34m.\u001b[0m\u001b[0mzeros\u001b[0m\u001b[0;34m(\u001b[0m\u001b[0;34m(\u001b[0m\u001b[0mint\u001b[0m\u001b[0;34m(\u001b[0m\u001b[0mnum_timepoints\u001b[0m\u001b[0;34m)\u001b[0m\u001b[0;34m,\u001b[0m \u001b[0mint\u001b[0m\u001b[0;34m(\u001b[0m\u001b[0mnum_parcels\u001b[0m\u001b[0;34m)\u001b[0m\u001b[0;34m)\u001b[0m\u001b[0;34m)\u001b[0m\u001b[0;34m\u001b[0m\u001b[0;34m\u001b[0m\u001b[0m\n\u001b[1;32m      4\u001b[0m \u001b[0;32mfor\u001b[0m \u001b[0mparcel\u001b[0m \u001b[0;32min\u001b[0m \u001b[0mrange\u001b[0m\u001b[0;34m(\u001b[0m\u001b[0;36m1\u001b[0m\u001b[0;34m,\u001b[0m \u001b[0mint\u001b[0m\u001b[0;34m(\u001b[0m\u001b[0mnum_parcels\u001b[0m\u001b[0;34m)\u001b[0m \u001b[0;34m+\u001b[0m \u001b[0;36m1\u001b[0m\u001b[0;34m)\u001b[0m\u001b[0;34m:\u001b[0m\u001b[0;34m\u001b[0m\u001b[0;34m\u001b[0m\u001b[0m\n\u001b[0;32m----> 5\u001b[0;31m     \u001b[0mfunc_parcels\u001b[0m\u001b[0;34m[\u001b[0m\u001b[0;34m:\u001b[0m\u001b[0;34m,\u001b[0m \u001b[0mparcel\u001b[0m \u001b[0;34m-\u001b[0m \u001b[0;36m1\u001b[0m\u001b[0;34m]\u001b[0m \u001b[0;34m=\u001b[0m \u001b[0mfunc_img\u001b[0m\u001b[0;34m[\u001b[0m\u001b[0matlas_img\u001b[0m \u001b[0;34m==\u001b[0m \u001b[0mparcel\u001b[0m\u001b[0;34m]\u001b[0m\u001b[0;34m.\u001b[0m\u001b[0mmean\u001b[0m\u001b[0;34m(\u001b[0m\u001b[0maxis\u001b[0m\u001b[0;34m=\u001b[0m\u001b[0;36m0\u001b[0m\u001b[0;34m)\u001b[0m\u001b[0;34m\u001b[0m\u001b[0;34m\u001b[0m\u001b[0m\n\u001b[0m\u001b[1;32m      6\u001b[0m \u001b[0;34m\u001b[0m\u001b[0m\n\u001b[1;32m      7\u001b[0m \u001b[0mfig\u001b[0m\u001b[0;34m,\u001b[0m \u001b[0maxes\u001b[0m \u001b[0;34m=\u001b[0m \u001b[0mplt\u001b[0m\u001b[0;34m.\u001b[0m\u001b[0msubplots\u001b[0m\u001b[0;34m(\u001b[0m\u001b[0;36m2\u001b[0m\u001b[0;34m,\u001b[0m \u001b[0;36m1\u001b[0m\u001b[0;34m,\u001b[0m \u001b[0mfigsize\u001b[0m\u001b[0;34m=\u001b[0m\u001b[0;34m(\u001b[0m\u001b[0;36m7\u001b[0m\u001b[0;34m,\u001b[0m\u001b[0;36m5\u001b[0m\u001b[0;34m)\u001b[0m\u001b[0;34m,\u001b[0m \u001b[0mtight_layout\u001b[0m\u001b[0;34m=\u001b[0m\u001b[0;32mTrue\u001b[0m\u001b[0;34m)\u001b[0m\u001b[0;34m\u001b[0m\u001b[0;34m\u001b[0m\u001b[0m\n",
      "\u001b[0;32m/jukebox/pkgs/PYGER/base/envs/0.11.0/lib/python3.7/site-packages/nibabel/spatialimages.py\u001b[0m in \u001b[0;36m__getitem__\u001b[0;34m(self, idx)\u001b[0m\n\u001b[1;32m    585\u001b[0m         \"\"\"\n\u001b[1;32m    586\u001b[0m         raise TypeError(\n\u001b[0;32m--> 587\u001b[0;31m             \u001b[0;34m\"Cannot slice image objects; consider using `img.slicer[slice]` \"\u001b[0m\u001b[0;34m\u001b[0m\u001b[0;34m\u001b[0m\u001b[0m\n\u001b[0m\u001b[1;32m    588\u001b[0m             \u001b[0;34m\"to generate a sliced image (see documentation for caveats) or \"\u001b[0m\u001b[0;34m\u001b[0m\u001b[0;34m\u001b[0m\u001b[0m\n\u001b[1;32m    589\u001b[0m             \u001b[0;34m\"slicing image array data with `img.dataobj[slice]` or \"\u001b[0m\u001b[0;34m\u001b[0m\u001b[0;34m\u001b[0m\u001b[0m\n",
      "\u001b[0;31mTypeError\u001b[0m: Cannot slice image objects; consider using `img.slicer[slice]` to generate a sliced image (see documentation for caveats) or slicing image array data with `img.dataobj[slice]` or `img.get_fdata()[slice]`"
     ]
    }
   ],
   "source": [
    "num_timepoints = func_img.shape[-1]\n",
    "num_parcels = 400\n",
    "func_parcels = np.zeros((int(num_timepoints), int(num_parcels)))\n",
    "for parcel in range(1, int(num_parcels) + 1):\n",
    "    func_parcels[:, parcel - 1] = func_img[atlas_img == parcel].mean(axis=0)\n",
    "\n",
    "fig, axes = plt.subplots(2, 1, figsize=(7,5), tight_layout=True)\n",
    "axes[0].plot(func_parcels[:, 196])\n",
    "roi_img = np.zeros_like(atlas_img)\n",
    "roi_img[atlas_img==196] = 1\n",
    "roi_nii = nib.Nifti1Image(parc_img, atlas_nii.affine)\n",
    "plot_stat_map(roi_nii, axes=axes[1], vmax=1, cmap='viridis')\n"
   ]
  },
  {
   "cell_type": "code",
   "execution_count": 50,
   "id": "universal-electricity",
   "metadata": {},
   "outputs": [
    {
     "data": {
      "text/plain": [
       "(550, 400)"
      ]
     },
     "execution_count": 50,
     "metadata": {},
     "output_type": "execute_result"
    }
   ],
   "source": [
    "func_parcels.shape"
   ]
  },
  {
   "cell_type": "markdown",
   "id": "sharing-sally",
   "metadata": {},
   "source": [
    "### Semantic encoding model\n",
    "We'll decompose the story stimulus into a series of semantic features based on a simple, widely used representation of word meaning called GloVe ([Pennington et al., 2014](http://dx.doi.org/10.3115/v1/D14-1162])). GloVe represents each word in a 300-dimensional semantic space where words that are nearer in space are more semantically similar based on co-occurrence statistics from a large corpus of text. We start with a time-stamped stimulus transcript. For each TR, we identify which words occurred in that TR, then assign that TR the semantic embeddings associated with each word. For TRs with multiple words, we average the semantic embeddings; for TRs with no words, we use a 300-dimensional vector of zeros; we exclude a small number of stop words. Finally, to account for the hemodynamic lag in fMRI, we create lagged versions of the embeddings."
   ]
  },
  {
   "cell_type": "code",
   "execution_count": 51,
   "id": "smooth-location",
   "metadata": {},
   "outputs": [],
   "source": [
    "# Load in time-stamped transcript\n",
    "transcript_fn = 'black_gentle.csv'\n",
    "transcript = pd.read_csv(transcript_fn, sep=',')\n",
    "\n",
    "# Stimulus is roughly 800 seconds long\n",
    "tr = 1.5\n",
    "stim_dur = 800\n",
    "stim_trs = 800 // tr\n",
    "\n",
    "# Convert transcript to list for simplicity\n",
    "transcript = transcript.values.tolist()\n",
    "\n",
    "# Loop through TRs\n",
    "transcript_trs = []\n",
    "for t in np.arange(stim_trs):\n",
    "    \n",
    "    # Container for words in this TR\n",
    "    tr_words = []\n",
    "    \n",
    "    # Check if upcoming word onset is in this TR\n",
    "    while t * tr < transcript[0][2] <= t * tr + tr:\n",
    "        \n",
    "        # If so, pop this word out of list and keep it\n",
    "        w = transcript.pop(0)\n",
    "        tr_words.append(w[0])\n",
    "        \n",
    "    # Append words and move to the next TR\n",
    "    transcript_trs.append(tr_words)"
   ]
  },
  {
   "cell_type": "code",
   "execution_count": 52,
   "id": "environmental-happiness",
   "metadata": {},
   "outputs": [],
   "source": [
    "# Load in dictionary of GloVe embeddings\n",
    "with open('glove_embeddings.json') as f:\n",
    "    glove = json.load(f)\n",
    "    \n",
    "# Load list of standard stop words\n",
    "stopwords = np.load('nltk_stopwords.npy')"
   ]
  },
  {
   "cell_type": "code",
   "execution_count": 54,
   "id": "wireless-rochester",
   "metadata": {},
   "outputs": [
    {
     "data": {
      "text/plain": [
       "533"
      ]
     },
     "execution_count": 54,
     "metadata": {},
     "output_type": "execute_result"
    }
   ],
   "source": [
    "len(transcript_trs)"
   ]
  },
  {
   "cell_type": "code",
   "execution_count": 55,
   "id": "brilliant-platform",
   "metadata": {},
   "outputs": [
    {
     "data": {
      "text/plain": [
       "[['So', 'I'],\n",
       " ['was', 'a', 'junior'],\n",
       " ['in', 'college'],\n",
       " ['when', 'I', 'got', 'my', 'first'],\n",
       " ['paying'],\n",
       " ['in', 'my'],\n",
       " ['field', 'on', 'the'],\n",
       " ['radio', 'This', 'is'],\n",
       " ['not', 'an', 'internship'],\n",
       " [\"I'm\", 'getting', 'a', 'check'],\n",
       " [],\n",
       " ['It', 'was', 'a', 'country', 'and', 'western', 'radio'],\n",
       " ['station'],\n",
       " ['and', 'my'],\n",
       " ['job', 'though', 'it', 'was', 'only'],\n",
       " ['on', 'the', 'weekends'],\n",
       " ['was', 'to', 'play'],\n",
       " ['the', 'top', 'country'],\n",
       " ['hits', 'of'],\n",
       " ['the', 'week', 'each'],\n",
       " ['Sunday', 'It'],\n",
       " ['actually', 'came', 'on', 'an', 'album'],\n",
       " ['pre', 'recorded'],\n",
       " ['so', 'I'],\n",
       " ['had', 'to', 'take', 'it', 'out', 'of', 'the', 'sleeve'],\n",
       " [],\n",
       " ['and', 'put', 'it', 'on'],\n",
       " ['the', 'turntable', 'just', 'so'],\n",
       " ['and', 'put', 'the', 'needle'],\n",
       " ['down', 'on', 'side'],\n",
       " ['one', 'caring'],\n",
       " ['not', 'to', 'scratch'],\n",
       " ['it'],\n",
       " ['and', 'then', 'let', 'part', 'one', 'play'],\n",
       " ['My', 'moment'],\n",
       " ['is', 'coming', 'now'],\n",
       " ['Yes', 'all', 'the', 'training'],\n",
       " [\"it's\", 'coming', 'now', 'When'],\n",
       " ['side', 'one', 'would', 'end'],\n",
       " ['I', 'had', 'to', 'lift'],\n",
       " ['the', 'needle'],\n",
       " [],\n",
       " ['and', \"here's\", 'my', 'moment'],\n",
       " ['I'],\n",
       " ['get', 'to', 'read', 'the', 'weather', 'live'],\n",
       " ['for', 'Jefferson', 'City', 'Missouri'],\n",
       " [],\n",
       " [],\n",
       " [],\n",
       " [],\n",
       " ['Then', 'I', 'played', 'commercials', 'and'],\n",
       " ['while', 'the', 'commercials', 'were'],\n",
       " ['playing', 'I', 'had', 'to', 'flip'],\n",
       " ['the', 'album'],\n",
       " ['put', 'it', 'back'],\n",
       " ['down', 'on', 'the', 'turntable'],\n",
       " ['put', 'the', 'needle', 'back', 'down'],\n",
       " ['now', 'on', 'side', 'two'],\n",
       " ['and'],\n",
       " ['let', 'part', 'two', 'of', 'the', 'top'],\n",
       " ['country', 'hits', 'of', 'the', 'week'],\n",
       " ['play', 'You'],\n",
       " ['know', 'when', \"you're\", 'getting', 'a', 'degree'],\n",
       " ['in', 'communications'],\n",
       " ['or', 'broadcasting'],\n",
       " ['they', 'teach', 'you'],\n",
       " ['all', 'kinds', 'of', 'stuff'],\n",
       " ['but', 'they', 'do', 'not'],\n",
       " ['teach', 'you'],\n",
       " ['how', 'to', 'flip', 'an', 'album'],\n",
       " [],\n",
       " ['in', 'record', 'time'],\n",
       " ['before', 'the', 'commercial'],\n",
       " ['break', 'ends'],\n",
       " ['My', 'career'],\n",
       " ['would', 'eventually', 'bring', 'me', 'here'],\n",
       " ['to', 'St'],\n",
       " ['Louis'],\n",
       " [\"It's\", 'the'],\n",
       " ['largest', 'market'],\n",
       " ['I', 'had', 'ever', 'been', 'in'],\n",
       " ['I', 'was', 'excited'],\n",
       " ['and'],\n",
       " ['I', 'was', 'nervous'],\n",
       " ['and', 'so'],\n",
       " ['I', 'am'],\n",
       " ['trying', 'to', 'get', 'to', 'know', 'the', 'community'],\n",
       " ['And', 'so', \"I'm\"],\n",
       " ['going', 'to', 'every', 'fundraiser'],\n",
       " ['and', 'every', 'event'],\n",
       " ['I', 'can', 'think', 'of'],\n",
       " ['and', 'after', 'one', 'of', 'those', 'events'],\n",
       " ['I', 'promise', 'you', 'it', 'was'],\n",
       " ['actually', 'here', 'at'],\n",
       " ['the', 'Sheldon', 'in', 'St'],\n",
       " ['Louis', 'Missouri'],\n",
       " ['a', 'young', 'man', 'approached', 'me'],\n",
       " ['outside', 'on', 'the', 'sidewalk'],\n",
       " ['He', 'was', 'black'],\n",
       " ['and', 'he'],\n",
       " ['said', 'to', 'me'],\n",
       " ['I', 'knew', 'you'],\n",
       " ['were', 'black'],\n",
       " [],\n",
       " [],\n",
       " [],\n",
       " [],\n",
       " [],\n",
       " [],\n",
       " ['Now', 'keep', 'in', 'mind'],\n",
       " ['that'],\n",
       " ['I', 'had', 'heard'],\n",
       " ['pretty', 'much', 'my', 'whole', 'adult', 'life'],\n",
       " ['You', 'sound', 'white'],\n",
       " [\"I'd\", 'heard', 'that'],\n",
       " [\"I'd\", 'heard'],\n",
       " ['Oh', 'you', 'sound', 'white'],\n",
       " ['You', 'sound', 'like'],\n",
       " ['a', 'white', 'girl', \"I'd\", 'heard', 'that'],\n",
       " ['but', 'I', 'had', 'never'],\n",
       " ['ever', 'heard'],\n",
       " ['I', 'knew'],\n",
       " ['you', 'were', 'black'],\n",
       " [],\n",
       " ['So', 'he'],\n",
       " ['tells', 'me', 'about'],\n",
       " ['this', 'debate', 'apparently'],\n",
       " ['that', 'had', 'been', 'going', 'on', 'in', 'St'],\n",
       " ['Louis'],\n",
       " ['when'],\n",
       " ['I', 'first', 'started', 'here'],\n",
       " ['People'],\n",
       " ['told', 'him', 'Oh', 'no'],\n",
       " ['no', \"she's\", 'white', 'man', \"she's\", 'white'],\n",
       " ['she', 'sounds', 'white', \"she's\", 'white'],\n",
       " ['and', 'he'],\n",
       " ['convinced'],\n",
       " ['having', 'never', 'met', 'me'],\n",
       " ['that', 'I', 'was', 'black'],\n",
       " ['Well', 'as'],\n",
       " ['it', 'turns', 'out', 'he', 'was'],\n",
       " ['right'],\n",
       " [],\n",
       " ['I', 'I', 'am'],\n",
       " ['black'],\n",
       " ['But', 'this', 'whole', 'debate'],\n",
       " ['sort', 'of', 'messed'],\n",
       " ['with', 'my', 'head', 'a', 'little', 'bit'],\n",
       " ['I', 'thought', 'here'],\n",
       " ['I', 'am', 'major', 'market'],\n",
       " ['fantastic'],\n",
       " ['job', 'of', 'my', 'dreams'],\n",
       " ['and', 'people'],\n",
       " ['still', \"don't\", 'know', 'who', 'I'],\n",
       " ['am', 'all', 'of'],\n",
       " ['who', 'I', 'am'],\n",
       " ['So', 'I', 'hatch'],\n",
       " ['the', 'secret'],\n",
       " ['plan'],\n",
       " ['This', 'mission'],\n",
       " ['I', \"didn't\", 'tell', 'anybody', 'about'],\n",
       " ['it', 'I', 'am', 'going'],\n",
       " ['to', 'start', 'dropping', 'hints', 'on', 'the'],\n",
       " ['air'],\n",
       " [],\n",
       " ['so', 'people'],\n",
       " ['so', 'people', 'will', 'know'],\n",
       " ['who', 'I', 'am'],\n",
       " ['And', 'so', 'my', 'first'],\n",
       " ['hint', 'is', 'me'],\n",
       " ['discussing', 'an', 'article'],\n",
       " [\"I'd\", 'read', 'in', 'Essence'],\n",
       " ['magazine'],\n",
       " [],\n",
       " ['Anybody', 'Essence'],\n",
       " ['Yes', 'you', 'get', 'it'],\n",
       " ['Essence', 'Magazine', 'of', 'course'],\n",
       " ['targets', 'African', 'American'],\n",
       " ['women', 'and', 'so', 'I', 'think', 'surely'],\n",
       " ['now', 'they', 'know', 'They', 'know'],\n",
       " ['They', 'got', 'to', 'know', 'now'],\n",
       " ['Debate', 'put', 'to', 'a', 'rest'],\n",
       " [],\n",
       " ['So', 'I', 'am', 'now'],\n",
       " ['all', 'about', 'town'],\n",
       " ['and', 'people', 'are', 'beginning', 'to', 'recognize'],\n",
       " ['me', 'just', 'from', 'my', 'voice'],\n",
       " [\"I'm\"],\n",
       " ['at', 'the', 'grocery', 'store'],\n",
       " [\"I'm\", 'chasing', 'my', 'kids'],\n",
       " ['at', 'the', 'St', 'Louis', 'zoo', 'yelling'],\n",
       " ['at', 'them', 'people', 'are', 'recognizing'],\n",
       " ['my', 'voice'],\n",
       " [],\n",
       " [\"I'm\", 'gonna', 'drop', 'another', 'hint'],\n",
       " ['on', 'the', 'air', \"I'm\"],\n",
       " ['enjoying', 'the', 'secret', 'mission'],\n",
       " ['And', 'so'],\n",
       " ['I', 'described'],\n",
       " ['trying', 'to'],\n",
       " ['make', 'my', \"mother's\", 'collard'],\n",
       " ['greens'],\n",
       " [],\n",
       " [],\n",
       " ['Boom'],\n",
       " [],\n",
       " ['They', 'got', 'to', 'know'],\n",
       " ['They', 'got', 'to'],\n",
       " ['know', 'now'],\n",
       " ['that', \"I'm\", 'a', 'black', 'woman'],\n",
       " ['One'],\n",
       " ['day', 'at', 'one', 'of', 'these', 'many', 'events'],\n",
       " ['an', 'education', 'panel'],\n",
       " ['discussion', 'after', \"it's\", 'over'],\n",
       " [\"I'm\", 'in', 'a', 'small', 'group'],\n",
       " ['of', 'people', 'and', 'we', 'are', 'talking'],\n",
       " ['and'],\n",
       " ['an', 'older', 'white', 'gentleman', 'walks'],\n",
       " ['up', 'to', 'me'],\n",
       " ['and', 'he', 'says'],\n",
       " ['You', 'speak', 'well'],\n",
       " ['for', 'your', 'people'],\n",
       " [],\n",
       " [],\n",
       " ['I', 'could', 'feel'],\n",
       " ['what', 'you', 'just', 'said'],\n",
       " ['I', 'could'],\n",
       " ['feel', 'it', 'in', 'my', 'stomach'],\n",
       " ['rising'],\n",
       " ['to', 'my', 'heart'],\n",
       " ['to', 'my', 'throat'],\n",
       " ['and', 'I', 'said', 'to', 'him'],\n",
       " ['well'],\n",
       " ['well', 'what', 'people', 'are', 'you', 'referring', 'to'],\n",
       " ['Now'],\n",
       " ['mhm', 'I', 'knew', 'what', 'he'],\n",
       " ['meant'],\n",
       " ['We', 'all', 'know', 'what'],\n",
       " ['he', 'meant'],\n",
       " ['but', 'I', 'wanted', 'him'],\n",
       " ['to', 'say', 'it', 'out', 'of', 'his', 'own', 'mouth'],\n",
       " ['I', 'wanted', 'him', 'to', 'say', 'it'],\n",
       " ['and', 'he', 'said', 'it'],\n",
       " [],\n",
       " ['You', 'know', 'black', 'people'],\n",
       " [],\n",
       " ['So', 'now', \"it's\"],\n",
       " ['really', 'gurgling', 'It', 'is'],\n",
       " ['threatening', 'to', 'come', 'spewing'],\n",
       " ['out', 'of', 'my', 'mouth'],\n",
       " ['I', 'am', 'embarrassed'],\n",
       " ['because', 'people'],\n",
       " ['are', 'standing', 'around'],\n",
       " ['and', \"they're\", 'hearing'],\n",
       " ['this', 'and', \"I'm\"],\n",
       " ['angry', 'How'],\n",
       " ['dare', 'he', 'diminish', 'me'],\n",
       " [],\n",
       " ['And', \"I'm\", 'indignant'],\n",
       " ['even'],\n",
       " ['and', 'before', 'I', 'could', 'say', 'another'],\n",
       " ['word', 'he'],\n",
       " ['says', 'to', 'me'],\n",
       " ['Have', 'you', 'had', 'any', 'training'],\n",
       " [],\n",
       " ['She'],\n",
       " ['said'],\n",
       " [],\n",
       " [],\n",
       " ['Well', 'I', 'said'],\n",
       " ['Nope'],\n",
       " [],\n",
       " [],\n",
       " ['My', 'father', 'speaks', 'this'],\n",
       " ['way', 'my', 'mother'],\n",
       " ['speaks', 'this', 'way', 'and', \"they're\"],\n",
       " ['from', 'Mississippi'],\n",
       " ['My', 'siblings', 'all'],\n",
       " ['speak', 'this', 'way'],\n",
       " ['God', 'given', 'talent'],\n",
       " ['no', 'training', 'no'],\n",
       " ['classes'],\n",
       " ['none', 'of', 'that', 'just'],\n",
       " ['little', 'old', 'me'],\n",
       " [],\n",
       " [],\n",
       " [],\n",
       " [],\n",
       " [],\n",
       " ['But', \"I'm\", 'still', 'feeling'],\n",
       " ['the', 'secret', 'mission'],\n",
       " ['so', 'I'],\n",
       " ['decide', 'to', 'engage'],\n",
       " ['in', 'a', 'drop', 'the', 'mic', 'moment'],\n",
       " [\"It's\", 'closer'],\n",
       " ['to', 'Thanksgiving', 'now', 'when', 'I'],\n",
       " ['drop', 'this', 'hint'],\n",
       " ['and', 'I', 'describe', 'again'],\n",
       " ['um', 'one', 'of', 'my', \"mother's\", 'recipes'],\n",
       " ['for'],\n",
       " ['cornbread', 'dressing'],\n",
       " ['and', 'I', 'took', 'care'],\n",
       " ['on', 'the', 'air', 'to', 'say', 'not'],\n",
       " ['bread', 'not', 'white', 'bread'],\n",
       " ['dressing', 'but'],\n",
       " ['cornbread', 'dressing', 'where'],\n",
       " ['you', 'make', 'the', 'cornbread'],\n",
       " ['the', 'night', 'before'],\n",
       " ['and', 'then', 'you', 'soak', 'it', 'Cornbread'],\n",
       " ['dressing', 'and', 'I', 'thought'],\n",
       " ['boom', 'mic', 'moment', 'they', 'got'],\n",
       " ['to', 'know', \"I'm\", 'through', 'I', 'can', 'go', 'home'],\n",
       " ['now'],\n",
       " ['They', 'know', \"I'm\", 'black', 'They', 'know', \"I'm\", 'black'],\n",
       " ['now'],\n",
       " ['And', 'so'],\n",
       " ['on', 'the', 'air'],\n",
       " ['one', 'day'],\n",
       " [],\n",
       " ['I', 'was', 'just', 'remembering'],\n",
       " ['this', 'conversation'],\n",
       " [\"I'd\", 'had', 'with', 'these', 'two'],\n",
       " ['women', 'These'],\n",
       " ['two', 'petite'],\n",
       " ['older', 'black', 'women'],\n",
       " ['Gray', 'hair'],\n",
       " ['quaffed'],\n",
       " [],\n",
       " ['One', 'had', 'a', 'single', 'strand'],\n",
       " ['of', 'pearls'],\n",
       " ['They', 'both', 'had', 'a', 'touch'],\n",
       " ['of', 'makeup'],\n",
       " ['and', 'one', 'of', 'them', 'took'],\n",
       " ['me', 'by', 'each', 'hand', 'and'],\n",
       " ['she', 'pulled', 'me', 'close'],\n",
       " ['and', 'the', 'other', 'leaned', 'in', 'so', 'she'],\n",
       " ['could', 'hear'],\n",
       " ['and', 'she', 'said', 'to', 'me'],\n",
       " ['We'],\n",
       " ['are', 'so'],\n",
       " ['proud'],\n",
       " ['of', 'you'],\n",
       " [],\n",
       " ['And', 'I', 'got', 'a'],\n",
       " ['lump', 'in', 'my', 'throat'],\n",
       " ['And', 'I', 'knew', 'what', 'they', 'meant'],\n",
       " [\"They're\", 'looking', 'at'],\n",
       " ['me', 'this', 'young'],\n",
       " ['talented'],\n",
       " ['black'],\n",
       " ['woman', 'making'],\n",
       " ['her', 'mark', 'on'],\n",
       " ['this', 'big', 'radio', 'station'],\n",
       " ['in', 'St', 'Louis'],\n",
       " ['But', \"I'm\"],\n",
       " ['looking', 'at', 'them'],\n",
       " [],\n",
       " ['They', 'have', 'seen', 'and', 'experienced'],\n",
       " ['more', 'than', 'I', 'will', 'ever'],\n",
       " ['see', 'or', 'experience', 'or', 'have'],\n",
       " ['to', 'see', 'or'],\n",
       " ['experience'],\n",
       " [\"I'm\", 'looking', 'at', 'history'],\n",
       " ['in', 'its', 'face'],\n",
       " ['and', 'I'],\n",
       " ['can', 'feel', 'it'],\n",
       " ['One', 'day'],\n",
       " [\"we're\", 'in', 'this', 'debate'],\n",
       " ['on', 'the', 'air'],\n",
       " ['We', 'were', 'talking'],\n",
       " ['about', 'a', 'it', 'was', 'a', 'controversy'],\n",
       " [],\n",
       " ['An', 'organization', 'one', 'of', 'many'],\n",
       " [],\n",
       " ['decided', 'to', 'walk', 'out', 'onto'],\n",
       " ['the', 'highway'],\n",
       " ['not', 'a', 'road'],\n",
       " ['but', 'the', 'interstate'],\n",
       " ['and'],\n",
       " ['stop', 'the', 'traffic', 'and'],\n",
       " ['shut', 'it', 'down'],\n",
       " ['They', 'were', 'protesting'],\n",
       " ['the', 'lack', 'of'],\n",
       " ['minority', 'jobs', 'in', 'construction'],\n",
       " ['And'],\n",
       " ['so', 'one', 'of', 'the', 'organizations'],\n",
       " ['that', 'was', 'involved'],\n",
       " ['was', 'one', 'I', 'knew'],\n",
       " ['of', 'from', 'the', 'time'],\n",
       " ['I', 'lived', 'in', 'Kansas', 'City', 'Missouri', 'but'],\n",
       " ['my', 'co', 'host', 'at', 'the', 'time'],\n",
       " ['had', 'never', 'heard', 'of', 'them'],\n",
       " ['and', 'so', 'he', 'was', 'truly'],\n",
       " ['dismissive'],\n",
       " ['and', 'I', 'was', 'truly'],\n",
       " ['frustrated'],\n",
       " [],\n",
       " ['And', \"I'm\", 'thinking'],\n",
       " ['this', 'is', 'a', 'movement'],\n",
       " ['moment'],\n",
       " ['this', 'is', 'a', 'moment', 'where'],\n",
       " ['you', 'either', 'educate'],\n",
       " [],\n",
       " ['or', 'chastise'],\n",
       " ['or', 'enlighten', 'I'],\n",
       " ['think', \"I'm\", 'gonna', 'do'],\n",
       " ['all', 'three'],\n",
       " [],\n",
       " ['But', 'I', 'am', 'also'],\n",
       " ['thinking'],\n",
       " ['and', 'I', 'am', 'also'],\n",
       " ['worried'],\n",
       " [\"I'm\", 'still', 'kind', 'of', 'new', 'here'],\n",
       " [],\n",
       " [\"I'm\", 'still', 'young'],\n",
       " [\"I'm\", \"I'm\", 'a'],\n",
       " ['woman', \"I'm\", 'black'],\n",
       " ['and', \"I'm\", 'pregnant'],\n",
       " [],\n",
       " ['and', \"I'm\", 'worried'],\n",
       " ['about', 'the', 'stereotype'],\n",
       " ['of', 'the', 'angry', 'black', 'woman'],\n",
       " ['and', 'and', 'yet', \"I'm\", 'also', 'worried'],\n",
       " ['that', 'I', \"don't\", 'speak'],\n",
       " ['up', 'enough', 'about', 'black', 'issues'],\n",
       " [\"I'm\", 'thinking', 'all', 'of'],\n",
       " ['this'],\n",
       " ['And', 'I', 'dive'],\n",
       " ['right', 'in'],\n",
       " ['and', 'I', 'said'],\n",
       " ['to', 'him'],\n",
       " ['You', 'know', \"they're\", 'in', 'the', 'yellow', 'pages'],\n",
       " [],\n",
       " ['You', 'can', 'look', 'them', 'up', 'right', 'now'],\n",
       " ['and', 'call', 'them', \"they've\"],\n",
       " ['been', 'around', 'for', '50', 'years'],\n",
       " [],\n",
       " ['And'],\n",
       " ['so', 'we', 'took', 'some', 'calls', 'and'],\n",
       " ['we', 'ended', 'that', 'conversation'],\n",
       " [],\n",
       " ['turned', 'the', 'mics', 'off'],\n",
       " ['and', 'left', 'the', 'studio'],\n",
       " [],\n",
       " ['Now', 'just', 'a'],\n",
       " ['few', 'weeks', 'ago'],\n",
       " ['a', 'gentleman'],\n",
       " ['came', 'to', 'our', 'house', 'for', 'a', 'service'],\n",
       " ['call', 'to', 'repair', 'the', 'windshield'],\n",
       " ['of', 'my'],\n",
       " ['car'],\n",
       " [\"It's\", 'right', 'in', 'there', 'in', 'the', 'driveway'],\n",
       " ['I', 'met', 'him', 'outside'],\n",
       " ['and', 'he', 'said'],\n",
       " ['to', 'me', 'You', 'know', 'I', 'have', 'a', 'friend', 'who'],\n",
       " ['lives', 'over', 'here'],\n",
       " ['and', 'he', 'told', 'me'],\n",
       " ['that', 'that', 'news', 'lady'],\n",
       " ['lives', 'over', 'here'],\n",
       " [],\n",
       " ['Do', 'you', 'know'],\n",
       " ['her'],\n",
       " [],\n",
       " ['And'],\n",
       " ['I', 'said'],\n",
       " ['pausing'],\n",
       " ['feeling', 'pride'],\n",
       " ['and', 'trepidation'],\n",
       " [],\n",
       " ['and', 'I', 'said'],\n",
       " ['Well', 'I'],\n",
       " ['I', 'am', 'that'],\n",
       " ['woman'],\n",
       " ['You', 'are'],\n",
       " [\"I'm\", \"I'm\", 'Carol', 'Daniel'],\n",
       " ['And'],\n",
       " ['and', 'there', 'it', 'is', 'again'],\n",
       " [],\n",
       " [\"He's\", 'looking', 'at', 'me'],\n",
       " [\"He's\", 'sizing'],\n",
       " ['me', 'up'],\n",
       " ['He', 'sized', 'me'],\n",
       " ['up', 'in'],\n",
       " ['my', 'driveway'],\n",
       " [],\n",
       " ['and', 'I', 'thought'],\n",
       " ['Did'],\n",
       " ['he', 'think', 'I', 'was', 'white'],\n",
       " ['Is'],\n",
       " ['he', 'surprised', 'now', 'to', 'find', 'out', 'that', \"I'm\", 'black'],\n",
       " [],\n",
       " [],\n",
       " ['And', 'I', 'thought'],\n",
       " ['the', 'debate'],\n",
       " ['apparently', 'the', 'debate'],\n",
       " ['is'],\n",
       " ['still', 'there', 'in'],\n",
       " ['some', 'form', 'or', 'fashion'],\n",
       " ['I', 'am', 'not'],\n",
       " ['at', 'all', 'sure', 'I'],\n",
       " ['can', 'ever', 'really', 'do', 'anything'],\n",
       " ['about', 'it'],\n",
       " [\"There's\", 'a'],\n",
       " ['lot', 'more', 'at', 'stake'],\n",
       " [\"There's\", 'a', 'lot', 'more'],\n",
       " ['to', 'juggle', 'in'],\n",
       " ['my', 'life'],\n",
       " [\"There's\", 'a', 'lot', 'more'],\n",
       " ['weight', 'in', 'my', 'life'],\n",
       " ['I', 'just', 'try'],\n",
       " ['to', 'not', 'let', 'it', 'weigh', 'me'],\n",
       " ['down'],\n",
       " [],\n",
       " ['But', 'this', 'I', 'know'],\n",
       " [],\n",
       " ['I', 'deserve', 'to'],\n",
       " ['be', 'here'],\n",
       " ['I', 'deserve'],\n",
       " ['this', 'job'],\n",
       " [],\n",
       " [],\n",
       " ['And', 'I', \"don't\", 'have', 'this'],\n",
       " ['job', 'because'],\n",
       " ['I', 'sound', 'white'],\n",
       " ['I', 'have'],\n",
       " ['this', 'job'],\n",
       " ['because', 'I', 'am', 'good'],\n",
       " ['at', 'what', 'I', 'do'],\n",
       " ['Thank'],\n",
       " [],\n",
       " [],\n",
       " [],\n",
       " []]"
      ]
     },
     "execution_count": 55,
     "metadata": {},
     "output_type": "execute_result"
    }
   ],
   "source": [
    "transcript_trs\n"
   ]
  },
  {
   "cell_type": "code",
   "execution_count": 56,
   "id": "stupid-klein",
   "metadata": {},
   "outputs": [],
   "source": [
    "# Assign GloVe embeddings to each TR:\n",
    "n_trs = len(transcript_trs)\n",
    "n_glove = len(glove['50'])\n",
    "embs = np.zeros([n_trs, n_glove])\n",
    "for tr in range(n_trs):\n",
    "    tr_words = [word for word in transcript_trs[tr] if word not in stopwords]\n",
    "    if len(tr_words)==0:\n",
    "        continue\n",
    "    tr_embs = np.stack([glove[word] for word in tr_words])\n",
    "    embs[tr] = tr_embs.mean(0)\n"
   ]
  },
  {
   "cell_type": "markdown",
   "id": "amino-saudi",
   "metadata": {},
   "source": [
    "Now that we have a transcript, a dictionary of word embeddings, and a list of stop words, we're ready to construct our predictor matrix. For each TR, obtain the words from `transcript_trs`. If a word is in our list of stop words, ignore it; otherwise, obtain the GloVe embedding for that word. If there are multiple words in a TR (excluding stop words), average their word embeddings to obtain a single embedding per TR. If a TR is empty (i.e. contains no words), set the embedding to a zero vector of the same dimensionality as the other embeddings. Lastly, visualize the resulting predictor matrix; z-score each column (i.e. GloVe dimension) for visualization."
   ]
  },
  {
   "cell_type": "code",
   "execution_count": null,
   "id": "graduate-landscape",
   "metadata": {},
   "outputs": [],
   "source": [
    "# Assign GloVe embeddings to each TR:\n"
   ]
  },
  {
   "cell_type": "code",
   "execution_count": 57,
   "id": "generic-flour",
   "metadata": {},
   "outputs": [
    {
     "data": {
      "text/plain": [
       "(533, 300)"
      ]
     },
     "execution_count": 57,
     "metadata": {},
     "output_type": "execute_result"
    }
   ],
   "source": [
    "# Visualize predictor matrix of GloVe embeddings:\n",
    "embs.shape"
   ]
  },
  {
   "cell_type": "markdown",
   "id": "finished-creation",
   "metadata": {},
   "source": [
    "Now, we'll horizontally stack the predictor matrix at lags of 2, 3, 4, and 5 TRs (3, 4.5, 6, 7.5 seconds) to account for variability in hemodynamic lag. Here's one recipe to do this: For each lag, first create prepending zero vectors for each TR in the lag; next, create appending zero vectors corresponding to the difference between the longest lag and the current lag; then, concatenate the prepending and appending vectors at the beginning and end of the predictor matrix, respectively. Horizontally stack the lagged matrices, z-score each column in the lagged predictor matrix, and visualize the matrix."
   ]
  },
  {
   "cell_type": "code",
   "execution_count": 58,
   "id": "answering-council",
   "metadata": {},
   "outputs": [
    {
     "name": "stdout",
     "output_type": "stream",
     "text": [
      "3\n",
      "2\n",
      "1\n",
      "0\n"
     ]
    }
   ],
   "source": [
    "# Create temporally delayed version of embeddings:\n",
    "lags = [2, 3, 4, 5]\n",
    "\n",
    "# Horizontally stack lagged embeddings:\n",
    "for lag in lags:\n",
    "    \n",
    "    end = 5-lag\n",
    "    print(end)\n",
    "\n",
    "# Z-score embeddings:\n",
    "from scipy.stats import zscore\n",
    "\n",
    "# Plot lagged predictor matrix:\n"
   ]
  },
  {
   "cell_type": "code",
   "execution_count": 59,
   "id": "rapid-intersection",
   "metadata": {},
   "outputs": [],
   "source": [
    "pre_padding = [np.zeros([lag, embs.shape[1]]) for lag in lags]\n",
    "post_padding = [np.zeros([5-lag, embs.shape[1]]) for lag in lags]\n",
    "padded = np.hstack([np.vstack([pre, embs, post]) for pre, post in zip(pre_padding, post_padding)])\n"
   ]
  },
  {
   "cell_type": "code",
   "execution_count": null,
   "id": "organized-effect",
   "metadata": {},
   "outputs": [],
   "source": []
  },
  {
   "cell_type": "code",
   "execution_count": null,
   "id": "continuing-chase",
   "metadata": {},
   "outputs": [],
   "source": []
  },
  {
   "cell_type": "markdown",
   "id": "infectious-hollywood",
   "metadata": {},
   "source": [
    "The fMRI data were collected with an 8-TR buffer prior to the beginning of the story stimulus and a 9-TR buffer after the end of the story stimulus. Trim off the starting buffer TRs, as well as the ending buffer TRs (excluding TRs for the lags). This should finalize our predictor matrix."
   ]
  },
  {
   "cell_type": "code",
   "execution_count": null,
   "id": "directed-catering",
   "metadata": {},
   "outputs": [],
   "source": [
    "# Trim fMRI data to match embeddings:\n"
   ]
  },
  {
   "cell_type": "markdown",
   "id": "virtual-johnston",
   "metadata": {},
   "source": [
    "### Ridge regression\n",
    "Next, we use ridge regression to predict the activity at each parcel from the semantic embeddings. Note that the model dimensionality ($300 * 4$ delays $= 1200$ dimensions) is much greater than the number of samples ($<550$ TRs). This means we'll need to impose strong regularization on the model. Use a split-half outer cross-validation scheme where we train the model on half of the story and test the model on the other half. To search for the best-performing regularization parameter, perform 5-fold inner cross-validation within each training set using `RidgeCV`; this will select the best parameter setting from the inner cross-validation fold within the training half to predict the test half."
   ]
  },
  {
   "cell_type": "code",
   "execution_count": null,
   "id": "raising-certificate",
   "metadata": {},
   "outputs": [],
   "source": [
    "# Split-half outer cross-validation fold:\n",
    "from sklearn.model_selection import KFold\n",
    "\n",
    "\n",
    "# Ridge regression with alpha grid and nested CV:\n",
    "from sklearn.linear_model import RidgeCV\n",
    "alphas = [0.1, 1.0, 10.0, 100.0, 1000.0, 10000.0]\n",
    "\n",
    "# Loop through outer split-half cross-validation:\n"
   ]
  },
  {
   "cell_type": "markdown",
   "id": "skilled-origin",
   "metadata": {},
   "source": [
    "### Evaluating model performance\n",
    "To evaluate the predictions of our model, we use the model weights estimated from the training data to predict the brain activity from semantic embeddings for the test data. We then assess the similarity between the predicted brain activity and the actual brain activity for the test data. Keeping with conventions in the literature, we use Pearson correlation to assess the match between predicted and actual brain activity (although this is not considered a good scoring metric in machine learning and there are many other options; e.g. $R^2$). For each parcel, compute the Pearson correlation between the actual and predicted test time series. Plot the predicted and actual time series for the superior temporal parcel `196` (z-score the actual and predicted time series for plotting)."
   ]
  },
  {
   "cell_type": "code",
   "execution_count": null,
   "id": "public-bacteria",
   "metadata": {},
   "outputs": [],
   "source": [
    "# Compute correlation between predicted and actual responses:\n",
    "from scipy.stats import pearsonr\n",
    "\n",
    "    \n",
    "# Plot predicted and actual response for example parcel:\n"
   ]
  },
  {
   "cell_type": "markdown",
   "id": "cosmetic-bruce",
   "metadata": {},
   "source": [
    "Finally, we'll plot the prediction performance scores on the brain. Convert the parcel-level prediction scores back into voxel-level brain maps; that is, for every voxel in a given parcel, assign that voxel the parcel's prediction score. Visualize the resulting brain map using `plot_stat_map`."
   ]
  },
  {
   "cell_type": "code",
   "execution_count": null,
   "id": "inside-infrastructure",
   "metadata": {},
   "outputs": [],
   "source": [
    "# Plot correlations between actual and predicted responses:\n",
    "from nilearn.plotting import plot_stat_map\n",
    "\n"
   ]
  },
  {
   "cell_type": "markdown",
   "id": "traditional-football",
   "metadata": {},
   "source": [
    "#### References\n",
    "\n",
    "* Huth, A. G., De Heer, W. A., Griffiths, T. L., Theunissen, F. E., & Gallant, J. L. (2016). Natural speech reveals the semantic maps that tile human cerebral cortex. *Nature*, *532*(7600), 453-458. https://doi.org/10.1038/nature17637\n",
    "\n",
    "* Nastase, S. A., Liu, Y.-F., Hillman, H., Zadbood, A., Hasenfratz, L., Keshavarzian, N., Chen, J., Honey, C. J., Yeshurun, Y., Regev, M., Nguyen, M., Chang, C. H. C., Baldassano, C., Lositsky, O., Simony, E., Chow, M. A., Leong, Y. C., Brooks, P. P., Micciche, E., Choe, G., Goldstein, A., Vanderwal, T., Halchenko, Y. O., Norman, K. A., & Hasson, U. (2020). Narratives: fMRI data for evaluating models of naturalistic language comprehension. *bioRxiv*. https://doi.org/10.1101/2020.12.23.424091\n",
    "\n",
    "* Pennington, J., Socher, R., & Manning, C. D. (2014, October). GloVe: Global Vectors for Word Representation. In *Proceedings of the 2014 Conference on Empirical Methods in Natural Language Processing (EMNLP)* (pp. 1532-1543). https://www.aclweb.org/anthology/D14-1162\n",
    "\n",
    "* Schaefer, A., Kong, R., Gordon, E. M., Laumann, T. O., Zuo, X. N., Holmes, A. J., ... & Yeo, B. T. (2018). Local-global parcellation of the human cerebral cortex from intrinsic functional connectivity MRI. Cerebral cortex, 28(9), 3095-3114. https://doi.org/10.1093/cercor/bhx179"
   ]
  }
 ],
 "metadata": {
  "kernelspec": {
   "display_name": "Python 3",
   "language": "python",
   "name": "python3"
  },
  "language_info": {
   "codemirror_mode": {
    "name": "ipython",
    "version": 3
   },
   "file_extension": ".py",
   "mimetype": "text/x-python",
   "name": "python",
   "nbconvert_exporter": "python",
   "pygments_lexer": "ipython3",
   "version": "3.7.9"
  }
 },
 "nbformat": 4,
 "nbformat_minor": 5
}
