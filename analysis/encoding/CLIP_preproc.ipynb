{
 "cells": [
  {
   "cell_type": "markdown",
   "id": "rising-maintenance",
   "metadata": {},
   "source": [
    "# Clip Preprocessing"
   ]
  },
  {
   "cell_type": "markdown",
   "id": "honest-driver",
   "metadata": {},
   "source": [
    " - Create dataframe for embedding extraction"
   ]
  },
  {
   "cell_type": "code",
   "execution_count": null,
   "id": "conventional-blond",
   "metadata": {},
   "outputs": [],
   "source": [
    "flat_list = [' '.join(item)  for item in transcript_trs]\n",
    "lbs = [f'shrek_tr{str(i+1)}' for i in range(stim_trs)]\n",
    "\n",
    "## save dframe ## \n",
    "df = pd.DataFrame({'stimulus': lbs, 'sentence' : flat_list})\n",
    "df.fillna('', inplace=True)\n",
    "#df.to_csv('shrek_transcript_trs.csv')\n"
   ]
  }
 ],
 "metadata": {
  "kernelspec": {
   "display_name": "Python 3 (ipykernel)",
   "language": "python",
   "name": "python3"
  },
  "language_info": {
   "codemirror_mode": {
    "name": "ipython",
    "version": 3
   },
   "file_extension": ".py",
   "mimetype": "text/x-python",
   "name": "python",
   "nbconvert_exporter": "python",
   "pygments_lexer": "ipython3",
   "version": "3.7.9"
  }
 },
 "nbformat": 4,
 "nbformat_minor": 5
}
