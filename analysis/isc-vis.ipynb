{
 "cells": [
  {
   "cell_type": "markdown",
   "id": "surface-password",
   "metadata": {},
   "source": [
    "# Run ISC"
   ]
  },
  {
   "cell_type": "markdown",
   "id": "cleared-association",
   "metadata": {},
   "source": [
    "This script finds the networks that exhibit a decrease in ISC over time"
   ]
  },
  {
   "cell_type": "markdown",
   "id": "hairy-danish",
   "metadata": {},
   "source": [
    "## py conversion"
   ]
  },
  {
   "cell_type": "code",
   "execution_count": 76,
   "id": "embedded-slope",
   "metadata": {},
   "outputs": [],
   "source": [
    "#jupyter nbconvert --to python slurm_create-data_preproc.ipynb"
   ]
  },
  {
   "cell_type": "markdown",
   "id": "considered-excellence",
   "metadata": {},
   "source": [
    "## Imports "
   ]
  },
  {
   "cell_type": "code",
   "execution_count": 77,
   "id": "subjective-wireless",
   "metadata": {},
   "outputs": [],
   "source": [
    "import warnings\n",
    "import sys  \n",
    "import random\n",
    "# import logging\n",
    "\n",
    "import deepdish as dd\n",
    "import numpy as np\n",
    "\n",
    "import brainiak.eventseg.event\n",
    "import nibabel as nib\n",
    "import nilearn as nil\n",
    "# Import a function from BrainIAK to simulate fMRI data\n",
    "import brainiak.utils.fmrisim as sim  \n",
    "\n",
    "from nilearn.input_data import NiftiMasker\n",
    "\n",
    "import scipy.io\n",
    "from scipy import stats\n",
    "from scipy.stats import norm, zscore, pearsonr\n",
    "from scipy.signal import gaussian, convolve\n",
    "\n",
    "from matplotlib import pyplot as plt\n",
    "from mpl_toolkits.mplot3d import Axes3D\n",
    "import matplotlib.patches as patches\n",
    "import seaborn as sns \n",
    "\n",
    "\n",
    "\n",
    "from brainiak import image, io\n",
    "from scipy.stats import stats\n",
    "import nibabel as nib\n",
    "import numpy as np\n",
    "from matplotlib import pyplot as plt\n",
    "import pandas as pd\n",
    "\n",
    "from nilearn import datasets, plotting\n",
    "from nilearn.input_data import NiftiSpheresMasker\n",
    "\n",
    "from nilearn.glm.first_level import FirstLevelModel\n",
    "from nilearn.glm.first_level import make_first_level_design_matrix\n",
    "from nilearn.image import concat_imgs, resample_img, mean_img,index_img\n",
    "from nilearn import image\n",
    "from nilearn import masking\n",
    "from nilearn.plotting import view_img\n",
    "from nilearn.image import resample_to_img\n",
    "\n",
    "from nilearn.image import concat_imgs, resample_img, mean_img\n",
    "from nilearn.plotting import view_img\n",
    "\n",
    "import numpy as np \n",
    "import os\n",
    "import os.path\n",
    "import scipy.io\n",
    "import nibabel as nib\n",
    "from nilearn.input_data import NiftiMasker\n",
    "from nilearn.masking import compute_epi_mask, compute_brain_mask\n",
    "from sklearn import preprocessing\n",
    "from sklearn.preprocessing import StandardScaler\n",
    "from sklearn.model_selection import PredefinedSplit\n",
    "from copy import deepcopy\n",
    "\n",
    "# Brainiak # \n",
    "from brainiak import image, io \n",
    "from brainiak.isc import (isc, isfc, bootstrap_isc, permutation_isc,\n",
    "                          timeshift_isc, phaseshift_isc,\n",
    "                          compute_summary_statistic)\n",
    "from brainiak.io import load_boolean_mask, load_images\n",
    "from statsmodels.stats.multitest import multipletests\n",
    "from nilearn.plotting import plot_stat_map\n",
    "%matplotlib inline"
   ]
  },
  {
   "cell_type": "code",
   "execution_count": 78,
   "id": "professional-alpha",
   "metadata": {},
   "outputs": [],
   "source": [
    "random.seed(10)"
   ]
  },
  {
   "cell_type": "markdown",
   "id": "juvenile-responsibility",
   "metadata": {},
   "source": [
    "## custom helper functions "
   ]
  },
  {
   "cell_type": "code",
   "execution_count": null,
   "id": "random-bahamas",
   "metadata": {},
   "outputs": [],
   "source": []
  },
  {
   "cell_type": "markdown",
   "id": "smooth-thesis",
   "metadata": {},
   "source": [
    "## directories "
   ]
  },
  {
   "cell_type": "code",
   "execution_count": 79,
   "id": "least-newsletter",
   "metadata": {},
   "outputs": [],
   "source": [
    "top_dir = '/jukebox/graziano/coolCatIsaac/MEI'\n",
    "data_dir = top_dir + \"/data\"\n",
    "work_dir = data_dir + '/work'\n",
    "mask_dir = work_dir + '/masks'\n",
    "behav_dir = top_dir + '/data/behavioral'\n",
    "rois_dir = data_dir + \"/rois\"\n",
    "fmri_prep = data_dir + '/bids/derivatives/fmriprep'\n",
    "conf_dir = work_dir + '/confs'\n",
    "preproc_dir = work_dir + '/preproc'\n",
    "isc_dir = work_dir + '/isc_dat'\n"
   ]
  },
  {
   "cell_type": "markdown",
   "id": "occasional-asset",
   "metadata": {},
   "source": [
    "## main vars "
   ]
  },
  {
   "cell_type": "code",
   "execution_count": 80,
   "id": "golden-roller",
   "metadata": {},
   "outputs": [],
   "source": [
    "### sub_list ###\n",
    "\"\"\"\n",
    "\n",
    "========================================================\n",
    "===== ~~~ Summary ALL ~~~ ===== \n",
    "========================================================\n",
    "Initially exclude: sub-001, sub-003, sub-011, sub-012, sub-014, sub-015, sub-029 (3+ runs still available tho)\n",
    "Maybe exclude: sub-014, sub-024, sub-037 (No button presses)\n",
    "Maybe exclude: sub-020, sub-022, sub-031\n",
    "total exclude = 10\n",
    "\n",
    "\n",
    "~~~~~~~ BEHAVIORAL ~~~~~~~~~~\n",
    "~~~ Summary behavioral ~~~\n",
    "\n",
    "========================================================\n",
    "========================================================\n",
    "No button presses: sub-014, sub-024, sub-037 \n",
    "\n",
    "========================================================\n",
    "========================================================\n",
    "sub-003: Extra row observed for external, which was manually deleted. Should be fine to rerun -- i removed from bad_subs\n",
    "    - current brushing: 87, TRUE: 88 for THREE runs. last run when there was an issue and scan had to be restarted\n",
    "    - Scan 6 == 1 run of brushing\n",
    "    - Scan 7 = 3 runs of brushing \n",
    "    - ** no idea when run 7 was started tho! will prolly need to throw out! For now we can process all\n",
    "sub-014: NO internal OR external bpress, curious! ---should be fixed now\n",
    "    - changed excel data to include two null columns\n",
    "    - ALSO only 30 TRs for the second run epi data. i went into the room to adjust runny eyes. Data for this run is not usable. but after should\n",
    "      be okay if u want to put in the effort \n",
    "sub-015: less than 24 runs ---should be fixed now w custom code (but keep out of main run cuz will throw an error otherwise )\n",
    "    - SUMMARY: need to exclude the office run 3 for fMRI but can include run 3 in behavioral, no data at all for CAKE\n",
    "    - DID NOT add the 'mov_name' component to the custom code, will need to implment from current iteration\n",
    "    - **** Use external, ignore internal for now... cuz internal is fuqd. Can preprocess all 7 tho\n",
    "\n",
    "~~~~~~~ FMRI ~~~~~~~~~~\n",
    "~~~ Summary fMRI ~~~\n",
    "sub002: \n",
    " - appended two TRs onto the last run, copied from the third to last TR. should be good to use\n",
    "sub-003, sub-012, sub-014, sub-015, sub-029: \n",
    " - Five runs usable, will need to incorporate them at some point \n",
    "sub-001: external usable - first three runs \n",
    "\n",
    "========================================================\n",
    "========================================================\n",
    "subject 002: (usable, with adjustment)\n",
    "    only has 92 INSTEAD OF 94 TRs for the FINAL run of shrek. i think cuz i turned off the scanner\n",
    "    too soon, which didn't account for 4 TRs of buffer? Yep! end tr is 390, (388, 112179). so duplicate TRs maybe.\n",
    "    - Temporarily eliminate! or duplicate TRs \n",
    "    \n",
    "sub-003: (usable, 5 runs)\n",
    "- Scan 6 == 1 run of brushing\n",
    "- Scan 7 = 3 runs of brushing \n",
    "*** need to re-preprocess, then append 6 and 7 together; or just throw out this one cuz idk when scan started\n",
    "\n",
    "sub-011: (usable)\n",
    "- not preprocessed \n",
    "sub-012 (5 runs usable, one run idk)\n",
    "- I'll need to post process. It seems that an earbud fell out while reading the directions for run 5 \n",
    "summary: the fifth run  needs to be discarded. all others are usable.\n",
    "see the behav data: \n",
    "sub_dic['External']['oragami']\n",
    "{'run-1': {'start_tr': 94, 'end_tr': 188, 'bpress': -1},\n",
    " 'run-2': {'start_tr': 188, 'end_tr': 282, 'bpress': [100.81657150003593]},\n",
    " 'run-3': {'start_tr': 282, 'end_tr': 376, 'bpress': [88.26579949003644]},\n",
    " 'run-4': {'start_tr': 378,\n",
    "  'end_tr': 472,\n",
    "  }\n",
    "- you can see taht the start TR is 94!! that's becuz i had to go into the scan room during the instructions screen.\n",
    "- this is producing the wrong indexing -- becuz the scan doesn't contain enough TRs according to the behavioral data:\n",
    "    - run 4 of shrek only has 12 TRs because we start at TR 94.\n",
    "- im not sure when the scan actually started, but if i wanted to try to include i could \n",
    "    set the start TR to 1 -- essentially suggesting that the first TR was collected on the external 'waiting \n",
    "    for TR' flip. might as well try at some point, but exclude for now\n",
    "    - this would involve just subtracting 94 from all start end end TRs i think\n",
    "See the excel behavioral file for further notes notes\n",
    "this \n",
    "\n",
    "sub-014 - no button press data and 7 runs (5 runs usable, but no bpress)\n",
    "    - same problem as above -- i went into the scanner room during the instructions period to wipe eyes\n",
    "    {'run-1': {'start_tr': 237, 'end_tr': 323, 'bpress': -1},\n",
    "     'run-2': {'start_tr': 329, 'end_tr': 415, 'bpress': -1},\n",
    "     'run-3': {'start_tr': 417, 'end_tr': 503, 'bpress': -1},\n",
    "     'run-4': {'start_tr': 509, 'end_tr': 595, 'bpress': -1}}\n",
    "\n",
    "sub-029: (5 runs usable)\n",
    "- scanner malfunction, maybe possible to stitch together run 6 cuz i started on the *tenth* TR\n",
    "\n",
    "========================================================\n",
    "========================================================\n",
    "Left handed: (sub-020, sub-022, sub-032)\n",
    "    - sub-020: also no button presses, appeared to be awake tho\n",
    "    - sub-022: lefty\n",
    "    - sub-031: ambidexterious, great data\n",
    "========================================================\n",
    "========================================================\n",
    "\"\"\"\n",
    "\n",
    "## adjusted sublist \n",
    "sub_list = [\n",
    "    'sub-002', 'sub-004', 'sub-005','sub-006','sub-007','sub-008','sub-009','sub-010',\n",
    "    'sub-013','sub-016','sub-017','sub-018','sub-019','sub-020','sub-021',\n",
    "    'sub-022','sub-023','sub-024','sub-025','sub-026','sub-027','sub-028','sub-030','sub-031','sub-032',\n",
    "    'sub-033','sub-034','sub-035','sub-036','sub-037','sub-038','sub-039','sub-040'\n",
    "]\n",
    "#sub_list = ['sub-002', 'sub-003', 'sub-004', 'sub-005']\n",
    "\n",
    "###### LOADING VARS #######\n",
    "\n",
    "\n"
   ]
  },
  {
   "cell_type": "markdown",
   "id": "acceptable-serial",
   "metadata": {},
   "source": [
    "## plot by network"
   ]
  },
  {
   "cell_type": "markdown",
   "id": "provincial-evolution",
   "metadata": {},
   "source": [
    "### rerun ISC to get raw correlations, not q values"
   ]
  },
  {
   "cell_type": "code",
   "execution_count": 81,
   "id": "upper-observer",
   "metadata": {},
   "outputs": [],
   "source": [
    "from utils_anal import load_epi_data"
   ]
  },
  {
   "cell_type": "code",
   "execution_count": 93,
   "id": "complex-bracelet",
   "metadata": {},
   "outputs": [],
   "source": [
    "## here we just remove the portion of the code that threshholds \n",
    "runs = [1, 2, 3, 4]\n",
    "conditions = [\"External\"]\n",
    "mov_list = ['office', 'brushing', 'oragami', 'shrek', 'cake', 'sherlock']\n",
    "mov_list = [ 'sherlock']\n",
    "num_parc = 400\n",
    "vis_dic = {}"
   ]
  },
  {
   "cell_type": "code",
   "execution_count": 83,
   "id": "nutritional-humor",
   "metadata": {},
   "outputs": [],
   "source": [
    "cor_dic = {}\n"
   ]
  },
  {
   "cell_type": "code",
   "execution_count": 84,
   "id": "aging-article",
   "metadata": {},
   "outputs": [
    {
     "name": "stdout",
     "output_type": "stream",
     "text": [
      "Atlas ROIs are located in nifti image (4D) at: /usr/people/isaacrc/nilearn_data/schaefer_2018/Schaefer2018_400Parcels_7Networks_order_FSLMNI152_1mm.nii.gz\n"
     ]
    }
   ],
   "source": [
    "dataset = datasets.fetch_atlas_schaefer_2018(n_rois=num_parc)\n",
    "atlas_filename = dataset.maps\n",
    "labels = dataset.labels\n",
    "\n",
    "print(f\"Atlas ROIs are located in nifti image (4D) at: {atlas_filename}\")"
   ]
  },
  {
   "cell_type": "code",
   "execution_count": 86,
   "id": "familiar-sound",
   "metadata": {},
   "outputs": [
    {
     "name": "stdout",
     "output_type": "stream",
     "text": [
      "L VisCent\n",
      "L VisPeri\n",
      "L SomMotA\n",
      "L SomMotB\n",
      "L DorsAttnA\n",
      "L DorsAttnB\n",
      "L SalVentAttnA\n",
      "L SalVentAttnB\n",
      "L LimbicB\n",
      "L LimbicA\n",
      "L ContA\n",
      "L ContB\n",
      "L ContC\n",
      "L DefaultA\n",
      "L DefaultB\n",
      "L DefaultC\n",
      "L TempPar\n",
      "R VisCent\n",
      "R VisPeri\n",
      "R SomMotA\n",
      "R SomMotB\n",
      "R DorsAttnA\n",
      "R DorsAttnB\n",
      "R SalVentAttnA\n",
      "R SalVentAttnB\n",
      "R LimbicB\n",
      "R LimbicA\n",
      "R ContA\n",
      "R ContB\n",
      "R ContC\n",
      "R DefaultA\n",
      "R DefaultB\n",
      "R DefaultC\n",
      "R TempPar\n"
     ]
    }
   ],
   "source": [
    "for net_lab in network_labels:\n",
    "    targ_net = (np.array(networks) == net_lab).nonzero()[0] + 1\n",
    "    print(net_lab)"
   ]
  },
  {
   "cell_type": "code",
   "execution_count": 87,
   "id": "opposed-stream",
   "metadata": {},
   "outputs": [
    {
     "name": "stdout",
     "output_type": "stream",
     "text": [
      "Loading data from /jukebox/graziano/coolCatIsaac/MEI/data/bids/derivatives/fmriprep/sub-007/ses-01/func/sub-007_ses-01_task-None_run-02_space-MNI152NLin2009cAsym_desc-preproc_bold.nii.gz\n",
      "shape of run 2 is (78, 93, 65, 369) \n",
      "\n",
      "count parc:401\n",
      "shape of atlas nii object (78, 93, 65)\n"
     ]
    }
   ],
   "source": [
    "# Load  sample data for resampling\n",
    "resamp_run = load_epi_data(fmri_prep, 'sub-007', 2, \"MNI\")\n",
    "# Load parcellation\n",
    "d = nib.load(atlas_filename)\n",
    "atlas_nii = resample_to_img(d, resamp_run, interpolation='nearest')\n",
    "# Get parcellation fdata\n",
    "atlas_img = atlas_nii.get_fdata()\n",
    "# paracellations scheme\n",
    "print(f'count parc:{len(np.unique(atlas_nii.get_fdata()))}')\n",
    "print(\"shape of atlas nii object\", atlas_img.shape)\n",
    "\n"
   ]
  },
  {
   "cell_type": "code",
   "execution_count": 88,
   "id": "pleasant-humor",
   "metadata": {},
   "outputs": [
    {
     "data": {
      "text/plain": [
       "'\\nnum_parc = 400\\n\\n# Get labels for parcels in left DMN A network\\nnet_lab = \\'R ContC\\' #\\'L DefaultB\\'  #\\'R ContC\\' #R DorsAttnB  #R VisPeri  #R SalVentAttnA #\\'R TempPar\\' #\\'L SomMotA\\'\\n\\n## Target Conditions\\ntarg_cond = \"External\"\\n\\n## movie repetitions ##\\n#m_reps = 1\\ntarg_run = 1\\n\\n## Get labels associated with the target network ## \\ntarg_net = (np.array(networks) == net_lab).nonzero()[0] + 1\\n'"
      ]
     },
     "execution_count": 88,
     "metadata": {},
     "output_type": "execute_result"
    }
   ],
   "source": [
    "\"\"\"\n",
    "num_parc = 400\n",
    "\n",
    "# Get labels for parcels in left DMN A network\n",
    "net_lab = 'R ContC' #'L DefaultB'  #'R ContC' #R DorsAttnB  #R VisPeri  #R SalVentAttnA #'R TempPar' #'L SomMotA'\n",
    "\n",
    "## Target Conditions\n",
    "targ_cond = \"External\"\n",
    "\n",
    "## movie repetitions ##\n",
    "#m_reps = 1\n",
    "targ_run = 1\n",
    "\n",
    "## Get labels associated with the target network ## \n",
    "targ_net = (np.array(networks) == net_lab).nonzero()[0] + 1\n",
    "\"\"\""
   ]
  },
  {
   "cell_type": "code",
   "execution_count": 89,
   "id": "perfect-rabbit",
   "metadata": {},
   "outputs": [],
   "source": [
    "# Load in network labels\n",
    "label_fn = 'brainiak-aperture-isc-data/Schaefer2018_400Parcels_17Networks_order.txt'\n",
    "with open(label_fn) as f:\n",
    "    networks = [' '.join((label.split('_')[1][0], label.split('_')[2]))\n",
    "                for label in f.readlines()]\n",
    "    \n",
    "# Get sorted unique network labels\n",
    "idxs = np.unique(networks, return_index=True)[1]\n",
    "network_labels = [networks[idx] for idx in sorted(idxs)]\n",
    "\n",
    "# Get middle index for each network for plotting\n",
    "network_idxs = [int(np.median([i for i, n in enumerate(networks)\n",
    "                                if n == network]))\n",
    "                for network in network_labels]"
   ]
  },
  {
   "cell_type": "code",
   "execution_count": 90,
   "id": "uniform-responsibility",
   "metadata": {},
   "outputs": [],
   "source": [
    "## mask image ##\n",
    "ref_nii = nib.load(mask_dir + \"/whole_b_bnk.nii.gz\")\n",
    "mask_img = load_boolean_mask(mask_dir + \"/whole_b_bnk.nii.gz\")\n",
    "\n",
    "# Get coordinates of mask voxels in original image\n",
    "mask_coords = np.where(mask_img)"
   ]
  },
  {
   "cell_type": "code",
   "execution_count": 91,
   "id": "surprised-ivory",
   "metadata": {},
   "outputs": [],
   "source": [
    "loaded_int_isc = np.load(f'{isc_dir}/int_isc.npz')\n",
    "loaded_ext_isc = np.load(f'{isc_dir}/ext_isc.npz')\n",
    "## get template image #\n",
    "vis_dic = np.load(f'{isc_dir}/vis_dic_nothresh.npy', allow_pickle=True).item()\n",
    "bpress_nii = vis_dic['Internal-sherlock-1']"
   ]
  },
  {
   "cell_type": "code",
   "execution_count": 94,
   "id": "median-sunday",
   "metadata": {
    "scrolled": true
   },
   "outputs": [
    {
     "name": "stdout",
     "output_type": "stream",
     "text": [
      "START External\n",
      "loaded!\n",
      "sherlock run 1 shape is: (102, 112179, 16)\n"
     ]
    },
    {
     "name": "stderr",
     "output_type": "stream",
     "text": [
      "/jukebox/pkgs/PYGER/base/envs/0.11.0/lib/python3.7/site-packages/scipy/stats/stats.py:2500: RuntimeWarning: invalid value encountered in true_divide\n",
      "  return (a - mns) / sstd\n"
     ]
    },
    {
     "name": "stdout",
     "output_type": "stream",
     "text": [
      "ISC values shape = (16, 112179) \n",
      "i.e., 16 left-out subjects and 112179 voxel(s)\n",
      "ISC values shape = (112179,) \n",
      "i.e., 112179 mean value across left-out subjects and 112179 voxel(s)\n",
      "Minimum mean ISC across voxels = -0.155; maximum mean ISC across voxels = 0.704\n",
      "ISC values shape = (112179,) \n",
      "i.e., 112179 median value across left-out subjects and 112179 voxel(s)\n",
      "Minimum median ISC across voxels = -0.173; maximum median ISC across voxels = 0.741\n"
     ]
    },
    {
     "name": "stderr",
     "output_type": "stream",
     "text": [
      "/jukebox/pkgs/PYGER/base/envs/0.11.0/lib/python3.7/site-packages/brainiak/isc.py:523: RuntimeWarning: Mean of empty slice\n",
      "  statistic = np.tanh(np.nanmean(np.arctanh(iscs), axis=axis))\n",
      "/jukebox/pkgs/PYGER/base/envs/0.11.0/lib/python3.7/site-packages/numpy/lib/nanfunctions.py:1114: RuntimeWarning: All-NaN slice encountered\n",
      "  overwrite_input=overwrite_input)\n"
     ]
    },
    {
     "name": "stdout",
     "output_type": "stream",
     "text": [
      "3309 voxels out of 112179 are NaNs (2.95%)\n",
      "0 significant voxels controlling FDR at 0.05\n",
      "\n",
      "finish External-sherlock-1\n",
      "\n",
      "L VisCent\n",
      "L VisPeri\n",
      "L SomMotA\n",
      "L SomMotB\n",
      "L DorsAttnA\n",
      "L DorsAttnB\n",
      "L SalVentAttnA\n",
      "L SalVentAttnB\n",
      "L LimbicB\n",
      "L LimbicA\n",
      "L ContA\n",
      "L ContB\n",
      "L ContC\n",
      "L DefaultA\n",
      "L DefaultB\n",
      "L DefaultC\n",
      "L TempPar\n",
      "R VisCent\n",
      "R VisPeri\n",
      "R SomMotA\n",
      "R SomMotB\n",
      "R DorsAttnA\n",
      "R DorsAttnB\n",
      "R SalVentAttnA\n",
      "R SalVentAttnB\n",
      "R LimbicB\n",
      "R LimbicA\n",
      "R ContA\n",
      "R ContB\n",
      "R ContC\n",
      "R DefaultA\n",
      "R DefaultB\n",
      "R DefaultC\n",
      "R TempPar\n",
      "loaded!\n",
      "sherlock run 2 shape is: (102, 112179, 16)\n",
      "ISC values shape = (16, 112179) \n",
      "i.e., 16 left-out subjects and 112179 voxel(s)\n",
      "ISC values shape = (112179,) \n",
      "i.e., 112179 mean value across left-out subjects and 112179 voxel(s)\n",
      "Minimum mean ISC across voxels = -0.174; maximum mean ISC across voxels = 0.727\n",
      "ISC values shape = (112179,) \n",
      "i.e., 112179 median value across left-out subjects and 112179 voxel(s)\n",
      "Minimum median ISC across voxels = -0.180; maximum median ISC across voxels = 0.769\n",
      "3309 voxels out of 112179 are NaNs (2.95%)\n",
      "0 significant voxels controlling FDR at 0.05\n",
      "\n",
      "finish External-sherlock-2\n",
      "\n",
      "L VisCent\n",
      "L VisPeri\n",
      "L SomMotA\n",
      "L SomMotB\n",
      "L DorsAttnA\n",
      "L DorsAttnB\n",
      "L SalVentAttnA\n",
      "L SalVentAttnB\n",
      "L LimbicB\n",
      "L LimbicA\n",
      "L ContA\n",
      "L ContB\n",
      "L ContC\n",
      "L DefaultA\n",
      "L DefaultB\n",
      "L DefaultC\n",
      "L TempPar\n",
      "R VisCent\n",
      "R VisPeri\n",
      "R SomMotA\n",
      "R SomMotB\n",
      "R DorsAttnA\n",
      "R DorsAttnB\n",
      "R SalVentAttnA\n",
      "R SalVentAttnB\n",
      "R LimbicB\n",
      "R LimbicA\n",
      "R ContA\n",
      "R ContB\n",
      "R ContC\n",
      "R DefaultA\n",
      "R DefaultB\n",
      "R DefaultC\n",
      "R TempPar\n",
      "loaded!\n",
      "sherlock run 3 shape is: (102, 112179, 16)\n",
      "ISC values shape = (16, 112179) \n",
      "i.e., 16 left-out subjects and 112179 voxel(s)\n",
      "ISC values shape = (112179,) \n",
      "i.e., 112179 mean value across left-out subjects and 112179 voxel(s)\n",
      "Minimum mean ISC across voxels = -0.166; maximum mean ISC across voxels = 0.707\n",
      "ISC values shape = (112179,) \n",
      "i.e., 112179 median value across left-out subjects and 112179 voxel(s)\n",
      "Minimum median ISC across voxels = -0.178; maximum median ISC across voxels = 0.725\n",
      "3309 voxels out of 112179 are NaNs (2.95%)\n",
      "0 significant voxels controlling FDR at 0.05\n",
      "\n",
      "finish External-sherlock-3\n",
      "\n",
      "L VisCent\n",
      "L VisPeri\n",
      "L SomMotA\n",
      "L SomMotB\n",
      "L DorsAttnA\n",
      "L DorsAttnB\n",
      "L SalVentAttnA\n",
      "L SalVentAttnB\n",
      "L LimbicB\n",
      "L LimbicA\n",
      "L ContA\n",
      "L ContB\n",
      "L ContC\n",
      "L DefaultA\n",
      "L DefaultB\n",
      "L DefaultC\n",
      "L TempPar\n",
      "R VisCent\n",
      "R VisPeri\n",
      "R SomMotA\n",
      "R SomMotB\n",
      "R DorsAttnA\n",
      "R DorsAttnB\n",
      "R SalVentAttnA\n",
      "R SalVentAttnB\n",
      "R LimbicB\n",
      "R LimbicA\n",
      "R ContA\n",
      "R ContB\n",
      "R ContC\n",
      "R DefaultA\n",
      "R DefaultB\n",
      "R DefaultC\n",
      "R TempPar\n",
      "loaded!\n",
      "sherlock run 4 shape is: (102, 112179, 16)\n",
      "ISC values shape = (16, 112179) \n",
      "i.e., 16 left-out subjects and 112179 voxel(s)\n",
      "ISC values shape = (112179,) \n",
      "i.e., 112179 mean value across left-out subjects and 112179 voxel(s)\n",
      "Minimum mean ISC across voxels = -0.174; maximum mean ISC across voxels = 0.617\n",
      "ISC values shape = (112179,) \n",
      "i.e., 112179 median value across left-out subjects and 112179 voxel(s)\n",
      "Minimum median ISC across voxels = -0.173; maximum median ISC across voxels = 0.638\n",
      "3309 voxels out of 112179 are NaNs (2.95%)\n",
      "0 significant voxels controlling FDR at 0.05\n",
      "\n",
      "finish External-sherlock-4\n",
      "\n",
      "L VisCent\n",
      "L VisPeri\n",
      "L SomMotA\n",
      "L SomMotB\n",
      "L DorsAttnA\n",
      "L DorsAttnB\n",
      "L SalVentAttnA\n",
      "L SalVentAttnB\n",
      "L LimbicB\n",
      "L LimbicA\n",
      "L ContA\n",
      "L ContB\n",
      "L ContC\n",
      "L DefaultA\n",
      "L DefaultB\n",
      "L DefaultC\n",
      "L TempPar\n",
      "R VisCent\n",
      "R VisPeri\n",
      "R SomMotA\n",
      "R SomMotB\n",
      "R DorsAttnA\n",
      "R DorsAttnB\n",
      "R SalVentAttnA\n",
      "R SalVentAttnB\n",
      "R LimbicB\n",
      "R LimbicA\n",
      "R ContA\n",
      "R ContB\n",
      "R ContC\n",
      "R DefaultA\n",
      "R DefaultB\n",
      "R DefaultC\n",
      "R TempPar\n"
     ]
    }
   ],
   "source": [
    "for cond in conditions:\n",
    "    print(f'START {cond}')\n",
    "    if cond == \"External\":\n",
    "        targ_dic = loaded_ext_isc\n",
    "    else:\n",
    "        targ_dic = loaded_int_isc\n",
    "        \n",
    "    for run in runs:\n",
    "        for mov in mov_list:\n",
    "    \n",
    "            # select movie and run from loaded data ** account for indexing\n",
    "            data = targ_dic[mov][...,run - 1,:]\n",
    "            print('loaded!')\n",
    "            print(f'{mov} run {run} shape is: {data.shape}')\n",
    "\n",
    "            # Z-score time series for each voxel\n",
    "            data = zscore(data, axis=0)\n",
    "\n",
    "            # Leave-one-out approach\n",
    "            iscs = isc(data, pairwise=False, tolerate_nans=.8)\n",
    "\n",
    "            # Check shape of output ISC values\n",
    "            print(f\"ISC values shape = {iscs.shape} \\ni.e., {iscs.shape[0]} \"\n",
    "                  f\"left-out subjects and {iscs.shape[1]} voxel(s)\")\n",
    "\n",
    "            # Compute mean ISC (with Fisher transformation)\n",
    "            mean_iscs = compute_summary_statistic(iscs, summary_statistic='mean', axis=0)\n",
    "\n",
    "            print(f\"ISC values shape = {mean_iscs.shape} \\ni.e., {mean_iscs.shape[0]} \"\n",
    "                  f\"mean value across left-out subjects and {iscs.shape[1]} voxel(s)\"\n",
    "                  f\"\\nMinimum mean ISC across voxels = {np.nanmin(mean_iscs):.3f}; \"\n",
    "                  f\"maximum mean ISC across voxels = {np.nanmax(mean_iscs):.3f}\")\n",
    "\n",
    "\n",
    "            # Compute median ISC\n",
    "            median_iscs = compute_summary_statistic(iscs, summary_statistic='median',\n",
    "                                                    axis=0)\n",
    "\n",
    "            print(f\"ISC values shape = {median_iscs.shape} \\ni.e., {median_iscs.shape[0]} \"\n",
    "                  f\"median value across left-out subjects and {iscs.shape[1]} voxel(s)\"\n",
    "                  f\"\\nMinimum median ISC across voxels = {np.nanmin(median_iscs):.3f}; \"\n",
    "                  f\"maximum median ISC across voxels = {np.nanmax(median_iscs):.3f}\")\n",
    "\n",
    "            # Run bootstrap hypothesis test on ISCs\n",
    "            n_boot = 5\n",
    "            observed, ci, p, distribution = bootstrap_isc(iscs, pairwise=False,\n",
    "                                                          ci_percentile=95,\n",
    "                                                          summary_statistic='median',\n",
    "                                                          n_bootstraps=n_boot)\n",
    "\n",
    "\n",
    "            # Get number of NaN voxels\n",
    "            n_nans = np.sum(np.isnan(observed))\n",
    "            print(f\"{n_nans} voxels out of {observed.shape[0]} are NaNs \"\n",
    "                  f\"({n_nans / observed.shape[0] * 100:.2f}%)\")\n",
    "\n",
    "            # Get voxels without NaNs\n",
    "            nonnan_mask = ~np.isnan(observed)\n",
    "            nonnan_coords = np.where(nonnan_mask)\n",
    "\n",
    "            # Mask both the ISC and p-value map to exclude NaNs\n",
    "            nonnan_isc = observed[nonnan_mask]\n",
    "            nonnan_p = p[nonnan_mask]\n",
    "\n",
    "            # Get FDR-controlled q-values\n",
    "            nonnan_q = multipletests(nonnan_p, method='fdr_by')[1]\n",
    "            threshold = .05\n",
    "            print(f\"{np.sum(nonnan_q < threshold)} significant voxels \"\n",
    "                  f\"controlling FDR at {threshold}\")\n",
    "\n",
    "            # Threshold ISCs according FDR-controlled threshold\n",
    "            #nonnan_isc[nonnan_q >= threshold] = np.nan\n",
    "\n",
    "            # Reinsert thresholded ISCs back into whole brain image\n",
    "            isc_thresh = np.full(observed.shape, np.nan)\n",
    "            isc_thresh[nonnan_coords] = nonnan_isc\n",
    "\n",
    "            # Create empty 3D image and populate\n",
    "            # with thresholded ISC values\n",
    "            isc_img = np.full(ref_nii.shape, np.nan)\n",
    "            isc_img[mask_coords] = isc_thresh\n",
    "\n",
    "            # Convert to NIfTI image\n",
    "            isc_nii = nib.Nifti1Image(isc_img, ref_nii.affine, ref_nii.header)\n",
    "            \n",
    "            # Save\n",
    "            vis_dic[f'{cond}-{mov}-{run}'] = isc_nii\n",
    "            print(f'\\nfinish {cond}-{mov}-{run}\\n')\n",
    "            \n",
    "            np.save(f'{isc_dir}/vis_dic_nothresh.npy', vis_dic)\n",
    "            \n",
    "            # DO rois # \n",
    "            # Convert to 4d numpy array\n",
    "            f_dat_4d = isc_nii.get_fdata()\n",
    "            \n",
    "            for net_lab in network_labels:\n",
    "                targ_net = (np.array(networks) == net_lab).nonzero()[0] + 1\n",
    "                print(net_lab)\n",
    "            \n",
    "                temp = [np.nanmean([np.nanmean(f_dat_4d[atlas_img == parcel])]) for parcel in targ_net]\n",
    "                if f'{cond}-{mov}-{net_lab}' not in cor_dic:\n",
    "                    cor_dic[f'{cond}-{mov}-{net_lab}'] = [np.round(np.nanmean(temp),5)]\n",
    "                else:\n",
    "                    cor_dic[f'{cond}-{mov}-{net_lab}'].append(np.round(np.nanmean(temp),5))\n",
    "            "
   ]
  },
  {
   "cell_type": "code",
   "execution_count": 41,
   "id": "north-summary",
   "metadata": {},
   "outputs": [
    {
     "data": {
      "text/plain": [
       "[0.05263517465697347,\n",
       " 0.15439801437229383,\n",
       " 0.06892767928606282,\n",
       " 0.13455366417627793,\n",
       " 0.08458742039426426,\n",
       " 0.1566598502629107,\n",
       " 0.052441367595150334,\n",
       " 0.09952843726099687,\n",
       " 0.12269208715977484,\n",
       " 0.19466939521198634]"
      ]
     },
     "execution_count": 41,
     "metadata": {},
     "output_type": "execute_result"
    }
   ],
   "source": [
    "#np.save(f'{isc_dir}/', cor_dic)"
   ]
  },
  {
   "cell_type": "code",
   "execution_count": 95,
   "id": "caroline-participation",
   "metadata": {
    "scrolled": true
   },
   "outputs": [
    {
     "data": {
      "text/plain": [
       "{'External-sherlock-L VisCent': [0.40114, 0.3223, 0.29959, 0.24123],\n",
       " 'External-sherlock-L VisPeri': [0.38971, 0.31935, 0.29446, 0.25464],\n",
       " 'External-sherlock-L SomMotA': [0.32205, 0.25698, 0.22561, 0.1939],\n",
       " 'External-sherlock-L SomMotB': [0.09218, 0.12386, 0.03953, 0.06725],\n",
       " 'External-sherlock-L DorsAttnA': [0.14915, 0.12515, 0.09481, 0.09194],\n",
       " 'External-sherlock-L DorsAttnB': [0.33931, 0.26411, 0.17484, 0.121],\n",
       " 'External-sherlock-L SalVentAttnA': [0.1917, 0.14118, 0.08638, 0.0757],\n",
       " 'External-sherlock-L SalVentAttnB': [0.11053, 0.11126, 0.02286, 0.05201],\n",
       " 'External-sherlock-L LimbicB': [0.13811, 0.1394, 0.09152, 0.10541],\n",
       " 'External-sherlock-L LimbicA': [0.02806, 0.03661, 0.02139, 0.01663],\n",
       " 'External-sherlock-L ContA': [0.17584, 0.12761, 0.06411, 0.06344],\n",
       " 'External-sherlock-L ContB': [0.12278, 0.09176, 0.03452, 0.0509],\n",
       " 'External-sherlock-L ContC': [0.14241, 0.11514, 0.07869, 0.06294],\n",
       " 'External-sherlock-L DefaultA': [0.26545, 0.28559, 0.23415, 0.17986],\n",
       " 'External-sherlock-L DefaultB': [0.11659, 0.09398, 0.04805, 0.05062],\n",
       " 'External-sherlock-L DefaultC': [0.17012, 0.10917, 0.0937, 0.06124],\n",
       " 'External-sherlock-L TempPar': [0.16275, 0.15514, 0.13145, 0.08031],\n",
       " 'External-sherlock-R VisCent': [0.36949, 0.31674, 0.28358, 0.22609],\n",
       " 'External-sherlock-R VisPeri': [0.38806, 0.33053, 0.29092, 0.26398],\n",
       " 'External-sherlock-R SomMotA': [0.33037, 0.27463, 0.24148, 0.21682],\n",
       " 'External-sherlock-R SomMotB': [0.13598, 0.08176, 0.02543, 0.04379],\n",
       " 'External-sherlock-R DorsAttnA': [0.10456, 0.06455, 0.02664, 0.0674],\n",
       " 'External-sherlock-R DorsAttnB': [0.40627, 0.28681, 0.19642, 0.15069],\n",
       " 'External-sherlock-R SalVentAttnA': [0.25265, 0.19882, 0.14277, 0.11448],\n",
       " 'External-sherlock-R SalVentAttnB': [0.10763, 0.10208, 0.03109, 0.05447],\n",
       " 'External-sherlock-R LimbicB': [0.12635, 0.13276, 0.0778, 0.08323],\n",
       " 'External-sherlock-R LimbicA': [0.05289, 0.05364, 0.01585, 0.01467],\n",
       " 'External-sherlock-R ContA': [0.11628, 0.10603, 0.05305, 0.04336],\n",
       " 'External-sherlock-R ContB': [0.16104, 0.10778, 0.05288, 0.03677],\n",
       " 'External-sherlock-R ContC': [0.16204, 0.11522, 0.07192, 0.09268],\n",
       " 'External-sherlock-R DefaultA': [0.21448, 0.2503, 0.20615, 0.18441],\n",
       " 'External-sherlock-R DefaultB': [0.11849, 0.13686, 0.08831, 0.08508],\n",
       " 'External-sherlock-R DefaultC': [0.10464, 0.07085, 0.0445, 0.06499],\n",
       " 'External-sherlock-R TempPar': [0.19815, 0.14436, 0.1539, 0.11348]}"
      ]
     },
     "execution_count": 95,
     "metadata": {},
     "output_type": "execute_result"
    }
   ],
   "source": [
    "cor_dic"
   ]
  },
  {
   "cell_type": "code",
   "execution_count": 96,
   "id": "sunset-female",
   "metadata": {},
   "outputs": [
    {
     "data": {
      "image/png": "[encoded data removed]",
      "text/plain": [
       "<Figure size 720x720 with 1 Axes>"
      ]
     },
     "metadata": {
      "needs_background": "light"
     },
     "output_type": "display_data"
    }
   ],
   "source": [
    "fig, ax = plt.subplots(figsize=(10, 10))\n",
    "xlabs = ['run1', 'run2', 'run3', 'run4']\n",
    "\n",
    "color_mapping = {}\n",
    "handles = []\n",
    "for key in cor_dic:\n",
    "    prefix = key.split()[1][:3]  # Get the prefix of the key\n",
    "    if prefix not in color_mapping:\n",
    "        color_mapping[prefix] = sns.color_palette(\"Set1\", n_colors=len(color_mapping) + 1)[len(color_mapping)]\n",
    "        handles.append(ax.plot([], [], label=prefix, color=color_mapping[prefix])[0])  # Add a dummy line handle for the legend\n",
    "\n",
    "    ax.plot(cor_dic[key], color=color_mapping[prefix], alpha=0.75, linewidth = 3)\n",
    "\n",
    "ax.set_xticks(range(len(xlabs)))\n",
    "ax.set_xticklabels(xlabs)\n",
    "ax.set_title(f'{key.split()[0][:-2]}')\n",
    "\n",
    "plt.legend(handles=handles, bbox_to_anchor=(1.05, 1), loc='upper left')\n",
    "sns.despine()\n",
    "plt.show()\n"
   ]
  },
  {
   "cell_type": "code",
   "execution_count": null,
   "id": "wireless-logistics",
   "metadata": {},
   "outputs": [],
   "source": []
  },
  {
   "cell_type": "code",
   "execution_count": null,
   "id": "historical-buddy",
   "metadata": {},
   "outputs": [],
   "source": []
  },
  {
   "cell_type": "code",
   "execution_count": 43,
   "id": "competent-mailing",
   "metadata": {},
   "outputs": [
    {
     "data": {
      "text/plain": [
       "{'Internal-sherlock-L VisCent': [0.2236121385279418,\n",
       "  0.22361,\n",
       "  0.22361,\n",
       "  0.22361,\n",
       "  0.22361,\n",
       "  0.22361,\n",
       "  0.22361,\n",
       "  0.15409],\n",
       " 'Internal-sherlock-L VisPeri': [0.21387057344151328,\n",
       "  0.21387,\n",
       "  0.21387,\n",
       "  0.21387,\n",
       "  0.21387,\n",
       "  0.21387,\n",
       "  0.21387,\n",
       "  0.14048],\n",
       " 'Internal-sherlock-L SomMotA': [0.20821385509588664,\n",
       "  0.20821,\n",
       "  0.20821,\n",
       "  0.20821,\n",
       "  0.20821,\n",
       "  0.20821,\n",
       "  0.20821,\n",
       "  0.14883],\n",
       " 'Internal-sherlock-L SomMotB': [0.07100738059777892,\n",
       "  0.07101,\n",
       "  0.07101,\n",
       "  0.07101,\n",
       "  0.07101,\n",
       "  0.07101,\n",
       "  0.07101,\n",
       "  0.01581],\n",
       " 'Internal-sherlock-L DorsAttnA': [0.07531874065888171,\n",
       "  0.07532,\n",
       "  0.07532,\n",
       "  0.07532,\n",
       "  0.07532,\n",
       "  0.07532,\n",
       "  0.07532,\n",
       "  0.03562],\n",
       " 'Internal-sherlock-L DorsAttnB': [0.16856301966282053,\n",
       "  0.16856,\n",
       "  0.16856,\n",
       "  0.16856,\n",
       "  0.16856,\n",
       "  0.16856,\n",
       "  0.16856,\n",
       "  0.12177],\n",
       " 'Internal-sherlock-L SalVentAttnA': [0.10512764008216213,\n",
       "  0.10513,\n",
       "  0.10513,\n",
       "  0.10513,\n",
       "  0.10513,\n",
       "  0.10513,\n",
       "  0.10513,\n",
       "  0.06514],\n",
       " 'Internal-sherlock-L SalVentAttnB': [0.06714855228962405,\n",
       "  0.06715,\n",
       "  0.06715,\n",
       "  0.06715,\n",
       "  0.06715,\n",
       "  0.06715,\n",
       "  0.06715,\n",
       "  0.0288],\n",
       " 'Internal-sherlock-L LimbicB': [0.09223993412588873,\n",
       "  0.09224,\n",
       "  0.09224,\n",
       "  0.09224,\n",
       "  0.09224,\n",
       "  0.09224,\n",
       "  0.09224,\n",
       "  0.06939],\n",
       " 'Internal-sherlock-L LimbicA': [0.02192610189002331,\n",
       "  0.02193,\n",
       "  0.02193,\n",
       "  0.02193,\n",
       "  0.02193,\n",
       "  0.02193,\n",
       "  0.02193,\n",
       "  0.00447],\n",
       " 'Internal-sherlock-L ContA': [0.10170104434064187,\n",
       "  0.1017,\n",
       "  0.1017,\n",
       "  0.1017,\n",
       "  0.1017,\n",
       "  0.1017,\n",
       "  0.1017,\n",
       "  0.05887],\n",
       " 'Internal-sherlock-L ContB': [0.08121787083147242,\n",
       "  0.08122,\n",
       "  0.08122,\n",
       "  0.08122,\n",
       "  0.08122,\n",
       "  0.08122,\n",
       "  0.08122,\n",
       "  0.01199],\n",
       " 'Internal-sherlock-L ContC': [0.0848777836027377,\n",
       "  0.08488,\n",
       "  0.08488,\n",
       "  0.08488,\n",
       "  0.08488,\n",
       "  0.08488,\n",
       "  0.08488,\n",
       "  0.05769],\n",
       " 'Internal-sherlock-L DefaultA': [0.18554991301655016,\n",
       "  0.18555,\n",
       "  0.18555,\n",
       "  0.18555,\n",
       "  0.18555,\n",
       "  0.18555,\n",
       "  0.18555,\n",
       "  0.13811],\n",
       " 'Internal-sherlock-L DefaultB': [0.06366473305411968,\n",
       "  0.06366,\n",
       "  0.06366,\n",
       "  0.06366,\n",
       "  0.06366,\n",
       "  0.06366,\n",
       "  0.06366,\n",
       "  0.02152],\n",
       " 'Internal-sherlock-L DefaultC': [0.10057495981816858,\n",
       "  0.10057,\n",
       "  0.10057,\n",
       "  0.10057,\n",
       "  0.10057,\n",
       "  0.10057,\n",
       "  0.10057,\n",
       "  0.03494],\n",
       " 'Internal-sherlock-L TempPar': [0.12260742784649875,\n",
       "  0.12261,\n",
       "  0.12261,\n",
       "  0.12261,\n",
       "  0.12261,\n",
       "  0.12261,\n",
       "  0.12261,\n",
       "  0.05744],\n",
       " 'Internal-sherlock-R VisCent': [0.23702486762295935,\n",
       "  0.23702,\n",
       "  0.23702,\n",
       "  0.23702,\n",
       "  0.23702,\n",
       "  0.23702,\n",
       "  0.23702,\n",
       "  0.15714],\n",
       " 'Internal-sherlock-R VisPeri': [0.22137045702394176,\n",
       "  0.22137,\n",
       "  0.22137,\n",
       "  0.22137,\n",
       "  0.22137,\n",
       "  0.22137,\n",
       "  0.22137,\n",
       "  0.15054],\n",
       " 'Internal-sherlock-R SomMotA': [0.22917160181768242,\n",
       "  0.22917,\n",
       "  0.22917,\n",
       "  0.22917,\n",
       "  0.22917,\n",
       "  0.22917,\n",
       "  0.22917,\n",
       "  0.16234],\n",
       " 'Internal-sherlock-R SomMotB': [0.0798884154320532,\n",
       "  0.07989,\n",
       "  0.07989,\n",
       "  0.07989,\n",
       "  0.07989,\n",
       "  0.07989,\n",
       "  0.07989,\n",
       "  0.03533],\n",
       " 'Internal-sherlock-R DorsAttnA': [0.05639371970815932,\n",
       "  0.05639,\n",
       "  0.05639,\n",
       "  0.05639,\n",
       "  0.05639,\n",
       "  0.05639,\n",
       "  0.05639,\n",
       "  0.02018],\n",
       " 'Internal-sherlock-R DorsAttnB': [0.1875478786031116,\n",
       "  0.18755,\n",
       "  0.18755,\n",
       "  0.18755,\n",
       "  0.18755,\n",
       "  0.18755,\n",
       "  0.18755,\n",
       "  0.13443],\n",
       " 'Internal-sherlock-R SalVentAttnA': [0.1401555151659057,\n",
       "  0.14016,\n",
       "  0.14016,\n",
       "  0.14016,\n",
       "  0.14016,\n",
       "  0.14016,\n",
       "  0.14016,\n",
       "  0.10188],\n",
       " 'Internal-sherlock-R SalVentAttnB': [0.05793303934811996,\n",
       "  0.05793,\n",
       "  0.05793,\n",
       "  0.05793,\n",
       "  0.05793,\n",
       "  0.05793,\n",
       "  0.05793,\n",
       "  0.01642],\n",
       " 'Internal-sherlock-R LimbicB': [0.0667744793050109,\n",
       "  0.06677,\n",
       "  0.06677,\n",
       "  0.06677,\n",
       "  0.06677,\n",
       "  0.06677,\n",
       "  0.06677,\n",
       "  0.05628],\n",
       " 'Internal-sherlock-R LimbicA': [0.01815112686826427,\n",
       "  0.01815,\n",
       "  0.01815,\n",
       "  0.01815,\n",
       "  0.01815,\n",
       "  0.01815,\n",
       "  0.01815,\n",
       "  0.0099],\n",
       " 'Internal-sherlock-R ContA': [0.06074943567000024,\n",
       "  0.06075,\n",
       "  0.06075,\n",
       "  0.06075,\n",
       "  0.06075,\n",
       "  0.06075,\n",
       "  0.06075,\n",
       "  0.04401],\n",
       " 'Internal-sherlock-R ContB': [0.07126494038998778,\n",
       "  0.07126,\n",
       "  0.07126,\n",
       "  0.07126,\n",
       "  0.07126,\n",
       "  0.07126,\n",
       "  0.07126,\n",
       "  0.04818],\n",
       " 'Internal-sherlock-R ContC': [0.07519945921535051,\n",
       "  0.0752,\n",
       "  0.0752,\n",
       "  0.0752,\n",
       "  0.0752,\n",
       "  0.0752,\n",
       "  0.0752,\n",
       "  0.05108],\n",
       " 'Internal-sherlock-R DefaultA': [0.1577559507839703,\n",
       "  0.15776,\n",
       "  0.15776,\n",
       "  0.15776,\n",
       "  0.15776,\n",
       "  0.15776,\n",
       "  0.15776,\n",
       "  0.13035],\n",
       " 'Internal-sherlock-R DefaultB': [0.08324441235206159,\n",
       "  0.08324,\n",
       "  0.08324,\n",
       "  0.08324,\n",
       "  0.08324,\n",
       "  0.08324,\n",
       "  0.08324,\n",
       "  0.06916],\n",
       " 'Internal-sherlock-R DefaultC': [0.030568629911202006,\n",
       "  0.03057,\n",
       "  0.03057,\n",
       "  0.03057,\n",
       "  0.03057,\n",
       "  0.03057,\n",
       "  0.03057,\n",
       "  0.01574],\n",
       " 'Internal-sherlock-R TempPar': [0.11210930903766916,\n",
       "  0.11211,\n",
       "  0.11211,\n",
       "  0.11211,\n",
       "  0.11211,\n",
       "  0.11211,\n",
       "  0.11211,\n",
       "  0.07212]}"
      ]
     },
     "execution_count": 43,
     "metadata": {},
     "output_type": "execute_result"
    }
   ],
   "source": [
    "cor_dic"
   ]
  },
  {
   "cell_type": "code",
   "execution_count": 34,
   "id": "stable-trial",
   "metadata": {},
   "outputs": [],
   "source": [
    "data1 = targ_dic['sherlock'][...,0,:]\n",
    "data2 = targ_dic['sherlock'][...,1,:]"
   ]
  },
  {
   "cell_type": "code",
   "execution_count": 35,
   "id": "adapted-concord",
   "metadata": {},
   "outputs": [
    {
     "data": {
      "text/plain": [
       "(102, 112179, 17)"
      ]
     },
     "execution_count": 35,
     "metadata": {},
     "output_type": "execute_result"
    }
   ],
   "source": [
    "data1.shape"
   ]
  },
  {
   "cell_type": "code",
   "execution_count": 36,
   "id": "simple-vancouver",
   "metadata": {},
   "outputs": [
    {
     "data": {
      "text/plain": [
       "(102, 112179, 17)"
      ]
     },
     "execution_count": 36,
     "metadata": {},
     "output_type": "execute_result"
    }
   ],
   "source": [
    "data2.shape"
   ]
  },
  {
   "cell_type": "code",
   "execution_count": 38,
   "id": "married-wellington",
   "metadata": {},
   "outputs": [
    {
     "data": {
      "text/plain": [
       "14.145326614379883"
      ]
     },
     "execution_count": 38,
     "metadata": {},
     "output_type": "execute_result"
    }
   ],
   "source": [
    "data1[0,1,1]"
   ]
  },
  {
   "cell_type": "code",
   "execution_count": 40,
   "id": "improved-pilot",
   "metadata": {},
   "outputs": [
    {
     "data": {
      "text/plain": [
       "5.041234970092773"
      ]
     },
     "execution_count": 40,
     "metadata": {},
     "output_type": "execute_result"
    }
   ],
   "source": [
    "data2[0,1,1]"
   ]
  },
  {
   "cell_type": "code",
   "execution_count": 28,
   "id": "antique-hudson",
   "metadata": {},
   "outputs": [
    {
     "name": "stdout",
     "output_type": "stream",
     "text": [
      "Null distribution shape = (5, 112179)\n",
      "i.e., 5 bootstraps and 112179 voxels\n",
      "Actual observed ISC value for first voxel = -0.032,\n",
      "p-value from bootstrap hypothesis test = 1.000\n"
     ]
    }
   ],
   "source": [
    "# Inspect shape of null distribution\n",
    "print(f\"Null distribution shape = {distribution.shape}\"\n",
    "      f\"\\ni.e., {distribution.shape[0]} bootstraps \"\n",
    "      f\"and {distribution.shape[1]} voxels\")\n",
    "\n",
    "# Get actual ISC value and p-value for first voxel\n",
    "print(f\"Actual observed ISC value for first voxel = {observed[0]:.3f},\"\n",
    "      f\"\\np-value from bootstrap hypothesis test = {p[0]:.3f}\")"
   ]
  },
  {
   "cell_type": "code",
   "execution_count": null,
   "id": "primary-dryer",
   "metadata": {},
   "outputs": [],
   "source": []
  },
  {
   "cell_type": "code",
   "execution_count": 86,
   "id": "deluxe-standing",
   "metadata": {},
   "outputs": [],
   "source": [
    "cor_dic = {}"
   ]
  },
  {
   "cell_type": "code",
   "execution_count": 87,
   "id": "small-window",
   "metadata": {},
   "outputs": [],
   "source": [
    "# DO rois # \n",
    "# Convert to 4d numpy array\n",
    "f_dat_4d = bpress_nii.get_fdata()\n",
    "\n",
    "targ_net = (np.array(networks) == net_lab).nonzero()[0] + 1\n",
    "\n",
    "temp = [np.nanmean([np.nanmean(f_dat_4d[atlas_img == parcel])]) for parcel in targ_net]\n",
    "if f'{cond}-{mov}-{net_lab}' not in cor_dic:\n",
    "    cor_dic[f'{cond}-{mov}-{net_lab}'] = [np.nanmean(temp)]\n",
    "else:\n",
    "    cor_dic[f'{cond}-{mov}-{net_lab}'].append(np.nanmean(temp))"
   ]
  },
  {
   "cell_type": "code",
   "execution_count": 88,
   "id": "disabled-serve",
   "metadata": {},
   "outputs": [
    {
     "data": {
      "text/plain": [
       "{'Internal-office-R ContC': [0.16539153784835273]}"
      ]
     },
     "execution_count": 88,
     "metadata": {},
     "output_type": "execute_result"
    }
   ],
   "source": [
    "cor_dic"
   ]
  },
  {
   "cell_type": "code",
   "execution_count": 77,
   "id": "indian-australian",
   "metadata": {},
   "outputs": [],
   "source": [
    "temp = [np.nanmean([np.nanmean(f_dat_4d[atlas_img == parcel])]) for parcel in targ_net]\n"
   ]
  },
  {
   "cell_type": "code",
   "execution_count": 78,
   "id": "portuguese-membrane",
   "metadata": {},
   "outputs": [
    {
     "data": {
      "text/plain": [
       "[0.15212171162661273,\n",
       " 0.12460714368962275,\n",
       " 0.17385008319929765,\n",
       " 0.15132106836969056,\n",
       " 0.13594276718869874,\n",
       " 0.17802443846383664,\n",
       " 0.24187355240071007]"
      ]
     },
     "execution_count": 78,
     "metadata": {},
     "output_type": "execute_result"
    }
   ],
   "source": [
    "temp"
   ]
  },
  {
   "cell_type": "code",
   "execution_count": null,
   "id": "american-bridge",
   "metadata": {},
   "outputs": [],
   "source": []
  },
  {
   "cell_type": "code",
   "execution_count": null,
   "id": "substantial-tongue",
   "metadata": {},
   "outputs": [],
   "source": []
  },
  {
   "cell_type": "code",
   "execution_count": 41,
   "id": "brazilian-conversation",
   "metadata": {},
   "outputs": [
    {
     "ename": "ValueError",
     "evalue": "all the input array dimensions for the concatenation axis must match exactly, but along dimension 0, the array at index 0 has size 162 and the array at index 1 has size 215",
     "output_type": "error",
     "traceback": [
      "\u001b[0;31m---------------------------------------------------------------------------\u001b[0m",
      "\u001b[0;31mValueError\u001b[0m                                Traceback (most recent call last)",
      "\u001b[0;32m<ipython-input-41-5ad9b3c768d8>\u001b[0m in \u001b[0;36m<module>\u001b[0;34m\u001b[0m\n\u001b[1;32m      6\u001b[0m \u001b[0;31m# loop through all TRs and get the target voxel pattern #\u001b[0m\u001b[0;34m\u001b[0m\u001b[0;34m\u001b[0m\u001b[0;34m\u001b[0m\u001b[0m\n\u001b[1;32m      7\u001b[0m bpress_pat = np.column_stack([f_dat_4d[atlas_img == parcel].T\n\u001b[0;32m----> 8\u001b[0;31m                 for parcel in targ_net])\n\u001b[0m",
      "\u001b[0;32m<__array_function__ internals>\u001b[0m in \u001b[0;36mcolumn_stack\u001b[0;34m(*args, **kwargs)\u001b[0m\n",
      "\u001b[0;32m/jukebox/pkgs/PYGER/base/envs/0.11.0/lib/python3.7/site-packages/numpy/lib/shape_base.py\u001b[0m in \u001b[0;36mcolumn_stack\u001b[0;34m(tup)\u001b[0m\n\u001b[1;32m    654\u001b[0m             \u001b[0marr\u001b[0m \u001b[0;34m=\u001b[0m \u001b[0marray\u001b[0m\u001b[0;34m(\u001b[0m\u001b[0marr\u001b[0m\u001b[0;34m,\u001b[0m \u001b[0mcopy\u001b[0m\u001b[0;34m=\u001b[0m\u001b[0;32mFalse\u001b[0m\u001b[0;34m,\u001b[0m \u001b[0msubok\u001b[0m\u001b[0;34m=\u001b[0m\u001b[0;32mTrue\u001b[0m\u001b[0;34m,\u001b[0m \u001b[0mndmin\u001b[0m\u001b[0;34m=\u001b[0m\u001b[0;36m2\u001b[0m\u001b[0;34m)\u001b[0m\u001b[0;34m.\u001b[0m\u001b[0mT\u001b[0m\u001b[0;34m\u001b[0m\u001b[0;34m\u001b[0m\u001b[0m\n\u001b[1;32m    655\u001b[0m         \u001b[0marrays\u001b[0m\u001b[0;34m.\u001b[0m\u001b[0mappend\u001b[0m\u001b[0;34m(\u001b[0m\u001b[0marr\u001b[0m\u001b[0;34m)\u001b[0m\u001b[0;34m\u001b[0m\u001b[0;34m\u001b[0m\u001b[0m\n\u001b[0;32m--> 656\u001b[0;31m     \u001b[0;32mreturn\u001b[0m \u001b[0m_nx\u001b[0m\u001b[0;34m.\u001b[0m\u001b[0mconcatenate\u001b[0m\u001b[0;34m(\u001b[0m\u001b[0marrays\u001b[0m\u001b[0;34m,\u001b[0m \u001b[0;36m1\u001b[0m\u001b[0;34m)\u001b[0m\u001b[0;34m\u001b[0m\u001b[0;34m\u001b[0m\u001b[0m\n\u001b[0m\u001b[1;32m    657\u001b[0m \u001b[0;34m\u001b[0m\u001b[0m\n\u001b[1;32m    658\u001b[0m \u001b[0;34m\u001b[0m\u001b[0m\n",
      "\u001b[0;32m<__array_function__ internals>\u001b[0m in \u001b[0;36mconcatenate\u001b[0;34m(*args, **kwargs)\u001b[0m\n",
      "\u001b[0;31mValueError\u001b[0m: all the input array dimensions for the concatenation axis must match exactly, but along dimension 0, the array at index 0 has size 162 and the array at index 1 has size 215"
     ]
    }
   ],
   "source": [
    "# Convert to 4d numpy array\n",
    "f_dat_4d = bpress_nii.get_fdata()\n",
    "\n",
    "targ_net = (np.array(networks) == net_lab).nonzero()[0] + 1\n",
    "\n",
    "# loop through all TRs and get the target voxel pattern #\n",
    "bpress_pat = np.column_stack([f_dat_4d[atlas_img == parcel].T\n",
    "                for parcel in targ_net])"
   ]
  },
  {
   "cell_type": "code",
   "execution_count": 37,
   "id": "proud-lottery",
   "metadata": {},
   "outputs": [
    {
     "data": {
      "text/plain": [
       "(78, 93, 65)"
      ]
     },
     "execution_count": 37,
     "metadata": {},
     "output_type": "execute_result"
    }
   ],
   "source": [
    "atlas_img.shape"
   ]
  },
  {
   "cell_type": "code",
   "execution_count": 47,
   "id": "annoying-header",
   "metadata": {},
   "outputs": [
    {
     "data": {
      "text/plain": [
       "0.24187355240071007"
      ]
     },
     "execution_count": 47,
     "metadata": {},
     "output_type": "execute_result"
    }
   ],
   "source": [
    "np.nanmean(f_dat_4d[atlas_img == parcel])"
   ]
  },
  {
   "cell_type": "code",
   "execution_count": 42,
   "id": "blond-strength",
   "metadata": {},
   "outputs": [
    {
     "name": "stdout",
     "output_type": "stream",
     "text": [
      "351\n",
      "352\n",
      "353\n",
      "354\n",
      "355\n",
      "356\n",
      "357\n"
     ]
    }
   ],
   "source": [
    "for parcel in targ_net:\n",
    "    np.column_stack(f_dat_4d[atlas_img == parcel])\n",
    "    print(parcel)"
   ]
  },
  {
   "cell_type": "code",
   "execution_count": 52,
   "id": "incorrect-colombia",
   "metadata": {},
   "outputs": [],
   "source": [
    "reg_cor = np.nanmean([np.nanmean(f_dat_4d[atlas_img == parcel])\n",
    "                for parcel in targ_net])"
   ]
  },
  {
   "cell_type": "code",
   "execution_count": null,
   "id": "french-spank",
   "metadata": {},
   "outputs": [],
   "source": [
    "cor_dic = {}\n",
    "runz = [1, 2, 3, 4]\n",
    "\n",
    "\n",
    "for parcel in targ_net:\n",
    "    if parcel not in cor_dic:\n",
    "        cor_dic[parcel] = np.nanmean([np.nanmean(f_dat_4d[atlas_img == parcel])])\n",
    "    else:\n",
    "        cor_dic[parcel].append(np.nanmean([np.nanmean(f_dat_4d[atlas_img == parcel])]))\n",
    "                        "
   ]
  },
  {
   "cell_type": "code",
   "execution_count": 53,
   "id": "hydraulic-wilson",
   "metadata": {},
   "outputs": [
    {
     "data": {
      "text/plain": [
       "0.16539153784835273"
      ]
     },
     "execution_count": 53,
     "metadata": {},
     "output_type": "execute_result"
    }
   ],
   "source": [
    "bpress_pat"
   ]
  },
  {
   "cell_type": "code",
   "execution_count": null,
   "id": "color-illustration",
   "metadata": {},
   "outputs": [],
   "source": [
    "f_dat_4d[]"
   ]
  }
 ],
 "metadata": {
  "kernelspec": {
   "display_name": "Python 3",
   "language": "python",
   "name": "python3"
  },
  "language_info": {
   "codemirror_mode": {
    "name": "ipython",
    "version": 3
   },
   "file_extension": ".py",
   "mimetype": "text/x-python",
   "name": "python",
   "nbconvert_exporter": "python",
   "pygments_lexer": "ipython3",
   "version": "3.7.9"
  }
 },
 "nbformat": 4,
 "nbformat_minor": 5
}
