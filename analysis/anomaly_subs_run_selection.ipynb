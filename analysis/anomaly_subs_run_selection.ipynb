{
 "cells": [
  {
   "cell_type": "markdown",
   "id": "strange-biology",
   "metadata": {},
   "source": [
    "# Anonaly subs run selection"
   ]
  },
  {
   "cell_type": "markdown",
   "id": "fourth-jordan",
   "metadata": {},
   "source": [
    "This script creates a dictionary to append subjects with less than 6 runs"
   ]
  },
  {
   "cell_type": "markdown",
   "id": "occasional-palestinian",
   "metadata": {},
   "source": [
    "## py conversion"
   ]
  },
  {
   "cell_type": "code",
   "execution_count": 1,
   "id": "monthly-haiti",
   "metadata": {},
   "outputs": [],
   "source": [
    "#jupyter nbconvert --to python slurm_create-data_preproc.ipynb"
   ]
  },
  {
   "cell_type": "markdown",
   "id": "physical-indicator",
   "metadata": {},
   "source": [
    "## Imports "
   ]
  },
  {
   "cell_type": "code",
   "execution_count": 2,
   "id": "interested-journal",
   "metadata": {},
   "outputs": [],
   "source": [
    "import warnings\n",
    "import sys  \n",
    "import random\n",
    "\n",
    "import deepdish as dd\n",
    "import numpy as np\n"
   ]
  },
  {
   "cell_type": "code",
   "execution_count": 3,
   "id": "exclusive-rapid",
   "metadata": {},
   "outputs": [],
   "source": [
    "random.seed(10)"
   ]
  },
  {
   "cell_type": "markdown",
   "id": "average-count",
   "metadata": {},
   "source": [
    "## custom helper functions "
   ]
  },
  {
   "cell_type": "code",
   "execution_count": null,
   "id": "unlike-error",
   "metadata": {},
   "outputs": [],
   "source": []
  },
  {
   "cell_type": "markdown",
   "id": "italic-allowance",
   "metadata": {},
   "source": [
    "## directories "
   ]
  },
  {
   "cell_type": "code",
   "execution_count": 4,
   "id": "strong-corner",
   "metadata": {},
   "outputs": [],
   "source": [
    "top_dir = '/jukebox/graziano/coolCatIsaac/MEI'\n",
    "data_dir = top_dir + \"/data\"\n",
    "work_dir = data_dir + '/work'\n",
    "mask_dir = work_dir + '/masks'\n",
    "behav_dir = top_dir + '/data/behavioral'\n",
    "rois_dir = data_dir + \"/rois\"\n",
    "fmri_prep = data_dir + '/bids/derivatives/fmriprep'\n",
    "conf_dir = work_dir + '/confs'\n",
    "preproc_dir = work_dir + '/preproc'\n",
    "isc_dir = work_dir + '/isc_dat'\n"
   ]
  },
  {
   "cell_type": "code",
   "execution_count": 5,
   "id": "tender-singer",
   "metadata": {},
   "outputs": [],
   "source": [
    "### sub_list ###\n",
    "\"\"\"\n",
    "\n",
    "========================================================\n",
    "===== ~~~ Summary ALL ~~~ ===== \n",
    "========================================================\n",
    "Initially exclude: sub-001, sub-003, sub-011, sub-012, sub-014, sub-015, sub-029 (3+ runs still available tho)\n",
    "Maybe exclude: sub-014, sub-024, sub-037 (No button presses)\n",
    "Maybe exclude: sub-020, sub-022, sub-031\n",
    "total exclude = 10\n",
    "\n",
    "\n",
    "~~~~~~~ BEHAVIORAL ~~~~~~~~~~\n",
    "~~~ Summary behavioral ~~~\n",
    "\n",
    "========================================================\n",
    "========================================================\n",
    "No button presses: sub-014, sub-024, sub-037 \n",
    "\n",
    "========================================================\n",
    "========================================================\n",
    "sub-003: Extra row observed for external, which was manually deleted. Should be fine to rerun -- i removed from bad_subs\n",
    "    - current brushing: 87, TRUE: 88 for THREE runs. last run when there was an issue and scan had to be restarted\n",
    "    - Scan 6 == 1 run of brushing\n",
    "    - Scan 7 = 3 runs of brushing \n",
    "    - ** no idea when run 7 was started tho! will prolly need to throw out! For now we can process all\n",
    "sub-014: NO internal OR external bpress, curious! ---should be fixed now\n",
    "    - changed excel data to include two null columns\n",
    "    - ALSO only 30 TRs for the second run epi data. i went into the room to adjust runny eyes. Data for this run is not usable. but after should\n",
    "      be okay if u want to put in the effort \n",
    "sub-015: less than 24 runs ---should be fixed now w custom code (but keep out of main run cuz will throw an error otherwise )\n",
    "    - SUMMARY: need to exclude the office run 3 for fMRI but can include run 3 in behavioral, no data at all for CAKE\n",
    "    - DID NOT add the 'mov_name' component to the custom code, will need to implment from current iteration\n",
    "    - **** Use external, ignore internal for now... cuz internal is fuqd. Can preprocess all 7 tho\n",
    "\n",
    "~~~~~~~ FMRI ~~~~~~~~~~\n",
    "~~~ Summary fMRI ~~~\n",
    "sub002: \n",
    " - appended two TRs onto the last run, copied from the third to last TR. should be good to use\n",
    "sub-003, sub-012, sub-014, sub-015, sub-029: \n",
    " - Five runs usable, will need to incorporate them at some point \n",
    "sub-001: external usable - first three runs \n",
    "sub-011: preprocessed as sub-041\n",
    "\n",
    "========================================================\n",
    "========================================================\n",
    "subject 002: (usable, with adjustment)\n",
    "    only has 92 INSTEAD OF 94 TRs for the FINAL run of shrek. i think cuz i turned off the scanner\n",
    "    too soon, which didn't account for 4 TRs of buffer? Yep! end tr is 390, (388, 112179). so duplicate TRs maybe.\n",
    "    - Temporarily eliminate! or duplicate TRs \n",
    "    \n",
    "sub-003: (usable, 5 runs)\n",
    "- Scan 6 == 1 run of brushing\n",
    "- Scan 7 = 3 runs of brushing \n",
    "*** need to re-preprocess, then append 6 and 7 together; or just throw out this one cuz idk when scan started\n",
    "\n",
    "sub-011: (usable)\n",
    "- not preprocessed\n",
    "\n",
    "sub-012 (5 runs usable, one run idk)\n",
    "- I'll need to post process. It seems that an earbud fell out while reading the directions for run 5 \n",
    "summary: the fifth run  needs to be discarded. all others are usable.\n",
    "see the behav data: \n",
    "sub_dic['External']['oragami']\n",
    "{'run-1': {'start_tr': 94, 'end_tr': 188, 'bpress': -1},\n",
    " 'run-2': {'start_tr': 188, 'end_tr': 282, 'bpress': [100.81657150003593]},\n",
    " 'run-3': {'start_tr': 282, 'end_tr': 376, 'bpress': [88.26579949003644]},\n",
    " 'run-4': {'start_tr': 378,\n",
    "  'end_tr': 472,\n",
    "  }\n",
    "- you can see taht the start TR is 94!! that's becuz i had to go into the scan room during the instructions screen.\n",
    "- this is producing the wrong indexing -- becuz the scan doesn't contain enough TRs according to the behavioral data:\n",
    "    - run 4 of shrek only has 12 TRs because we start at TR 94.\n",
    "- im not sure when the scan actually started, but if i wanted to try to include i could \n",
    "    set the start TR to 1 -- essentially suggesting that the first TR was collected on the external 'waiting \n",
    "    for TR' flip. might as well try at some point, but exclude for now\n",
    "    - this would involve just subtracting 94 from all start end end TRs i think\n",
    "See the excel behavioral file for further notes notes\n",
    "this \n",
    "\n",
    "sub-014 - no button press data and 7 runs (5 runs usable, but no bpress)\n",
    "    - same problem as above -- i went into the scanner room during the instructions period to wipe eyes\n",
    "    - this problem occured on run 2.\n",
    "    {'run-1': {'start_tr': 237, 'end_tr': 323, 'bpress': -1},\n",
    "     'run-2': {'start_tr': 329, 'end_tr': 415, 'bpress': -1},\n",
    "     'run-3': {'start_tr': 417, 'end_tr': 503, 'bpress': -1},\n",
    "     'run-4': {'start_tr': 509, 'end_tr': 595, 'bpress': -1}}\n",
    "     \n",
    "\n",
    "sub-029: (5 runs usable)\n",
    "- scanner malfunction, maybe possible to stitch together run 3/4 cuz i started on the *tenth* TR\n",
    "- malfunction on cake, the third movie of the external condition. SO throw out runs 3+4; use\n",
    "    runs 1, 2, 4, 5, 7\n",
    "-\n",
    "\n",
    "========================================================\n",
    "========================================================\n",
    "Left handed: (sub-020, sub-022, sub-032)\n",
    "    - sub-020: also no button presses, appeared to be awake tho\n",
    "    - sub-022: lefty\n",
    "    - sub-031: ambidexterious, great data\n",
    "========================================================\n",
    "========================================================\n",
    "\"\"\"\n",
    "\n",
    "## adjusted sublist \n",
    "sub_list = [\n",
    "    'sub-002', 'sub-004', 'sub-005','sub-006','sub-007','sub-008','sub-009','sub-010',\n",
    "    'sub-013','sub-016','sub-017','sub-018','sub-019','sub-020','sub-021',\n",
    "    'sub-022','sub-023','sub-024','sub-025','sub-026','sub-027','sub-028','sub-030','sub-031','sub-032',\n",
    "    'sub-033','sub-034','sub-035','sub-036','sub-037','sub-038','sub-039','sub-040'\n",
    "]\n",
    "#sub_list = ['sub-002', 'sub-003', 'sub-004', 'sub-005']\n",
    "\n",
    "###### LOADING VARS #######\n",
    "\n",
    "\n"
   ]
  },
  {
   "cell_type": "markdown",
   "id": "cordless-authority",
   "metadata": {},
   "source": [
    "## incomplete subs"
   ]
  },
  {
   "cell_type": "code",
   "execution_count": 6,
   "id": "independent-pharmacy",
   "metadata": {},
   "outputs": [],
   "source": [
    "## old sublist ##\n",
    "sub_list = [\n",
    "    'sub-002', 'sub-004', 'sub-005','sub-006','sub-007','sub-008','sub-009','sub-010',\n",
    "    'sub-013','sub-016','sub-017','sub-018','sub-019','sub-020','sub-021',\n",
    "    'sub-022','sub-023','sub-024','sub-025','sub-026','sub-027','sub-028','sub-030','sub-031','sub-032',\n",
    "    'sub-033','sub-034','sub-035','sub-036','sub-037','sub-038','sub-039','sub-040', 'sub-041'\n",
    "]\n",
    "\n",
    "\n",
    "new_subs = ['sub-001', 'sub-003', 'sub-012', 'sub014', 'sub-015', 'sub-029' ] # excluding sub-014 cuz no button presses"
   ]
  },
  {
   "cell_type": "code",
   "execution_count": null,
   "id": "stopped-tokyo",
   "metadata": {},
   "outputs": [],
   "source": []
  },
  {
   "cell_type": "code",
   "execution_count": 7,
   "id": "crucial-reasoning",
   "metadata": {},
   "outputs": [],
   "source": [
    "sub_run_inc = {\n",
    "    'sub-001': {1: True, 2: True, 3: True, 4: False, 5: False, 6: False},\n",
    "    'sub-003': {1: True, 2: True, 3: True, 4: True, 5: True, 6: False},\n",
    "    'sub-012': {1: True, 2: True, 3: True, 4: True, 5: False, 6: True},\n",
    "    'sub-014': {1: True, 2: False, 3: True, 4: True, 5: True, 6: True},\n",
    "    'sub-015': {1: True, 2: True, 3: True, 4: False, 5: False, 6: False},\n",
    "    'sub-029': {1: True, 2: True, 3: False, 4: True, 5: True, 6: True}\n",
    "}"
   ]
  },
  {
   "cell_type": "code",
   "execution_count": 8,
   "id": "featured-decrease",
   "metadata": {},
   "outputs": [
    {
     "data": {
      "text/plain": [
       "{'sub-001': {1: True, 2: True, 3: True, 4: False, 5: False, 6: False},\n",
       " 'sub-003': {1: True, 2: True, 3: True, 4: True, 5: True, 6: False},\n",
       " 'sub-012': {1: True, 2: True, 3: True, 4: True, 5: False, 6: True},\n",
       " 'sub-014': {1: True, 2: False, 3: True, 4: True, 5: True, 6: True},\n",
       " 'sub-015': {1: True, 2: True, 3: True, 4: False, 5: False, 6: False},\n",
       " 'sub-029': {1: True, 2: True, 3: False, 4: True, 5: True, 6: True}}"
      ]
     },
     "execution_count": 8,
     "metadata": {},
     "output_type": "execute_result"
    }
   ],
   "source": [
    "sub_run_inc"
   ]
  },
  {
   "cell_type": "code",
   "execution_count": 9,
   "id": "differential-surname",
   "metadata": {},
   "outputs": [],
   "source": [
    "## fill in TRUES for all other subs runs ## "
   ]
  },
  {
   "cell_type": "code",
   "execution_count": 10,
   "id": "taken-trading",
   "metadata": {},
   "outputs": [],
   "source": [
    "inc = {\n",
    "    1 : True,\n",
    "    2 : True,\n",
    "    3 : True,\n",
    "    4 : True,\n",
    "    5 : True,\n",
    "    6 : True, \n",
    "}\n",
    "\n",
    "for sub in sub_list:\n",
    "    if sub not in sub_run_inc:\n",
    "        sub_run_inc[sub] = inc\n",
    "        \n",
    "        "
   ]
  },
  {
   "cell_type": "code",
   "execution_count": 11,
   "id": "starting-proportion",
   "metadata": {},
   "outputs": [
    {
     "data": {
      "text/plain": [
       "40"
      ]
     },
     "execution_count": 11,
     "metadata": {},
     "output_type": "execute_result"
    }
   ],
   "source": [
    "len(sub_run_inc)"
   ]
  },
  {
   "cell_type": "code",
   "execution_count": 12,
   "id": "worst-waterproof",
   "metadata": {},
   "outputs": [],
   "source": [
    "np.save(behav_dir + '/sub_run_inc.npy', sub_run_inc)"
   ]
  },
  {
   "cell_type": "code",
   "execution_count": null,
   "id": "hundred-sydney",
   "metadata": {},
   "outputs": [],
   "source": []
  }
 ],
 "metadata": {
  "kernelspec": {
   "display_name": "Python 3",
   "language": "python",
   "name": "python3"
  },
  "language_info": {
   "codemirror_mode": {
    "name": "ipython",
    "version": 3
   },
   "file_extension": ".py",
   "mimetype": "text/x-python",
   "name": "python",
   "nbconvert_exporter": "python",
   "pygments_lexer": "ipython3",
   "version": "3.7.9"
  }
 },
 "nbformat": 4,
 "nbformat_minor": 5
}
