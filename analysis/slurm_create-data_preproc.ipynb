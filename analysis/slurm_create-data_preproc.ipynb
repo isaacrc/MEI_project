{
 "cells": [
  {
   "cell_type": "markdown",
   "id": "valued-nicholas",
   "metadata": {},
   "source": [
    "# Preprocess fMRI data  "
   ]
  },
  {
   "cell_type": "markdown",
   "id": "nasty-circular",
   "metadata": {},
   "source": [
    "This script further preprocesses fmriprep's preprocessed data. Options for preprocessing include smoothing, regressing confounds, high pass, low pass, and masking. Yay!"
   ]
  },
  {
   "cell_type": "markdown",
   "id": "sitting-papua",
   "metadata": {},
   "source": [
    "## py conversion"
   ]
  },
  {
   "cell_type": "code",
   "execution_count": 35,
   "id": "neural-registration",
   "metadata": {},
   "outputs": [],
   "source": [
    "#jupyter nbconvert --to python slurm_create-data_preproc.ipynb"
   ]
  },
  {
   "cell_type": "markdown",
   "id": "casual-constraint",
   "metadata": {},
   "source": [
    "## Imports "
   ]
  },
  {
   "cell_type": "code",
   "execution_count": 36,
   "id": "saving-board",
   "metadata": {},
   "outputs": [],
   "source": [
    "import warnings\n",
    "import sys  \n",
    "import random\n",
    "# import logging\n",
    "\n",
    "import deepdish as dd\n",
    "import numpy as np\n",
    "\n",
    "import brainiak.eventseg.event\n",
    "import nibabel as nib\n",
    "import nilearn as nil\n",
    "# Import a function from BrainIAK to simulate fMRI data\n",
    "import brainiak.utils.fmrisim as sim  \n",
    "\n",
    "from nilearn.input_data import NiftiMasker\n",
    "\n",
    "import scipy.io\n",
    "from scipy import stats\n",
    "from scipy.stats import norm, zscore, pearsonr\n",
    "from scipy.signal import gaussian, convolve\n",
    "\n",
    "from matplotlib import pyplot as plt\n",
    "from mpl_toolkits.mplot3d import Axes3D\n",
    "import matplotlib.patches as patches\n",
    "import seaborn as sns \n",
    "\n",
    "\n",
    "\n",
    "from brainiak import image, io\n",
    "from scipy.stats import stats\n",
    "import nibabel as nib\n",
    "import numpy as np\n",
    "from matplotlib import pyplot as plt\n",
    "import pandas as pd\n",
    "\n",
    "from nilearn import datasets, plotting\n",
    "from nilearn.input_data import NiftiSpheresMasker\n",
    "\n",
    "from nilearn.glm.first_level import FirstLevelModel\n",
    "from nilearn.glm.first_level import make_first_level_design_matrix\n",
    "from nilearn.image import concat_imgs, resample_img, mean_img,index_img\n",
    "from nilearn import image\n",
    "from nilearn import masking\n",
    "from nilearn.plotting import view_img\n",
    "from nilearn.image import resample_to_img, concat_imgs\n",
    "\n",
    "from nilearn.image import concat_imgs, resample_img, mean_img\n",
    "from nilearn.plotting import view_img\n",
    "\n",
    "import numpy as np \n",
    "import os\n",
    "import os.path\n",
    "import scipy.io\n",
    "import nibabel as nib\n",
    "from nilearn.input_data import NiftiMasker\n",
    "from nilearn.masking import compute_epi_mask, compute_brain_mask\n",
    "from sklearn import preprocessing\n",
    "from sklearn.preprocessing import StandardScaler\n",
    "from sklearn.model_selection import PredefinedSplit\n",
    "from copy import deepcopy"
   ]
  },
  {
   "cell_type": "code",
   "execution_count": 37,
   "id": "acute-recommendation",
   "metadata": {},
   "outputs": [],
   "source": [
    "random.seed(10)"
   ]
  },
  {
   "cell_type": "markdown",
   "id": "sharp-earth",
   "metadata": {},
   "source": [
    "## custom helper functions "
   ]
  },
  {
   "cell_type": "code",
   "execution_count": 38,
   "id": "contemporary-housing",
   "metadata": {},
   "outputs": [],
   "source": [
    "from utils_anal import load_epi_data, load_conf_data, load_epi_sub032, load_conf_sub032"
   ]
  },
  {
   "cell_type": "code",
   "execution_count": 48,
   "id": "prime-fruit",
   "metadata": {},
   "outputs": [],
   "source": [
    "def preproc_isc(fmri_prep, sub, num_runs, space, fwhm, mask):\n",
    "    # This is based off of 'load_data' function in template\n",
    "    # Loads all fMRI runs into a matrix #\n",
    "    \"\"\"\n",
    "    purpose: get a cleaned epi \n",
    "    inputs:\n",
    "        - fmri_prep: path\n",
    "        - morph = T1 or MNI registration?\n",
    "        - norm_type = by Space or by Time?\n",
    "    return: a dictionary of runs, preprocessed \n",
    "    \"\"\"\n",
    "    run_dic = {}\n",
    "    print(\"Begin preproc, u dynamic lil windmill!\")\n",
    "    ## preprocess 7 runs ## \n",
    "    for run in range(1, num_runs + 1):\n",
    "        ### subject specific loading ###  \n",
    "        if sub == 'sub-003' and run == 6:\n",
    "            ## load the seventh, instead of sixth run -- this is a quirk of this dataset ##\n",
    "            adjust_run = run + 1\n",
    "            # Load Confounds\n",
    "            run_conf = load_conf_data(conf_dir, sub, adjust_run)\n",
    "            # Load EPI\n",
    "            epi = load_epi_data(fmri_prep, sub, adjust_run, space)\n",
    "\n",
    "        elif sub == 'sub-012' and run >= 5:\n",
    "            print('ADJUSTING')\n",
    "            ## load the 6th, 7th run, instead of 5, 6 -- this is a quirk of this dataset ##\n",
    "            adjust_run = run + 1\n",
    "            # Load Confounds\n",
    "            run_conf = load_conf_data(conf_dir, sub, adjust_run)\n",
    "            # Load EPI\n",
    "            epi = load_epi_data(fmri_prep, sub, adjust_run, space)\n",
    "\n",
    "        elif sub == 'sub-032': \n",
    "            # Load Confounds\n",
    "            run_conf = load_conf_sub032(conf_dir, sub, run)\n",
    "            # Load EPI\n",
    "            epi = load_epi_sub032(fmri_prep, sub, run,space)\n",
    "        elif sub == 'sub-014' and run >=2: \n",
    "            ## skip the second run ##\n",
    "            adjust_run = run + 1\n",
    "            # Load Confounds\n",
    "            run_conf = load_conf_data(conf_dir, sub, adjust_run)\n",
    "            # Load EPI\n",
    "            epi = load_epi_data(fmri_prep, sub, adjust_run, space)\n",
    "        elif sub == 'sub-029' and run >=4: \n",
    "            ## do not use runs 3 + 4 -- this sub only has 5 usable runs ##\n",
    "            adjust_run = run + 1\n",
    "            # Load Confounds\n",
    "            run_conf = load_conf_data(conf_dir, sub, adjust_run)\n",
    "            # Load EPI\n",
    "            epi = load_epi_data(fmri_prep, sub, adjust_run, space)\n",
    "        elif sub == 'sub-015' and run >=5: \n",
    "            ## this sub only has 4 usable runs ##\n",
    "            continue\n",
    "        else:\n",
    "            #### Load the epi if regular sub or run ####\n",
    "            # Load Confounds\n",
    "            run_conf = load_conf_data(conf_dir, sub, run)\n",
    "            # Load EPI\n",
    "            epi = load_epi_data(fmri_prep, sub, run,space)\n",
    "\n",
    "            print(f'run {run} shape: {epi.shape}')\n",
    "        \n",
    "        ### Regress confounds ### \n",
    "        # OPTIONS: low_pass= .1, high_pass=1/128, .01 might be more normal...\n",
    "        clean_bold = image.clean_img(epi, standardize = False, confounds = run_conf, high_pass=1/128,\n",
    "                           t_r=1.5, mask_img = mask)\n",
    "        \n",
    "        ### Blur Image (smooth) ##\n",
    "        smooth_bold = image.smooth_img(clean_bold, fwhm=fwhm)\n",
    "        ### Script options ### \n",
    "\n",
    "        #### Mask off baybee! as future would say, lol # \n",
    "        nifti_masker = NiftiMasker(mask_img=mask)\n",
    "        masked_data = nifti_masker.fit_transform(smooth_bold)\n",
    "        \n",
    "        ## adjust subject 2 to append two extra TRs to the end of shrek -- quirk of dataset ## \n",
    "        if run == 1 and sub == 'sub-002':\n",
    "            masked_data = np.vstack((masked_data, np.tile(masked_data[-1, :], (2, 1))))\n",
    "        \n",
    "        #### Save Date \n",
    "        run_dic[run] = masked_data\n",
    "        print(f'finished run {run}')\n",
    "    print(\"FINISHED YAY BEAST\")\n",
    "    return run_dic"
   ]
  },
  {
   "cell_type": "code",
   "execution_count": 53,
   "id": "little-enzyme",
   "metadata": {},
   "outputs": [],
   "source": [
    "def preproc_isc_imgs(fmri_prep, sub, num_runs, space, fwhm, mask):\n",
    "    # This is based off of 'load_data' function in template\n",
    "    # Loads all fMRI runs into a matrix #\n",
    "    \"\"\"\n",
    "    purpose: get a cleaned epi \n",
    "    inputs:\n",
    "        - fmri_prep: path\n",
    "        - morph = T1 or MNI registration?\n",
    "        - norm_type = by Space or by Time?\n",
    "    return: a dictionary of runs, preprocessed \n",
    "    \"\"\"\n",
    "    run_dic = {}\n",
    "    print(\"Begin preproc, u dynamic lil windmill!\")\n",
    "    ## preprocess 7 runs ## \n",
    "    for run in range(1, num_runs + 1):\n",
    "        ### subject specific loading ###  \n",
    "        if sub == 'sub-003' and run == 6:\n",
    "            ## load the seventh, instead of sixth run -- this is a quirk of this dataset ##\n",
    "            adjust_run = run + 1\n",
    "            # Load Confounds\n",
    "            run_conf = load_conf_data(conf_dir, sub, adjust_run)\n",
    "            # Load EPI\n",
    "            epi = load_epi_data(fmri_prep, sub, adjust_run, space)\n",
    "\n",
    "        elif sub == 'sub-012' and run >= 5:\n",
    "            print('ADJUSTING')\n",
    "            ## load the 6th, 7th run, instead of 5, 6 -- this is a quirk of this dataset ##\n",
    "            adjust_run = run + 1\n",
    "            # Load Confounds\n",
    "            run_conf = load_conf_data(conf_dir, sub, adjust_run)\n",
    "            # Load EPI\n",
    "            epi = load_epi_data(fmri_prep, sub, adjust_run, space)\n",
    "\n",
    "        elif sub == 'sub-032': \n",
    "            # Load Confounds\n",
    "            run_conf = load_conf_sub032(conf_dir, sub, run)\n",
    "            # Load EPI\n",
    "            epi = load_epi_sub032(fmri_prep, sub, run,space)\n",
    "        elif sub == 'sub-014' and run >=2: \n",
    "            ## skip the second run ##\n",
    "            adjust_run = run + 1\n",
    "            # Load Confounds\n",
    "            run_conf = load_conf_data(conf_dir, sub, adjust_run)\n",
    "            # Load EPI\n",
    "            epi = load_epi_data(fmri_prep, sub, adjust_run, space)\n",
    "        elif sub == 'sub-029' and run >=4: \n",
    "            ## do not use runs 3 + 4 -- this sub only has 5 usable runs ##\n",
    "            adjust_run = run + 1\n",
    "            # Load Confounds\n",
    "            run_conf = load_conf_data(conf_dir, sub, adjust_run)\n",
    "            # Load EPI\n",
    "            epi = load_epi_data(fmri_prep, sub, adjust_run, space)\n",
    "        elif sub == 'sub-015' and run >=5: \n",
    "            ## this sub only has 4 usable runs ##\n",
    "            continue\n",
    "        else:\n",
    "            #### Load the epi if regular sub or run ####\n",
    "            # Load Confounds\n",
    "            run_conf = load_conf_data(conf_dir, sub, run)\n",
    "            # Load EPI\n",
    "            epi = load_epi_data(fmri_prep, sub, run,space)\n",
    "\n",
    "            print(f'run {run} shape: {epi.shape}')\n",
    "        \n",
    "        ### Regress confounds ### \n",
    "        # OPTIONS: low_pass= .1, high_pass=1/128, .01 might be more normal...\n",
    "        clean_bold = image.clean_img(epi, standardize = False, confounds = run_conf, high_pass=1/128,\n",
    "                           t_r=1.5, mask_img = mask)\n",
    "        \n",
    "        ### Blur Image (smooth) ##\n",
    "        smooth_bold = image.smooth_img(clean_bold, fwhm=fwhm)\n",
    "        ### Script options ### \n",
    "\n",
    "        #### Mask off baybee! as future would say, lol # \n",
    "        #nifti_masker = NiftiMasker(mask_img=mask)\n",
    "        #masked_data = nifti_masker.fit_transform(smooth_bold)\n",
    "        \n",
    "        ## adjust subject 2 to append two extra TRs to the end of shrek -- quirk of dataset ## \n",
    "        if run == 1 and sub == 'sub-002':\n",
    "            len_b = smooth_bold.shape[3]\n",
    "            print(len_b)\n",
    "            two_imgs = image.concat_imgs([index_img(smooth_bold, 1)]*2)\n",
    "            print(two_imgs.shape)\n",
    "            smooth_bold = image.concat_imgs([smooth_bold, two_imgs])\n",
    "            print(f'ADJUSTED: {smooth_bold.shape}')\n",
    "        \n",
    "        #### Save Date \n",
    "        run_dic[run] = smooth_bold\n",
    "        print(f'finished run {run}')\n",
    "    print(\"FINISHED YAY BEAST\")\n",
    "    return run_dic"
   ]
  },
  {
   "cell_type": "code",
   "execution_count": null,
   "id": "associate-lover",
   "metadata": {},
   "outputs": [],
   "source": []
  },
  {
   "cell_type": "markdown",
   "id": "mathematical-desire",
   "metadata": {},
   "source": [
    "## directories "
   ]
  },
  {
   "cell_type": "code",
   "execution_count": 41,
   "id": "absolute-defeat",
   "metadata": {},
   "outputs": [],
   "source": [
    "top_dir = '/jukebox/graziano/coolCatIsaac/MEI'\n",
    "data_dir = top_dir + \"/data\"\n",
    "work_dir = data_dir + '/work'\n",
    "mask_dir = work_dir + '/masks'\n",
    "behav_dir = top_dir + '/data/behavioral'\n",
    "rois_dir = data_dir + \"/rois\"\n",
    "fmri_prep = data_dir + '/bids/derivatives/fmriprep'\n",
    "conf_dir = work_dir + '/confs'\n",
    "preproc_dir = work_dir + '/preproc'\n"
   ]
  },
  {
   "cell_type": "markdown",
   "id": "enclosed-seafood",
   "metadata": {},
   "source": [
    "## main vars "
   ]
  },
  {
   "cell_type": "code",
   "execution_count": 43,
   "id": "living-marketplace",
   "metadata": {},
   "outputs": [],
   "source": [
    "### sub_list ###\n",
    "sub_list = [\n",
    "    'sub-002', 'sub-003', 'sub-004', 'sub-005','sub-006','sub-007','sub-008','sub-009','sub-010',\n",
    "    'sub-012','sub-013','sub-014','sub-016','sub-017','sub-018','sub-019','sub-020','sub-021',\n",
    "    'sub-022','sub-023','sub-024','sub-025','sub-026','sub-027','sub-028','sub-029','sub-030','sub-031','sub-032',\n",
    "    'sub-033','sub-034','sub-035','sub-036','sub-037','sub-038','sub-039','sub-040'\n",
    "]\n",
    "\n",
    "## current sublist does not include subject 011, subject 015, 001\n",
    "\n",
    "###### LOADING VARS #######\n",
    "# Number of runs to load \n",
    "num_runs = 6\n",
    "# Registration ust be either T1 or MNI\n",
    "space = \"MNI\"# \n",
    "\n",
    "## mask image ##\n",
    "mask_img = nib.load(mask_dir + \"/whole_b_bnk.nii.gz\")\n",
    "\n",
    "## FWHM smoothing factor ## \n",
    "fwhm = 6\n"
   ]
  },
  {
   "cell_type": "code",
   "execution_count": 55,
   "id": "illegal-workstation",
   "metadata": {},
   "outputs": [],
   "source": [
    "sub_list = ['sub-041']"
   ]
  },
  {
   "cell_type": "code",
   "execution_count": 56,
   "id": "printable-dylan",
   "metadata": {},
   "outputs": [
    {
     "data": {
      "text/plain": [
       "6"
      ]
     },
     "execution_count": 56,
     "metadata": {},
     "output_type": "execute_result"
    }
   ],
   "source": [
    "num_runs"
   ]
  },
  {
   "cell_type": "code",
   "execution_count": 57,
   "id": "lyric-spouse",
   "metadata": {},
   "outputs": [
    {
     "name": "stdout",
     "output_type": "stream",
     "text": [
      "Begin preproc, u dynamic lil windmill!\n",
      "run: sub-041_ses-01_task-None_run-01_desc-model_timeseries.csv\n",
      "Loading data from /jukebox/graziano/coolCatIsaac/MEI/data/bids/derivatives/fmriprep/sub-041/ses-01/func/sub-041_ses-01_task-None_run-01_space-MNI152NLin2009cAsym_desc-preproc_bold.nii.gz\n",
      "shape of run 1 is (78, 93, 65, 397) \n",
      "\n",
      "run 1 shape: (78, 93, 65, 397)\n",
      "finished run 1\n",
      "run: sub-041_ses-01_task-None_run-02_desc-model_timeseries.csv\n",
      "Loading data from /jukebox/graziano/coolCatIsaac/MEI/data/bids/derivatives/fmriprep/sub-041/ses-01/func/sub-041_ses-01_task-None_run-02_space-MNI152NLin2009cAsym_desc-preproc_bold.nii.gz\n",
      "shape of run 2 is (78, 93, 65, 361) \n",
      "\n",
      "run 2 shape: (78, 93, 65, 361)\n",
      "finished run 2\n",
      "run: sub-041_ses-01_task-None_run-03_desc-model_timeseries.csv\n",
      "Loading data from /jukebox/graziano/coolCatIsaac/MEI/data/bids/derivatives/fmriprep/sub-041/ses-01/func/sub-041_ses-01_task-None_run-03_space-MNI152NLin2009cAsym_desc-preproc_bold.nii.gz\n",
      "shape of run 3 is (78, 93, 65, 429) \n",
      "\n",
      "run 3 shape: (78, 93, 65, 429)\n",
      "finished run 3\n",
      "run: sub-041_ses-01_task-None_run-04_desc-model_timeseries.csv\n",
      "Loading data from /jukebox/graziano/coolCatIsaac/MEI/data/bids/derivatives/fmriprep/sub-041/ses-01/func/sub-041_ses-01_task-None_run-04_space-MNI152NLin2009cAsym_desc-preproc_bold.nii.gz\n",
      "shape of run 4 is (78, 93, 65, 448) \n",
      "\n",
      "run 4 shape: (78, 93, 65, 448)\n",
      "finished run 4\n",
      "run: sub-041_ses-01_task-None_run-05_desc-model_timeseries.csv\n",
      "Loading data from /jukebox/graziano/coolCatIsaac/MEI/data/bids/derivatives/fmriprep/sub-041/ses-01/func/sub-041_ses-01_task-None_run-05_space-MNI152NLin2009cAsym_desc-preproc_bold.nii.gz\n",
      "shape of run 5 is (78, 93, 65, 389) \n",
      "\n",
      "run 5 shape: (78, 93, 65, 389)\n",
      "finished run 5\n",
      "run: sub-041_ses-01_task-None_run-06_desc-model_timeseries.csv\n",
      "Loading data from /jukebox/graziano/coolCatIsaac/MEI/data/bids/derivatives/fmriprep/sub-041/ses-01/func/sub-041_ses-01_task-None_run-06_space-MNI152NLin2009cAsym_desc-preproc_bold.nii.gz\n",
      "shape of run 6 is (78, 93, 65, 437) \n",
      "\n",
      "run 6 shape: (78, 93, 65, 437)\n",
      "finished run 6\n",
      "FINISHED YAY BEAST\n"
     ]
    }
   ],
   "source": [
    "for sub in sub_list:\n",
    "    sub_dic = preproc_isc_imgs(fmri_prep, sub, num_runs, space, fwhm, mask_img)\n",
    "    out_name = f'/{sub}_fwhm{fwhm}_conf_4D.npy'\n",
    "    np.save(preproc_dir + out_name, sub_dic)\n",
    "    "
   ]
  },
  {
   "cell_type": "code",
   "execution_count": 52,
   "id": "surgical-document",
   "metadata": {},
   "outputs": [
    {
     "data": {
      "text/plain": [
       "{1: array([[ -1.3308421 ,  -1.8497509 , -20.979082  , ...,  75.05837   ,\n",
       "          -9.248834  ,  -4.0591764 ],\n",
       "        [  2.0600126 ,   2.8966227 ,  13.453201  , ..., -26.495466  ,\n",
       "         -14.610349  ,  -6.0276093 ],\n",
       "        [ -3.8939173 ,  -1.7982583 ,  -6.0814857 , ...,  12.832326  ,\n",
       "          -4.240136  ,  -5.72469   ],\n",
       "        ...,\n",
       "        [ -3.9956717 ,  -4.06746   ,   2.1543388 , ...,  27.726925  ,\n",
       "           1.538464  ,  -3.943703  ],\n",
       "        [ 10.054712  ,   7.3101387 ,  10.219995  , ...,  13.160433  ,\n",
       "          -2.443624  ,  -3.679399  ],\n",
       "        [  0.96694165,  -0.9199329 ,  -6.42021   , ..., -21.596579  ,\n",
       "           0.9225996 ,   0.70494133]], dtype=float32),\n",
       " 2: array([[-1.05396175e+01, -1.10162697e+01, -7.30302858e+00, ...,\n",
       "         -6.71889591e+00,  1.07544365e+01,  1.49195375e+01],\n",
       "        [ 1.69935341e+01,  1.14945116e+01,  9.02016544e+00, ...,\n",
       "          2.16239166e+01,  1.77715645e+01,  1.49861612e+01],\n",
       "        [-9.06385720e-01,  7.12933004e-01,  1.37751734e+00, ...,\n",
       "         -5.95466080e+01,  2.56899524e+00,  2.11326337e+00],\n",
       "        ...,\n",
       "        [ 2.46140733e-01,  1.00467122e+00,  1.03049879e+01, ...,\n",
       "         -7.42733097e+00, -1.02310915e+01, -6.93796396e+00],\n",
       "        [-1.20962563e+01, -6.43647623e+00,  1.43028963e+00, ...,\n",
       "         -4.98446426e+01, -2.29288316e+00,  1.42633333e+01],\n",
       "        [ 1.23724735e+00,  9.72172059e-03, -4.98601770e+00, ...,\n",
       "          2.39075375e+00,  5.28061056e+00, -2.17402649e+00]], dtype=float32),\n",
       " 3: array([[ -0.71428275,   1.2014217 ,  -2.8721282 , ...,   3.5260837 ,\n",
       "          -0.92140514,  -1.8030264 ],\n",
       "        [ -5.518167  ,  -9.420143  ,  -1.2362887 , ...,  -3.33651   ,\n",
       "         -22.83433   , -14.760742  ],\n",
       "        [ -9.020525  , -11.60611   ,  -2.1164422 , ..., -26.305758  ,\n",
       "          13.805042  ,  15.110185  ],\n",
       "        ...,\n",
       "        [ -7.8341093 ,  -8.597176  ,  -2.6292787 , ...,  14.844317  ,\n",
       "           0.98705184,  -5.8222175 ],\n",
       "        [ -2.9250834 ,   4.1156483 , -16.971033  , ...,  -0.94405824,\n",
       "           8.458168  ,   8.975043  ],\n",
       "        [ -1.1619258 ,  -1.7583206 ,   2.1221251 , ..., -10.770608  ,\n",
       "           1.5273995 ,   1.5148956 ]], dtype=float32),\n",
       " 4: array([[-12.6866455, -14.2149725,  -4.239252 , ...,  18.783604 ,\n",
       "           2.652031 ,   4.744812 ],\n",
       "        [  9.513325 ,  11.214547 ,   3.8043106, ...,  15.196538 ,\n",
       "          -4.4752226,   2.2063792],\n",
       "        [ 11.038162 ,  13.89172  ,   9.928521 , ...,  26.833513 ,\n",
       "          -0.5562702,  -4.626374 ],\n",
       "        ...,\n",
       "        [ -1.8998618,  -6.399098 ,   1.0781674, ...,  -7.75715  ,\n",
       "           1.095638 , -11.401479 ],\n",
       "        [ 15.896342 ,  13.826035 ,   1.1266525, ..., -17.4585   ,\n",
       "         -26.333471 , -28.222925 ],\n",
       "        [ -4.6738157,  -5.3716826,   0.7014815, ...,   8.94194  ,\n",
       "           2.6070871,   6.2074122]], dtype=float32)}"
      ]
     },
     "execution_count": 52,
     "metadata": {},
     "output_type": "execute_result"
    }
   ],
   "source": [
    "sub_dic"
   ]
  },
  {
   "cell_type": "code",
   "execution_count": 29,
   "id": "literary-youth",
   "metadata": {},
   "outputs": [],
   "source": [
    "np.save(preproc_dir + out_name, sub_dic)"
   ]
  },
  {
   "cell_type": "code",
   "execution_count": 25,
   "id": "macro-bulletin",
   "metadata": {},
   "outputs": [
    {
     "data": {
      "text/plain": [
       "'/sub-029_fwhm6_conf_4D.npy'"
      ]
     },
     "execution_count": 25,
     "metadata": {},
     "output_type": "execute_result"
    }
   ],
   "source": [
    "out_name"
   ]
  },
  {
   "cell_type": "code",
   "execution_count": 54,
   "id": "passing-hierarchy",
   "metadata": {},
   "outputs": [
    {
     "data": {
      "text/plain": [
       "(383, 112179)"
      ]
     },
     "execution_count": 54,
     "metadata": {},
     "output_type": "execute_result"
    }
   ],
   "source": [
    "sub_dic[2].shape"
   ]
  },
  {
   "cell_type": "code",
   "execution_count": 30,
   "id": "bored-chancellor",
   "metadata": {},
   "outputs": [],
   "source": [
    "sub_dic_behav = np.load(os.path.join(behav_dir, f'sub-015_behav.npy'), allow_pickle=True).item()\n"
   ]
  },
  {
   "cell_type": "code",
   "execution_count": 34,
   "id": "finished-cabinet",
   "metadata": {},
   "outputs": [
    {
     "data": {
      "text/plain": [
       "dict_keys(['office', 'brushing'])"
      ]
     },
     "execution_count": 34,
     "metadata": {},
     "output_type": "execute_result"
    }
   ],
   "source": [
    "sub_dic_behav['Internal'].keys()"
   ]
  },
  {
   "cell_type": "code",
   "execution_count": null,
   "id": "alternate-active",
   "metadata": {},
   "outputs": [],
   "source": []
  }
 ],
 "metadata": {
  "kernelspec": {
   "display_name": "Python 3",
   "language": "python",
   "name": "python3"
  },
  "language_info": {
   "codemirror_mode": {
    "name": "ipython",
    "version": 3
   },
   "file_extension": ".py",
   "mimetype": "text/x-python",
   "name": "python",
   "nbconvert_exporter": "python",
   "pygments_lexer": "ipython3",
   "version": "3.7.9"
  }
 },
 "nbformat": 4,
 "nbformat_minor": 5
}
