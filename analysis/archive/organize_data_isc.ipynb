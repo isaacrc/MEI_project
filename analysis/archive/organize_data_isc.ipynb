{
 "cells": [
  {
   "cell_type": "markdown",
   "id": "satellite-thought",
   "metadata": {},
   "source": [
    "# Organize data"
   ]
  },
  {
   "cell_type": "markdown",
   "id": "focused-cathedral",
   "metadata": {},
   "source": [
    "This script accepts preprocessed nifti images and organizes the data for ISC"
   ]
  },
  {
   "cell_type": "markdown",
   "id": "frequent-thomson",
   "metadata": {},
   "source": [
    "## py conversion"
   ]
  },
  {
   "cell_type": "code",
   "execution_count": 33,
   "id": "important-texture",
   "metadata": {},
   "outputs": [],
   "source": [
    "#jupyter nbconvert --to python slurm_create-data_preproc.ipynb"
   ]
  },
  {
   "cell_type": "markdown",
   "id": "turkish-brand",
   "metadata": {},
   "source": [
    "## Imports "
   ]
  },
  {
   "cell_type": "code",
   "execution_count": 34,
   "id": "floppy-intensity",
   "metadata": {},
   "outputs": [
    {
     "name": "stderr",
     "output_type": "stream",
     "text": [
      "/jukebox/pkgs/PYGER/base/envs/0.11.0/lib/python3.7/site-packages/nilearn/datasets/__init__.py:90: FutureWarning: Fetchers from the nilearn.datasets module will be updated in version 0.9 to return python strings instead of bytes and Pandas dataframes instead of Numpy arrays.\n",
      "  \"Numpy arrays.\", FutureWarning)\n"
     ]
    }
   ],
   "source": [
    "import warnings\n",
    "import sys  \n",
    "import random\n",
    "# import logging\n",
    "\n",
    "import deepdish as dd\n",
    "import numpy as np\n",
    "\n",
    "import brainiak.eventseg.event\n",
    "import nibabel as nib\n",
    "import nilearn as nil\n",
    "# Import a function from BrainIAK to simulate fMRI data\n",
    "import brainiak.utils.fmrisim as sim  \n",
    "\n",
    "from nilearn.input_data import NiftiMasker\n",
    "\n",
    "import scipy.io\n",
    "from scipy import stats\n",
    "from scipy.stats import norm, zscore, pearsonr\n",
    "from scipy.signal import gaussian, convolve\n",
    "\n",
    "from matplotlib import pyplot as plt\n",
    "from mpl_toolkits.mplot3d import Axes3D\n",
    "import matplotlib.patches as patches\n",
    "import seaborn as sns \n",
    "\n",
    "\n",
    "\n",
    "from brainiak import image, io\n",
    "from scipy.stats import stats\n",
    "import nibabel as nib\n",
    "import numpy as np\n",
    "from matplotlib import pyplot as plt\n",
    "import pandas as pd\n",
    "\n",
    "from nilearn import datasets, plotting\n",
    "from nilearn.input_data import NiftiSpheresMasker\n",
    "\n",
    "from nilearn.glm.first_level import FirstLevelModel\n",
    "from nilearn.glm.first_level import make_first_level_design_matrix\n",
    "from nilearn.image import concat_imgs, resample_img, mean_img,index_img\n",
    "from nilearn import image\n",
    "from nilearn import masking\n",
    "from nilearn.plotting import view_img\n",
    "from nilearn.image import resample_to_img\n",
    "\n",
    "from nilearn.image import concat_imgs, resample_img, mean_img\n",
    "from nilearn.plotting import view_img\n",
    "\n",
    "import numpy as np \n",
    "import os\n",
    "import os.path\n",
    "import scipy.io\n",
    "import nibabel as nib\n",
    "from nilearn.input_data import NiftiMasker\n",
    "from nilearn.masking import compute_epi_mask, compute_brain_mask\n",
    "from sklearn import preprocessing\n",
    "from sklearn.preprocessing import StandardScaler\n",
    "from sklearn.model_selection import PredefinedSplit\n",
    "from copy import deepcopy"
   ]
  },
  {
   "cell_type": "code",
   "execution_count": 35,
   "id": "known-offering",
   "metadata": {},
   "outputs": [],
   "source": [
    "random.seed(10)"
   ]
  },
  {
   "cell_type": "markdown",
   "id": "tracked-dallas",
   "metadata": {},
   "source": [
    "## custom helper functions "
   ]
  },
  {
   "cell_type": "code",
   "execution_count": null,
   "id": "activated-decrease",
   "metadata": {},
   "outputs": [],
   "source": []
  },
  {
   "cell_type": "markdown",
   "id": "acknowledged-hearing",
   "metadata": {},
   "source": [
    "## directories "
   ]
  },
  {
   "cell_type": "code",
   "execution_count": 36,
   "id": "geological-nothing",
   "metadata": {},
   "outputs": [],
   "source": [
    "top_dir = '/jukebox/graziano/coolCatIsaac/MEI'\n",
    "data_dir = top_dir + \"/data\"\n",
    "work_dir = data_dir + '/work'\n",
    "mask_dir = work_dir + '/masks'\n",
    "behav_dir = top_dir + '/data/behavioral'\n",
    "rois_dir = data_dir + \"/rois\"\n",
    "fmri_prep = data_dir + '/bids/derivatives/fmriprep'\n",
    "conf_dir = work_dir + '/confs'\n",
    "preproc_dir = work_dir + '/preproc'\n",
    "isc_dir = work_dir + '/isc_dat'\n"
   ]
  },
  {
   "cell_type": "markdown",
   "id": "arctic-element",
   "metadata": {},
   "source": [
    "## main vars "
   ]
  },
  {
   "cell_type": "code",
   "execution_count": 61,
   "id": "bearing-istanbul",
   "metadata": {},
   "outputs": [],
   "source": [
    "### sub_list ###\n",
    "\"\"\"\n",
    "\n",
    "========================================================\n",
    "===== ~~~ Summary ALL ~~~ ===== \n",
    "========================================================\n",
    "Initially exclude: sub-001, sub-003, sub-011, sub-012, sub-014, sub-015, sub-029 (3+ runs still available tho)\n",
    "Maybe exclude: sub-014, sub-024, sub-037 (No button presses)\n",
    "Maybe exclude: sub-020, sub-022, sub-031\n",
    "total exclude = 10\n",
    "\n",
    "\n",
    "~~~~~~~ BEHAVIORAL ~~~~~~~~~~\n",
    "~~~ Summary behavioral ~~~\n",
    "\n",
    "========================================================\n",
    "========================================================\n",
    "No button presses: sub-014, sub-024, sub-037 \n",
    "\n",
    "========================================================\n",
    "========================================================\n",
    "sub-003: Extra row observed for external, which was manually deleted. Should be fine to rerun -- i removed from bad_subs\n",
    "    - current brushing: 87, TRUE: 88 for THREE runs. last run when there was an issue and scan had to be restarted\n",
    "    - Scan 6 == 1 run of brushing\n",
    "    - Scan 7 = 3 runs of brushing \n",
    "    - ** no idea when run 7 was started tho! will prolly need to throw out! For now we can process all\n",
    "sub-014: NO internal OR external bpress, curious! ---should be fixed now\n",
    "    - changed excel data to include two null columns\n",
    "    - ALSO only 30 TRs for the second run epi data. i went into the room to adjust runny eyes. Data for this run is not usable. but after should\n",
    "      be okay if u want to put in the effort \n",
    "sub-015: less than 24 runs ---should be fixed now w custom code (but keep out of main run cuz will throw an error otherwise )\n",
    "    - SUMMARY: need to exclude the office run 3 for fMRI but can include run 3 in behavioral, no data at all for CAKE\n",
    "    - DID NOT add the 'mov_name' component to the custom code, will need to implment from current iteration\n",
    "    - **** Use external, ignore internal for now... cuz internal is fuqd. Can preprocess all 7 tho\n",
    "\n",
    "~~~~~~~ FMRI ~~~~~~~~~~\n",
    "~~~ Summary fMRI ~~~\n",
    "sub002: \n",
    " - appended two TRs onto the last run, copied from the third to last TR. should be good to use\n",
    "sub-003, sub-012, sub-014, sub-015, sub-029: \n",
    " - Five runs usable, will need to incorporate them at some point \n",
    "sub-001: external usable - first three runs \n",
    "sub-011: preprocessed as sub-041\n",
    "\n",
    "========================================================\n",
    "========================================================\n",
    "subject 002: (usable, with adjustment)\n",
    "    only has 92 INSTEAD OF 94 TRs for the FINAL run of shrek. i think cuz i turned off the scanner\n",
    "    too soon, which didn't account for 4 TRs of buffer? Yep! end tr is 390, (388, 112179). so duplicate TRs maybe.\n",
    "    - Temporarily eliminate! or duplicate TRs \n",
    "    \n",
    "sub-003: (usable, 5 runs)\n",
    "- Scan 6 == 1 run of brushing\n",
    "- Scan 7 = 3 runs of brushing \n",
    "*** need to re-preprocess, then append 6 and 7 together; or just throw out this one cuz idk when scan started\n",
    "\n",
    "sub-011: (usable)\n",
    "- not preprocessed\n",
    "\n",
    "sub-012 (5 runs usable, one run idk)\n",
    "- I'll need to post process. It seems that an earbud fell out while reading the directions for run 5 \n",
    "summary: the fifth run  needs to be discarded. all others are usable.\n",
    "see the behav data: \n",
    "sub_dic['External']['oragami']\n",
    "{'run-1': {'start_tr': 94, 'end_tr': 188, 'bpress': -1},\n",
    " 'run-2': {'start_tr': 188, 'end_tr': 282, 'bpress': [100.81657150003593]},\n",
    " 'run-3': {'start_tr': 282, 'end_tr': 376, 'bpress': [88.26579949003644]},\n",
    " 'run-4': {'start_tr': 378,\n",
    "  'end_tr': 472,\n",
    "  }\n",
    "- you can see taht the start TR is 94!! that's becuz i had to go into the scan room during the instructions screen.\n",
    "- this is producing the wrong indexing -- becuz the scan doesn't contain enough TRs according to the behavioral data:\n",
    "    - run 4 of shrek only has 12 TRs because we start at TR 94.\n",
    "- im not sure when the scan actually started, but if i wanted to try to include i could \n",
    "    set the start TR to 1 -- essentially suggesting that the first TR was collected on the external 'waiting \n",
    "    for TR' flip. might as well try at some point, but exclude for now\n",
    "    - this would involve just subtracting 94 from all start end end TRs i think\n",
    "See the excel behavioral file for further notes notes\n",
    "this \n",
    "\n",
    "sub-014 - no button press data and 7 runs (5 runs usable, but no bpress)\n",
    "    - same problem as above -- i went into the scanner room during the instructions period to wipe eyes\n",
    "    - this problem occured on run 2.\n",
    "    {'run-1': {'start_tr': 237, 'end_tr': 323, 'bpress': -1},\n",
    "     'run-2': {'start_tr': 329, 'end_tr': 415, 'bpress': -1},\n",
    "     'run-3': {'start_tr': 417, 'end_tr': 503, 'bpress': -1},\n",
    "     'run-4': {'start_tr': 509, 'end_tr': 595, 'bpress': -1}}\n",
    "     \n",
    "\n",
    "sub-029: (5 runs usable)\n",
    "- scanner malfunction, maybe possible to stitch together run 3/4 cuz i started on the *tenth* TR\n",
    "- malfunction on cake, the third movie of the external condition. SO throw out runs 3+4; use\n",
    "    runs 1, 2, 4, 5, 7\n",
    "-\n",
    "\n",
    "========================================================\n",
    "========================================================\n",
    "Left handed: (sub-020, sub-022, sub-032)\n",
    "    - sub-020: also no button presses, appeared to be awake tho\n",
    "    - sub-022: lefty\n",
    "    - sub-031: ambidexterious, great data\n",
    "========================================================\n",
    "========================================================\n",
    "\"\"\"\n",
    "\n",
    "## adjusted sublist \n",
    "sub_list = [\n",
    "    'sub-002', 'sub-004', 'sub-005','sub-006','sub-007','sub-008','sub-009','sub-010',\n",
    "    'sub-013','sub-016','sub-017','sub-018','sub-019','sub-020','sub-021',\n",
    "    'sub-022','sub-023','sub-024','sub-025','sub-026','sub-027','sub-028','sub-030','sub-031','sub-032',\n",
    "    'sub-033','sub-034','sub-035','sub-036','sub-037','sub-038','sub-039','sub-040'\n",
    "]\n",
    "sub_list = ['sub-007', 'sub-015', 'sub-041', 'sub-012', 'sub-014', 'sub-029','sub-038','sub-039','sub-040']\n",
    "\n",
    "###### LOADING VARS #######\n",
    "\n",
    "\n"
   ]
  },
  {
   "cell_type": "code",
   "execution_count": 44,
   "id": "periodic-pendant",
   "metadata": {},
   "outputs": [],
   "source": [
    "## TR length of each movie ## \n",
    "mov_len_dic = {\n",
    "'oragami' :  82,\n",
    "'shrek' : 90,\n",
    "'sherlock' : 98,\n",
    "'brushing' : 88,\n",
    "'cake' : 99,\n",
    "'office' : 102    \n",
    "}\n",
    "\n",
    "## number of voxels\n",
    "voxel_num = 112179\n",
    "\n",
    "## load sub inc \n",
    "sub_run_inc = np.load(behav_dir + '/sub_run_inc.npy', allow_pickle = True).item()"
   ]
  },
  {
   "cell_type": "code",
   "execution_count": 45,
   "id": "computational-clock",
   "metadata": {},
   "outputs": [
    {
     "data": {
      "text/plain": [
       "True"
      ]
     },
     "execution_count": 45,
     "metadata": {},
     "output_type": "execute_result"
    }
   ],
   "source": [
    "sub_run_inc['sub-015'][1]"
   ]
  },
  {
   "cell_type": "code",
   "execution_count": 47,
   "id": "olympic-davis",
   "metadata": {},
   "outputs": [],
   "source": [
    "## how many TRs on the end? ## \n",
    "tr_buffer = 4 "
   ]
  },
  {
   "cell_type": "code",
   "execution_count": 62,
   "id": "narrative-modern",
   "metadata": {
    "scrolled": true
   },
   "outputs": [
    {
     "name": "stdout",
     "output_type": "stream",
     "text": [
      "start sub-015\n",
      "movie: sherlock with shape (102, 112179, 0)\n"
     ]
    },
    {
     "ename": "AssertionError",
     "evalue": "fMRI error! 98 verse 102",
     "output_type": "error",
     "traceback": [
      "\u001b[0;31m---------------------------------------------------------------------------\u001b[0m",
      "\u001b[0;31mAssertionError\u001b[0m                            Traceback (most recent call last)",
      "\u001b[0;32m<ipython-input-62-81fd7953ef61>\u001b[0m in \u001b[0;36m<module>\u001b[0;34m\u001b[0m\n\u001b[1;32m     46\u001b[0m \u001b[0;34m\u001b[0m\u001b[0m\n\u001b[1;32m     47\u001b[0m             \u001b[0;31m# fMRI data check #\u001b[0m\u001b[0;34m\u001b[0m\u001b[0;34m\u001b[0m\u001b[0;34m\u001b[0m\u001b[0m\n\u001b[0;32m---> 48\u001b[0;31m             \u001b[0;32massert\u001b[0m \u001b[0mrun_slice\u001b[0m\u001b[0;34m.\u001b[0m\u001b[0mshape\u001b[0m\u001b[0;34m[\u001b[0m\u001b[0;36m0\u001b[0m\u001b[0;34m]\u001b[0m \u001b[0;34m==\u001b[0m \u001b[0mmov_runs\u001b[0m\u001b[0;34m.\u001b[0m\u001b[0mshape\u001b[0m\u001b[0;34m[\u001b[0m\u001b[0;36m0\u001b[0m\u001b[0;34m]\u001b[0m\u001b[0;34m,\u001b[0m \u001b[0;34mf'fMRI error! {run_slice.shape[0]} verse {mov_runs.shape[0]}'\u001b[0m\u001b[0;34m\u001b[0m\u001b[0;34m\u001b[0m\u001b[0m\n\u001b[0m\u001b[1;32m     49\u001b[0m \u001b[0;34m\u001b[0m\u001b[0m\n\u001b[1;32m     50\u001b[0m             \u001b[0;31m# Stack the run slice with the mov_runs array\u001b[0m\u001b[0;34m\u001b[0m\u001b[0;34m\u001b[0m\u001b[0;34m\u001b[0m\u001b[0m\n",
      "\u001b[0;31mAssertionError\u001b[0m: fMRI error! 98 verse 102"
     ]
    }
   ],
   "source": [
    "external = {}\n",
    "internal = {}\n",
    "reshp_ext = {}\n",
    "reshp_int = {}\n",
    "\n",
    "for sub in sub_list:\n",
    "    ### fMRI load ###\n",
    "    sub_dic_fmri = np.load(f'{preproc_dir}/{sub}_fwhm6_conf.npy', allow_pickle=True).item()\n",
    "    print(f'start {sub}')\n",
    "    ## BEHAVIORAL ##\n",
    "    sub_dic_behav = np.load(os.path.join(behav_dir, f'{sub}_behav.npy'), allow_pickle=True).item()\n",
    "    \n",
    "    # Create subject number \n",
    "    sub_num = int(sub[-3:])\n",
    "\n",
    "    for epi_index in range(0, 6):\n",
    "        # Add one to the index to create 1-6 runs\n",
    "        epi_run = epi_index + 1\n",
    "        \n",
    "        # check if run should be included \n",
    "        if not sub_run_inc[sub][epi_run]: continue\n",
    "\n",
    "        # Get the movie name\n",
    "        mov_name = sub_dic_behav['mov_order'][epi_index]\n",
    "\n",
    "        # Create an empty array for the movie runs\n",
    "        mov_runs = np.zeros((mov_len_dic[mov_name] + tr_buffer, voxel_num, 0))\n",
    "\n",
    "        print(f'movie: {mov_name} with shape {mov_runs.shape}')\n",
    "\n",
    "        # Get the fMRI run for the current epi_index\n",
    "        fmri_run = sub_dic_fmri[epi_run]\n",
    "        \n",
    "        # Loop over runs\n",
    "        for run in range(1, 5):\n",
    "            # Is this an internal or external run?\n",
    "            key = 'External' if (sub_num % 2 == 1 and epi_index < 3) or (sub_num % 2 == 0 and epi_index >= 3) else 'Internal'\n",
    "            \n",
    "            # Begin slicing #\n",
    "            start_tr = sub_dic_behav[key][mov_name][f'run-{run:d}']['start_tr']\n",
    "            end_tr = sub_dic_behav[key][mov_name][f'run-{run:d}']['end_tr']\n",
    "            run_slice = fmri_run[start_tr:end_tr, :]\n",
    "            \n",
    "            # BEHAV checks #\n",
    "            assert mov_runs.shape[0] == mov_len_dic[mov_name] + tr_buffer, f'behavioral ERROR: movie: {mov_name}, epi {epi_run}, run: {run}'\n",
    "\n",
    "            # fMRI data check #\n",
    "            assert run_slice.shape[0] == mov_runs.shape[0], f'fMRI error! {run_slice.shape[0]} verse {mov_runs.shape[0]}'\n",
    "        \n",
    "            # Stack the run slice with the mov_runs array\n",
    "            mov_runs = np.dstack((mov_runs, run_slice))\n",
    "            print(f'stacked! {mov_runs.shape}')\n",
    "\n",
    "        \n",
    "        # set outer loop #\n",
    "        if key == 'External':\n",
    "            target_dict = external\n",
    "            reshp_dict = reshp_ext\n",
    "        else:\n",
    "            target_dict = internal\n",
    "            reshp_dict = reshp_int\n",
    "\n",
    "        if mov_name not in target_dict:\n",
    "            target_dict[mov_name] = mov_runs\n",
    "            reshp_dict[mov_name] = 4\n",
    "        else:\n",
    "            target_dict[mov_name] = np.dstack((target_dict[mov_name], mov_runs))\n",
    "            reshp_dict[mov_name] += 4\n",
    "    print(f'\\n subject {sub} finished \\n')\n",
    "\n",
    "            \n",
    "print('done')\n",
    "            \n",
    "            \n",
    "            \n",
    "            \n",
    "            \n",
    "            "
   ]
  },
  {
   "cell_type": "code",
   "execution_count": 59,
   "id": "civic-stocks",
   "metadata": {},
   "outputs": [
    {
     "data": {
      "text/plain": [
       "{'sherlock': 8,\n",
       " 'oragami': 8,\n",
       " 'shrek': 4,\n",
       " 'cake': 0,\n",
       " 'brushing': 4,\n",
       " 'office': 4}"
      ]
     },
     "execution_count": 59,
     "metadata": {},
     "output_type": "execute_result"
    }
   ],
   "source": [
    "reshp_ext"
   ]
  },
  {
   "cell_type": "markdown",
   "id": "horizontal-illustration",
   "metadata": {},
   "source": [
    "# Reshape Dictionary"
   ]
  },
  {
   "cell_type": "code",
   "execution_count": 9,
   "id": "brazilian-begin",
   "metadata": {},
   "outputs": [],
   "source": [
    "# .transpose(0, 1, 3, 2)"
   ]
  },
  {
   "cell_type": "code",
   "execution_count": 52,
   "id": "operational-interview",
   "metadata": {},
   "outputs": [],
   "source": [
    "def reshape_dictionary(data, num_repeats = 4):\n",
    "    \"\"\"\n",
    "    purpose: create a 4d array sorted into x runs per subject\n",
    "    input: dictionary of stacked subject data \n",
    "    output: 4d array sorted into runs\n",
    "    \"\"\"\n",
    "    output_dict = {}\n",
    "    for mov in data:\n",
    "        print(f'{mov} size is {data[mov].shape}')\n",
    "        dim_3 = num_repeats\n",
    "        dim_4 = int(data[mov].shape[2] / num_repeats)\n",
    "        \n",
    "        if key not in output_dict:\n",
    "            output_dict[mov] = data[mov].reshape(*data[mov].shape[:-1], dim_3, dim_4, order = 'F')\n",
    "        \n",
    "        #print(np.array_equal(data[mov][:, :, 1], output_dict[mov][:, :, 0, 1]))\n",
    "        #print(np.array_equal(data[mov][:, :, 17], output_dict[mov][:, :, 1, 0]))\n",
    "        print(np.array_equal(data[mov][:, :, 4], output_dict[mov][:, :, 0, 1]))\n",
    "        print(f'reshaped {output_dict[mov].shape}')\n",
    "    print()\n",
    "    return output_dict\n",
    "\n",
    "    "
   ]
  },
  {
   "cell_type": "code",
   "execution_count": 54,
   "id": "talented-nightlife",
   "metadata": {},
   "outputs": [
    {
     "ename": "NameError",
     "evalue": "name 'ext_isc' is not defined",
     "output_type": "error",
     "traceback": [
      "\u001b[0;31m---------------------------------------------------------------------------\u001b[0m",
      "\u001b[0;31mNameError\u001b[0m                                 Traceback (most recent call last)",
      "\u001b[0;32m<ipython-input-54-6191a82a102a>\u001b[0m in \u001b[0;36m<module>\u001b[0;34m\u001b[0m\n\u001b[0;32m----> 1\u001b[0;31m \u001b[0mext_isc\u001b[0m\u001b[0;34m\u001b[0m\u001b[0;34m\u001b[0m\u001b[0m\n\u001b[0m",
      "\u001b[0;31mNameError\u001b[0m: name 'ext_isc' is not defined"
     ]
    }
   ],
   "source": [
    "def reshape_dictionary_2(data, num_repeats = 4):\n",
    "    \"\"\"\n",
    "    purpose: create a 4d array sorted into x runs per subject\n",
    "    input: dictionary of stacked subject data \n",
    "    output: 4d array sorted into runs\n",
    "    \"\"\"\n",
    "    output_dict = {}\n",
    "    for mov in data:\n",
    "        print(f'{mov} size is {data[mov].shape}')\n",
    "        dim_3 = num_repeats\n",
    "        dim_4 = int(data[mov].shape[2] / num_repeats)\n",
    "        \n",
    "        if key not in output_dict:\n",
    "            output_dict[mov] = data[mov].reshape(*data[mov].shape[:-1], dim_3, dim_4, order = 'F')\n",
    "        \n",
    "        #print(np.array_equal(data[mov][:, :, 1], output_dict[mov][:, :, 0, 1]))\n",
    "        #print(np.array_equal(data[mov][:, :, 17], output_dict[mov][:, :, 1, 0]))\n",
    "        print(np.array_equal(data[mov][:, :, 4], output_dict[mov][:, :, 0, 1]))\n",
    "        print(f'reshaped {output_dict[mov].shape}')\n",
    "    print()\n",
    "    return output_dict\n",
    "\n",
    "    "
   ]
  },
  {
   "cell_type": "code",
   "execution_count": 60,
   "id": "fourth-plain",
   "metadata": {},
   "outputs": [
    {
     "data": {
      "text/plain": [
       "12"
      ]
     },
     "execution_count": 60,
     "metadata": {},
     "output_type": "execute_result"
    }
   ],
   "source": [
    "external['sherlock'].shape[2]"
   ]
  },
  {
   "cell_type": "code",
   "execution_count": 53,
   "id": "automatic-transition",
   "metadata": {},
   "outputs": [
    {
     "name": "stdout",
     "output_type": "stream",
     "text": [
      "sherlock size is (102, 112179, 12)\n",
      "True\n",
      "reshaped (102, 112179, 4, 3)\n",
      "oragami size is (86, 112179, 12)\n",
      "True\n",
      "reshaped (86, 112179, 4, 3)\n",
      "shrek size is (94, 112179, 8)\n",
      "True\n",
      "reshaped (94, 112179, 4, 2)\n",
      "cake size is (103, 112179, 4)\n"
     ]
    },
    {
     "ename": "IndexError",
     "evalue": "index 4 is out of bounds for axis 2 with size 4",
     "output_type": "error",
     "traceback": [
      "\u001b[0;31m---------------------------------------------------------------------------\u001b[0m",
      "\u001b[0;31mIndexError\u001b[0m                                Traceback (most recent call last)",
      "\u001b[0;32m<ipython-input-53-c78e2e15f0dc>\u001b[0m in \u001b[0;36m<module>\u001b[0;34m\u001b[0m\n\u001b[0;32m----> 1\u001b[0;31m \u001b[0mext_isc\u001b[0m \u001b[0;34m=\u001b[0m \u001b[0mreshape_dictionary\u001b[0m\u001b[0;34m(\u001b[0m\u001b[0mexternal\u001b[0m\u001b[0;34m)\u001b[0m\u001b[0;34m\u001b[0m\u001b[0;34m\u001b[0m\u001b[0m\n\u001b[0m\u001b[1;32m      2\u001b[0m \u001b[0mint_isc\u001b[0m \u001b[0;34m=\u001b[0m \u001b[0mreshape_dictionary\u001b[0m\u001b[0;34m(\u001b[0m\u001b[0minternal\u001b[0m\u001b[0;34m)\u001b[0m\u001b[0;34m\u001b[0m\u001b[0;34m\u001b[0m\u001b[0m\n",
      "\u001b[0;32m<ipython-input-52-4a2c4aff2f77>\u001b[0m in \u001b[0;36mreshape_dictionary\u001b[0;34m(data, num_repeats)\u001b[0m\n\u001b[1;32m     16\u001b[0m         \u001b[0;31m#print(np.array_equal(data[mov][:, :, 1], output_dict[mov][:, :, 0, 1]))\u001b[0m\u001b[0;34m\u001b[0m\u001b[0;34m\u001b[0m\u001b[0;34m\u001b[0m\u001b[0m\n\u001b[1;32m     17\u001b[0m         \u001b[0;31m#print(np.array_equal(data[mov][:, :, 17], output_dict[mov][:, :, 1, 0]))\u001b[0m\u001b[0;34m\u001b[0m\u001b[0;34m\u001b[0m\u001b[0;34m\u001b[0m\u001b[0m\n\u001b[0;32m---> 18\u001b[0;31m         \u001b[0mprint\u001b[0m\u001b[0;34m(\u001b[0m\u001b[0mnp\u001b[0m\u001b[0;34m.\u001b[0m\u001b[0marray_equal\u001b[0m\u001b[0;34m(\u001b[0m\u001b[0mdata\u001b[0m\u001b[0;34m[\u001b[0m\u001b[0mmov\u001b[0m\u001b[0;34m]\u001b[0m\u001b[0;34m[\u001b[0m\u001b[0;34m:\u001b[0m\u001b[0;34m,\u001b[0m \u001b[0;34m:\u001b[0m\u001b[0;34m,\u001b[0m \u001b[0;36m4\u001b[0m\u001b[0;34m]\u001b[0m\u001b[0;34m,\u001b[0m \u001b[0moutput_dict\u001b[0m\u001b[0;34m[\u001b[0m\u001b[0mmov\u001b[0m\u001b[0;34m]\u001b[0m\u001b[0;34m[\u001b[0m\u001b[0;34m:\u001b[0m\u001b[0;34m,\u001b[0m \u001b[0;34m:\u001b[0m\u001b[0;34m,\u001b[0m \u001b[0;36m0\u001b[0m\u001b[0;34m,\u001b[0m \u001b[0;36m1\u001b[0m\u001b[0;34m]\u001b[0m\u001b[0;34m)\u001b[0m\u001b[0;34m)\u001b[0m\u001b[0;34m\u001b[0m\u001b[0;34m\u001b[0m\u001b[0m\n\u001b[0m\u001b[1;32m     19\u001b[0m         \u001b[0mprint\u001b[0m\u001b[0;34m(\u001b[0m\u001b[0;34mf'reshaped {output_dict[mov].shape}'\u001b[0m\u001b[0;34m)\u001b[0m\u001b[0;34m\u001b[0m\u001b[0;34m\u001b[0m\u001b[0m\n\u001b[1;32m     20\u001b[0m     \u001b[0mprint\u001b[0m\u001b[0;34m(\u001b[0m\u001b[0;34m)\u001b[0m\u001b[0;34m\u001b[0m\u001b[0;34m\u001b[0m\u001b[0m\n",
      "\u001b[0;31mIndexError\u001b[0m: index 4 is out of bounds for axis 2 with size 4"
     ]
    }
   ],
   "source": [
    "ext_isc = reshape_dictionary(external)\n",
    "int_isc = reshape_dictionary(internal)"
   ]
  },
  {
   "cell_type": "code",
   "execution_count": 180,
   "id": "approximate-video",
   "metadata": {},
   "outputs": [
    {
     "data": {
      "text/plain": [
       "(94, 112179)"
      ]
     },
     "execution_count": 180,
     "metadata": {},
     "output_type": "execute_result"
    }
   ],
   "source": [
    "external['shrek'][:, :, 0].shape"
   ]
  },
  {
   "cell_type": "code",
   "execution_count": 173,
   "id": "seventh-standard",
   "metadata": {},
   "outputs": [
    {
     "data": {
      "text/plain": [
       "(94, 112179)"
      ]
     },
     "execution_count": 173,
     "metadata": {},
     "output_type": "execute_result"
    }
   ],
   "source": [
    "ext_isc['shrek'][...,0,0].shape"
   ]
  },
  {
   "cell_type": "code",
   "execution_count": 164,
   "id": "restricted-representation",
   "metadata": {},
   "outputs": [
    {
     "data": {
      "text/plain": [
       "(94, 112179)"
      ]
     },
     "execution_count": 164,
     "metadata": {},
     "output_type": "execute_result"
    }
   ],
   "source": [
    "ext_isc['shrek'][:,:,0,1].shape"
   ]
  },
  {
   "cell_type": "code",
   "execution_count": 12,
   "id": "incorporate-lyric",
   "metadata": {},
   "outputs": [],
   "source": [
    "np.savez_compressed(f'{isc_dir}/ext_isc.npz', **ext_isc)\n"
   ]
  },
  {
   "cell_type": "code",
   "execution_count": 12,
   "id": "closed-animal",
   "metadata": {},
   "outputs": [],
   "source": [
    "np.savez_compressed(f'{isc_dir}/int_isc.npz', **int_isc)"
   ]
  },
  {
   "cell_type": "code",
   "execution_count": null,
   "id": "different-witness",
   "metadata": {},
   "outputs": [],
   "source": [
    "loaded_int_isc = np.load(f'{isc_dir}/int_isc.npz')\n",
    "loaded_ext_isc = np.load(f'{isc_dir}/ext_isc.npz')\n",
    "\n",
    "# Access the arrays within the loaded files\n",
    "int_isc = loaded_int_isc['arr_0']\n",
    "ext_isc = loaded_ext_isc['arr_0']"
   ]
  },
  {
   "cell_type": "code",
   "execution_count": null,
   "id": "diagnostic-filing",
   "metadata": {},
   "outputs": [],
   "source": []
  },
  {
   "cell_type": "code",
   "execution_count": null,
   "id": "satisfactory-memory",
   "metadata": {},
   "outputs": [],
   "source": []
  },
  {
   "cell_type": "markdown",
   "id": "agricultural-tiffany",
   "metadata": {},
   "source": [
    "# isc "
   ]
  },
  {
   "cell_type": "code",
   "execution_count": 216,
   "id": "derived-catch",
   "metadata": {},
   "outputs": [
    {
     "ename": "ImportError",
     "evalue": "cannot import name 'load_boolean_mask' from 'brainiak' (/jukebox/pkgs/PYGER/base/envs/0.11.0/lib/python3.7/site-packages/brainiak/__init__.py)",
     "output_type": "error",
     "traceback": [
      "\u001b[0;31m---------------------------------------------------------------------------\u001b[0m",
      "\u001b[0;31mImportError\u001b[0m                               Traceback (most recent call last)",
      "\u001b[0;32m<ipython-input-216-d68e0b072ebd>\u001b[0m in \u001b[0;36m<module>\u001b[0;34m\u001b[0m\n\u001b[1;32m      1\u001b[0m \u001b[0;31m# Brainiak #\u001b[0m\u001b[0;34m\u001b[0m\u001b[0;34m\u001b[0m\u001b[0;34m\u001b[0m\u001b[0m\n\u001b[0;32m----> 2\u001b[0;31m \u001b[0;32mfrom\u001b[0m \u001b[0mbrainiak\u001b[0m \u001b[0;32mimport\u001b[0m \u001b[0mimage\u001b[0m\u001b[0;34m,\u001b[0m \u001b[0mio\u001b[0m\u001b[0;34m,\u001b[0m \u001b[0mload_boolean_mask\u001b[0m\u001b[0;34m,\u001b[0m \u001b[0mload_images\u001b[0m\u001b[0;34m\u001b[0m\u001b[0;34m\u001b[0m\u001b[0m\n\u001b[0m\u001b[1;32m      3\u001b[0m from brainiak.isc import (isc, isfc, bootstrap_isc, permutation_isc,\n\u001b[1;32m      4\u001b[0m                           \u001b[0mtimeshift_isc\u001b[0m\u001b[0;34m,\u001b[0m \u001b[0mphaseshift_isc\u001b[0m\u001b[0;34m,\u001b[0m\u001b[0;34m\u001b[0m\u001b[0;34m\u001b[0m\u001b[0m\n\u001b[1;32m      5\u001b[0m                           compute_summary_statistic)\n",
      "\u001b[0;31mImportError\u001b[0m: cannot import name 'load_boolean_mask' from 'brainiak' (/jukebox/pkgs/PYGER/base/envs/0.11.0/lib/python3.7/site-packages/brainiak/__init__.py)"
     ]
    }
   ],
   "source": [
    "# Brainiak # \n",
    "from brainiak import image, io, \n",
    "from brainiak.isc import (isc, isfc, bootstrap_isc, permutation_isc,\n",
    "                          timeshift_isc, phaseshift_isc,\n",
    "                          compute_summary_statistic)\n",
    "from brainiak.io import load_boolean_mask, load_images\n",
    "from statsmodels.stats.multitest import multipletests\n",
    "from nilearn.plotting import plot_stat_map\n",
    "%matplotlib inline"
   ]
  },
  {
   "cell_type": "code",
   "execution_count": 217,
   "id": "familiar-hello",
   "metadata": {},
   "outputs": [],
   "source": []
  },
  {
   "cell_type": "code",
   "execution_count": 214,
   "id": "remarkable-upgrade",
   "metadata": {},
   "outputs": [],
   "source": []
  },
  {
   "cell_type": "code",
   "execution_count": 223,
   "id": "particular-idaho",
   "metadata": {},
   "outputs": [],
   "source": []
  },
  {
   "cell_type": "code",
   "execution_count": 220,
   "id": "liquid-brass",
   "metadata": {},
   "outputs": [],
   "source": [
    "run = 1\n",
    "movie = 'office'\n",
    "## mask image ##\n",
    "ref_nii = nib.load(mask_dir + \"/whole_b_bnk.nii.gz\")\n",
    "mask_img = load_boolean_mask(mask_dir + \"/whole_b_bnk.nii.gz\")\n",
    "\n",
    "# Get coordinates of mask voxels in original image\n",
    "mask_coords = np.where(mask_img)"
   ]
  },
  {
   "cell_type": "code",
   "execution_count": null,
   "id": "entertaining-heating",
   "metadata": {},
   "outputs": [],
   "source": [
    "# Create empty 3D image and populate\n",
    "# with thresholded ISC values\n",
    "isc_img = np.full(ref_nii.shape, np.nan)\n",
    "isc_img[mask_coords] = isc_thresh\n",
    "\n",
    "# Convert to NIfTI image\n",
    "isc_nii = nib.Nifti1Image(isc_img, ref_nii.affine, ref_nii.header)"
   ]
  },
  {
   "cell_type": "code",
   "execution_count": null,
   "id": "public-unemployment",
   "metadata": {},
   "outputs": [],
   "source": []
  },
  {
   "cell_type": "code",
   "execution_count": 142,
   "id": "involved-weekly",
   "metadata": {},
   "outputs": [
    {
     "data": {
      "text/plain": [
       "(106, 112179, 17, 4)"
      ]
     },
     "execution_count": 142,
     "metadata": {},
     "output_type": "execute_result"
    }
   ],
   "source": [
    "ext_isc[movie].shape"
   ]
  },
  {
   "cell_type": "code",
   "execution_count": 207,
   "id": "manual-examination",
   "metadata": {},
   "outputs": [
    {
     "name": "stdout",
     "output_type": "stream",
     "text": [
      "run 1 shape is: (106, 112179, 17)\n"
     ]
    }
   ],
   "source": [
    "# select movie and run from loaded data \n",
    "data = ext_isc[movie][...,run,:]\n",
    "print(f'run {run} shape is: {data.shape}')\n",
    "\n",
    "# Z-score time series for each voxel\n",
    "data = zscore(data, axis=0)"
   ]
  },
  {
   "cell_type": "code",
   "execution_count": null,
   "id": "million-hybrid",
   "metadata": {},
   "outputs": [],
   "source": []
  },
  {
   "cell_type": "code",
   "execution_count": 208,
   "id": "gothic-colonial",
   "metadata": {},
   "outputs": [],
   "source": [
    "# Leave-one-out approach\n",
    "iscs = isc(data, pairwise=False, tolerate_nans=.8)"
   ]
  },
  {
   "cell_type": "code",
   "execution_count": null,
   "id": "increasing-turner",
   "metadata": {},
   "outputs": [],
   "source": []
  },
  {
   "cell_type": "code",
   "execution_count": 209,
   "id": "catholic-technique",
   "metadata": {},
   "outputs": [
    {
     "name": "stdout",
     "output_type": "stream",
     "text": [
      "ISC values shape = (17, 112179) \n",
      "i.e., 17 left-out subjects and 112179 voxel(s)\n"
     ]
    }
   ],
   "source": [
    "# Check shape of output ISC values\n",
    "print(f\"ISC values shape = {iscs.shape} \\ni.e., {iscs.shape[0]} \"\n",
    "      f\"left-out subjects and {iscs.shape[1]} voxel(s)\")"
   ]
  },
  {
   "cell_type": "code",
   "execution_count": 210,
   "id": "inclusive-omaha",
   "metadata": {},
   "outputs": [
    {
     "name": "stdout",
     "output_type": "stream",
     "text": [
      "ISC values shape = (112179,) \n",
      "i.e., 112179 mean value across left-out subjects and 112179 voxel(s)\n",
      "Minimum mean ISC across voxels = -0.146; maximum mean ISC across voxels = 0.708\n",
      "ISC values shape = (112179,) \n",
      "i.e., 112179 median value across left-out subjects and 112179 voxel(s)\n",
      "Minimum median ISC across voxels = -0.168; maximum median ISC across voxels = 0.762\n"
     ]
    },
    {
     "name": "stderr",
     "output_type": "stream",
     "text": [
      "/jukebox/pkgs/PYGER/base/envs/0.11.0/lib/python3.7/site-packages/brainiak/isc.py:523: RuntimeWarning: Mean of empty slice\n",
      "  statistic = np.tanh(np.nanmean(np.arctanh(iscs), axis=axis))\n",
      "/jukebox/pkgs/PYGER/base/envs/0.11.0/lib/python3.7/site-packages/numpy/lib/nanfunctions.py:1114: RuntimeWarning: All-NaN slice encountered\n",
      "  overwrite_input=overwrite_input)\n"
     ]
    }
   ],
   "source": [
    "# Compute mean ISC (with Fisher transformation)\n",
    "mean_iscs = compute_summary_statistic(iscs, summary_statistic='mean', axis=0)\n",
    "\n",
    "print(f\"ISC values shape = {mean_iscs.shape} \\ni.e., {mean_iscs.shape[0]} \"\n",
    "      f\"mean value across left-out subjects and {iscs.shape[1]} voxel(s)\"\n",
    "      f\"\\nMinimum mean ISC across voxels = {np.nanmin(mean_iscs):.3f}; \"\n",
    "      f\"maximum mean ISC across voxels = {np.nanmax(mean_iscs):.3f}\")\n",
    "\n",
    "\n",
    "# Compute median ISC\n",
    "median_iscs = compute_summary_statistic(iscs, summary_statistic='median',\n",
    "                                        axis=0)\n",
    "\n",
    "print(f\"ISC values shape = {median_iscs.shape} \\ni.e., {median_iscs.shape[0]} \"\n",
    "      f\"median value across left-out subjects and {iscs.shape[1]} voxel(s)\"\n",
    "      f\"\\nMinimum median ISC across voxels = {np.nanmin(median_iscs):.3f}; \"\n",
    "      f\"maximum median ISC across voxels = {np.nanmax(median_iscs):.3f}\")"
   ]
  },
  {
   "cell_type": "code",
   "execution_count": 211,
   "id": "pending-tiger",
   "metadata": {},
   "outputs": [],
   "source": [
    "# Run bootstrap hypothesis test on ISCs\n",
    "n_boot = 200\n",
    "observed, ci, p, distribution = bootstrap_isc(iscs, pairwise=False,\n",
    "                                              ci_percentile=95,\n",
    "                                              summary_statistic='median',\n",
    "                                              n_bootstraps=n_boot)"
   ]
  },
  {
   "cell_type": "code",
   "execution_count": null,
   "id": "amateur-assault",
   "metadata": {},
   "outputs": [],
   "source": []
  },
  {
   "cell_type": "code",
   "execution_count": 212,
   "id": "complimentary-affairs",
   "metadata": {},
   "outputs": [
    {
     "name": "stdout",
     "output_type": "stream",
     "text": [
      "3635 voxels out of 112179 are NaNs (3.24%)\n"
     ]
    }
   ],
   "source": [
    "# Get number of NaN voxels\n",
    "n_nans = np.sum(np.isnan(observed))\n",
    "print(f\"{n_nans} voxels out of {observed.shape[0]} are NaNs \"\n",
    "      f\"({n_nans / observed.shape[0] * 100:.2f}%)\")\n",
    "\n",
    "# Get voxels without NaNs\n",
    "nonnan_mask = ~np.isnan(observed)\n",
    "nonnan_coords = np.where(nonnan_mask)\n",
    "\n",
    "# Mask both the ISC and p-value map to exclude NaNs\n",
    "nonnan_isc = observed[nonnan_mask]\n",
    "nonnan_p = p[nonnan_mask]"
   ]
  },
  {
   "cell_type": "code",
   "execution_count": null,
   "id": "fundamental-secret",
   "metadata": {},
   "outputs": [],
   "source": []
  },
  {
   "cell_type": "code",
   "execution_count": 215,
   "id": "popular-custom",
   "metadata": {},
   "outputs": [
    {
     "name": "stdout",
     "output_type": "stream",
     "text": [
      "27906 significant voxels controlling FDR at 0.05\n"
     ]
    }
   ],
   "source": [
    "# Get FDR-controlled q-values\n",
    "nonnan_q = multipletests(nonnan_p, method='fdr_by')[1]\n",
    "threshold = .05\n",
    "print(f\"{np.sum(nonnan_q < threshold)} significant voxels \"\n",
    "      f\"controlling FDR at {threshold}\")\n",
    "\n",
    "# Threshold ISCs according FDR-controlled threshold\n",
    "nonnan_isc[nonnan_q >= threshold] = np.nan\n",
    "\n",
    "# Reinsert thresholded ISCs back into whole brain image\n",
    "isc_thresh = np.full(observed.shape, np.nan)\n",
    "isc_thresh[nonnan_coords] = nonnan_isc"
   ]
  },
  {
   "cell_type": "code",
   "execution_count": null,
   "id": "academic-semiconductor",
   "metadata": {},
   "outputs": [],
   "source": []
  },
  {
   "cell_type": "code",
   "execution_count": 221,
   "id": "disturbed-accountability",
   "metadata": {},
   "outputs": [],
   "source": [
    "# Create empty 3D image and populate\n",
    "# with thresholded ISC values\n",
    "isc_img = np.full(ref_nii.shape, np.nan)\n",
    "isc_img[mask_coords] = isc_thresh\n",
    "\n",
    "# Convert to NIfTI image\n",
    "isc_nii = nib.Nifti1Image(isc_img, ref_nii.affine, ref_nii.header)"
   ]
  },
  {
   "cell_type": "code",
   "execution_count": 224,
   "id": "improving-bunch",
   "metadata": {},
   "outputs": [
    {
     "name": "stderr",
     "output_type": "stream",
     "text": [
      "/jukebox/pkgs/PYGER/base/envs/0.11.0/lib/python3.7/site-packages/nilearn/_utils/niimg.py:62: UserWarning: Non-finite values detected. These values will be replaced with zeros.\n",
      "  \"Non-finite values detected. \"\n"
     ]
    },
    {
     "data": {
      "image/png": "[encoded data removed]",
      "text/plain": [
       "<Figure size 525.6x187.2 with 5 Axes>"
      ]
     },
     "metadata": {},
     "output_type": "display_data"
    },
    {
     "data": {
      "image/png": "[encoded data removed]",
      "text/plain": [
       "<Figure size 525.6x187.2 with 5 Axes>"
      ]
     },
     "metadata": {},
     "output_type": "display_data"
    }
   ],
   "source": [
    "# Plot slices at coordinates -61, -20, 8\n",
    "plot_stat_map(\n",
    "    isc_nii,\n",
    "    cmap='RdYlBu_r',\n",
    "    vmax=.5,\n",
    "    cut_coords=(-61, -20, 8))\n",
    "\n",
    "# Plot slices at coordinates 0, -65, 40\n",
    "plot_stat_map(\n",
    "    isc_nii,\n",
    "    cmap='RdYlBu_r',\n",
    "    vmax=.5,\n",
    "    cut_coords=(0, -65, 40))\n",
    "plt.show()"
   ]
  },
  {
   "cell_type": "code",
   "execution_count": null,
   "id": "cathedral-ocean",
   "metadata": {},
   "outputs": [],
   "source": []
  },
  {
   "cell_type": "code",
   "execution_count": null,
   "id": "electronic-claim",
   "metadata": {},
   "outputs": [],
   "source": []
  },
  {
   "cell_type": "code",
   "execution_count": null,
   "id": "studied-medium",
   "metadata": {},
   "outputs": [],
   "source": []
  },
  {
   "cell_type": "code",
   "execution_count": null,
   "id": "average-repair",
   "metadata": {},
   "outputs": [],
   "source": []
  },
  {
   "cell_type": "code",
   "execution_count": 128,
   "id": "forbidden-relaxation",
   "metadata": {},
   "outputs": [
    {
     "name": "stdout",
     "output_type": "stream",
     "text": [
      "office size is (106, 112179, 68)\n",
      "True\n",
      "reshaped (106, 112179, 17, 4)\n",
      "cake size is (103, 112179, 68)\n",
      "True\n",
      "reshaped (103, 112179, 17, 4)\n",
      "brushing size is (92, 112179, 68)\n",
      "True\n",
      "reshaped (92, 112179, 17, 4)\n",
      "shrek size is (94, 112179, 64)\n",
      "True\n",
      "reshaped (94, 112179, 16, 4)\n",
      "sherlock size is (102, 112179, 64)\n",
      "True\n",
      "reshaped (102, 112179, 16, 4)\n",
      "oragami size is (86, 112179, 64)\n",
      "True\n",
      "reshaped (86, 112179, 16, 4)\n"
     ]
    }
   ],
   "source": [
    "ext_isc = {}\n",
    "int_isc = {}\n",
    "\n",
    "## Reshape output dictionary ## \n",
    "for mov in external: \n",
    "    print(f'{mov} size is {external[mov].shape}')\n",
    "    ## set dimensions 3 and Four ## \n",
    "    dim_3 = num_repeats\n",
    "    dim_4 = int(external[mov].shape[2] / num_repeats) # num_odd_subs \n",
    "    \n",
    "    ## Dividing total runs by number of runs should equal the number of subs\n",
    "    #assert external[mov].shape[2] / num_repeats == num_odd_subs, 'Wrong reshape size!'\n",
    "    \n",
    "    # create reshaped dic #\n",
    "    if key not in ext_isc:\n",
    "        ext_isc[mov] = external[mov].reshape(*external[mov].shape[:-1], dim_3, dim_4).transpose(0, 1, 3, 2)\n",
    "    print(np.array_equal(external[mov][:,:,2], ext_isc[mov][:,:,2,0]))\n",
    "    print(f'reshaped {ext_isc[mov].shape}')\n",
    "\n",
    "print()\n",
    "\n",
    "for mov in internal: \n",
    "    print(f'INTERNAL:{mov} size is {internal[mov].shape}')\n",
    "    ## set dimensions 3 and Four ## \n",
    "    dim_3 = num_repeats\n",
    "    dim_4 = int(internal[mov].shape[2] / num_repeats) # num_odd_subs \n",
    "    \n",
    "    ## Dividing total runs by number of runs should equal the number of subs\n",
    "    #assert external[mov].shape[2] / num_repeats == num_odd_subs, 'Wrong reshape size!'\n",
    "    \n",
    "    # create reshaped dic #\n",
    "    if key not in ext_isc:\n",
    "        int_isc[mov] = internal[mov].reshape(*internal[mov].shape[:-1], dim_3, dim_4).transpose(0, 1, 3, 2)\n",
    "    print(np.array_equal(internal[mov][:,:,2], int_isc[mov][:,:,2,0]))\n",
    "    print(f'reshaped {int_isc[mov].shape}')\n",
    "\n",
    "\n",
    "\n"
   ]
  },
  {
   "cell_type": "code",
   "execution_count": null,
   "id": "boring-nutrition",
   "metadata": {},
   "outputs": [],
   "source": []
  },
  {
   "cell_type": "code",
   "execution_count": null,
   "id": "southwest-sauce",
   "metadata": {},
   "outputs": [],
   "source": []
  },
  {
   "cell_type": "code",
   "execution_count": null,
   "id": "continuous-venture",
   "metadata": {},
   "outputs": [],
   "source": []
  },
  {
   "cell_type": "code",
   "execution_count": null,
   "id": "requested-newspaper",
   "metadata": {},
   "outputs": [],
   "source": [
    "external['shrek'].shape"
   ]
  },
  {
   "cell_type": "code",
   "execution_count": 99,
   "id": "massive-formation",
   "metadata": {},
   "outputs": [
    {
     "data": {
      "text/plain": [
       "4.0"
      ]
     },
     "execution_count": 99,
     "metadata": {},
     "output_type": "execute_result"
    }
   ],
   "source": [
    "external['office'].shape[2] / num_odd_subs"
   ]
  },
  {
   "cell_type": "code",
   "execution_count": 107,
   "id": "executive-disaster",
   "metadata": {},
   "outputs": [
    {
     "data": {
      "text/plain": [
       "(94, 112179, 64)"
      ]
     },
     "execution_count": 107,
     "metadata": {},
     "output_type": "execute_result"
    }
   ],
   "source": [
    "external['shrek'].shape"
   ]
  },
  {
   "cell_type": "code",
   "execution_count": null,
   "id": "respiratory-database",
   "metadata": {},
   "outputs": [],
   "source": [
    "\"\"\"\n",
    "oneD.reshape(86, 112179, 4, 5) reshapes oneD into a temporary array with shape (86, 112179, 4, 5).\n",
    "\n",
    "transpose(0, 1, 3, 2) rearranges the dimensions of the temporary array. The numbers inside the transpose function specify the new order of the dimensions. In this case, the transpose operation is performed as follows:\n",
    "\n",
    "The first dimension (axis 0) remains unchanged.\n",
    "The second dimension (axis 1) remains unchanged.\n",
    "The third dimension (axis 3) becomes the new fourth dimension.\n",
    "The fourth dimension (axis 2) becomes the new third dimension.\n",
    "By specifying the order (0, 1, 3, 2) in transpose, the dimensions are rearranged accordingly.\n",
    "\n",
    "As a result, the temporary array is transformed from (86, 112179, 4, 5) to (86, 112179, 5, 4), matching the desired shape (86, 112179, 4, 5).\n",
    "\n",
    "The transpose operation allows you to permute the dimensions flexibly, enabling you to rearrange the axes of an array to match your desired shape or to facilitate certain operations on the data.\n",
    "\n",
    "\"\"\""
   ]
  },
  {
   "cell_type": "code",
   "execution_count": null,
   "id": "bigger-signal",
   "metadata": {},
   "outputs": [],
   "source": []
  },
  {
   "cell_type": "code",
   "execution_count": 317,
   "id": "institutional-offer",
   "metadata": {},
   "outputs": [
    {
     "name": "stdout",
     "output_type": "stream",
     "text": [
      "True\n"
     ]
    }
   ],
   "source": [
    "\"\"\"\n",
    "basicalyy, a simple reshape dosn't properly transpose. we need to rearange the last two dimensions. I'm not entirely \n",
    "sure why tho... the coding should be \n",
    "\"\"\"org = internal['oragami']\n",
    "org_reshape = org.reshape(86, 112179, 4, 5).transpose(0, 1, 3, 2)\n",
    "print(np.array_equal(org[:,:,2], org_reshape[:,:,2,0]))"
   ]
  },
  {
   "cell_type": "code",
   "execution_count": 248,
   "id": "basic-comparison",
   "metadata": {},
   "outputs": [
    {
     "name": "stdout",
     "output_type": "stream",
     "text": [
      "oragami (86, 112179, 20)\n",
      "shrek (94, 112179, 16)\n",
      "sherlock (102, 112179, 16)\n",
      "brushing (92, 112179, 8)\n",
      "cake (103, 112179, 8)\n",
      "office (106, 112179, 4)\n"
     ]
    }
   ],
   "source": [
    "for key in internal:\n",
    "    print(key, internal[key].shape)"
   ]
  },
  {
   "cell_type": "code",
   "execution_count": null,
   "id": "secure-warrant",
   "metadata": {},
   "outputs": [],
   "source": []
  },
  {
   "cell_type": "code",
   "execution_count": null,
   "id": "formal-timer",
   "metadata": {},
   "outputs": [],
   "source": []
  },
  {
   "cell_type": "code",
   "execution_count": null,
   "id": "eleven-armenia",
   "metadata": {},
   "outputs": [],
   "source": []
  },
  {
   "cell_type": "code",
   "execution_count": 269,
   "id": "jewish-tract",
   "metadata": {},
   "outputs": [],
   "source": [
    "org = internal['oragami']\n"
   ]
  },
  {
   "cell_type": "code",
   "execution_count": 302,
   "id": "harmful-diploma",
   "metadata": {},
   "outputs": [
    {
     "name": "stdout",
     "output_type": "stream",
     "text": [
      "org1 shape: (86, 112179, 20)\n",
      "org2 shape: (86, 112179, 4, 5)\n",
      "first D: [ True]\n",
      "second D, [False  True]\n"
     ]
    }
   ],
   "source": [
    "org = internal['oragami']\n",
    "print(f'org1 shape: {org.shape}')\n",
    "org2 = org.reshape(*org.shape[:-1], org.shape[-1] // 5, 5)\n",
    "print(f'org2 shape: {org2.shape}')\n",
    "print('first D:', np.unique(org[:,:,0] == org2[:,:,0,0]))\n",
    "print('second D,', np.unique(org[:,:,1] == org2[:,:,1,0]))"
   ]
  },
  {
   "cell_type": "code",
   "execution_count": 31,
   "id": "representative-exposure",
   "metadata": {},
   "outputs": [
    {
     "name": "stdout",
     "output_type": "stream",
     "text": [
      "(78, 93, 65, 209)\n",
      "Loading data from /jukebox/graziano/coolCatIsaac/ATM/data/bids/derivatives/fmriprep/sub-000/ses-01/func/sub-000_ses-01_task-Attn_run-1_space-MNI152NLin2009cAsym_desc-preproc_bold.nii.gz\n"
     ]
    },
    {
     "data": {
      "text/plain": [
       "(<nibabel.nifti1.Nifti1Image at 0x7fee4757e4d0>,)"
      ]
     },
     "execution_count": 31,
     "metadata": {},
     "output_type": "execute_result"
    }
   ],
   "source": [
    "load_epi_data('sub-000',ses=\"ses-01\",task=\"Attn\",run=1, space='MNI'),"
   ]
  },
  {
   "cell_type": "code",
   "execution_count": 47,
   "id": "broken-cooperation",
   "metadata": {},
   "outputs": [],
   "source": []
  },
  {
   "cell_type": "code",
   "execution_count": null,
   "id": "under-wilson",
   "metadata": {},
   "outputs": [],
   "source": []
  },
  {
   "cell_type": "markdown",
   "id": "formed-recipe",
   "metadata": {},
   "source": [
    "## incomplete subs"
   ]
  },
  {
   "cell_type": "code",
   "execution_count": 20,
   "id": "boolean-yugoslavia",
   "metadata": {},
   "outputs": [],
   "source": [
    "sub_list = [\n",
    "    'sub-002', 'sub-004', 'sub-005','sub-006','sub-007','sub-008','sub-009','sub-010',\n",
    "    'sub-013','sub-016','sub-017','sub-018','sub-019','sub-020','sub-021',\n",
    "    'sub-022','sub-023','sub-024','sub-025','sub-026','sub-027','sub-028','sub-030','sub-031','sub-032',\n",
    "    'sub-033','sub-034','sub-035','sub-036','sub-037','sub-038','sub-039','sub-040'\n",
    "]\n",
    "new_subs = ['sub-001', 'sub-003', 'sub-012', 'sub-029' ] # excluding sub-014 cuz no button presses"
   ]
  },
  {
   "cell_type": "code",
   "execution_count": null,
   "id": "operational-division",
   "metadata": {},
   "outputs": [],
   "source": []
  },
  {
   "cell_type": "code",
   "execution_count": 1,
   "id": "underlying-ground",
   "metadata": {},
   "outputs": [],
   "source": [
    "#sub_run_inc = {}"
   ]
  },
  {
   "cell_type": "code",
   "execution_count": 21,
   "id": "abroad-cinema",
   "metadata": {},
   "outputs": [],
   "source": [
    "\"\"\"\n",
    "\n",
    "{'sub-001': {1: True, 2: True, 3: True, 4: False, 5: False, 6: False},\n",
    " 'sub-003': {1: True, 2: True, 3: True, 4: True, 5: True, 6: False},\n",
    " 'sub-012': {1: True, 2: True, 3: True, 4: True, 5: False, 6: True},\n",
    " 'sub-014': {1: True, 2: False, 3: True, 4: True, 5: True, 6: True}}\n",
    " 'sub-029': {1: True, 2: True, 3: False, 4: True, 5: True, 6: True}}\n",
    "\n",
    "\"\"\"\n",
    "\n",
    "inc = {\n",
    "    1 : True,\n",
    "    2 : False,\n",
    "    3 : True,\n",
    "    4 : True,\n",
    "    5 : True,\n",
    "    6 : True, \n",
    "}\n",
    "\n"
   ]
  },
  {
   "cell_type": "code",
   "execution_count": 23,
   "id": "jewish-found",
   "metadata": {},
   "outputs": [],
   "source": [
    "sub_run_inc['sub-014'] = inc"
   ]
  },
  {
   "cell_type": "code",
   "execution_count": 24,
   "id": "missing-electricity",
   "metadata": {},
   "outputs": [
    {
     "data": {
      "text/plain": [
       "{'sub-001': {1: True, 2: True, 3: True, 4: False, 5: False, 6: False},\n",
       " 'sub-003': {1: True, 2: True, 3: True, 4: True, 5: True, 6: False},\n",
       " 'sub-012': {1: True, 2: True, 3: True, 4: True, 5: False, 6: True},\n",
       " 'sub-029': {1: True, 2: True, 3: False, 4: True, 5: True, 6: True},\n",
       " 'sub-014': {1: True, 2: False, 3: True, 4: True, 5: True, 6: True}}"
      ]
     },
     "execution_count": 24,
     "metadata": {},
     "output_type": "execute_result"
    }
   ],
   "source": [
    "sub_run_inc"
   ]
  },
  {
   "cell_type": "code",
   "execution_count": null,
   "id": "acknowledged-carnival",
   "metadata": {},
   "outputs": [],
   "source": [
    "## fill in TRUES for all other subs runs ## "
   ]
  },
  {
   "cell_type": "code",
   "execution_count": 25,
   "id": "simplified-hours",
   "metadata": {},
   "outputs": [],
   "source": [
    "inc = {\n",
    "    1 : True,\n",
    "    2 : True,\n",
    "    3 : True,\n",
    "    4 : True,\n",
    "    5 : True,\n",
    "    6 : True, \n",
    "}\n",
    "\n",
    "for sub in sub_list:\n",
    "    if sub not in sub_run_inc:\n",
    "        sub_run_inc[sub] = inc\n",
    "        \n",
    "        "
   ]
  },
  {
   "cell_type": "code",
   "execution_count": 27,
   "id": "first-contrast",
   "metadata": {},
   "outputs": [
    {
     "data": {
      "text/plain": [
       "38"
      ]
     },
     "execution_count": 27,
     "metadata": {},
     "output_type": "execute_result"
    }
   ],
   "source": [
    "len(sub_run_inc)"
   ]
  },
  {
   "cell_type": "code",
   "execution_count": 32,
   "id": "numerous-uncle",
   "metadata": {},
   "outputs": [],
   "source": [
    "np.save(behav_dir + '/sub_run_inc.npy', sub_run_inc)"
   ]
  },
  {
   "cell_type": "markdown",
   "id": "unlikely-median",
   "metadata": {},
   "source": [
    "## troubleshoot "
   ]
  },
  {
   "cell_type": "code",
   "execution_count": 68,
   "id": "white-headquarters",
   "metadata": {},
   "outputs": [],
   "source": [
    "sub_list = [\n",
    "     'sub-003', 'sub-004', 'sub-005','sub-006','sub-007','sub-008','sub-009','sub-010'\n",
    "    ,'sub-012','sub-013','sub-016','sub-017','sub-018','sub-019','sub-020','sub-021',\n",
    "    'sub-022','sub-023','sub-024','sub-025','sub-026','sub-027','sub-028','sub-029','sub-030','sub-031','sub-032',\n",
    "    'sub-033','sub-034','sub-035','sub-036','sub-037','sub-038','sub-039','sub-040'\n",
    "]\n",
    "\n",
    "sub_list = ['sub-030','sub-031','sub-032',\n",
    "    'sub-033','sub-034','sub-035','sub-036','sub-037','sub-038','sub-039','sub-040'\n",
    "]\n",
    "\n",
    "\n",
    "sub_list = ['sub-002']"
   ]
  },
  {
   "cell_type": "code",
   "execution_count": 87,
   "id": "inclusive-imagination",
   "metadata": {
    "scrolled": true
   },
   "outputs": [
    {
     "name": "stdout",
     "output_type": "stream",
     "text": [
      "sub-002\n",
      "movie: shrek with shape (94, 112179, 0)\n",
      "(390, 112179)\n",
      "stacked! (94, 112179, 1)\n",
      "stacked! (94, 112179, 2)\n",
      "stacked! (94, 112179, 3)\n",
      "stacked! (94, 112179, 4)\n",
      "movie: sherlock with shape (102, 112179, 0)\n",
      "(417, 112179)\n",
      "stacked! (102, 112179, 1)\n",
      "stacked! (102, 112179, 2)\n",
      "stacked! (102, 112179, 3)\n",
      "stacked! (102, 112179, 4)\n",
      "movie: oragami with shape (86, 112179, 0)\n",
      "(355, 112179)\n",
      "stacked! (86, 112179, 1)\n",
      "stacked! (86, 112179, 2)\n",
      "stacked! (86, 112179, 3)\n",
      "stacked! (86, 112179, 4)\n",
      "movie: office with shape (106, 112179, 0)\n",
      "(437, 112179)\n",
      "stacked! (106, 112179, 1)\n",
      "stacked! (106, 112179, 2)\n",
      "stacked! (106, 112179, 3)\n",
      "stacked! (106, 112179, 4)\n",
      "movie: cake with shape (103, 112179, 0)\n",
      "(422, 112179)\n",
      "stacked! (103, 112179, 1)\n",
      "stacked! (103, 112179, 2)\n",
      "stacked! (103, 112179, 3)\n",
      "stacked! (103, 112179, 4)\n",
      "movie: brushing with shape (92, 112179, 0)\n",
      "(379, 112179)\n",
      "stacked! (92, 112179, 1)\n",
      "stacked! (92, 112179, 2)\n",
      "stacked! (92, 112179, 3)\n",
      "stacked! (92, 112179, 4)\n",
      "\n",
      " subject sub-002 finished \n",
      "\n",
      "done\n"
     ]
    }
   ],
   "source": [
    "external = {}\n",
    "internal = {}\n",
    "\n",
    "for sub in sub_list:\n",
    "    ### fMRI load ###\n",
    "    sub_dic_fmri = np.load(f'{preproc_dir}/{sub}_fwhm6_conf.npy', allow_pickle=True).item()\n",
    "    print(sub)\n",
    "    \n",
    "    ## BEHAVIORAL ##\n",
    "    sub_dic_behav = np.load(os.path.join(behav_dir, f'{sub}_behav.npy'), allow_pickle=True).item()\n",
    "\n",
    "    # Initialize an empty dictionary to store the stacked arrays for the current subject\n",
    "    stacked_arrays = {}\n",
    "    \n",
    "    # Create subject number \n",
    "    sub_num = int(sub[-3:])\n",
    "\n",
    "    for epi_index in range(0, 6):\n",
    "        # Add one to the index to create 1-6 runs\n",
    "        epi_run = epi_index + 1\n",
    "\n",
    "        # Get the movie name\n",
    "        mov_name = sub_dic_behav['mov_order'][epi_index]\n",
    "\n",
    "        # Create an empty array for the movie runs\n",
    "        mov_runs = np.zeros((mov_len_dic[mov_name] + tr_buffer, voxel_num, 0))\n",
    "\n",
    "        print(f'movie: {mov_name} with shape {mov_runs.shape}')\n",
    "\n",
    "        # Get the fMRI run for the current epi_index\n",
    "        fmri_run = sub_dic_fmri[epi_run]\n",
    "        \n",
    "        \"\"\"\n",
    "        ## adjust subject 2 ##\n",
    "        if epi_index == 0 and sub == 'sub-002':\n",
    "            for i in range(2):\n",
    "                fmri_run = np.vstack((fmri_run, fmri_run[-1,:]))\n",
    "        \"\"\"\n",
    "\n",
    "                \n",
    "        print(fmri_run.shape)\n",
    "        \n",
    "        # Loop over runs\n",
    "        for run in range(1, 5):\n",
    "            # Is this an internal or external run?\n",
    "            key = 'External' if (sub_num % 2 == 1 and epi_index < 3) or (sub_num % 2 == 0 and epi_index >= 3) else 'Internal'\n",
    "            \n",
    "            # Begin slicing #\n",
    "            start_tr = sub_dic_behav[key][mov_name][f'run-{run:d}']['start_tr']\n",
    "            end_tr = sub_dic_behav[key][mov_name][f'run-{run:d}']['end_tr']\n",
    "            run_slice = fmri_run[start_tr:end_tr, :]\n",
    "            \n",
    "            # BEHAV checks #\n",
    "            assert mov_runs.shape[0] == mov_len_dic[mov_name] + tr_buffer, f'behavioral ERROR: movie: {mov_name}, epi {epi_run}, run: {run}'\n",
    "\n",
    "            # fMRI data check #\n",
    "            assert run_slice.shape[0] == mov_runs.shape[0], f'fMRI error! {run_slice.shape[0]} verse {mov_runs.shape[0]}'\n",
    "            \n",
    "\n",
    "            # Stack the run slice with the mov_runs array\n",
    "            mov_runs = np.dstack((mov_runs, run_slice))\n",
    "            print(f'stacked! {mov_runs.shape}')\n",
    "\n",
    "        # Add an additional dimension for subject stacking\n",
    "        #mov_runs = np.expand_dims(mov_runs, 3)\n",
    "        \n",
    "        # Stack the mov_runs array with the external[mov_name] array\n",
    "        #stacked_arrays[mov_name] = mov_runs\n",
    "        \n",
    "        # set outer loop #\n",
    "        if key == 'External':\n",
    "            target_dict = external\n",
    "        else:\n",
    "            target_dict = internal\n",
    "\n",
    "        if mov_name not in target_dict:\n",
    "            target_dict[mov_name] = mov_runs\n",
    "        else:\n",
    "            #mov_runs = np.expand_dims(mov_runs, 3)\n",
    "            target_dict[mov_name] = np.dstack((target_dict[mov_name], mov_runs))\n",
    "    print(f'\\n subject {sub} finished \\n')\n",
    "\n",
    "            \n",
    "print('done')\n",
    "            \n",
    "            \n",
    "            \n",
    "            \n",
    "            \n",
    "            "
   ]
  },
  {
   "cell_type": "code",
   "execution_count": 84,
   "id": "about-blackberry",
   "metadata": {},
   "outputs": [],
   "source": [
    "x = np.zeros((fmri_run.shape))\n",
    "if epi_index == 0 and sub == 'sub-002':\n",
    "    for i in range(2):\n",
    "        x = np.vstack((x, x[-1,:]))"
   ]
  },
  {
   "cell_type": "code",
   "execution_count": 85,
   "id": "recorded-programmer",
   "metadata": {},
   "outputs": [
    {
     "data": {
      "text/plain": [
       "(379, 112179)"
      ]
     },
     "execution_count": 85,
     "metadata": {},
     "output_type": "execute_result"
    }
   ],
   "source": [
    "x.shape"
   ]
  },
  {
   "cell_type": "code",
   "execution_count": 71,
   "id": "short-pittsburgh",
   "metadata": {},
   "outputs": [
    {
     "data": {
      "text/plain": [
       "(94, 112179, 3)"
      ]
     },
     "execution_count": 71,
     "metadata": {},
     "output_type": "execute_result"
    }
   ],
   "source": [
    "mov_runs.shape"
   ]
  },
  {
   "cell_type": "code",
   "execution_count": 77,
   "id": "distinct-tumor",
   "metadata": {},
   "outputs": [],
   "source": [
    "temp = mov_runs"
   ]
  },
  {
   "cell_type": "code",
   "execution_count": 74,
   "id": "palestinian-statement",
   "metadata": {},
   "outputs": [
    {
     "data": {
      "text/plain": [
       "(112179,)"
      ]
     },
     "execution_count": 74,
     "metadata": {},
     "output_type": "execute_result"
    }
   ],
   "source": [
    "mov_runs[-1,:,2].shape"
   ]
  },
  {
   "cell_type": "code",
   "execution_count": 75,
   "id": "british-singles",
   "metadata": {},
   "outputs": [
    {
     "data": {
      "text/plain": [
       "(92, 112179)"
      ]
     },
     "execution_count": 75,
     "metadata": {},
     "output_type": "execute_result"
    }
   ],
   "source": [
    "run_slice.shape"
   ]
  },
  {
   "cell_type": "code",
   "execution_count": 76,
   "id": "compound-movie",
   "metadata": {},
   "outputs": [
    {
     "data": {
      "text/plain": [
       "(93, 112179)"
      ]
     },
     "execution_count": 76,
     "metadata": {},
     "output_type": "execute_result"
    }
   ],
   "source": [
    "np.vstack((run_slice, fmri_runs[-1,:])).shape"
   ]
  },
  {
   "cell_type": "code",
   "execution_count": null,
   "id": "practical-hudson",
   "metadata": {},
   "outputs": [],
   "source": [
    "if run == 2 and sub == 'sub-002':\n",
    "    for i in range(2):\n",
    "        fmri_run = np.vstack((fmri_run, fmri_runs[-1,:]))\n",
    "        \n",
    "        "
   ]
  },
  {
   "cell_type": "code",
   "execution_count": 31,
   "id": "measured-footage",
   "metadata": {},
   "outputs": [],
   "source": [
    "sub_dic_fmri = np.load(f'{preproc_dir}/{sub}_fwhm6_conf.npy', allow_pickle=True).item()"
   ]
  },
  {
   "cell_type": "code",
   "execution_count": 52,
   "id": "valued-shadow",
   "metadata": {},
   "outputs": [
    {
     "data": {
      "text/plain": [
       "(11, 112179)"
      ]
     },
     "execution_count": 52,
     "metadata": {},
     "output_type": "execute_result"
    }
   ],
   "source": [
    "fmri_run[start_tr:end_tr, :].shape"
   ]
  },
  {
   "cell_type": "code",
   "execution_count": 44,
   "id": "eight-precipitation",
   "metadata": {},
   "outputs": [
    {
     "data": {
      "text/plain": [
       "(389, 112179)"
      ]
     },
     "execution_count": 44,
     "metadata": {},
     "output_type": "execute_result"
    }
   ],
   "source": [
    "sub_dic_fmri[5].shape"
   ]
  },
  {
   "cell_type": "code",
   "execution_count": 51,
   "id": "violent-liberia",
   "metadata": {},
   "outputs": [
    {
     "data": {
      "text/plain": [
       "(389, 112179)"
      ]
     },
     "execution_count": 51,
     "metadata": {},
     "output_type": "execute_result"
    }
   ],
   "source": [
    "fmri_run.shape"
   ]
  },
  {
   "cell_type": "code",
   "execution_count": 49,
   "id": "developmental-orleans",
   "metadata": {},
   "outputs": [
    {
     "data": {
      "text/plain": [
       "(11, 112179)"
      ]
     },
     "execution_count": 49,
     "metadata": {},
     "output_type": "execute_result"
    }
   ],
   "source": [
    "run_slice.shape"
   ]
  },
  {
   "cell_type": "code",
   "execution_count": 40,
   "id": "injured-civilian",
   "metadata": {},
   "outputs": [
    {
     "data": {
      "text/plain": [
       "'shrek'"
      ]
     },
     "execution_count": 40,
     "metadata": {},
     "output_type": "execute_result"
    }
   ],
   "source": [
    "mov_name"
   ]
  },
  {
   "cell_type": "code",
   "execution_count": 53,
   "id": "moderate-construction",
   "metadata": {},
   "outputs": [
    {
     "data": {
      "text/plain": [
       "378"
      ]
     },
     "execution_count": 53,
     "metadata": {},
     "output_type": "execute_result"
    }
   ],
   "source": [
    "start_tr"
   ]
  },
  {
   "cell_type": "code",
   "execution_count": 54,
   "id": "preceding-facial",
   "metadata": {},
   "outputs": [
    {
     "data": {
      "text/plain": [
       "472"
      ]
     },
     "execution_count": 54,
     "metadata": {},
     "output_type": "execute_result"
    }
   ],
   "source": [
    "end_tr"
   ]
  },
  {
   "cell_type": "code",
   "execution_count": null,
   "id": "republican-queue",
   "metadata": {},
   "outputs": [],
   "source": []
  },
  {
   "cell_type": "code",
   "execution_count": null,
   "id": "racial-narrow",
   "metadata": {},
   "outputs": [],
   "source": [
    "### BELOW SHOULDN'T BE 94 FOR THE START TR! THAT'S CRAZY! EVERYTHING IS SHIFTED BY 94 ISH? CHECK BEHAVIORAL FOR THIS SUB ## "
   ]
  },
  {
   "cell_type": "code",
   "execution_count": 67,
   "id": "mediterranean-success",
   "metadata": {},
   "outputs": [
    {
     "data": {
      "text/plain": [
       "{'cake': {'run-1': {'start_tr': 15, 'end_tr': 118, 'bpress': -1},\n",
       "  'run-2': {'start_tr': 119, 'end_tr': 222, 'bpress': -1},\n",
       "  'run-3': {'start_tr': 223, 'end_tr': 326, 'bpress': -1},\n",
       "  'run-4': {'start_tr': 327, 'end_tr': 430, 'bpress': -1}},\n",
       " 'brushing': {'run-1': {'start_tr': 7, 'end_tr': 99, 'bpress': -1},\n",
       "  'run-2': {'start_tr': 99, 'end_tr': 191, 'bpress': -1},\n",
       "  'run-3': {'start_tr': 191, 'end_tr': 283, 'bpress': -1},\n",
       "  'run-4': {'start_tr': 283, 'end_tr': 375, 'bpress': -1}},\n",
       " 'office': {'run-1': {'start_tr': 10, 'end_tr': 116, 'bpress': -1},\n",
       "  'run-2': {'start_tr': 117, 'end_tr': 223, 'bpress': -1},\n",
       "  'run-3': {'start_tr': 224, 'end_tr': 330, 'bpress': -1},\n",
       "  'run-4': {'start_tr': 330, 'end_tr': 436, 'bpress': -1}}}"
      ]
     },
     "execution_count": 67,
     "metadata": {},
     "output_type": "execute_result"
    }
   ],
   "source": [
    "sub_dic_behav['External']"
   ]
  },
  {
   "cell_type": "code",
   "execution_count": 73,
   "id": "expensive-count",
   "metadata": {},
   "outputs": [
    {
     "data": {
      "text/plain": [
       "'shrek'"
      ]
     },
     "execution_count": 73,
     "metadata": {},
     "output_type": "execute_result"
    }
   ],
   "source": [
    "mov_name"
   ]
  },
  {
   "cell_type": "code",
   "execution_count": 61,
   "id": "featured-blackberry",
   "metadata": {},
   "outputs": [
    {
     "data": {
      "text/plain": [
       "(388, 112179)"
      ]
     },
     "execution_count": 61,
     "metadata": {},
     "output_type": "execute_result"
    }
   ],
   "source": [
    "fmri_run.shape"
   ]
  },
  {
   "cell_type": "code",
   "execution_count": 23,
   "id": "smaller-ireland",
   "metadata": {},
   "outputs": [
    {
     "data": {
      "text/plain": [
       "-775"
      ]
     },
     "execution_count": 23,
     "metadata": {},
     "output_type": "execute_result"
    }
   ],
   "source": [
    "end_tr - start_tr "
   ]
  },
  {
   "cell_type": "code",
   "execution_count": 62,
   "id": "consistent-powder",
   "metadata": {},
   "outputs": [
    {
     "data": {
      "text/plain": [
       "390"
      ]
     },
     "execution_count": 62,
     "metadata": {},
     "output_type": "execute_result"
    }
   ],
   "source": [
    "end_tr"
   ]
  },
  {
   "cell_type": "code",
   "execution_count": 64,
   "id": "artistic-interface",
   "metadata": {},
   "outputs": [
    {
     "data": {
      "text/plain": [
       "90"
      ]
     },
     "execution_count": 64,
     "metadata": {},
     "output_type": "execute_result"
    }
   ],
   "source": [
    "mov_len_dic[mov_name]"
   ]
  },
  {
   "cell_type": "code",
   "execution_count": 65,
   "id": "employed-folks",
   "metadata": {},
   "outputs": [
    {
     "data": {
      "text/plain": [
       "94"
      ]
     },
     "execution_count": 65,
     "metadata": {},
     "output_type": "execute_result"
    }
   ],
   "source": [
    "mov_runs.shape[0]"
   ]
  },
  {
   "cell_type": "code",
   "execution_count": 36,
   "id": "coastal-august",
   "metadata": {},
   "outputs": [
    {
     "data": {
      "text/plain": [
       "{'oragami': 82,\n",
       " 'shrek': 90,\n",
       " 'sherlock': 98,\n",
       " 'brushing': 88,\n",
       " 'cake': 99,\n",
       " 'office': 102}"
      ]
     },
     "execution_count": 36,
     "metadata": {},
     "output_type": "execute_result"
    }
   ],
   "source": [
    "mov_len_dic"
   ]
  },
  {
   "cell_type": "code",
   "execution_count": null,
   "id": "close-publication",
   "metadata": {},
   "outputs": [],
   "source": []
  }
 ],
 "metadata": {
  "kernelspec": {
   "display_name": "Python 3",
   "language": "python",
   "name": "python3"
  },
  "language_info": {
   "codemirror_mode": {
    "name": "ipython",
    "version": 3
   },
   "file_extension": ".py",
   "mimetype": "text/x-python",
   "name": "python",
   "nbconvert_exporter": "python",
   "pygments_lexer": "ipython3",
   "version": "3.7.9"
  }
 },
 "nbformat": 4,
 "nbformat_minor": 5
}
