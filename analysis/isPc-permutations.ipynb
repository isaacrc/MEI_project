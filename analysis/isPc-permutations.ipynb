{
 "cells": [
  {
   "cell_type": "markdown",
   "id": "operating-compound",
   "metadata": {},
   "source": [
    "# runs permutations on isPC/FC matrices"
   ]
  },
  {
   "cell_type": "markdown",
   "id": "united-electric",
   "metadata": {},
   "source": [
    "see above lol -- copied from isPC-vis"
   ]
  },
  {
   "cell_type": "markdown",
   "id": "advisory-illustration",
   "metadata": {},
   "source": [
    "## py conversion"
   ]
  },
  {
   "cell_type": "code",
   "execution_count": 235,
   "id": "offshore-needle",
   "metadata": {},
   "outputs": [
    {
     "name": "stdout",
     "output_type": "stream",
     "text": [
      "[NbConvertApp] Converting notebook isPc-permutations.ipynb to python\n",
      "[NbConvertApp] Writing 16889 bytes to isPc-permutations.py\n"
     ]
    }
   ],
   "source": [
    "#!jupyter nbconvert --to python isPc-permutations.ipynb"
   ]
  },
  {
   "cell_type": "markdown",
   "id": "detailed-flight",
   "metadata": {},
   "source": [
    "## Imports "
   ]
  },
  {
   "cell_type": "code",
   "execution_count": 121,
   "id": "attempted-mainland",
   "metadata": {},
   "outputs": [],
   "source": [
    "import warnings\n",
    "import sys  \n",
    "import random\n",
    "import os\n",
    "import os.path\n",
    "\n",
    "import deepdish as dd\n",
    "import numpy as np\n",
    "import pandas as pd\n",
    "\n",
    "import scipy.io\n",
    "from scipy import stats\n",
    "from scipy.stats import stats\n",
    "from scipy.stats import norm, zscore, pearsonr\n",
    "from scipy.signal import gaussian, convolve\n",
    "\n",
    "#plotting\n",
    "from matplotlib import pyplot as plt\n",
    "from mpl_toolkits.mplot3d import Axes3D\n",
    "import matplotlib.patches as patches\n",
    "import seaborn as sns \n",
    "\n",
    "# nil and nib \n",
    "import nibabel as nib\n",
    "import nilearn as nil\n",
    "\n",
    "from nilearn.input_data import NiftiMasker\n",
    "from nilearn import datasets, plotting\n",
    "from nilearn.plotting import plot_roi\n",
    "from nilearn.input_data import NiftiSpheresMasker\n",
    "from nilearn.glm.first_level import FirstLevelModel\n",
    "from nilearn.glm.first_level import make_first_level_design_matrix\n",
    "from nilearn.image import concat_imgs, resample_img, mean_img,index_img\n",
    "from nilearn import image\n",
    "from nilearn import masking\n",
    "from nilearn.plotting import view_img\n",
    "from nilearn.image import resample_to_img\n",
    "from nilearn.image import concat_imgs, resample_img, mean_img\n",
    "from nilearn.plotting import view_img\n",
    "from nilearn.input_data import NiftiMasker\n",
    "from nilearn.masking import compute_epi_mask, compute_brain_mask, unmask\n",
    "from nilearn.plotting import plot_stat_map\n",
    "\n",
    "# Brainiak # \n",
    "from brainiak import image, io \n",
    "import brainiak.utils.fmrisim as sim  \n",
    "from brainiak import image, io\n",
    "import brainiak.eventseg.event\n",
    "from brainiak.isc import (isc, isfc, bootstrap_isc, permutation_isc,\n",
    "                          timeshift_isc, phaseshift_isc,\n",
    "                          compute_summary_statistic)\n",
    "from brainiak.io import load_boolean_mask, load_images\n",
    "from statsmodels.stats.multitest import multipletests\n",
    "\n",
    "from brainiak.isc import squareform_isfc\n",
    "%matplotlib inline"
   ]
  },
  {
   "cell_type": "code",
   "execution_count": null,
   "id": "retained-certification",
   "metadata": {},
   "outputs": [],
   "source": []
  },
  {
   "cell_type": "code",
   "execution_count": 122,
   "id": "surface-modeling",
   "metadata": {},
   "outputs": [],
   "source": [
    "random.seed(10)"
   ]
  },
  {
   "cell_type": "markdown",
   "id": "lyric-priority",
   "metadata": {},
   "source": [
    "## custom helper functions "
   ]
  },
  {
   "cell_type": "code",
   "execution_count": 123,
   "id": "accurate-lawrence",
   "metadata": {},
   "outputs": [],
   "source": [
    "from utils_anal import load_epi_data, resample_atlas, get_network_labels"
   ]
  },
  {
   "cell_type": "markdown",
   "id": "solar-transfer",
   "metadata": {},
   "source": [
    "## directories "
   ]
  },
  {
   "cell_type": "code",
   "execution_count": 124,
   "id": "amino-nightlife",
   "metadata": {},
   "outputs": [],
   "source": [
    "top_dir = '/jukebox/graziano/coolCatIsaac/MEI'\n",
    "data_dir = top_dir + \"/data\"\n",
    "work_dir = data_dir + '/work'\n",
    "mask_dir = work_dir + '/masks'\n",
    "behav_dir = top_dir + '/data/behavioral'\n",
    "rois_dir = data_dir + \"/rois\"\n",
    "fmri_prep = data_dir + '/bids/derivatives/fmriprep'\n",
    "conf_dir = work_dir + '/confs'\n",
    "preproc_dir = work_dir + '/preproc'\n",
    "isc_dir = work_dir + '/isc_dat'\n"
   ]
  },
  {
   "cell_type": "markdown",
   "id": "classical-publicity",
   "metadata": {},
   "source": [
    "# functions"
   ]
  },
  {
   "cell_type": "code",
   "execution_count": 181,
   "id": "rural-canal",
   "metadata": {},
   "outputs": [],
   "source": [
    "def perm_matrices(targ_dic, roi, num_perms):\n",
    "    \"\"\"\n",
    "    purpose: get permutations across all matrices for an ROI\n",
    "    input: target dictionary and the roi for analysis\n",
    "    return: array of permuted accuracies\n",
    "    \"\"\"\n",
    "    num_subs = targ_dic[roi].shape[2]\n",
    "    perm_arr = []\n",
    "\n",
    "    for perm in range(num_perms):\n",
    "        # Transpose input data to compute intersubject pattern correlation\n",
    "        ispcs = isfc(np.rollaxis(targ_dic[roi], 1, 0),\n",
    "                            pairwise=False, vectorize_isfcs=False)\n",
    "\n",
    "        ## create random array of 1s and 0s to randomly sign flip each matrix\n",
    "        rand_arr = np.random.choice([-1, 1], size=num_subs, replace=True)\n",
    "        # add dimensions to rand_arr so that it can be broadcast to each matrix\n",
    "        result = rand_arr[:, np.newaxis, np.newaxis] * ispcs\n",
    "        # get the average across the 18, 13, 13 matrix -- results should be 13 x 13\n",
    "        av_across_subs = np.nanmean(result, axis = 0)\n",
    "        # Convert these directly to condensed ISFCs (and ISCs)\n",
    "        ispcs_c, iscs = squareform_isfc(av_across_subs)\n",
    "        print(f\"Condensed ISFCs shape: {ispcs_c.shape}, \"\n",
    "              f\"ISCs shape: {iscs.shape}\")\n",
    "        ## get shape for transformation later\n",
    "        iscs_shape = iscs.shape[0]\n",
    "        perm_arr.append(np.hstack((ispcs_c, iscs)))\n",
    "    perm_arr = np.vstack(perm_arr) \n",
    "    return perm_arr, iscs_shape\n",
    "    "
   ]
  },
  {
   "cell_type": "markdown",
   "id": "optional-dream",
   "metadata": {},
   "source": [
    "# ROI"
   ]
  },
  {
   "cell_type": "markdown",
   "id": "moral-fundamental",
   "metadata": {},
   "source": [
    "### load data"
   ]
  },
  {
   "cell_type": "code",
   "execution_count": 237,
   "id": "natural-holocaust",
   "metadata": {},
   "outputs": [
    {
     "name": "stdout",
     "output_type": "stream",
     "text": [
      "total networks: 16\n"
     ]
    }
   ],
   "source": [
    "#load\n",
    "#roi_bpress_ispc = np.load(f'{isc_dir}/roi_bpress_ispc.npy', allow_pickle = True).item()\n",
    "roi_bpress_ispc = np.load(f'{isc_dir}/targ_net_roi_bpress_ispc.npy', allow_pickle = True).item()\n",
    "print(f'total keys: {len(list(roi_bpress_ispc.keys()))}')"
   ]
  },
  {
   "cell_type": "code",
   "execution_count": 245,
   "id": "therapeutic-truth",
   "metadata": {},
   "outputs": [],
   "source": [
    "anal_type = 'ROI' # or 'NETWORK'\n",
    "\n",
    "targ_cond = \"internal\"\n",
    "# set movie\n",
    "targ_mov = 'office'# ['sherlock', 'office', 'oragami', 'shrek', 'brushing', 'cake']\n",
    "# set hemisphere (onlfy for net)\n",
    "hemi = 'R'\n",
    "# set target run \n",
    "targ_run = 1 \n",
    "# set ROI\n",
    "roi = 'LH_Default_PFC_11'\n",
    "\n",
    "targ_dic = {} \n",
    "if anal_type == \"NETWORK\":\n",
    "    targ_keys = [key for key in list(roi_bpress_ispc.keys()) if key[-8:] == targ_cond]  \n",
    "    targ_keys = [key for key in targ_keys if key[:1] == hemi]  \n",
    "    for key in targ_keys:\n",
    "        targ_dic[key] = roi_bpress_ispc[key][targ_run][targ_mov]\n",
    "elif anal_type == 'ROI':\n",
    "    targ_keys = [key for key in list(roi_bpress_ispc.keys()) if key[-8:] == targ_cond] \n",
    "    for key in targ_keys:\n",
    "        targ_dic[key[:-9]] = roi_bpress_ispc[key][targ_run][targ_mov]\n",
    "else:\n",
    "    print('set anal type')"
   ]
  },
  {
   "cell_type": "code",
   "execution_count": 242,
   "id": "designed-pension",
   "metadata": {},
   "outputs": [
    {
     "name": "stdout",
     "output_type": "stream",
     "text": [
      "total networks: 8  \n",
      " office 1 \n",
      " internal\n",
      " subjects included: 18\n"
     ]
    }
   ],
   "source": [
    "print(f'total networks: {len(list(targ_dic.keys()))}  \\n {targ_mov} {targ_run} \\n {targ_cond}')\n",
    "print(f' subjects included: {targ_dic[list(targ_dic.keys())[0]].shape[2]}') "
   ]
  },
  {
   "cell_type": "markdown",
   "id": "foreign-boston",
   "metadata": {},
   "source": [
    "### start anal"
   ]
  },
  {
   "cell_type": "code",
   "execution_count": 243,
   "id": "recovered-convention",
   "metadata": {},
   "outputs": [
    {
     "data": {
      "text/plain": [
       "dict_keys(['RH_Cont_Par_2', 'LH_Default_PFC_11', 'RH_Cont_PFCl_6', 'RH_Cont_PFCl_7', 'RH_DorsAttn_FEF_2', 'RH_DorsAttn_Post_8', 'LH_Default_PFC_7', 'LH_Default_pCunPCC_4'])"
      ]
     },
     "execution_count": 243,
     "metadata": {},
     "output_type": "execute_result"
    }
   ],
   "source": [
    "targ_dic.keys()"
   ]
  },
  {
   "cell_type": "markdown",
   "id": "understanding-algeria",
   "metadata": {},
   "source": [
    "### start "
   ]
  },
  {
   "cell_type": "code",
   "execution_count": 247,
   "id": "respective-arbor",
   "metadata": {
    "scrolled": true
   },
   "outputs": [
    {
     "name": "stdout",
     "output_type": "stream",
     "text": [
      "Condensed ISFCs shape: (78,), ISCs shape: (13,)\n",
      "Condensed ISFCs shape: (78,), ISCs shape: (13,)\n",
      "Condensed ISFCs shape: (78,), ISCs shape: (13,)\n",
      "Condensed ISFCs shape: (78,), ISCs shape: (13,)\n",
      "Condensed ISFCs shape: (78,), ISCs shape: (13,)\n",
      "Condensed ISFCs shape: (78,), ISCs shape: (13,)\n",
      "Condensed ISFCs shape: (78,), ISCs shape: (13,)\n",
      "Condensed ISFCs shape: (78,), ISCs shape: (13,)\n",
      "Condensed ISFCs shape: (78,), ISCs shape: (13,)\n",
      "Condensed ISFCs shape: (78,), ISCs shape: (13,)\n"
     ]
    }
   ],
   "source": [
    "num_perm = 10\n",
    "# get permutated accuracies \n",
    "perm_mat, isc_shape = perm_matrices(targ_dic, roi, num_perm)\n",
    "# get the maximum of each permutation test. This controls across all timepoints -- most stringent.\n",
    "# should use this one or perm_mat? subtle nuance\n",
    "max_perm = np.max(perm_mat, axis=1)\n",
    "## get the off diagnonal for plotting [not really important]\n",
    "perm_mat_c = np.max(perm_mat, axis=0)\n",
    "## save perm_mat for fun\n"
   ]
  },
  {
   "cell_type": "code",
   "execution_count": 248,
   "id": "awful-blowing",
   "metadata": {},
   "outputs": [],
   "source": [
    "# get actual correlation matrix \n",
    "ispcs = isfc(np.rollaxis(targ_dic[roi], 1, 0),\n",
    "                    pairwise=False, vectorize_isfcs=False,\n",
    "                    summary_statistic='mean')"
   ]
  },
  {
   "cell_type": "code",
   "execution_count": 249,
   "id": "mexican-bottle",
   "metadata": {},
   "outputs": [],
   "source": [
    "## flatten and concatenate\n",
    "ispcs_c, iscs = squareform_isfc(ispcs)\n",
    "cat_ispcs = np.hstack((ispcs_c, iscs))\n",
    "## get p-values "
   ]
  },
  {
   "cell_type": "code",
   "execution_count": 250,
   "id": "comprehensive-proposition",
   "metadata": {},
   "outputs": [],
   "source": [
    "pval = .05\n",
    "## the current val must beat ALL timepoints in ALL simulations \n",
    "sig_vals =  [(np.sum(val < perm_mat)) / perm_mat.shape[0] for val in cat_ispcs]\n",
    "sig_val_bin = [1 if val < pval else 0 for val in sig_vals ]    "
   ]
  },
  {
   "cell_type": "code",
   "execution_count": 251,
   "id": "outside-federation",
   "metadata": {},
   "outputs": [
    {
     "name": "stdout",
     "output_type": "stream",
     "text": [
      "Converted redundant ISFCs shape: (13, 13)\n"
     ]
    }
   ],
   "source": [
    "# Convert these directly back to redundant ISFCs\n",
    "off_diag = np.array(sig_val_bin[:-isc_shape])\n",
    "diag = np.array(sig_val_bin[-isc_shape:])\n",
    "sig_mat_r = squareform_isfc(off_diag, diag)\n",
    "print(f\"Converted redundant ISFCs shape: {sig_mat_r.shape}\")"
   ]
  },
  {
   "cell_type": "code",
   "execution_count": 252,
   "id": "absolute-belly",
   "metadata": {},
   "outputs": [],
   "source": [
    "mats = np.dstack((sig_mat_r, ispcs))"
   ]
  },
  {
   "cell_type": "code",
   "execution_count": null,
   "id": "fabulous-necklace",
   "metadata": {},
   "outputs": [],
   "source": []
  },
  {
   "cell_type": "code",
   "execution_count": 207,
   "id": "wanted-entertainment",
   "metadata": {},
   "outputs": [
    {
     "data": {
      "image/png": "[encoded data removed]",
      "text/plain": [
       "<Figure size 864x432 with 4 Axes>"
      ]
     },
     "metadata": {
      "needs_background": "light"
     },
     "output_type": "display_data"
    }
   ],
   "source": [
    "fig, axs = plt.subplots(1, 2, figsize=(12, 6))\n",
    "\n",
    "image1 = axs[0].matshow(ispcs, cmap='RdYlBu_r')\n",
    "axs[0].set_title(f'{roi}')\n",
    "cbar1 = plt.colorbar(image1, ax=axs[0])\n",
    "\n",
    "image2 = axs[1].matshow(sig_mat_r, cmap='binary_r')\n",
    "axs[1].set_title('sig')\n",
    "cbar1 = plt.colorbar(image2, ax=axs[1])\n",
    "\n",
    "# Adjust spacing between subplots and colorbars\n",
    "plt.tight_layout()\n",
    "plt.show()"
   ]
  },
  {
   "cell_type": "markdown",
   "id": "invisible-truth",
   "metadata": {},
   "source": [
    "# visualize - across video"
   ]
  },
  {
   "cell_type": "code",
   "execution_count": 254,
   "id": "uniform-biodiversity",
   "metadata": {},
   "outputs": [
    {
     "data": {
      "text/plain": [
       "'/jukebox/graziano/coolCatIsaac/MEI/data/work/isc_dat/internal_LH_Default_PFC_11_run1.npy'"
      ]
     },
     "execution_count": 254,
     "metadata": {},
     "output_type": "execute_result"
    }
   ],
   "source": [
    "f'{isc_dir}/{targ_cond}_{roi}_run{targ_run}.npy'"
   ]
  },
  {
   "cell_type": "code",
   "execution_count": 262,
   "id": "lightweight-roller",
   "metadata": {},
   "outputs": [],
   "source": [
    "roi_across_vids = np.load(f'{isc_dir}/{targ_cond}_{roi}_run{targ_run}.npy', allow_pickle = True).item()"
   ]
  },
  {
   "cell_type": "code",
   "execution_count": 274,
   "id": "democratic-greenhouse",
   "metadata": {},
   "outputs": [
    {
     "data": {
      "image/png": "[encoded data removed]",
      "text/plain": [
       "<Figure size 864x1296 with 12 Axes>"
      ]
     },
     "metadata": {
      "needs_background": "light"
     },
     "output_type": "display_data"
    }
   ],
   "source": [
    "fig, axs = plt.subplots(6, 2, figsize=(12, 18))\n",
    "\n",
    "vmin= -.3\n",
    "vmax= .3\n",
    "\n",
    "for idx, key in enumerate(list(roi_across_vids.keys())):\n",
    "    mov = roi_across_vids[key]\n",
    "    # First plot: Matrix\n",
    "    title = f'{roi}'  # Choose the appropriate title\n",
    "    axs[idx, 0].matshow(mov[...,1], vmin=vmin, vmax=vmax, cmap='RdYlBu_r')\n",
    "    axs[idx, 0].set_xlabel('time (TR)')\n",
    "    axs[idx, 0].set_ylabel('time (TR)')\n",
    "    axs[idx, 0].set_title(key)\n",
    "    \n",
    "    axs[idx, 1].matshow(mov[...,0], vmin=vmin, vmax=vmax, cmap='binary_r')\n",
    "    axs[idx, 1].set_xlabel('time (TR)')\n",
    "    axs[idx, 1].set_ylabel('time (TR)')\n",
    "    axs[idx, 1].set_title(key)\n",
    "    #axs[int(ind / plot_col), ind % plot_col].set_xticks([])\n",
    "    #axs[int(ind / plot_col), ind % plot_col].set_yticks([])\n",
    "\n",
    "# Adjust spacing between subplots and colorbars\n",
    "plt.tight_layout()\n",
    "plt.show()"
   ]
  },
  {
   "cell_type": "markdown",
   "id": "lyric-borough",
   "metadata": {},
   "source": [
    "# Visualize - across ROI"
   ]
  },
  {
   "cell_type": "code",
   "execution_count": 275,
   "id": "headed-kenya",
   "metadata": {},
   "outputs": [
    {
     "name": "stdout",
     "output_type": "stream",
     "text": [
      "total keys: 16\n"
     ]
    }
   ],
   "source": [
    "#load\n",
    "#roi_bpress_ispc = np.load(f'{isc_dir}/roi_bpress_ispc.npy', allow_pickle = True).item()\n",
    "roi_bpress_ispc = np.load(f'{isc_dir}/targ_net_roi_bpress_ispc.npy', allow_pickle = True).item()\n",
    "print(f'total keys: {len(list(roi_bpress_ispc.keys()))}')"
   ]
  },
  {
   "cell_type": "code",
   "execution_count": 280,
   "id": "cordless-fleece",
   "metadata": {},
   "outputs": [],
   "source": [
    "anal_type = 'ROI' # or 'NETWORK'\n",
    "\n",
    "targ_cond = \"external\"\n",
    "# set movie\n",
    "targ_mov = 'office'# ['sherlock', 'office', 'oragami', 'shrek', 'brushing', 'cake']\n",
    "# set hemisphere (onlfy for net)\n",
    "hemi = 'R'\n",
    "# set target run \n",
    "targ_run = 1 \n",
    "# set ROI\n",
    "roi = 'LH_Default_PFC_11'\n",
    "\n",
    "targ_dic = {} \n",
    "if anal_type == \"NETWORK\":\n",
    "    targ_keys = [key for key in list(roi_bpress_ispc.keys()) if key[-8:] == targ_cond]  \n",
    "    targ_keys = [key for key in targ_keys if key[:1] == hemi]  \n",
    "    for key in targ_keys:\n",
    "        targ_dic[key] = roi_bpress_ispc[key][targ_run][targ_mov]\n",
    "elif anal_type == 'ROI':\n",
    "    targ_keys = [key for key in list(roi_bpress_ispc.keys()) if key[-8:] == targ_cond] \n",
    "    for key in targ_keys:\n",
    "        targ_dic[key[:-9]] = roi_bpress_ispc[key][targ_run][targ_mov]\n",
    "else:\n",
    "    print('set anal type')"
   ]
  },
  {
   "cell_type": "code",
   "execution_count": 281,
   "id": "prompt-negative",
   "metadata": {},
   "outputs": [
    {
     "name": "stderr",
     "output_type": "stream",
     "text": [
      "/jukebox/pkgs/PYGER/base/envs/0.11.0/lib/python3.7/site-packages/ipykernel_launcher.py:38: UserWarning: This figure includes Axes that are not compatible with tight_layout, so results might be incorrect.\n"
     ]
    },
    {
     "data": {
      "image/png": "[encoded data removed]",
      "text/plain": [
       "<Figure size 1080x864 with 10 Axes>"
      ]
     },
     "metadata": {
      "needs_background": "light"
     },
     "output_type": "display_data"
    }
   ],
   "source": [
    "plot_row = 3\n",
    "plot_col = 3\n",
    "sub_plot_num = 5\n",
    "\n",
    "# Plot time-point-by-time-point intersubject pattern correlation\n",
    "vmin, vmax = -0.3, 0.3\n",
    "\n",
    "fig, axs = plt.subplots(plot_row, plot_col, figsize=(15, 12))\n",
    "\n",
    "for ind, roi in enumerate(targ_dic):\n",
    "    # calculate ispc\n",
    "    # Transpose input data to compute intersubject pattern correlation\n",
    "    ispcs = isfc(np.rollaxis(targ_dic[roi], 1, 0),\n",
    "                        pairwise=False, vectorize_isfcs=False,\n",
    "                        summary_statistic='mean')\n",
    "\n",
    "    \n",
    "    # First plot: Matrix\n",
    "    title = f'{roi}'  # Choose the appropriate title\n",
    "    image = axs[int(ind / plot_col), ind % plot_col].matshow(ispcs, vmin=vmin, vmax=vmax, cmap='RdYlBu_r')\n",
    "    axs[int(ind / plot_col), ind % plot_col].set_title(title)\n",
    "    axs[int(ind / plot_col), ind % plot_col].set_xticks([])\n",
    "    axs[int(ind / plot_col), ind % plot_col].set_yticks([])\n",
    "    axs[int(ind / plot_col), ind % plot_col].set_xlabel('time')\n",
    "    axs[int(ind / plot_col), ind % plot_col].set_ylabel('time')\n",
    "    #cbar = plt.colorbar(image, ax=axs[0])  # Add colorbar\n",
    "    #cbar.set_label('Correlation')  # Set colorbar label\n",
    "\n",
    "# Main title for the entire plot\n",
    "plt.suptitle(f'{targ_cond} {targ_run} {targ_mov} ISPC', fontsize=16)\n",
    "\n",
    "\n",
    "# Add a single colorbar for all subplots\n",
    "cbar_ax = fig.add_axes([0.92, 0.15, 0.02, 0.7])  # Adjust the position and size of the colorbar\n",
    "cbar = plt.colorbar(image, cax=cbar_ax)\n",
    "cbar.set_label('Correlation')\n",
    "\n",
    "plt.tight_layout(rect=[0, 0, 0.9, 0.95])  # Adjust the layout to accommodate the main title\n",
    "plt.show()\n",
    "    \n",
    "    "
   ]
  },
  {
   "cell_type": "code",
   "execution_count": null,
   "id": "certified-wesley",
   "metadata": {},
   "outputs": [],
   "source": []
  },
  {
   "cell_type": "code",
   "execution_count": null,
   "id": "official-stack",
   "metadata": {},
   "outputs": [],
   "source": []
  },
  {
   "cell_type": "markdown",
   "id": "disturbed-permit",
   "metadata": {},
   "source": [
    "## One Network"
   ]
  },
  {
   "cell_type": "code",
   "execution_count": 29,
   "id": "thrown-socket",
   "metadata": {},
   "outputs": [],
   "source": [
    "test = np.load(f'{isc_dir}/roi_bpress_ispc.npy', allow_pickle = True).item()\n",
    "#x = np.load(f'{isc_dir}/ext_isc.npz', mmap_mode='r')"
   ]
  },
  {
   "cell_type": "code",
   "execution_count": 23,
   "id": "narrow-highlight",
   "metadata": {},
   "outputs": [
    {
     "data": {
      "text/plain": [
       "(13, 1124, 9)"
      ]
     },
     "execution_count": 23,
     "metadata": {},
     "output_type": "execute_result"
    }
   ],
   "source": [
    "#anal = m_rep_int[4]['sherlock']\n",
    "anal = m_rep_ext[1]['sherlock']\n",
    "anal.shape"
   ]
  },
  {
   "cell_type": "code",
   "execution_count": 24,
   "id": "minor-dayton",
   "metadata": {},
   "outputs": [],
   "source": [
    "# Transpose input data to compute intersubject pattern correlation\n",
    "ispcs = isfc(np.rollaxis(anal, 1, 0),\n",
    "                    pairwise=False, vectorize_isfcs=False,\n",
    "                    summary_statistic='mean')"
   ]
  },
  {
   "cell_type": "code",
   "execution_count": 25,
   "id": "atlantic-aquatic",
   "metadata": {
    "scrolled": true
   },
   "outputs": [
    {
     "data": {
      "image/png": "[encoded data removed]",
      "text/plain": [
       "<Figure size 864x432 with 3 Axes>"
      ]
     },
     "metadata": {
      "needs_background": "light"
     },
     "output_type": "display_data"
    }
   ],
   "source": [
    "# Plot time-point-by-time-point intersubject pattern correlation\n",
    "vmin, vmax = -0.15, 0.15\n",
    "\n",
    "fig, axs = plt.subplots(1, 2, figsize=(12, 6))\n",
    "\n",
    "# First plot: Matrix\n",
    "ispc = ispcs  # Choose the matrix to plot (intact_ispcs or scram_ispcs)\n",
    "title = f'{net_lab} ISPC'  # Choose the appropriate title\n",
    "image = axs[0].matshow(ispc, vmin=vmin, vmax=vmax, cmap='RdYlBu_r')\n",
    "axs[0].set_title(title)\n",
    "axs[0].set_xticks([])\n",
    "axs[0].set_yticks([])\n",
    "axs[0].set_xlabel('time')\n",
    "axs[0].set_ylabel('time')\n",
    "cbar = plt.colorbar(image, ax=axs[0])  # Add colorbar\n",
    "cbar.set_label('Correlation')  # Set colorbar label\n",
    "\n",
    "# Second plot: Seaborn lineplot with vertical line\n",
    "diagonal = np.diagonal(ispc)\n",
    "time_points = np.arange(len(diagonal))\n",
    "axs[1] = sns.lineplot(x=time_points, y=diagonal, color='blue')\n",
    "axs[1].set_title('Diagonal of Matrix')\n",
    "axs[1].set_xlabel('time')\n",
    "axs[1].set_ylabel('Correlation')\n",
    "axs[1].axvline(x=3, color='red', linestyle='--')  # Vertical line at the third tick\n",
    "axs[1].axhline(y=0, color='red', linestyle='--')  # Horizotnal line at 0\n",
    "\n",
    "\n",
    "plt.tight_layout()\n",
    "plt.show()\n"
   ]
  },
  {
   "cell_type": "code",
   "execution_count": null,
   "id": "synthetic-tuesday",
   "metadata": {},
   "outputs": [],
   "source": []
  },
  {
   "cell_type": "code",
   "execution_count": null,
   "id": "variable-country",
   "metadata": {},
   "outputs": [],
   "source": []
  },
  {
   "cell_type": "markdown",
   "id": "united-gallery",
   "metadata": {},
   "source": [
    "# Plot networks"
   ]
  },
  {
   "cell_type": "markdown",
   "id": "adverse-pension",
   "metadata": {},
   "source": [
    "### load atlas "
   ]
  },
  {
   "cell_type": "code",
   "execution_count": 24,
   "id": "economic-twenty",
   "metadata": {},
   "outputs": [],
   "source": [
    "num_parc = 400\n",
    "\n",
    "## should be 17 to run\n",
    "num_net= 7"
   ]
  },
  {
   "cell_type": "code",
   "execution_count": 25,
   "id": "palestinian-revelation",
   "metadata": {},
   "outputs": [
    {
     "name": "stdout",
     "output_type": "stream",
     "text": [
      "Loading data from /jukebox/graziano/coolCatIsaac/MEI/data/bids/derivatives/fmriprep/sub-007/ses-01/func/sub-007_ses-01_task-None_run-02_space-MNI152NLin2009cAsym_desc-preproc_bold.nii.gz\n",
      "shape of run 2 is (78, 93, 65, 369) \n",
      "\n",
      "count parc:401\n",
      "shape of atlas nii object (78, 93, 65)\n"
     ]
    }
   ],
   "source": [
    "## fetch dataset\n",
    "dataset = datasets.fetch_atlas_schaefer_2018(n_rois=num_parc, yeo_networks = num_net)\n",
    "\n",
    "# get nii dataset location\n",
    "atlas_filename = dataset.maps\n",
    "## get *ROI* atlas labels\n",
    "labels = dataset.labels\n",
    "\n",
    "# resample loaded atlas \n",
    "atlas_nii, atlas_img = resample_atlas(atlas_filename, fmri_prep)"
   ]
  },
  {
   "cell_type": "markdown",
   "id": "sharing-telephone",
   "metadata": {},
   "source": [
    "### get network labels"
   ]
  },
  {
   "cell_type": "code",
   "execution_count": 26,
   "id": "raising-quarterly",
   "metadata": {},
   "outputs": [
    {
     "name": "stdout",
     "output_type": "stream",
     "text": [
      "two networks: ['L Vis', 'L SomMot'] \n",
      " total nets: 14\n"
     ]
    }
   ],
   "source": [
    "# Load in network labels for each parcell, ALL network labels, and the middle parcel within each network\n",
    "networks, network_labels, network_idxs = get_network_labels(num_parc, num_net)\n"
   ]
  },
  {
   "cell_type": "code",
   "execution_count": 11,
   "id": "expressed-bennett",
   "metadata": {},
   "outputs": [],
   "source": [
    "# **7 NETWORK Get labels for parcels in left DMN A network** ## \n",
    "net_lab = 'R DorsAttn'\n",
    "\n",
    "## Target Conditions\n",
    "targ_cond = \"External\"\n",
    "\n",
    "## movie repetitions ##\n",
    "#m_reps = 1\n",
    "targ_run = 1\n",
    "\n",
    "## Get labels associated with the target network ## \n",
    "targ_net = (np.array(networks) == net_lab).nonzero()[0] + 1\n"
   ]
  },
  {
   "cell_type": "code",
   "execution_count": 13,
   "id": "viral-stage",
   "metadata": {},
   "outputs": [
    {
     "data": {
      "text/plain": [
       "<nilearn.plotting.displays.OrthoSlicer at 0x7fe59e3fe710>"
      ]
     },
     "execution_count": 13,
     "metadata": {},
     "output_type": "execute_result"
    },
    {
     "data": {
      "image/png": "[encoded data removed]",
      "text/plain": [
       "<Figure size 475.2x187.2 with 4 Axes>"
      ]
     },
     "metadata": {},
     "output_type": "display_data"
    }
   ],
   "source": [
    "# Create an empty that is the shape of d\n",
    "roi_tem = np.zeros(atlas_nii.shape)\n",
    "# set all cases where parcel is equal to roi_num, equal to one, everything else zero (creates a mask)\n",
    "for parcel in targ_net:\n",
    "    roi_tem[atlas_img == parcel] = 1\n",
    "    \n",
    "# Create a nift image of the mask\n",
    "roi_img = nib.Nifti1Image(roi_tem, affine = atlas_nii.affine, header = atlas_nii.header)\n",
    "#nib.save(roi_img, rois_dir+'/'+ roi_name.decode(\"utf-8\"))\n",
    "\n",
    "\n",
    "mPFC_coords = (10,10, 45)\n",
    "pcc_coords = (10,-40, 45)\n",
    "\n",
    "#plot_roi(roi_img,cut_coords = pcc_coords)\n",
    "plot_roi(roi_img)"
   ]
  },
  {
   "cell_type": "code",
   "execution_count": null,
   "id": "cloudy-discount",
   "metadata": {},
   "outputs": [],
   "source": []
  },
  {
   "cell_type": "code",
   "execution_count": null,
   "id": "induced-promise",
   "metadata": {},
   "outputs": [],
   "source": []
  },
  {
   "cell_type": "code",
   "execution_count": null,
   "id": "devoted-christmas",
   "metadata": {},
   "outputs": [],
   "source": []
  }
 ],
 "metadata": {
  "kernelspec": {
   "display_name": "Python 3",
   "language": "python",
   "name": "python3"
  },
  "language_info": {
   "codemirror_mode": {
    "name": "ipython",
    "version": 3
   },
   "file_extension": ".py",
   "mimetype": "text/x-python",
   "name": "python",
   "nbconvert_exporter": "python",
   "pygments_lexer": "ipython3",
   "version": "3.7.9"
  }
 },
 "nbformat": 4,
 "nbformat_minor": 5
}
