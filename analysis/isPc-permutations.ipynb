{
 "cells": [
  {
   "cell_type": "markdown",
   "id": "loved-basket",
   "metadata": {},
   "source": [
    "# runs permutations on isPC/FC matrices"
   ]
  },
  {
   "cell_type": "markdown",
   "id": "metropolitan-beads",
   "metadata": {},
   "source": [
    "see above lol -- copied from isPC-vis"
   ]
  },
  {
   "cell_type": "markdown",
   "id": "presidential-material",
   "metadata": {},
   "source": [
    "## py conversion"
   ]
  },
  {
   "cell_type": "code",
   "execution_count": 1,
   "id": "technical-joyce",
   "metadata": {},
   "outputs": [],
   "source": [
    "#!jupyter nbconvert --to python isPc.ipynb"
   ]
  },
  {
   "cell_type": "markdown",
   "id": "molecular-press",
   "metadata": {},
   "source": [
    "## Imports "
   ]
  },
  {
   "cell_type": "code",
   "execution_count": 2,
   "id": "boring-domain",
   "metadata": {},
   "outputs": [
    {
     "name": "stderr",
     "output_type": "stream",
     "text": [
      "/jukebox/pkgs/PYGER/base/envs/0.11.0/lib/python3.7/site-packages/nilearn/datasets/__init__.py:90: FutureWarning: Fetchers from the nilearn.datasets module will be updated in version 0.9 to return python strings instead of bytes and Pandas dataframes instead of Numpy arrays.\n",
      "  \"Numpy arrays.\", FutureWarning)\n"
     ]
    }
   ],
   "source": [
    "import warnings\n",
    "import sys  \n",
    "import random\n",
    "import os\n",
    "import os.path\n",
    "\n",
    "import deepdish as dd\n",
    "import numpy as np\n",
    "import pandas as pd\n",
    "\n",
    "import scipy.io\n",
    "from scipy import stats\n",
    "from scipy.stats import stats\n",
    "from scipy.stats import norm, zscore, pearsonr\n",
    "from scipy.signal import gaussian, convolve\n",
    "\n",
    "#plotting\n",
    "from matplotlib import pyplot as plt\n",
    "from mpl_toolkits.mplot3d import Axes3D\n",
    "import matplotlib.patches as patches\n",
    "import seaborn as sns \n",
    "\n",
    "# nil and nib \n",
    "import nibabel as nib\n",
    "import nilearn as nil\n",
    "\n",
    "from nilearn.input_data import NiftiMasker\n",
    "from nilearn import datasets, plotting\n",
    "from nilearn.plotting import plot_roi\n",
    "from nilearn.input_data import NiftiSpheresMasker\n",
    "from nilearn.glm.first_level import FirstLevelModel\n",
    "from nilearn.glm.first_level import make_first_level_design_matrix\n",
    "from nilearn.image import concat_imgs, resample_img, mean_img,index_img\n",
    "from nilearn import image\n",
    "from nilearn import masking\n",
    "from nilearn.plotting import view_img\n",
    "from nilearn.image import resample_to_img\n",
    "from nilearn.image import concat_imgs, resample_img, mean_img\n",
    "from nilearn.plotting import view_img\n",
    "from nilearn.input_data import NiftiMasker\n",
    "from nilearn.masking import compute_epi_mask, compute_brain_mask, unmask\n",
    "from nilearn.plotting import plot_stat_map\n",
    "\n",
    "# Brainiak # \n",
    "from brainiak import image, io \n",
    "import brainiak.utils.fmrisim as sim  \n",
    "from brainiak import image, io\n",
    "import brainiak.eventseg.event\n",
    "from brainiak.isc import (isc, isfc, bootstrap_isc, permutation_isc,\n",
    "                          timeshift_isc, phaseshift_isc,\n",
    "                          compute_summary_statistic)\n",
    "from brainiak.io import load_boolean_mask, load_images\n",
    "from statsmodels.stats.multitest import multipletests\n",
    "\n",
    "from brainiak.isc import squareform_isfc\n",
    "%matplotlib inline"
   ]
  },
  {
   "cell_type": "code",
   "execution_count": 21,
   "id": "suspended-stranger",
   "metadata": {},
   "outputs": [],
   "source": []
  },
  {
   "cell_type": "code",
   "execution_count": 3,
   "id": "vocal-fault",
   "metadata": {},
   "outputs": [],
   "source": [
    "random.seed(10)"
   ]
  },
  {
   "cell_type": "markdown",
   "id": "domestic-reliance",
   "metadata": {},
   "source": [
    "## custom helper functions "
   ]
  },
  {
   "cell_type": "code",
   "execution_count": 4,
   "id": "decreased-completion",
   "metadata": {},
   "outputs": [],
   "source": [
    "from utils_anal import load_epi_data, resample_atlas, get_network_labels"
   ]
  },
  {
   "cell_type": "markdown",
   "id": "treated-worthy",
   "metadata": {},
   "source": [
    "## directories "
   ]
  },
  {
   "cell_type": "code",
   "execution_count": 5,
   "id": "efficient-separation",
   "metadata": {},
   "outputs": [],
   "source": [
    "top_dir = '/jukebox/graziano/coolCatIsaac/MEI'\n",
    "data_dir = top_dir + \"/data\"\n",
    "work_dir = data_dir + '/work'\n",
    "mask_dir = work_dir + '/masks'\n",
    "behav_dir = top_dir + '/data/behavioral'\n",
    "rois_dir = data_dir + \"/rois\"\n",
    "fmri_prep = data_dir + '/bids/derivatives/fmriprep'\n",
    "conf_dir = work_dir + '/confs'\n",
    "preproc_dir = work_dir + '/preproc'\n",
    "isc_dir = work_dir + '/isc_dat'\n"
   ]
  },
  {
   "cell_type": "markdown",
   "id": "computational-convertible",
   "metadata": {},
   "source": [
    "# run simulations"
   ]
  },
  {
   "cell_type": "markdown",
   "id": "iraqi-falls",
   "metadata": {},
   "source": [
    "### load data"
   ]
  },
  {
   "cell_type": "code",
   "execution_count": 6,
   "id": "spare-potato",
   "metadata": {},
   "outputs": [
    {
     "name": "stdout",
     "output_type": "stream",
     "text": [
      "total networks: 28\n"
     ]
    }
   ],
   "source": [
    "roi_bpress_ispc = np.load(f'{isc_dir}/roi_bpress_ispc.npy', allow_pickle = True).item()\n",
    "print(f'total networks: {len(list(roi_bpress_ispc.keys()))}')"
   ]
  },
  {
   "cell_type": "code",
   "execution_count": 7,
   "id": "flying-garage",
   "metadata": {},
   "outputs": [
    {
     "data": {
      "text/plain": [
       "['L Vis-external', 'L Vis-internal']"
      ]
     },
     "execution_count": 7,
     "metadata": {},
     "output_type": "execute_result"
    }
   ],
   "source": [
    "list(roi_bpress_ispc.keys())[:2]"
   ]
  },
  {
   "cell_type": "code",
   "execution_count": 8,
   "id": "velvet-storage",
   "metadata": {},
   "outputs": [],
   "source": [
    "targ_cond = \"internal\"\n",
    "targ_mov = 'office'\n",
    "hemi = 'R'\n",
    "targ_run = 1 \n",
    "targ_dic = {} \n",
    "\n",
    "targ_keys = [key for key in list(roi_bpress_ispc.keys()) if key[-8:] == targ_cond]  \n",
    "targ_keys = [key for key in targ_keys if key[:1] == hemi]  \n",
    "for key in targ_keys:\n",
    "    targ_dic[key] = roi_bpress_ispc[key][targ_run][targ_mov]"
   ]
  },
  {
   "cell_type": "code",
   "execution_count": 9,
   "id": "suitable-panic",
   "metadata": {},
   "outputs": [
    {
     "name": "stdout",
     "output_type": "stream",
     "text": [
      "total networks: 7 \n",
      " hemisphere: R \n",
      " office 1 \n",
      " internal\n",
      " subjects included: 18\n"
     ]
    }
   ],
   "source": [
    "print(f'total networks: {len(list(targ_dic.keys()))} \\n hemisphere: {hemi} \\n {targ_mov} {targ_run} \\n {targ_cond}')\n",
    "print(f' subjects included: {targ_dic[list(targ_dic.keys())[0]].shape[2]}') "
   ]
  },
  {
   "cell_type": "markdown",
   "id": "nuclear-spare",
   "metadata": {},
   "source": [
    "### start anal"
   ]
  },
  {
   "cell_type": "code",
   "execution_count": 15,
   "id": "played-mustang",
   "metadata": {},
   "outputs": [],
   "source": [
    "roi = 'R Vis-internal'"
   ]
  },
  {
   "cell_type": "code",
   "execution_count": 59,
   "id": "upper-field",
   "metadata": {},
   "outputs": [
    {
     "data": {
      "text/plain": [
       "18"
      ]
     },
     "execution_count": 59,
     "metadata": {},
     "output_type": "execute_result"
    }
   ],
   "source": [
    "targ_dic[roi].shape[2]"
   ]
  },
  {
   "cell_type": "code",
   "execution_count": 84,
   "id": "relevant-distance",
   "metadata": {
    "scrolled": true
   },
   "outputs": [
    {
     "name": "stdout",
     "output_type": "stream",
     "text": [
      "Condensed ISFCs shape: (78,), ISCs shape: (13,)\n",
      "Condensed ISFCs shape: (78,), ISCs shape: (13,)\n",
      "Condensed ISFCs shape: (78,), ISCs shape: (13,)\n",
      "Condensed ISFCs shape: (78,), ISCs shape: (13,)\n",
      "Condensed ISFCs shape: (78,), ISCs shape: (13,)\n",
      "Condensed ISFCs shape: (78,), ISCs shape: (13,)\n",
      "Condensed ISFCs shape: (78,), ISCs shape: (13,)\n",
      "Condensed ISFCs shape: (78,), ISCs shape: (13,)\n",
      "Condensed ISFCs shape: (78,), ISCs shape: (13,)\n",
      "Condensed ISFCs shape: (78,), ISCs shape: (13,)\n",
      "Condensed ISFCs shape: (78,), ISCs shape: (13,)\n",
      "Condensed ISFCs shape: (78,), ISCs shape: (13,)\n",
      "Condensed ISFCs shape: (78,), ISCs shape: (13,)\n",
      "Condensed ISFCs shape: (78,), ISCs shape: (13,)\n",
      "Condensed ISFCs shape: (78,), ISCs shape: (13,)\n",
      "Condensed ISFCs shape: (78,), ISCs shape: (13,)\n",
      "Condensed ISFCs shape: (78,), ISCs shape: (13,)\n",
      "Condensed ISFCs shape: (78,), ISCs shape: (13,)\n",
      "Condensed ISFCs shape: (78,), ISCs shape: (13,)\n",
      "Condensed ISFCs shape: (78,), ISCs shape: (13,)\n",
      "Condensed ISFCs shape: (78,), ISCs shape: (13,)\n",
      "Condensed ISFCs shape: (78,), ISCs shape: (13,)\n",
      "Condensed ISFCs shape: (78,), ISCs shape: (13,)\n",
      "Condensed ISFCs shape: (78,), ISCs shape: (13,)\n",
      "Condensed ISFCs shape: (78,), ISCs shape: (13,)\n",
      "Condensed ISFCs shape: (78,), ISCs shape: (13,)\n",
      "Condensed ISFCs shape: (78,), ISCs shape: (13,)\n",
      "Condensed ISFCs shape: (78,), ISCs shape: (13,)\n",
      "Condensed ISFCs shape: (78,), ISCs shape: (13,)\n",
      "Condensed ISFCs shape: (78,), ISCs shape: (13,)\n",
      "Condensed ISFCs shape: (78,), ISCs shape: (13,)\n",
      "Condensed ISFCs shape: (78,), ISCs shape: (13,)\n",
      "Condensed ISFCs shape: (78,), ISCs shape: (13,)\n",
      "Condensed ISFCs shape: (78,), ISCs shape: (13,)\n",
      "Condensed ISFCs shape: (78,), ISCs shape: (13,)\n",
      "Condensed ISFCs shape: (78,), ISCs shape: (13,)\n",
      "Condensed ISFCs shape: (78,), ISCs shape: (13,)\n",
      "Condensed ISFCs shape: (78,), ISCs shape: (13,)\n",
      "Condensed ISFCs shape: (78,), ISCs shape: (13,)\n",
      "Condensed ISFCs shape: (78,), ISCs shape: (13,)\n",
      "Condensed ISFCs shape: (78,), ISCs shape: (13,)\n",
      "Condensed ISFCs shape: (78,), ISCs shape: (13,)\n",
      "Condensed ISFCs shape: (78,), ISCs shape: (13,)\n",
      "Condensed ISFCs shape: (78,), ISCs shape: (13,)\n",
      "Condensed ISFCs shape: (78,), ISCs shape: (13,)\n",
      "Condensed ISFCs shape: (78,), ISCs shape: (13,)\n",
      "Condensed ISFCs shape: (78,), ISCs shape: (13,)\n",
      "Condensed ISFCs shape: (78,), ISCs shape: (13,)\n",
      "Condensed ISFCs shape: (78,), ISCs shape: (13,)\n",
      "Condensed ISFCs shape: (78,), ISCs shape: (13,)\n",
      "Condensed ISFCs shape: (78,), ISCs shape: (13,)\n",
      "Condensed ISFCs shape: (78,), ISCs shape: (13,)\n",
      "Condensed ISFCs shape: (78,), ISCs shape: (13,)\n",
      "Condensed ISFCs shape: (78,), ISCs shape: (13,)\n",
      "Condensed ISFCs shape: (78,), ISCs shape: (13,)\n",
      "Condensed ISFCs shape: (78,), ISCs shape: (13,)\n",
      "Condensed ISFCs shape: (78,), ISCs shape: (13,)\n",
      "Condensed ISFCs shape: (78,), ISCs shape: (13,)\n",
      "Condensed ISFCs shape: (78,), ISCs shape: (13,)\n",
      "Condensed ISFCs shape: (78,), ISCs shape: (13,)\n",
      "Condensed ISFCs shape: (78,), ISCs shape: (13,)\n",
      "Condensed ISFCs shape: (78,), ISCs shape: (13,)\n",
      "Condensed ISFCs shape: (78,), ISCs shape: (13,)\n",
      "Condensed ISFCs shape: (78,), ISCs shape: (13,)\n",
      "Condensed ISFCs shape: (78,), ISCs shape: (13,)\n",
      "Condensed ISFCs shape: (78,), ISCs shape: (13,)\n",
      "Condensed ISFCs shape: (78,), ISCs shape: (13,)\n",
      "Condensed ISFCs shape: (78,), ISCs shape: (13,)\n",
      "Condensed ISFCs shape: (78,), ISCs shape: (13,)\n",
      "Condensed ISFCs shape: (78,), ISCs shape: (13,)\n",
      "Condensed ISFCs shape: (78,), ISCs shape: (13,)\n",
      "Condensed ISFCs shape: (78,), ISCs shape: (13,)\n",
      "Condensed ISFCs shape: (78,), ISCs shape: (13,)\n",
      "Condensed ISFCs shape: (78,), ISCs shape: (13,)\n",
      "Condensed ISFCs shape: (78,), ISCs shape: (13,)\n",
      "Condensed ISFCs shape: (78,), ISCs shape: (13,)\n",
      "Condensed ISFCs shape: (78,), ISCs shape: (13,)\n",
      "Condensed ISFCs shape: (78,), ISCs shape: (13,)\n",
      "Condensed ISFCs shape: (78,), ISCs shape: (13,)\n",
      "Condensed ISFCs shape: (78,), ISCs shape: (13,)\n",
      "Condensed ISFCs shape: (78,), ISCs shape: (13,)\n",
      "Condensed ISFCs shape: (78,), ISCs shape: (13,)\n",
      "Condensed ISFCs shape: (78,), ISCs shape: (13,)\n",
      "Condensed ISFCs shape: (78,), ISCs shape: (13,)\n",
      "Condensed ISFCs shape: (78,), ISCs shape: (13,)\n",
      "Condensed ISFCs shape: (78,), ISCs shape: (13,)\n",
      "Condensed ISFCs shape: (78,), ISCs shape: (13,)\n",
      "Condensed ISFCs shape: (78,), ISCs shape: (13,)\n",
      "Condensed ISFCs shape: (78,), ISCs shape: (13,)\n",
      "Condensed ISFCs shape: (78,), ISCs shape: (13,)\n",
      "Condensed ISFCs shape: (78,), ISCs shape: (13,)\n",
      "Condensed ISFCs shape: (78,), ISCs shape: (13,)\n",
      "Condensed ISFCs shape: (78,), ISCs shape: (13,)\n",
      "Condensed ISFCs shape: (78,), ISCs shape: (13,)\n",
      "Condensed ISFCs shape: (78,), ISCs shape: (13,)\n",
      "Condensed ISFCs shape: (78,), ISCs shape: (13,)\n",
      "Condensed ISFCs shape: (78,), ISCs shape: (13,)\n",
      "Condensed ISFCs shape: (78,), ISCs shape: (13,)\n",
      "Condensed ISFCs shape: (78,), ISCs shape: (13,)\n",
      "Condensed ISFCs shape: (78,), ISCs shape: (13,)\n",
      "Condensed ISFCs shape: (78,), ISCs shape: (13,)\n",
      "Condensed ISFCs shape: (78,), ISCs shape: (13,)\n",
      "Condensed ISFCs shape: (78,), ISCs shape: (13,)\n",
      "Condensed ISFCs shape: (78,), ISCs shape: (13,)\n",
      "Condensed ISFCs shape: (78,), ISCs shape: (13,)\n",
      "Condensed ISFCs shape: (78,), ISCs shape: (13,)\n",
      "Condensed ISFCs shape: (78,), ISCs shape: (13,)\n",
      "Condensed ISFCs shape: (78,), ISCs shape: (13,)\n",
      "Condensed ISFCs shape: (78,), ISCs shape: (13,)\n",
      "Condensed ISFCs shape: (78,), ISCs shape: (13,)\n",
      "Condensed ISFCs shape: (78,), ISCs shape: (13,)\n",
      "Condensed ISFCs shape: (78,), ISCs shape: (13,)\n",
      "Condensed ISFCs shape: (78,), ISCs shape: (13,)\n",
      "Condensed ISFCs shape: (78,), ISCs shape: (13,)\n",
      "Condensed ISFCs shape: (78,), ISCs shape: (13,)\n",
      "Condensed ISFCs shape: (78,), ISCs shape: (13,)\n",
      "Condensed ISFCs shape: (78,), ISCs shape: (13,)\n",
      "Condensed ISFCs shape: (78,), ISCs shape: (13,)\n",
      "Condensed ISFCs shape: (78,), ISCs shape: (13,)\n",
      "Condensed ISFCs shape: (78,), ISCs shape: (13,)\n",
      "Condensed ISFCs shape: (78,), ISCs shape: (13,)\n",
      "Condensed ISFCs shape: (78,), ISCs shape: (13,)\n",
      "Condensed ISFCs shape: (78,), ISCs shape: (13,)\n",
      "Condensed ISFCs shape: (78,), ISCs shape: (13,)\n",
      "Condensed ISFCs shape: (78,), ISCs shape: (13,)\n",
      "Condensed ISFCs shape: (78,), ISCs shape: (13,)\n",
      "Condensed ISFCs shape: (78,), ISCs shape: (13,)\n",
      "Condensed ISFCs shape: (78,), ISCs shape: (13,)\n",
      "Condensed ISFCs shape: (78,), ISCs shape: (13,)\n",
      "Condensed ISFCs shape: (78,), ISCs shape: (13,)\n",
      "Condensed ISFCs shape: (78,), ISCs shape: (13,)\n",
      "Condensed ISFCs shape: (78,), ISCs shape: (13,)\n",
      "Condensed ISFCs shape: (78,), ISCs shape: (13,)\n",
      "Condensed ISFCs shape: (78,), ISCs shape: (13,)\n",
      "Condensed ISFCs shape: (78,), ISCs shape: (13,)\n",
      "Condensed ISFCs shape: (78,), ISCs shape: (13,)\n",
      "Condensed ISFCs shape: (78,), ISCs shape: (13,)\n",
      "Condensed ISFCs shape: (78,), ISCs shape: (13,)\n",
      "Condensed ISFCs shape: (78,), ISCs shape: (13,)\n",
      "Condensed ISFCs shape: (78,), ISCs shape: (13,)\n",
      "Condensed ISFCs shape: (78,), ISCs shape: (13,)\n",
      "Condensed ISFCs shape: (78,), ISCs shape: (13,)\n",
      "Condensed ISFCs shape: (78,), ISCs shape: (13,)\n",
      "Condensed ISFCs shape: (78,), ISCs shape: (13,)\n",
      "Condensed ISFCs shape: (78,), ISCs shape: (13,)\n",
      "Condensed ISFCs shape: (78,), ISCs shape: (13,)\n",
      "Condensed ISFCs shape: (78,), ISCs shape: (13,)\n",
      "Condensed ISFCs shape: (78,), ISCs shape: (13,)\n",
      "Condensed ISFCs shape: (78,), ISCs shape: (13,)\n",
      "Condensed ISFCs shape: (78,), ISCs shape: (13,)\n",
      "Condensed ISFCs shape: (78,), ISCs shape: (13,)\n",
      "Condensed ISFCs shape: (78,), ISCs shape: (13,)\n",
      "Condensed ISFCs shape: (78,), ISCs shape: (13,)\n",
      "Condensed ISFCs shape: (78,), ISCs shape: (13,)\n",
      "Condensed ISFCs shape: (78,), ISCs shape: (13,)\n",
      "Condensed ISFCs shape: (78,), ISCs shape: (13,)\n",
      "Condensed ISFCs shape: (78,), ISCs shape: (13,)\n",
      "Condensed ISFCs shape: (78,), ISCs shape: (13,)\n",
      "Condensed ISFCs shape: (78,), ISCs shape: (13,)\n",
      "Condensed ISFCs shape: (78,), ISCs shape: (13,)\n",
      "Condensed ISFCs shape: (78,), ISCs shape: (13,)\n",
      "Condensed ISFCs shape: (78,), ISCs shape: (13,)\n",
      "Condensed ISFCs shape: (78,), ISCs shape: (13,)\n",
      "Condensed ISFCs shape: (78,), ISCs shape: (13,)\n",
      "Condensed ISFCs shape: (78,), ISCs shape: (13,)\n",
      "Condensed ISFCs shape: (78,), ISCs shape: (13,)\n",
      "Condensed ISFCs shape: (78,), ISCs shape: (13,)\n",
      "Condensed ISFCs shape: (78,), ISCs shape: (13,)\n",
      "Condensed ISFCs shape: (78,), ISCs shape: (13,)\n",
      "Condensed ISFCs shape: (78,), ISCs shape: (13,)\n",
      "Condensed ISFCs shape: (78,), ISCs shape: (13,)\n"
     ]
    },
    {
     "name": "stdout",
     "output_type": "stream",
     "text": [
      "Condensed ISFCs shape: (78,), ISCs shape: (13,)\n",
      "Condensed ISFCs shape: (78,), ISCs shape: (13,)\n",
      "Condensed ISFCs shape: (78,), ISCs shape: (13,)\n",
      "Condensed ISFCs shape: (78,), ISCs shape: (13,)\n",
      "Condensed ISFCs shape: (78,), ISCs shape: (13,)\n",
      "Condensed ISFCs shape: (78,), ISCs shape: (13,)\n",
      "Condensed ISFCs shape: (78,), ISCs shape: (13,)\n",
      "Condensed ISFCs shape: (78,), ISCs shape: (13,)\n",
      "Condensed ISFCs shape: (78,), ISCs shape: (13,)\n",
      "Condensed ISFCs shape: (78,), ISCs shape: (13,)\n",
      "Condensed ISFCs shape: (78,), ISCs shape: (13,)\n",
      "Condensed ISFCs shape: (78,), ISCs shape: (13,)\n",
      "Condensed ISFCs shape: (78,), ISCs shape: (13,)\n",
      "Condensed ISFCs shape: (78,), ISCs shape: (13,)\n",
      "Condensed ISFCs shape: (78,), ISCs shape: (13,)\n",
      "Condensed ISFCs shape: (78,), ISCs shape: (13,)\n",
      "Condensed ISFCs shape: (78,), ISCs shape: (13,)\n",
      "Condensed ISFCs shape: (78,), ISCs shape: (13,)\n",
      "Condensed ISFCs shape: (78,), ISCs shape: (13,)\n",
      "Condensed ISFCs shape: (78,), ISCs shape: (13,)\n",
      "Condensed ISFCs shape: (78,), ISCs shape: (13,)\n",
      "Condensed ISFCs shape: (78,), ISCs shape: (13,)\n",
      "Condensed ISFCs shape: (78,), ISCs shape: (13,)\n",
      "Condensed ISFCs shape: (78,), ISCs shape: (13,)\n",
      "Condensed ISFCs shape: (78,), ISCs shape: (13,)\n",
      "Condensed ISFCs shape: (78,), ISCs shape: (13,)\n",
      "Condensed ISFCs shape: (78,), ISCs shape: (13,)\n",
      "Condensed ISFCs shape: (78,), ISCs shape: (13,)\n",
      "Condensed ISFCs shape: (78,), ISCs shape: (13,)\n",
      "Condensed ISFCs shape: (78,), ISCs shape: (13,)\n",
      "Condensed ISFCs shape: (78,), ISCs shape: (13,)\n",
      "Condensed ISFCs shape: (78,), ISCs shape: (13,)\n",
      "Condensed ISFCs shape: (78,), ISCs shape: (13,)\n",
      "Condensed ISFCs shape: (78,), ISCs shape: (13,)\n",
      "Condensed ISFCs shape: (78,), ISCs shape: (13,)\n",
      "Condensed ISFCs shape: (78,), ISCs shape: (13,)\n",
      "Condensed ISFCs shape: (78,), ISCs shape: (13,)\n",
      "Condensed ISFCs shape: (78,), ISCs shape: (13,)\n",
      "Condensed ISFCs shape: (78,), ISCs shape: (13,)\n",
      "Condensed ISFCs shape: (78,), ISCs shape: (13,)\n",
      "Condensed ISFCs shape: (78,), ISCs shape: (13,)\n",
      "Condensed ISFCs shape: (78,), ISCs shape: (13,)\n",
      "Condensed ISFCs shape: (78,), ISCs shape: (13,)\n",
      "Condensed ISFCs shape: (78,), ISCs shape: (13,)\n",
      "Condensed ISFCs shape: (78,), ISCs shape: (13,)\n",
      "Condensed ISFCs shape: (78,), ISCs shape: (13,)\n",
      "Condensed ISFCs shape: (78,), ISCs shape: (13,)\n",
      "Condensed ISFCs shape: (78,), ISCs shape: (13,)\n",
      "Condensed ISFCs shape: (78,), ISCs shape: (13,)\n",
      "Condensed ISFCs shape: (78,), ISCs shape: (13,)\n",
      "Condensed ISFCs shape: (78,), ISCs shape: (13,)\n",
      "Condensed ISFCs shape: (78,), ISCs shape: (13,)\n",
      "Condensed ISFCs shape: (78,), ISCs shape: (13,)\n",
      "Condensed ISFCs shape: (78,), ISCs shape: (13,)\n",
      "Condensed ISFCs shape: (78,), ISCs shape: (13,)\n",
      "Condensed ISFCs shape: (78,), ISCs shape: (13,)\n",
      "Condensed ISFCs shape: (78,), ISCs shape: (13,)\n",
      "Condensed ISFCs shape: (78,), ISCs shape: (13,)\n",
      "Condensed ISFCs shape: (78,), ISCs shape: (13,)\n",
      "Condensed ISFCs shape: (78,), ISCs shape: (13,)\n",
      "Condensed ISFCs shape: (78,), ISCs shape: (13,)\n",
      "Condensed ISFCs shape: (78,), ISCs shape: (13,)\n",
      "Condensed ISFCs shape: (78,), ISCs shape: (13,)\n",
      "Condensed ISFCs shape: (78,), ISCs shape: (13,)\n",
      "Condensed ISFCs shape: (78,), ISCs shape: (13,)\n",
      "Condensed ISFCs shape: (78,), ISCs shape: (13,)\n",
      "Condensed ISFCs shape: (78,), ISCs shape: (13,)\n",
      "Condensed ISFCs shape: (78,), ISCs shape: (13,)\n",
      "Condensed ISFCs shape: (78,), ISCs shape: (13,)\n",
      "Condensed ISFCs shape: (78,), ISCs shape: (13,)\n",
      "Condensed ISFCs shape: (78,), ISCs shape: (13,)\n",
      "Condensed ISFCs shape: (78,), ISCs shape: (13,)\n",
      "Condensed ISFCs shape: (78,), ISCs shape: (13,)\n",
      "Condensed ISFCs shape: (78,), ISCs shape: (13,)\n",
      "Condensed ISFCs shape: (78,), ISCs shape: (13,)\n",
      "Condensed ISFCs shape: (78,), ISCs shape: (13,)\n",
      "Condensed ISFCs shape: (78,), ISCs shape: (13,)\n",
      "Condensed ISFCs shape: (78,), ISCs shape: (13,)\n",
      "Condensed ISFCs shape: (78,), ISCs shape: (13,)\n",
      "Condensed ISFCs shape: (78,), ISCs shape: (13,)\n",
      "Condensed ISFCs shape: (78,), ISCs shape: (13,)\n",
      "Condensed ISFCs shape: (78,), ISCs shape: (13,)\n",
      "Condensed ISFCs shape: (78,), ISCs shape: (13,)\n",
      "Condensed ISFCs shape: (78,), ISCs shape: (13,)\n",
      "Condensed ISFCs shape: (78,), ISCs shape: (13,)\n",
      "Condensed ISFCs shape: (78,), ISCs shape: (13,)\n",
      "Condensed ISFCs shape: (78,), ISCs shape: (13,)\n",
      "Condensed ISFCs shape: (78,), ISCs shape: (13,)\n",
      "Condensed ISFCs shape: (78,), ISCs shape: (13,)\n",
      "Condensed ISFCs shape: (78,), ISCs shape: (13,)\n",
      "Condensed ISFCs shape: (78,), ISCs shape: (13,)\n",
      "Condensed ISFCs shape: (78,), ISCs shape: (13,)\n",
      "Condensed ISFCs shape: (78,), ISCs shape: (13,)\n",
      "Condensed ISFCs shape: (78,), ISCs shape: (13,)\n",
      "Condensed ISFCs shape: (78,), ISCs shape: (13,)\n",
      "Condensed ISFCs shape: (78,), ISCs shape: (13,)\n",
      "Condensed ISFCs shape: (78,), ISCs shape: (13,)\n",
      "Condensed ISFCs shape: (78,), ISCs shape: (13,)\n",
      "Condensed ISFCs shape: (78,), ISCs shape: (13,)\n",
      "Condensed ISFCs shape: (78,), ISCs shape: (13,)\n",
      "Condensed ISFCs shape: (78,), ISCs shape: (13,)\n",
      "Condensed ISFCs shape: (78,), ISCs shape: (13,)\n",
      "Condensed ISFCs shape: (78,), ISCs shape: (13,)\n",
      "Condensed ISFCs shape: (78,), ISCs shape: (13,)\n",
      "Condensed ISFCs shape: (78,), ISCs shape: (13,)\n",
      "Condensed ISFCs shape: (78,), ISCs shape: (13,)\n",
      "Condensed ISFCs shape: (78,), ISCs shape: (13,)\n",
      "Condensed ISFCs shape: (78,), ISCs shape: (13,)\n",
      "Condensed ISFCs shape: (78,), ISCs shape: (13,)\n",
      "Condensed ISFCs shape: (78,), ISCs shape: (13,)\n",
      "Condensed ISFCs shape: (78,), ISCs shape: (13,)\n",
      "Condensed ISFCs shape: (78,), ISCs shape: (13,)\n",
      "Condensed ISFCs shape: (78,), ISCs shape: (13,)\n",
      "Condensed ISFCs shape: (78,), ISCs shape: (13,)\n",
      "Condensed ISFCs shape: (78,), ISCs shape: (13,)\n",
      "Condensed ISFCs shape: (78,), ISCs shape: (13,)\n",
      "Condensed ISFCs shape: (78,), ISCs shape: (13,)\n",
      "Condensed ISFCs shape: (78,), ISCs shape: (13,)\n",
      "Condensed ISFCs shape: (78,), ISCs shape: (13,)\n",
      "Condensed ISFCs shape: (78,), ISCs shape: (13,)\n",
      "Condensed ISFCs shape: (78,), ISCs shape: (13,)\n",
      "Condensed ISFCs shape: (78,), ISCs shape: (13,)\n",
      "Condensed ISFCs shape: (78,), ISCs shape: (13,)\n",
      "Condensed ISFCs shape: (78,), ISCs shape: (13,)\n",
      "Condensed ISFCs shape: (78,), ISCs shape: (13,)\n",
      "Condensed ISFCs shape: (78,), ISCs shape: (13,)\n",
      "Condensed ISFCs shape: (78,), ISCs shape: (13,)\n",
      "Condensed ISFCs shape: (78,), ISCs shape: (13,)\n",
      "Condensed ISFCs shape: (78,), ISCs shape: (13,)\n",
      "Condensed ISFCs shape: (78,), ISCs shape: (13,)\n",
      "Condensed ISFCs shape: (78,), ISCs shape: (13,)\n",
      "Condensed ISFCs shape: (78,), ISCs shape: (13,)\n",
      "Condensed ISFCs shape: (78,), ISCs shape: (13,)\n",
      "Condensed ISFCs shape: (78,), ISCs shape: (13,)\n",
      "Condensed ISFCs shape: (78,), ISCs shape: (13,)\n",
      "Condensed ISFCs shape: (78,), ISCs shape: (13,)\n",
      "Condensed ISFCs shape: (78,), ISCs shape: (13,)\n",
      "Condensed ISFCs shape: (78,), ISCs shape: (13,)\n",
      "Condensed ISFCs shape: (78,), ISCs shape: (13,)\n",
      "Condensed ISFCs shape: (78,), ISCs shape: (13,)\n",
      "Condensed ISFCs shape: (78,), ISCs shape: (13,)\n",
      "Condensed ISFCs shape: (78,), ISCs shape: (13,)\n",
      "Condensed ISFCs shape: (78,), ISCs shape: (13,)\n",
      "Condensed ISFCs shape: (78,), ISCs shape: (13,)\n",
      "Condensed ISFCs shape: (78,), ISCs shape: (13,)\n",
      "Condensed ISFCs shape: (78,), ISCs shape: (13,)\n",
      "Condensed ISFCs shape: (78,), ISCs shape: (13,)\n",
      "Condensed ISFCs shape: (78,), ISCs shape: (13,)\n",
      "Condensed ISFCs shape: (78,), ISCs shape: (13,)\n",
      "Condensed ISFCs shape: (78,), ISCs shape: (13,)\n",
      "Condensed ISFCs shape: (78,), ISCs shape: (13,)\n",
      "Condensed ISFCs shape: (78,), ISCs shape: (13,)\n",
      "Condensed ISFCs shape: (78,), ISCs shape: (13,)\n",
      "Condensed ISFCs shape: (78,), ISCs shape: (13,)\n",
      "Condensed ISFCs shape: (78,), ISCs shape: (13,)\n",
      "Condensed ISFCs shape: (78,), ISCs shape: (13,)\n",
      "Condensed ISFCs shape: (78,), ISCs shape: (13,)\n",
      "Condensed ISFCs shape: (78,), ISCs shape: (13,)\n",
      "Condensed ISFCs shape: (78,), ISCs shape: (13,)\n",
      "Condensed ISFCs shape: (78,), ISCs shape: (13,)\n",
      "Condensed ISFCs shape: (78,), ISCs shape: (13,)\n",
      "Condensed ISFCs shape: (78,), ISCs shape: (13,)\n",
      "Condensed ISFCs shape: (78,), ISCs shape: (13,)\n",
      "Condensed ISFCs shape: (78,), ISCs shape: (13,)\n",
      "Condensed ISFCs shape: (78,), ISCs shape: (13,)\n",
      "Condensed ISFCs shape: (78,), ISCs shape: (13,)\n",
      "Condensed ISFCs shape: (78,), ISCs shape: (13,)\n",
      "Condensed ISFCs shape: (78,), ISCs shape: (13,)\n",
      "Condensed ISFCs shape: (78,), ISCs shape: (13,)\n",
      "Condensed ISFCs shape: (78,), ISCs shape: (13,)\n",
      "Condensed ISFCs shape: (78,), ISCs shape: (13,)\n"
     ]
    },
    {
     "name": "stdout",
     "output_type": "stream",
     "text": [
      "Condensed ISFCs shape: (78,), ISCs shape: (13,)\n",
      "Condensed ISFCs shape: (78,), ISCs shape: (13,)\n",
      "Condensed ISFCs shape: (78,), ISCs shape: (13,)\n",
      "Condensed ISFCs shape: (78,), ISCs shape: (13,)\n",
      "Condensed ISFCs shape: (78,), ISCs shape: (13,)\n",
      "Condensed ISFCs shape: (78,), ISCs shape: (13,)\n",
      "Condensed ISFCs shape: (78,), ISCs shape: (13,)\n",
      "Condensed ISFCs shape: (78,), ISCs shape: (13,)\n",
      "Condensed ISFCs shape: (78,), ISCs shape: (13,)\n",
      "Condensed ISFCs shape: (78,), ISCs shape: (13,)\n",
      "Condensed ISFCs shape: (78,), ISCs shape: (13,)\n",
      "Condensed ISFCs shape: (78,), ISCs shape: (13,)\n",
      "Condensed ISFCs shape: (78,), ISCs shape: (13,)\n",
      "Condensed ISFCs shape: (78,), ISCs shape: (13,)\n",
      "Condensed ISFCs shape: (78,), ISCs shape: (13,)\n",
      "Condensed ISFCs shape: (78,), ISCs shape: (13,)\n",
      "Condensed ISFCs shape: (78,), ISCs shape: (13,)\n",
      "Condensed ISFCs shape: (78,), ISCs shape: (13,)\n",
      "Condensed ISFCs shape: (78,), ISCs shape: (13,)\n",
      "Condensed ISFCs shape: (78,), ISCs shape: (13,)\n",
      "Condensed ISFCs shape: (78,), ISCs shape: (13,)\n",
      "Condensed ISFCs shape: (78,), ISCs shape: (13,)\n",
      "Condensed ISFCs shape: (78,), ISCs shape: (13,)\n",
      "Condensed ISFCs shape: (78,), ISCs shape: (13,)\n",
      "Condensed ISFCs shape: (78,), ISCs shape: (13,)\n",
      "Condensed ISFCs shape: (78,), ISCs shape: (13,)\n",
      "Condensed ISFCs shape: (78,), ISCs shape: (13,)\n",
      "Condensed ISFCs shape: (78,), ISCs shape: (13,)\n",
      "Condensed ISFCs shape: (78,), ISCs shape: (13,)\n",
      "Condensed ISFCs shape: (78,), ISCs shape: (13,)\n",
      "Condensed ISFCs shape: (78,), ISCs shape: (13,)\n",
      "Condensed ISFCs shape: (78,), ISCs shape: (13,)\n",
      "Condensed ISFCs shape: (78,), ISCs shape: (13,)\n",
      "Condensed ISFCs shape: (78,), ISCs shape: (13,)\n",
      "Condensed ISFCs shape: (78,), ISCs shape: (13,)\n",
      "Condensed ISFCs shape: (78,), ISCs shape: (13,)\n",
      "Condensed ISFCs shape: (78,), ISCs shape: (13,)\n",
      "Condensed ISFCs shape: (78,), ISCs shape: (13,)\n",
      "Condensed ISFCs shape: (78,), ISCs shape: (13,)\n",
      "Condensed ISFCs shape: (78,), ISCs shape: (13,)\n",
      "Condensed ISFCs shape: (78,), ISCs shape: (13,)\n",
      "Condensed ISFCs shape: (78,), ISCs shape: (13,)\n",
      "Condensed ISFCs shape: (78,), ISCs shape: (13,)\n",
      "Condensed ISFCs shape: (78,), ISCs shape: (13,)\n",
      "Condensed ISFCs shape: (78,), ISCs shape: (13,)\n",
      "Condensed ISFCs shape: (78,), ISCs shape: (13,)\n",
      "Condensed ISFCs shape: (78,), ISCs shape: (13,)\n",
      "Condensed ISFCs shape: (78,), ISCs shape: (13,)\n",
      "Condensed ISFCs shape: (78,), ISCs shape: (13,)\n",
      "Condensed ISFCs shape: (78,), ISCs shape: (13,)\n",
      "Condensed ISFCs shape: (78,), ISCs shape: (13,)\n",
      "Condensed ISFCs shape: (78,), ISCs shape: (13,)\n",
      "Condensed ISFCs shape: (78,), ISCs shape: (13,)\n",
      "Condensed ISFCs shape: (78,), ISCs shape: (13,)\n",
      "Condensed ISFCs shape: (78,), ISCs shape: (13,)\n",
      "Condensed ISFCs shape: (78,), ISCs shape: (13,)\n",
      "Condensed ISFCs shape: (78,), ISCs shape: (13,)\n",
      "Condensed ISFCs shape: (78,), ISCs shape: (13,)\n",
      "Condensed ISFCs shape: (78,), ISCs shape: (13,)\n",
      "Condensed ISFCs shape: (78,), ISCs shape: (13,)\n",
      "Condensed ISFCs shape: (78,), ISCs shape: (13,)\n",
      "Condensed ISFCs shape: (78,), ISCs shape: (13,)\n",
      "Condensed ISFCs shape: (78,), ISCs shape: (13,)\n",
      "Condensed ISFCs shape: (78,), ISCs shape: (13,)\n",
      "Condensed ISFCs shape: (78,), ISCs shape: (13,)\n",
      "Condensed ISFCs shape: (78,), ISCs shape: (13,)\n",
      "Condensed ISFCs shape: (78,), ISCs shape: (13,)\n",
      "Condensed ISFCs shape: (78,), ISCs shape: (13,)\n",
      "Condensed ISFCs shape: (78,), ISCs shape: (13,)\n",
      "Condensed ISFCs shape: (78,), ISCs shape: (13,)\n",
      "Condensed ISFCs shape: (78,), ISCs shape: (13,)\n",
      "Condensed ISFCs shape: (78,), ISCs shape: (13,)\n",
      "Condensed ISFCs shape: (78,), ISCs shape: (13,)\n",
      "Condensed ISFCs shape: (78,), ISCs shape: (13,)\n",
      "Condensed ISFCs shape: (78,), ISCs shape: (13,)\n",
      "Condensed ISFCs shape: (78,), ISCs shape: (13,)\n",
      "Condensed ISFCs shape: (78,), ISCs shape: (13,)\n",
      "Condensed ISFCs shape: (78,), ISCs shape: (13,)\n",
      "Condensed ISFCs shape: (78,), ISCs shape: (13,)\n",
      "Condensed ISFCs shape: (78,), ISCs shape: (13,)\n",
      "Condensed ISFCs shape: (78,), ISCs shape: (13,)\n",
      "Condensed ISFCs shape: (78,), ISCs shape: (13,)\n",
      "Condensed ISFCs shape: (78,), ISCs shape: (13,)\n",
      "Condensed ISFCs shape: (78,), ISCs shape: (13,)\n",
      "Condensed ISFCs shape: (78,), ISCs shape: (13,)\n",
      "Condensed ISFCs shape: (78,), ISCs shape: (13,)\n",
      "Condensed ISFCs shape: (78,), ISCs shape: (13,)\n",
      "Condensed ISFCs shape: (78,), ISCs shape: (13,)\n",
      "Condensed ISFCs shape: (78,), ISCs shape: (13,)\n",
      "Condensed ISFCs shape: (78,), ISCs shape: (13,)\n",
      "Condensed ISFCs shape: (78,), ISCs shape: (13,)\n",
      "Condensed ISFCs shape: (78,), ISCs shape: (13,)\n",
      "Condensed ISFCs shape: (78,), ISCs shape: (13,)\n",
      "Condensed ISFCs shape: (78,), ISCs shape: (13,)\n",
      "Condensed ISFCs shape: (78,), ISCs shape: (13,)\n",
      "Condensed ISFCs shape: (78,), ISCs shape: (13,)\n",
      "Condensed ISFCs shape: (78,), ISCs shape: (13,)\n",
      "Condensed ISFCs shape: (78,), ISCs shape: (13,)\n",
      "Condensed ISFCs shape: (78,), ISCs shape: (13,)\n",
      "Condensed ISFCs shape: (78,), ISCs shape: (13,)\n",
      "Condensed ISFCs shape: (78,), ISCs shape: (13,)\n",
      "Condensed ISFCs shape: (78,), ISCs shape: (13,)\n",
      "Condensed ISFCs shape: (78,), ISCs shape: (13,)\n",
      "Condensed ISFCs shape: (78,), ISCs shape: (13,)\n",
      "Condensed ISFCs shape: (78,), ISCs shape: (13,)\n",
      "Condensed ISFCs shape: (78,), ISCs shape: (13,)\n",
      "Condensed ISFCs shape: (78,), ISCs shape: (13,)\n",
      "Condensed ISFCs shape: (78,), ISCs shape: (13,)\n",
      "Condensed ISFCs shape: (78,), ISCs shape: (13,)\n",
      "Condensed ISFCs shape: (78,), ISCs shape: (13,)\n",
      "Condensed ISFCs shape: (78,), ISCs shape: (13,)\n",
      "Condensed ISFCs shape: (78,), ISCs shape: (13,)\n",
      "Condensed ISFCs shape: (78,), ISCs shape: (13,)\n",
      "Condensed ISFCs shape: (78,), ISCs shape: (13,)\n",
      "Condensed ISFCs shape: (78,), ISCs shape: (13,)\n",
      "Condensed ISFCs shape: (78,), ISCs shape: (13,)\n",
      "Condensed ISFCs shape: (78,), ISCs shape: (13,)\n",
      "Condensed ISFCs shape: (78,), ISCs shape: (13,)\n",
      "Condensed ISFCs shape: (78,), ISCs shape: (13,)\n",
      "Condensed ISFCs shape: (78,), ISCs shape: (13,)\n",
      "Condensed ISFCs shape: (78,), ISCs shape: (13,)\n",
      "Condensed ISFCs shape: (78,), ISCs shape: (13,)\n",
      "Condensed ISFCs shape: (78,), ISCs shape: (13,)\n",
      "Condensed ISFCs shape: (78,), ISCs shape: (13,)\n",
      "Condensed ISFCs shape: (78,), ISCs shape: (13,)\n",
      "Condensed ISFCs shape: (78,), ISCs shape: (13,)\n",
      "Condensed ISFCs shape: (78,), ISCs shape: (13,)\n",
      "Condensed ISFCs shape: (78,), ISCs shape: (13,)\n",
      "Condensed ISFCs shape: (78,), ISCs shape: (13,)\n",
      "Condensed ISFCs shape: (78,), ISCs shape: (13,)\n",
      "Condensed ISFCs shape: (78,), ISCs shape: (13,)\n",
      "Condensed ISFCs shape: (78,), ISCs shape: (13,)\n",
      "Condensed ISFCs shape: (78,), ISCs shape: (13,)\n",
      "Condensed ISFCs shape: (78,), ISCs shape: (13,)\n",
      "Condensed ISFCs shape: (78,), ISCs shape: (13,)\n",
      "Condensed ISFCs shape: (78,), ISCs shape: (13,)\n",
      "Condensed ISFCs shape: (78,), ISCs shape: (13,)\n",
      "Condensed ISFCs shape: (78,), ISCs shape: (13,)\n",
      "Condensed ISFCs shape: (78,), ISCs shape: (13,)\n",
      "Condensed ISFCs shape: (78,), ISCs shape: (13,)\n",
      "Condensed ISFCs shape: (78,), ISCs shape: (13,)\n",
      "Condensed ISFCs shape: (78,), ISCs shape: (13,)\n",
      "Condensed ISFCs shape: (78,), ISCs shape: (13,)\n",
      "Condensed ISFCs shape: (78,), ISCs shape: (13,)\n",
      "Condensed ISFCs shape: (78,), ISCs shape: (13,)\n",
      "Condensed ISFCs shape: (78,), ISCs shape: (13,)\n",
      "Condensed ISFCs shape: (78,), ISCs shape: (13,)\n",
      "Condensed ISFCs shape: (78,), ISCs shape: (13,)\n",
      "Condensed ISFCs shape: (78,), ISCs shape: (13,)\n",
      "Condensed ISFCs shape: (78,), ISCs shape: (13,)\n",
      "Condensed ISFCs shape: (78,), ISCs shape: (13,)\n",
      "Condensed ISFCs shape: (78,), ISCs shape: (13,)\n",
      "Condensed ISFCs shape: (78,), ISCs shape: (13,)\n",
      "Condensed ISFCs shape: (78,), ISCs shape: (13,)\n",
      "Condensed ISFCs shape: (78,), ISCs shape: (13,)\n",
      "Condensed ISFCs shape: (78,), ISCs shape: (13,)\n",
      "Condensed ISFCs shape: (78,), ISCs shape: (13,)\n",
      "Condensed ISFCs shape: (78,), ISCs shape: (13,)\n",
      "Condensed ISFCs shape: (78,), ISCs shape: (13,)\n",
      "Condensed ISFCs shape: (78,), ISCs shape: (13,)\n",
      "Condensed ISFCs shape: (78,), ISCs shape: (13,)\n",
      "Condensed ISFCs shape: (78,), ISCs shape: (13,)\n",
      "Condensed ISFCs shape: (78,), ISCs shape: (13,)\n",
      "Condensed ISFCs shape: (78,), ISCs shape: (13,)\n",
      "Condensed ISFCs shape: (78,), ISCs shape: (13,)\n",
      "Condensed ISFCs shape: (78,), ISCs shape: (13,)\n",
      "Condensed ISFCs shape: (78,), ISCs shape: (13,)\n",
      "Condensed ISFCs shape: (78,), ISCs shape: (13,)\n",
      "Condensed ISFCs shape: (78,), ISCs shape: (13,)\n",
      "Condensed ISFCs shape: (78,), ISCs shape: (13,)\n",
      "Condensed ISFCs shape: (78,), ISCs shape: (13,)\n"
     ]
    },
    {
     "name": "stdout",
     "output_type": "stream",
     "text": [
      "Condensed ISFCs shape: (78,), ISCs shape: (13,)\n",
      "Condensed ISFCs shape: (78,), ISCs shape: (13,)\n",
      "Condensed ISFCs shape: (78,), ISCs shape: (13,)\n",
      "Condensed ISFCs shape: (78,), ISCs shape: (13,)\n",
      "Condensed ISFCs shape: (78,), ISCs shape: (13,)\n",
      "Condensed ISFCs shape: (78,), ISCs shape: (13,)\n",
      "Condensed ISFCs shape: (78,), ISCs shape: (13,)\n",
      "Condensed ISFCs shape: (78,), ISCs shape: (13,)\n",
      "Condensed ISFCs shape: (78,), ISCs shape: (13,)\n",
      "Condensed ISFCs shape: (78,), ISCs shape: (13,)\n",
      "Condensed ISFCs shape: (78,), ISCs shape: (13,)\n",
      "Condensed ISFCs shape: (78,), ISCs shape: (13,)\n",
      "Condensed ISFCs shape: (78,), ISCs shape: (13,)\n",
      "Condensed ISFCs shape: (78,), ISCs shape: (13,)\n",
      "Condensed ISFCs shape: (78,), ISCs shape: (13,)\n",
      "Condensed ISFCs shape: (78,), ISCs shape: (13,)\n",
      "Condensed ISFCs shape: (78,), ISCs shape: (13,)\n",
      "Condensed ISFCs shape: (78,), ISCs shape: (13,)\n",
      "Condensed ISFCs shape: (78,), ISCs shape: (13,)\n",
      "Condensed ISFCs shape: (78,), ISCs shape: (13,)\n",
      "Condensed ISFCs shape: (78,), ISCs shape: (13,)\n",
      "Condensed ISFCs shape: (78,), ISCs shape: (13,)\n",
      "Condensed ISFCs shape: (78,), ISCs shape: (13,)\n",
      "Condensed ISFCs shape: (78,), ISCs shape: (13,)\n",
      "Condensed ISFCs shape: (78,), ISCs shape: (13,)\n",
      "Condensed ISFCs shape: (78,), ISCs shape: (13,)\n",
      "Condensed ISFCs shape: (78,), ISCs shape: (13,)\n",
      "Condensed ISFCs shape: (78,), ISCs shape: (13,)\n",
      "Condensed ISFCs shape: (78,), ISCs shape: (13,)\n",
      "Condensed ISFCs shape: (78,), ISCs shape: (13,)\n",
      "Condensed ISFCs shape: (78,), ISCs shape: (13,)\n",
      "Condensed ISFCs shape: (78,), ISCs shape: (13,)\n",
      "Condensed ISFCs shape: (78,), ISCs shape: (13,)\n",
      "Condensed ISFCs shape: (78,), ISCs shape: (13,)\n",
      "Condensed ISFCs shape: (78,), ISCs shape: (13,)\n",
      "Condensed ISFCs shape: (78,), ISCs shape: (13,)\n",
      "Condensed ISFCs shape: (78,), ISCs shape: (13,)\n",
      "Condensed ISFCs shape: (78,), ISCs shape: (13,)\n",
      "Condensed ISFCs shape: (78,), ISCs shape: (13,)\n",
      "Condensed ISFCs shape: (78,), ISCs shape: (13,)\n",
      "Condensed ISFCs shape: (78,), ISCs shape: (13,)\n",
      "Condensed ISFCs shape: (78,), ISCs shape: (13,)\n",
      "Condensed ISFCs shape: (78,), ISCs shape: (13,)\n",
      "Condensed ISFCs shape: (78,), ISCs shape: (13,)\n",
      "Condensed ISFCs shape: (78,), ISCs shape: (13,)\n",
      "Condensed ISFCs shape: (78,), ISCs shape: (13,)\n",
      "Condensed ISFCs shape: (78,), ISCs shape: (13,)\n",
      "Condensed ISFCs shape: (78,), ISCs shape: (13,)\n",
      "Condensed ISFCs shape: (78,), ISCs shape: (13,)\n",
      "Condensed ISFCs shape: (78,), ISCs shape: (13,)\n",
      "Condensed ISFCs shape: (78,), ISCs shape: (13,)\n",
      "Condensed ISFCs shape: (78,), ISCs shape: (13,)\n",
      "Condensed ISFCs shape: (78,), ISCs shape: (13,)\n",
      "Condensed ISFCs shape: (78,), ISCs shape: (13,)\n",
      "Condensed ISFCs shape: (78,), ISCs shape: (13,)\n",
      "Condensed ISFCs shape: (78,), ISCs shape: (13,)\n",
      "Condensed ISFCs shape: (78,), ISCs shape: (13,)\n",
      "Condensed ISFCs shape: (78,), ISCs shape: (13,)\n",
      "Condensed ISFCs shape: (78,), ISCs shape: (13,)\n",
      "Condensed ISFCs shape: (78,), ISCs shape: (13,)\n",
      "Condensed ISFCs shape: (78,), ISCs shape: (13,)\n",
      "Condensed ISFCs shape: (78,), ISCs shape: (13,)\n",
      "Condensed ISFCs shape: (78,), ISCs shape: (13,)\n",
      "Condensed ISFCs shape: (78,), ISCs shape: (13,)\n",
      "Condensed ISFCs shape: (78,), ISCs shape: (13,)\n",
      "Condensed ISFCs shape: (78,), ISCs shape: (13,)\n",
      "Condensed ISFCs shape: (78,), ISCs shape: (13,)\n",
      "Condensed ISFCs shape: (78,), ISCs shape: (13,)\n",
      "Condensed ISFCs shape: (78,), ISCs shape: (13,)\n",
      "Condensed ISFCs shape: (78,), ISCs shape: (13,)\n",
      "Condensed ISFCs shape: (78,), ISCs shape: (13,)\n",
      "Condensed ISFCs shape: (78,), ISCs shape: (13,)\n",
      "Condensed ISFCs shape: (78,), ISCs shape: (13,)\n",
      "Condensed ISFCs shape: (78,), ISCs shape: (13,)\n",
      "Condensed ISFCs shape: (78,), ISCs shape: (13,)\n",
      "Condensed ISFCs shape: (78,), ISCs shape: (13,)\n",
      "Condensed ISFCs shape: (78,), ISCs shape: (13,)\n",
      "Condensed ISFCs shape: (78,), ISCs shape: (13,)\n",
      "Condensed ISFCs shape: (78,), ISCs shape: (13,)\n",
      "Condensed ISFCs shape: (78,), ISCs shape: (13,)\n",
      "Condensed ISFCs shape: (78,), ISCs shape: (13,)\n",
      "Condensed ISFCs shape: (78,), ISCs shape: (13,)\n",
      "Condensed ISFCs shape: (78,), ISCs shape: (13,)\n",
      "Condensed ISFCs shape: (78,), ISCs shape: (13,)\n",
      "Condensed ISFCs shape: (78,), ISCs shape: (13,)\n",
      "Condensed ISFCs shape: (78,), ISCs shape: (13,)\n",
      "Condensed ISFCs shape: (78,), ISCs shape: (13,)\n",
      "Condensed ISFCs shape: (78,), ISCs shape: (13,)\n",
      "Condensed ISFCs shape: (78,), ISCs shape: (13,)\n",
      "Condensed ISFCs shape: (78,), ISCs shape: (13,)\n",
      "Condensed ISFCs shape: (78,), ISCs shape: (13,)\n",
      "Condensed ISFCs shape: (78,), ISCs shape: (13,)\n",
      "Condensed ISFCs shape: (78,), ISCs shape: (13,)\n",
      "Condensed ISFCs shape: (78,), ISCs shape: (13,)\n",
      "Condensed ISFCs shape: (78,), ISCs shape: (13,)\n",
      "Condensed ISFCs shape: (78,), ISCs shape: (13,)\n",
      "Condensed ISFCs shape: (78,), ISCs shape: (13,)\n",
      "Condensed ISFCs shape: (78,), ISCs shape: (13,)\n",
      "Condensed ISFCs shape: (78,), ISCs shape: (13,)\n",
      "Condensed ISFCs shape: (78,), ISCs shape: (13,)\n",
      "Condensed ISFCs shape: (78,), ISCs shape: (13,)\n",
      "Condensed ISFCs shape: (78,), ISCs shape: (13,)\n",
      "Condensed ISFCs shape: (78,), ISCs shape: (13,)\n",
      "Condensed ISFCs shape: (78,), ISCs shape: (13,)\n",
      "Condensed ISFCs shape: (78,), ISCs shape: (13,)\n",
      "Condensed ISFCs shape: (78,), ISCs shape: (13,)\n",
      "Condensed ISFCs shape: (78,), ISCs shape: (13,)\n",
      "Condensed ISFCs shape: (78,), ISCs shape: (13,)\n",
      "Condensed ISFCs shape: (78,), ISCs shape: (13,)\n",
      "Condensed ISFCs shape: (78,), ISCs shape: (13,)\n",
      "Condensed ISFCs shape: (78,), ISCs shape: (13,)\n",
      "Condensed ISFCs shape: (78,), ISCs shape: (13,)\n",
      "Condensed ISFCs shape: (78,), ISCs shape: (13,)\n",
      "Condensed ISFCs shape: (78,), ISCs shape: (13,)\n",
      "Condensed ISFCs shape: (78,), ISCs shape: (13,)\n",
      "Condensed ISFCs shape: (78,), ISCs shape: (13,)\n",
      "Condensed ISFCs shape: (78,), ISCs shape: (13,)\n",
      "Condensed ISFCs shape: (78,), ISCs shape: (13,)\n",
      "Condensed ISFCs shape: (78,), ISCs shape: (13,)\n",
      "Condensed ISFCs shape: (78,), ISCs shape: (13,)\n",
      "Condensed ISFCs shape: (78,), ISCs shape: (13,)\n",
      "Condensed ISFCs shape: (78,), ISCs shape: (13,)\n",
      "Condensed ISFCs shape: (78,), ISCs shape: (13,)\n",
      "Condensed ISFCs shape: (78,), ISCs shape: (13,)\n",
      "Condensed ISFCs shape: (78,), ISCs shape: (13,)\n",
      "Condensed ISFCs shape: (78,), ISCs shape: (13,)\n",
      "Condensed ISFCs shape: (78,), ISCs shape: (13,)\n",
      "Condensed ISFCs shape: (78,), ISCs shape: (13,)\n",
      "Condensed ISFCs shape: (78,), ISCs shape: (13,)\n",
      "Condensed ISFCs shape: (78,), ISCs shape: (13,)\n",
      "Condensed ISFCs shape: (78,), ISCs shape: (13,)\n",
      "Condensed ISFCs shape: (78,), ISCs shape: (13,)\n",
      "Condensed ISFCs shape: (78,), ISCs shape: (13,)\n",
      "Condensed ISFCs shape: (78,), ISCs shape: (13,)\n",
      "Condensed ISFCs shape: (78,), ISCs shape: (13,)\n",
      "Condensed ISFCs shape: (78,), ISCs shape: (13,)\n",
      "Condensed ISFCs shape: (78,), ISCs shape: (13,)\n",
      "Condensed ISFCs shape: (78,), ISCs shape: (13,)\n",
      "Condensed ISFCs shape: (78,), ISCs shape: (13,)\n",
      "Condensed ISFCs shape: (78,), ISCs shape: (13,)\n",
      "Condensed ISFCs shape: (78,), ISCs shape: (13,)\n",
      "Condensed ISFCs shape: (78,), ISCs shape: (13,)\n",
      "Condensed ISFCs shape: (78,), ISCs shape: (13,)\n",
      "Condensed ISFCs shape: (78,), ISCs shape: (13,)\n",
      "Condensed ISFCs shape: (78,), ISCs shape: (13,)\n",
      "Condensed ISFCs shape: (78,), ISCs shape: (13,)\n",
      "Condensed ISFCs shape: (78,), ISCs shape: (13,)\n",
      "Condensed ISFCs shape: (78,), ISCs shape: (13,)\n",
      "Condensed ISFCs shape: (78,), ISCs shape: (13,)\n",
      "Condensed ISFCs shape: (78,), ISCs shape: (13,)\n",
      "Condensed ISFCs shape: (78,), ISCs shape: (13,)\n",
      "Condensed ISFCs shape: (78,), ISCs shape: (13,)\n",
      "Condensed ISFCs shape: (78,), ISCs shape: (13,)\n",
      "Condensed ISFCs shape: (78,), ISCs shape: (13,)\n",
      "Condensed ISFCs shape: (78,), ISCs shape: (13,)\n",
      "Condensed ISFCs shape: (78,), ISCs shape: (13,)\n",
      "Condensed ISFCs shape: (78,), ISCs shape: (13,)\n",
      "Condensed ISFCs shape: (78,), ISCs shape: (13,)\n",
      "Condensed ISFCs shape: (78,), ISCs shape: (13,)\n",
      "Condensed ISFCs shape: (78,), ISCs shape: (13,)\n",
      "Condensed ISFCs shape: (78,), ISCs shape: (13,)\n",
      "Condensed ISFCs shape: (78,), ISCs shape: (13,)\n",
      "Condensed ISFCs shape: (78,), ISCs shape: (13,)\n",
      "Condensed ISFCs shape: (78,), ISCs shape: (13,)\n",
      "Condensed ISFCs shape: (78,), ISCs shape: (13,)\n",
      "Condensed ISFCs shape: (78,), ISCs shape: (13,)\n",
      "Condensed ISFCs shape: (78,), ISCs shape: (13,)\n",
      "Condensed ISFCs shape: (78,), ISCs shape: (13,)\n",
      "Condensed ISFCs shape: (78,), ISCs shape: (13,)\n",
      "Condensed ISFCs shape: (78,), ISCs shape: (13,)\n",
      "Condensed ISFCs shape: (78,), ISCs shape: (13,)\n"
     ]
    },
    {
     "name": "stdout",
     "output_type": "stream",
     "text": [
      "Condensed ISFCs shape: (78,), ISCs shape: (13,)\n",
      "Condensed ISFCs shape: (78,), ISCs shape: (13,)\n",
      "Condensed ISFCs shape: (78,), ISCs shape: (13,)\n",
      "Condensed ISFCs shape: (78,), ISCs shape: (13,)\n",
      "Condensed ISFCs shape: (78,), ISCs shape: (13,)\n",
      "Condensed ISFCs shape: (78,), ISCs shape: (13,)\n",
      "Condensed ISFCs shape: (78,), ISCs shape: (13,)\n",
      "Condensed ISFCs shape: (78,), ISCs shape: (13,)\n",
      "Condensed ISFCs shape: (78,), ISCs shape: (13,)\n",
      "Condensed ISFCs shape: (78,), ISCs shape: (13,)\n",
      "Condensed ISFCs shape: (78,), ISCs shape: (13,)\n",
      "Condensed ISFCs shape: (78,), ISCs shape: (13,)\n",
      "Condensed ISFCs shape: (78,), ISCs shape: (13,)\n",
      "Condensed ISFCs shape: (78,), ISCs shape: (13,)\n",
      "Condensed ISFCs shape: (78,), ISCs shape: (13,)\n",
      "Condensed ISFCs shape: (78,), ISCs shape: (13,)\n",
      "Condensed ISFCs shape: (78,), ISCs shape: (13,)\n",
      "Condensed ISFCs shape: (78,), ISCs shape: (13,)\n",
      "Condensed ISFCs shape: (78,), ISCs shape: (13,)\n",
      "Condensed ISFCs shape: (78,), ISCs shape: (13,)\n",
      "Condensed ISFCs shape: (78,), ISCs shape: (13,)\n",
      "Condensed ISFCs shape: (78,), ISCs shape: (13,)\n",
      "Condensed ISFCs shape: (78,), ISCs shape: (13,)\n",
      "Condensed ISFCs shape: (78,), ISCs shape: (13,)\n",
      "Condensed ISFCs shape: (78,), ISCs shape: (13,)\n",
      "Condensed ISFCs shape: (78,), ISCs shape: (13,)\n",
      "Condensed ISFCs shape: (78,), ISCs shape: (13,)\n",
      "Condensed ISFCs shape: (78,), ISCs shape: (13,)\n",
      "Condensed ISFCs shape: (78,), ISCs shape: (13,)\n",
      "Condensed ISFCs shape: (78,), ISCs shape: (13,)\n",
      "Condensed ISFCs shape: (78,), ISCs shape: (13,)\n",
      "Condensed ISFCs shape: (78,), ISCs shape: (13,)\n",
      "Condensed ISFCs shape: (78,), ISCs shape: (13,)\n",
      "Condensed ISFCs shape: (78,), ISCs shape: (13,)\n",
      "Condensed ISFCs shape: (78,), ISCs shape: (13,)\n",
      "Condensed ISFCs shape: (78,), ISCs shape: (13,)\n",
      "Condensed ISFCs shape: (78,), ISCs shape: (13,)\n",
      "Condensed ISFCs shape: (78,), ISCs shape: (13,)\n",
      "Condensed ISFCs shape: (78,), ISCs shape: (13,)\n",
      "Condensed ISFCs shape: (78,), ISCs shape: (13,)\n",
      "Condensed ISFCs shape: (78,), ISCs shape: (13,)\n",
      "Condensed ISFCs shape: (78,), ISCs shape: (13,)\n",
      "Condensed ISFCs shape: (78,), ISCs shape: (13,)\n",
      "Condensed ISFCs shape: (78,), ISCs shape: (13,)\n",
      "Condensed ISFCs shape: (78,), ISCs shape: (13,)\n",
      "Condensed ISFCs shape: (78,), ISCs shape: (13,)\n",
      "Condensed ISFCs shape: (78,), ISCs shape: (13,)\n",
      "Condensed ISFCs shape: (78,), ISCs shape: (13,)\n",
      "Condensed ISFCs shape: (78,), ISCs shape: (13,)\n",
      "Condensed ISFCs shape: (78,), ISCs shape: (13,)\n",
      "Condensed ISFCs shape: (78,), ISCs shape: (13,)\n",
      "Condensed ISFCs shape: (78,), ISCs shape: (13,)\n",
      "Condensed ISFCs shape: (78,), ISCs shape: (13,)\n",
      "Condensed ISFCs shape: (78,), ISCs shape: (13,)\n",
      "Condensed ISFCs shape: (78,), ISCs shape: (13,)\n",
      "Condensed ISFCs shape: (78,), ISCs shape: (13,)\n",
      "Condensed ISFCs shape: (78,), ISCs shape: (13,)\n",
      "Condensed ISFCs shape: (78,), ISCs shape: (13,)\n",
      "Condensed ISFCs shape: (78,), ISCs shape: (13,)\n",
      "Condensed ISFCs shape: (78,), ISCs shape: (13,)\n",
      "Condensed ISFCs shape: (78,), ISCs shape: (13,)\n",
      "Condensed ISFCs shape: (78,), ISCs shape: (13,)\n",
      "Condensed ISFCs shape: (78,), ISCs shape: (13,)\n",
      "Condensed ISFCs shape: (78,), ISCs shape: (13,)\n",
      "Condensed ISFCs shape: (78,), ISCs shape: (13,)\n",
      "Condensed ISFCs shape: (78,), ISCs shape: (13,)\n",
      "Condensed ISFCs shape: (78,), ISCs shape: (13,)\n",
      "Condensed ISFCs shape: (78,), ISCs shape: (13,)\n",
      "Condensed ISFCs shape: (78,), ISCs shape: (13,)\n",
      "Condensed ISFCs shape: (78,), ISCs shape: (13,)\n",
      "Condensed ISFCs shape: (78,), ISCs shape: (13,)\n",
      "Condensed ISFCs shape: (78,), ISCs shape: (13,)\n",
      "Condensed ISFCs shape: (78,), ISCs shape: (13,)\n",
      "Condensed ISFCs shape: (78,), ISCs shape: (13,)\n",
      "Condensed ISFCs shape: (78,), ISCs shape: (13,)\n",
      "Condensed ISFCs shape: (78,), ISCs shape: (13,)\n",
      "Condensed ISFCs shape: (78,), ISCs shape: (13,)\n",
      "Condensed ISFCs shape: (78,), ISCs shape: (13,)\n",
      "Condensed ISFCs shape: (78,), ISCs shape: (13,)\n",
      "Condensed ISFCs shape: (78,), ISCs shape: (13,)\n",
      "Condensed ISFCs shape: (78,), ISCs shape: (13,)\n",
      "Condensed ISFCs shape: (78,), ISCs shape: (13,)\n",
      "Condensed ISFCs shape: (78,), ISCs shape: (13,)\n",
      "Condensed ISFCs shape: (78,), ISCs shape: (13,)\n",
      "Condensed ISFCs shape: (78,), ISCs shape: (13,)\n",
      "Condensed ISFCs shape: (78,), ISCs shape: (13,)\n",
      "Condensed ISFCs shape: (78,), ISCs shape: (13,)\n",
      "Condensed ISFCs shape: (78,), ISCs shape: (13,)\n",
      "Condensed ISFCs shape: (78,), ISCs shape: (13,)\n",
      "Condensed ISFCs shape: (78,), ISCs shape: (13,)\n",
      "Condensed ISFCs shape: (78,), ISCs shape: (13,)\n",
      "Condensed ISFCs shape: (78,), ISCs shape: (13,)\n",
      "Condensed ISFCs shape: (78,), ISCs shape: (13,)\n",
      "Condensed ISFCs shape: (78,), ISCs shape: (13,)\n",
      "Condensed ISFCs shape: (78,), ISCs shape: (13,)\n",
      "Condensed ISFCs shape: (78,), ISCs shape: (13,)\n",
      "Condensed ISFCs shape: (78,), ISCs shape: (13,)\n",
      "Condensed ISFCs shape: (78,), ISCs shape: (13,)\n",
      "Condensed ISFCs shape: (78,), ISCs shape: (13,)\n",
      "Condensed ISFCs shape: (78,), ISCs shape: (13,)\n",
      "Condensed ISFCs shape: (78,), ISCs shape: (13,)\n",
      "Condensed ISFCs shape: (78,), ISCs shape: (13,)\n",
      "Condensed ISFCs shape: (78,), ISCs shape: (13,)\n",
      "Condensed ISFCs shape: (78,), ISCs shape: (13,)\n",
      "Condensed ISFCs shape: (78,), ISCs shape: (13,)\n",
      "Condensed ISFCs shape: (78,), ISCs shape: (13,)\n",
      "Condensed ISFCs shape: (78,), ISCs shape: (13,)\n",
      "Condensed ISFCs shape: (78,), ISCs shape: (13,)\n",
      "Condensed ISFCs shape: (78,), ISCs shape: (13,)\n",
      "Condensed ISFCs shape: (78,), ISCs shape: (13,)\n",
      "Condensed ISFCs shape: (78,), ISCs shape: (13,)\n",
      "Condensed ISFCs shape: (78,), ISCs shape: (13,)\n",
      "Condensed ISFCs shape: (78,), ISCs shape: (13,)\n",
      "Condensed ISFCs shape: (78,), ISCs shape: (13,)\n",
      "Condensed ISFCs shape: (78,), ISCs shape: (13,)\n",
      "Condensed ISFCs shape: (78,), ISCs shape: (13,)\n",
      "Condensed ISFCs shape: (78,), ISCs shape: (13,)\n",
      "Condensed ISFCs shape: (78,), ISCs shape: (13,)\n",
      "Condensed ISFCs shape: (78,), ISCs shape: (13,)\n",
      "Condensed ISFCs shape: (78,), ISCs shape: (13,)\n",
      "Condensed ISFCs shape: (78,), ISCs shape: (13,)\n",
      "Condensed ISFCs shape: (78,), ISCs shape: (13,)\n",
      "Condensed ISFCs shape: (78,), ISCs shape: (13,)\n",
      "Condensed ISFCs shape: (78,), ISCs shape: (13,)\n",
      "Condensed ISFCs shape: (78,), ISCs shape: (13,)\n",
      "Condensed ISFCs shape: (78,), ISCs shape: (13,)\n",
      "Condensed ISFCs shape: (78,), ISCs shape: (13,)\n",
      "Condensed ISFCs shape: (78,), ISCs shape: (13,)\n",
      "Condensed ISFCs shape: (78,), ISCs shape: (13,)\n",
      "Condensed ISFCs shape: (78,), ISCs shape: (13,)\n",
      "Condensed ISFCs shape: (78,), ISCs shape: (13,)\n",
      "Condensed ISFCs shape: (78,), ISCs shape: (13,)\n",
      "Condensed ISFCs shape: (78,), ISCs shape: (13,)\n",
      "Condensed ISFCs shape: (78,), ISCs shape: (13,)\n",
      "Condensed ISFCs shape: (78,), ISCs shape: (13,)\n",
      "Condensed ISFCs shape: (78,), ISCs shape: (13,)\n",
      "Condensed ISFCs shape: (78,), ISCs shape: (13,)\n",
      "Condensed ISFCs shape: (78,), ISCs shape: (13,)\n",
      "Condensed ISFCs shape: (78,), ISCs shape: (13,)\n",
      "Condensed ISFCs shape: (78,), ISCs shape: (13,)\n",
      "Condensed ISFCs shape: (78,), ISCs shape: (13,)\n",
      "Condensed ISFCs shape: (78,), ISCs shape: (13,)\n",
      "Condensed ISFCs shape: (78,), ISCs shape: (13,)\n",
      "Condensed ISFCs shape: (78,), ISCs shape: (13,)\n",
      "Condensed ISFCs shape: (78,), ISCs shape: (13,)\n",
      "Condensed ISFCs shape: (78,), ISCs shape: (13,)\n",
      "Condensed ISFCs shape: (78,), ISCs shape: (13,)\n",
      "Condensed ISFCs shape: (78,), ISCs shape: (13,)\n",
      "Condensed ISFCs shape: (78,), ISCs shape: (13,)\n",
      "Condensed ISFCs shape: (78,), ISCs shape: (13,)\n",
      "Condensed ISFCs shape: (78,), ISCs shape: (13,)\n",
      "Condensed ISFCs shape: (78,), ISCs shape: (13,)\n",
      "Condensed ISFCs shape: (78,), ISCs shape: (13,)\n",
      "Condensed ISFCs shape: (78,), ISCs shape: (13,)\n",
      "Condensed ISFCs shape: (78,), ISCs shape: (13,)\n",
      "Condensed ISFCs shape: (78,), ISCs shape: (13,)\n",
      "Condensed ISFCs shape: (78,), ISCs shape: (13,)\n",
      "Condensed ISFCs shape: (78,), ISCs shape: (13,)\n",
      "Condensed ISFCs shape: (78,), ISCs shape: (13,)\n",
      "Condensed ISFCs shape: (78,), ISCs shape: (13,)\n",
      "Condensed ISFCs shape: (78,), ISCs shape: (13,)\n",
      "Condensed ISFCs shape: (78,), ISCs shape: (13,)\n",
      "Condensed ISFCs shape: (78,), ISCs shape: (13,)\n",
      "Condensed ISFCs shape: (78,), ISCs shape: (13,)\n",
      "Condensed ISFCs shape: (78,), ISCs shape: (13,)\n",
      "Condensed ISFCs shape: (78,), ISCs shape: (13,)\n",
      "Condensed ISFCs shape: (78,), ISCs shape: (13,)\n",
      "Condensed ISFCs shape: (78,), ISCs shape: (13,)\n",
      "Condensed ISFCs shape: (78,), ISCs shape: (13,)\n",
      "Condensed ISFCs shape: (78,), ISCs shape: (13,)\n",
      "Condensed ISFCs shape: (78,), ISCs shape: (13,)\n"
     ]
    },
    {
     "name": "stdout",
     "output_type": "stream",
     "text": [
      "Condensed ISFCs shape: (78,), ISCs shape: (13,)\n",
      "Condensed ISFCs shape: (78,), ISCs shape: (13,)\n",
      "Condensed ISFCs shape: (78,), ISCs shape: (13,)\n",
      "Condensed ISFCs shape: (78,), ISCs shape: (13,)\n",
      "Condensed ISFCs shape: (78,), ISCs shape: (13,)\n",
      "Condensed ISFCs shape: (78,), ISCs shape: (13,)\n",
      "Condensed ISFCs shape: (78,), ISCs shape: (13,)\n",
      "Condensed ISFCs shape: (78,), ISCs shape: (13,)\n",
      "Condensed ISFCs shape: (78,), ISCs shape: (13,)\n",
      "Condensed ISFCs shape: (78,), ISCs shape: (13,)\n",
      "Condensed ISFCs shape: (78,), ISCs shape: (13,)\n",
      "Condensed ISFCs shape: (78,), ISCs shape: (13,)\n",
      "Condensed ISFCs shape: (78,), ISCs shape: (13,)\n",
      "Condensed ISFCs shape: (78,), ISCs shape: (13,)\n",
      "Condensed ISFCs shape: (78,), ISCs shape: (13,)\n",
      "Condensed ISFCs shape: (78,), ISCs shape: (13,)\n",
      "Condensed ISFCs shape: (78,), ISCs shape: (13,)\n",
      "Condensed ISFCs shape: (78,), ISCs shape: (13,)\n",
      "Condensed ISFCs shape: (78,), ISCs shape: (13,)\n",
      "Condensed ISFCs shape: (78,), ISCs shape: (13,)\n",
      "Condensed ISFCs shape: (78,), ISCs shape: (13,)\n",
      "Condensed ISFCs shape: (78,), ISCs shape: (13,)\n",
      "Condensed ISFCs shape: (78,), ISCs shape: (13,)\n",
      "Condensed ISFCs shape: (78,), ISCs shape: (13,)\n",
      "Condensed ISFCs shape: (78,), ISCs shape: (13,)\n",
      "Condensed ISFCs shape: (78,), ISCs shape: (13,)\n",
      "Condensed ISFCs shape: (78,), ISCs shape: (13,)\n",
      "Condensed ISFCs shape: (78,), ISCs shape: (13,)\n",
      "Condensed ISFCs shape: (78,), ISCs shape: (13,)\n",
      "Condensed ISFCs shape: (78,), ISCs shape: (13,)\n",
      "Condensed ISFCs shape: (78,), ISCs shape: (13,)\n",
      "Condensed ISFCs shape: (78,), ISCs shape: (13,)\n",
      "Condensed ISFCs shape: (78,), ISCs shape: (13,)\n",
      "Condensed ISFCs shape: (78,), ISCs shape: (13,)\n",
      "Condensed ISFCs shape: (78,), ISCs shape: (13,)\n",
      "Condensed ISFCs shape: (78,), ISCs shape: (13,)\n",
      "Condensed ISFCs shape: (78,), ISCs shape: (13,)\n",
      "Condensed ISFCs shape: (78,), ISCs shape: (13,)\n",
      "Condensed ISFCs shape: (78,), ISCs shape: (13,)\n",
      "Condensed ISFCs shape: (78,), ISCs shape: (13,)\n",
      "Condensed ISFCs shape: (78,), ISCs shape: (13,)\n",
      "Condensed ISFCs shape: (78,), ISCs shape: (13,)\n",
      "Condensed ISFCs shape: (78,), ISCs shape: (13,)\n",
      "Condensed ISFCs shape: (78,), ISCs shape: (13,)\n",
      "Condensed ISFCs shape: (78,), ISCs shape: (13,)\n",
      "Condensed ISFCs shape: (78,), ISCs shape: (13,)\n",
      "Condensed ISFCs shape: (78,), ISCs shape: (13,)\n",
      "Condensed ISFCs shape: (78,), ISCs shape: (13,)\n",
      "Condensed ISFCs shape: (78,), ISCs shape: (13,)\n",
      "Condensed ISFCs shape: (78,), ISCs shape: (13,)\n",
      "Condensed ISFCs shape: (78,), ISCs shape: (13,)\n",
      "Condensed ISFCs shape: (78,), ISCs shape: (13,)\n",
      "Condensed ISFCs shape: (78,), ISCs shape: (13,)\n",
      "Condensed ISFCs shape: (78,), ISCs shape: (13,)\n",
      "Condensed ISFCs shape: (78,), ISCs shape: (13,)\n",
      "Condensed ISFCs shape: (78,), ISCs shape: (13,)\n",
      "Condensed ISFCs shape: (78,), ISCs shape: (13,)\n",
      "Condensed ISFCs shape: (78,), ISCs shape: (13,)\n",
      "Condensed ISFCs shape: (78,), ISCs shape: (13,)\n",
      "Condensed ISFCs shape: (78,), ISCs shape: (13,)\n",
      "Condensed ISFCs shape: (78,), ISCs shape: (13,)\n",
      "Condensed ISFCs shape: (78,), ISCs shape: (13,)\n",
      "Condensed ISFCs shape: (78,), ISCs shape: (13,)\n",
      "Condensed ISFCs shape: (78,), ISCs shape: (13,)\n",
      "Condensed ISFCs shape: (78,), ISCs shape: (13,)\n",
      "Condensed ISFCs shape: (78,), ISCs shape: (13,)\n",
      "Condensed ISFCs shape: (78,), ISCs shape: (13,)\n",
      "Condensed ISFCs shape: (78,), ISCs shape: (13,)\n",
      "Condensed ISFCs shape: (78,), ISCs shape: (13,)\n",
      "Condensed ISFCs shape: (78,), ISCs shape: (13,)\n",
      "Condensed ISFCs shape: (78,), ISCs shape: (13,)\n",
      "Condensed ISFCs shape: (78,), ISCs shape: (13,)\n",
      "Condensed ISFCs shape: (78,), ISCs shape: (13,)\n",
      "Condensed ISFCs shape: (78,), ISCs shape: (13,)\n",
      "Condensed ISFCs shape: (78,), ISCs shape: (13,)\n",
      "Condensed ISFCs shape: (78,), ISCs shape: (13,)\n",
      "Condensed ISFCs shape: (78,), ISCs shape: (13,)\n",
      "Condensed ISFCs shape: (78,), ISCs shape: (13,)\n",
      "Condensed ISFCs shape: (78,), ISCs shape: (13,)\n",
      "Condensed ISFCs shape: (78,), ISCs shape: (13,)\n",
      "Condensed ISFCs shape: (78,), ISCs shape: (13,)\n",
      "Condensed ISFCs shape: (78,), ISCs shape: (13,)\n",
      "Condensed ISFCs shape: (78,), ISCs shape: (13,)\n",
      "Condensed ISFCs shape: (78,), ISCs shape: (13,)\n",
      "Condensed ISFCs shape: (78,), ISCs shape: (13,)\n",
      "Condensed ISFCs shape: (78,), ISCs shape: (13,)\n",
      "Condensed ISFCs shape: (78,), ISCs shape: (13,)\n",
      "Condensed ISFCs shape: (78,), ISCs shape: (13,)\n",
      "Condensed ISFCs shape: (78,), ISCs shape: (13,)\n",
      "Condensed ISFCs shape: (78,), ISCs shape: (13,)\n",
      "Condensed ISFCs shape: (78,), ISCs shape: (13,)\n",
      "Condensed ISFCs shape: (78,), ISCs shape: (13,)\n",
      "Condensed ISFCs shape: (78,), ISCs shape: (13,)\n",
      "Condensed ISFCs shape: (78,), ISCs shape: (13,)\n",
      "Condensed ISFCs shape: (78,), ISCs shape: (13,)\n",
      "Condensed ISFCs shape: (78,), ISCs shape: (13,)\n",
      "Condensed ISFCs shape: (78,), ISCs shape: (13,)\n",
      "Condensed ISFCs shape: (78,), ISCs shape: (13,)\n",
      "Condensed ISFCs shape: (78,), ISCs shape: (13,)\n",
      "Condensed ISFCs shape: (78,), ISCs shape: (13,)\n",
      "Condensed ISFCs shape: (78,), ISCs shape: (13,)\n",
      "Condensed ISFCs shape: (78,), ISCs shape: (13,)\n",
      "Condensed ISFCs shape: (78,), ISCs shape: (13,)\n",
      "Condensed ISFCs shape: (78,), ISCs shape: (13,)\n",
      "Condensed ISFCs shape: (78,), ISCs shape: (13,)\n",
      "Condensed ISFCs shape: (78,), ISCs shape: (13,)\n",
      "Condensed ISFCs shape: (78,), ISCs shape: (13,)\n",
      "Condensed ISFCs shape: (78,), ISCs shape: (13,)\n",
      "Condensed ISFCs shape: (78,), ISCs shape: (13,)\n",
      "Condensed ISFCs shape: (78,), ISCs shape: (13,)\n",
      "Condensed ISFCs shape: (78,), ISCs shape: (13,)\n",
      "Condensed ISFCs shape: (78,), ISCs shape: (13,)\n",
      "Condensed ISFCs shape: (78,), ISCs shape: (13,)\n",
      "Condensed ISFCs shape: (78,), ISCs shape: (13,)\n",
      "Condensed ISFCs shape: (78,), ISCs shape: (13,)\n",
      "Condensed ISFCs shape: (78,), ISCs shape: (13,)\n",
      "Condensed ISFCs shape: (78,), ISCs shape: (13,)\n",
      "Condensed ISFCs shape: (78,), ISCs shape: (13,)\n",
      "Condensed ISFCs shape: (78,), ISCs shape: (13,)\n",
      "Condensed ISFCs shape: (78,), ISCs shape: (13,)\n",
      "Condensed ISFCs shape: (78,), ISCs shape: (13,)\n",
      "Condensed ISFCs shape: (78,), ISCs shape: (13,)\n",
      "Condensed ISFCs shape: (78,), ISCs shape: (13,)\n",
      "Condensed ISFCs shape: (78,), ISCs shape: (13,)\n",
      "Condensed ISFCs shape: (78,), ISCs shape: (13,)\n",
      "Condensed ISFCs shape: (78,), ISCs shape: (13,)\n",
      "Condensed ISFCs shape: (78,), ISCs shape: (13,)\n",
      "Condensed ISFCs shape: (78,), ISCs shape: (13,)\n",
      "Condensed ISFCs shape: (78,), ISCs shape: (13,)\n",
      "Condensed ISFCs shape: (78,), ISCs shape: (13,)\n",
      "Condensed ISFCs shape: (78,), ISCs shape: (13,)\n",
      "Condensed ISFCs shape: (78,), ISCs shape: (13,)\n",
      "Condensed ISFCs shape: (78,), ISCs shape: (13,)\n",
      "Condensed ISFCs shape: (78,), ISCs shape: (13,)\n",
      "Condensed ISFCs shape: (78,), ISCs shape: (13,)\n",
      "Condensed ISFCs shape: (78,), ISCs shape: (13,)\n",
      "Condensed ISFCs shape: (78,), ISCs shape: (13,)\n",
      "Condensed ISFCs shape: (78,), ISCs shape: (13,)\n",
      "Condensed ISFCs shape: (78,), ISCs shape: (13,)\n",
      "Condensed ISFCs shape: (78,), ISCs shape: (13,)\n",
      "Condensed ISFCs shape: (78,), ISCs shape: (13,)\n",
      "Condensed ISFCs shape: (78,), ISCs shape: (13,)\n",
      "Condensed ISFCs shape: (78,), ISCs shape: (13,)\n",
      "Condensed ISFCs shape: (78,), ISCs shape: (13,)\n",
      "Condensed ISFCs shape: (78,), ISCs shape: (13,)\n"
     ]
    }
   ],
   "source": [
    "num_subs = targ_dic[roi].shape[2]\n",
    "num_perms = 1000\n",
    "perm_arr = []\n",
    "\n",
    "for perm in range(num_perms):\n",
    "    # Transpose input data to compute intersubject pattern correlation\n",
    "    ispcs = isfc(np.rollaxis(targ_dic[roi], 1, 0),\n",
    "                        pairwise=False, vectorize_isfcs=False)\n",
    "    \n",
    "    ## create random array of 1s and 0s to randomly sign flip each matrix\n",
    "    rand_arr = np.random.choice([-1, 1], size=num_subs, replace=True)\n",
    "    # add dimensions to rand_arr so that it can be broadcast to each matrix\n",
    "    result = rand_arr[:, np.newaxis, np.newaxis] * ispcs\n",
    "    # get the average across the 18, 13, 13 matrix -- results should be 13 x 13\n",
    "    av_across_subs = np.nanmean(result, axis = 0)\n",
    "    # Convert these directly to condensed ISFCs (and ISCs)\n",
    "    ispcs_c, iscs = squareform_isfc(av_across_subs)\n",
    "    print(f\"Condensed ISFCs shape: {ispcs_c.shape}, \"\n",
    "          f\"ISCs shape: {iscs.shape}\")\n",
    "    perm_arr.append(ispcs_c)\n",
    "perm_arr = np.vstack(perm_arr)    \n",
    "    \n",
    "    \n",
    "    "
   ]
  },
  {
   "cell_type": "code",
   "execution_count": 65,
   "id": "atmospheric-machinery",
   "metadata": {},
   "outputs": [
    {
     "data": {
      "text/plain": [
       "(4, 78)"
      ]
     },
     "execution_count": 65,
     "metadata": {},
     "output_type": "execute_result"
    }
   ],
   "source": [
    "####*** note that the diagnonal is not included when reconstructing the matrix -- should be 91 instead of 78. \n",
    "### max_perm is fine though"
   ]
  },
  {
   "cell_type": "code",
   "execution_count": 85,
   "id": "patent-patio",
   "metadata": {},
   "outputs": [],
   "source": [
    "# get the maximum of each permutation test. This controls across all timepoints -- most stringent.\n",
    "max_perm = np.max(perm_arr, axis=1)\n",
    "## get the off diagnonal for plotting \n",
    "perm_mat_c = np.max(perm_arr, axis=0)"
   ]
  },
  {
   "cell_type": "code",
   "execution_count": 89,
   "id": "advisory-acoustic",
   "metadata": {},
   "outputs": [
    {
     "name": "stdout",
     "output_type": "stream",
     "text": [
      "(1000,) and (78,)\n"
     ]
    }
   ],
   "source": [
    "print(f'{max_perm.shape} and {perm_mat_c.shape}')"
   ]
  },
  {
   "cell_type": "code",
   "execution_count": 91,
   "id": "occupied-aaron",
   "metadata": {},
   "outputs": [
    {
     "data": {
      "text/plain": [
       "(array([ 85., 333., 292., 148.,  76.,  30.,  17.,   9.,   6.,   4.]),\n",
       " array([0.02732721, 0.04741658, 0.06750596, 0.08759533, 0.10768471,\n",
       "        0.12777408, 0.14786346, 0.16795283, 0.18804221, 0.20813158,\n",
       "        0.22822096]),\n",
       " <BarContainer object of 10 artists>)"
      ]
     },
     "execution_count": 91,
     "metadata": {},
     "output_type": "execute_result"
    },
    {
     "data": {
      "image/png": "[encoded data removed]",
      "text/plain": [
       "<Figure size 432x288 with 1 Axes>"
      ]
     },
     "metadata": {
      "needs_background": "light"
     },
     "output_type": "display_data"
    }
   ],
   "source": [
    "plt.hist(max_perm)"
   ]
  },
  {
   "cell_type": "code",
   "execution_count": null,
   "id": "optional-hundred",
   "metadata": {},
   "outputs": [],
   "source": []
  },
  {
   "cell_type": "code",
   "execution_count": 90,
   "id": "determined-personal",
   "metadata": {},
   "outputs": [
    {
     "name": "stdout",
     "output_type": "stream",
     "text": [
      "Converted redundant ISFCs shape: (13, 13)\n"
     ]
    }
   ],
   "source": [
    "# Convert these directly back to redundant ISFCs\n",
    "perm_mat_r = squareform_isfc(perm_mat_c, iscs)\n",
    "print(f\"Converted redundant ISFCs shape: {isfcs_r.shape}\")"
   ]
  },
  {
   "cell_type": "code",
   "execution_count": 80,
   "id": "informal-formula",
   "metadata": {},
   "outputs": [
    {
     "data": {
      "image/png": "[encoded data removed]",
      "text/plain": [
       "<Figure size 864x648 with 2 Axes>"
      ]
     },
     "metadata": {
      "needs_background": "light"
     },
     "output_type": "display_data"
    }
   ],
   "source": [
    "# Create a subplot with specified size\n",
    "fig, axs = plt.subplots(1, 1, figsize=(12, 9))\n",
    "vmin = -.15\n",
    "vmax = .15\n",
    "\n",
    "title = f'{roi}'  # Choose the appropriate title\n",
    "image = axs.matshow(perm_mat_r, vmin=vmin, vmax=vmax, cmap='RdYlBu_r')\n",
    "axs.set_title(title)\n",
    "axs.set_xticks([])\n",
    "axs.set_yticks([])\n",
    "axs.set_xlabel('time')\n",
    "axs.set_ylabel('time')\n",
    "cbar = plt.colorbar(image, ax=axs)  # Add colorbar\n",
    "cbar.set_label('Correlation')  # Set colorbar label\n",
    "\n",
    "plt.show()  # Display the plot\n",
    "\n",
    "\n",
    "\n",
    "\n",
    "\n"
   ]
  },
  {
   "cell_type": "code",
   "execution_count": null,
   "id": "digital-advisory",
   "metadata": {},
   "outputs": [],
   "source": []
  },
  {
   "cell_type": "markdown",
   "id": "subject-wisdom",
   "metadata": {},
   "source": [
    "## Actual (nompermuted) correlations"
   ]
  },
  {
   "cell_type": "code",
   "execution_count": 87,
   "id": "organizational-confusion",
   "metadata": {},
   "outputs": [],
   "source": [
    "targ_cond = \"internal\"\n",
    "#targ_mov = 'oragami'\n",
    "hemi = 'R'\n",
    "targ_run = 1 \n",
    "roi = 'R Vis-internal'\n",
    "\n",
    "targ_dic = {} \n",
    "targ_keys = [key for key in list(roi_bpress_ispc.keys()) if key[-8:] == targ_cond]  \n",
    "targ_keys = [key for key in targ_keys if key[:1] == hemi]  \n",
    "for key in targ_keys:\n",
    "    targ_dic[key] = roi_bpress_ispc[key][targ_run][targ_mov]"
   ]
  },
  {
   "cell_type": "code",
   "execution_count": 88,
   "id": "early-stand",
   "metadata": {},
   "outputs": [
    {
     "name": "stdout",
     "output_type": "stream",
     "text": [
      "total networks: 7 \n",
      " hemisphere: R \n",
      " office 1 \n",
      " internal\n",
      " subjects included: 18\n"
     ]
    }
   ],
   "source": [
    "print(f'total networks: {len(list(targ_dic.keys()))} \\n hemisphere: {hemi} \\n {targ_mov} {targ_run} \\n {targ_cond}')\n",
    "print(f' subjects included: {targ_dic[list(targ_dic.keys())[0]].shape[2]}') "
   ]
  },
  {
   "cell_type": "markdown",
   "id": "unlikely-court",
   "metadata": {},
   "source": [
    "### calculate ispc for current ROI"
   ]
  },
  {
   "cell_type": "code",
   "execution_count": 92,
   "id": "adaptive-terminology",
   "metadata": {},
   "outputs": [],
   "source": [
    "ispcs = isfc(np.rollaxis(targ_dic[roi], 1, 0),\n",
    "                    pairwise=False, vectorize_isfcs=False,\n",
    "                    summary_statistic='mean')"
   ]
  },
  {
   "cell_type": "code",
   "execution_count": 99,
   "id": "elect-responsibility",
   "metadata": {},
   "outputs": [],
   "source": [
    "ispcs_c, iscs = squareform_isfc(ispcs)\n",
    "cat_ispcs = np.hstack((ispcs_c, iscs))"
   ]
  },
  {
   "cell_type": "code",
   "execution_count": 98,
   "id": "catholic-specific",
   "metadata": {},
   "outputs": [
    {
     "data": {
      "text/plain": [
       "(array([16., 18., 13., 19., 14.,  5.,  3.,  0.,  1.,  2.]),\n",
       " array([-0.13466395, -0.08647868, -0.0382934 ,  0.00989187,  0.05807715,\n",
       "         0.10626242,  0.1544477 ,  0.20263297,  0.25081824,  0.29900352,\n",
       "         0.34718879]),\n",
       " <BarContainer object of 10 artists>)"
      ]
     },
     "execution_count": 98,
     "metadata": {},
     "output_type": "execute_result"
    },
    {
     "data": {
      "image/png": "[encoded data removed]",
      "text/plain": [
       "<Figure size 432x288 with 1 Axes>"
      ]
     },
     "metadata": {
      "needs_background": "light"
     },
     "output_type": "display_data"
    }
   ],
   "source": [
    "plt.hist(cat_ispcs)"
   ]
  },
  {
   "cell_type": "code",
   "execution_count": 103,
   "id": "spare-marking",
   "metadata": {},
   "outputs": [],
   "source": []
  },
  {
   "cell_type": "code",
   "execution_count": 111,
   "id": "fifteen-muscle",
   "metadata": {},
   "outputs": [],
   "source": [
    "tstats = [(val - np.mean(max_perm)) / np.std(max_perm) for val in cat_ispcs]"
   ]
  },
  {
   "cell_type": "code",
   "execution_count": 112,
   "id": "smooth-florence",
   "metadata": {},
   "outputs": [
    {
     "data": {
      "text/plain": [
       "array([-7.16941615, -7.06026068, -6.94550021, -6.92063058, -6.85597858,\n",
       "       -6.74423101, -6.4055476 , -6.33923046, -6.32032506, -6.28958555,\n",
       "       -6.13094184, -5.98270543, -5.7944668 , -5.71646375, -5.56931449,\n",
       "       -5.56503536, -5.31026923, -5.23232564, -5.07778114, -5.06725303,\n",
       "       -4.99080508, -4.8188833 , -4.77358955, -4.63087206, -4.47060157,\n",
       "       -4.41926039, -4.25211379, -4.21595905, -4.19668593, -4.17404405,\n",
       "       -4.16504841, -4.09476994, -4.08326921, -3.93359581, -3.86327724,\n",
       "       -3.62120491, -3.3622386 , -3.33266494, -2.95147941, -2.74803992,\n",
       "       -2.58389487, -2.56053555, -2.51665795, -2.49211164, -2.44406532,\n",
       "       -2.38911335, -2.37248192, -2.2008784 , -2.11828888, -2.02201731,\n",
       "       -1.98883192, -1.85093032, -1.79023677, -1.74637832, -1.68360289,\n",
       "       -1.58083218, -1.56827159, -1.53180931, -1.49717112, -1.43533443,\n",
       "       -1.42920632, -1.41929585, -1.40599955, -1.18445022, -1.17510299,\n",
       "       -0.83409253, -0.59899753, -0.57804351, -0.49078145, -0.43365625,\n",
       "       -0.27112982, -0.1370288 ,  0.25887122,  0.28024129,  0.32291847,\n",
       "        0.40185223,  0.58014335,  0.82582971,  0.84366117,  0.85919318,\n",
       "        1.16397399,  1.74084497,  1.79246175,  1.92375877,  1.98248783,\n",
       "        3.05410677,  3.57810185,  3.78154451,  7.28600952,  7.86982958,\n",
       "        9.0175102 ])"
      ]
     },
     "execution_count": 112,
     "metadata": {},
     "output_type": "execute_result"
    }
   ],
   "source": [
    "np.sort(tstats)"
   ]
  },
  {
   "cell_type": "code",
   "execution_count": 110,
   "id": "tribal-reputation",
   "metadata": {},
   "outputs": [
    {
     "data": {
      "text/plain": [
       "1.7924617516814974"
      ]
     },
     "execution_count": 110,
     "metadata": {},
     "output_type": "execute_result"
    }
   ],
   "source": [
    "t = (cat_ispcs[0] - np.mean(max_perm)) / np.std(max_perm)\n"
   ]
  },
  {
   "cell_type": "code",
   "execution_count": 109,
   "id": "coral-duration",
   "metadata": {},
   "outputs": [
    {
     "data": {
      "text/plain": [
       "0.02976801974566674"
      ]
     },
     "execution_count": 109,
     "metadata": {},
     "output_type": "execute_result"
    }
   ],
   "source": [
    "np.std(max_perm)"
   ]
  },
  {
   "cell_type": "code",
   "execution_count": 104,
   "id": "supreme-hebrew",
   "metadata": {},
   "outputs": [
    {
     "data": {
      "text/plain": [
       "0.13211340869812327"
      ]
     },
     "execution_count": 104,
     "metadata": {},
     "output_type": "execute_result"
    }
   ],
   "source": [
    "cat_ispcs[0]"
   ]
  },
  {
   "cell_type": "code",
   "execution_count": 105,
   "id": "chinese-immune",
   "metadata": {},
   "outputs": [
    {
     "data": {
      "text/plain": [
       "0.07875537188071606"
      ]
     },
     "execution_count": 105,
     "metadata": {},
     "output_type": "execute_result"
    }
   ],
   "source": [
    "np.mean(max_perm)"
   ]
  },
  {
   "cell_type": "code",
   "execution_count": 107,
   "id": "exceptional-exhaust",
   "metadata": {},
   "outputs": [
    {
     "data": {
      "text/plain": [
       "0.0009418184653105953"
      ]
     },
     "execution_count": 107,
     "metadata": {},
     "output_type": "execute_result"
    }
   ],
   "source": [
    "stats.sem(max_perm)"
   ]
  },
  {
   "cell_type": "code",
   "execution_count": 85,
   "id": "overhead-thread",
   "metadata": {},
   "outputs": [
    {
     "name": "stderr",
     "output_type": "stream",
     "text": [
      "/jukebox/pkgs/PYGER/base/envs/0.11.0/lib/python3.7/site-packages/ipykernel_launcher.py:38: UserWarning: This figure includes Axes that are not compatible with tight_layout, so results might be incorrect.\n"
     ]
    },
    {
     "data": {
      "image/png": "[encoded data removed]",
      "text/plain": [
       "<Figure size 1080x864 with 10 Axes>"
      ]
     },
     "metadata": {
      "needs_background": "light"
     },
     "output_type": "display_data"
    }
   ],
   "source": [
    "plot_row = 3\n",
    "plot_col = 3\n",
    "sub_plot_num = 5\n",
    "\n",
    "# Plot time-point-by-time-point intersubject pattern correlation\n",
    "vmin, vmax = -0.15, 0.15\n",
    "\n",
    "fig, axs = plt.subplots(plot_row, plot_col, figsize=(15, 12))\n",
    "\n",
    "for ind, roi in enumerate(targ_dic):\n",
    "    # calculate ispc\n",
    "    # Transpose input data to compute intersubject pattern correlation\n",
    "    ispcs = isfc(np.rollaxis(targ_dic[roi], 1, 0),\n",
    "                        pairwise=False, vectorize_isfcs=False,\n",
    "                        summary_statistic='mean')\n",
    "\n",
    "    \n",
    "    # First plot: Matrix\n",
    "    title = f'{roi}'  # Choose the appropriate title\n",
    "    image = axs[int(ind / plot_col), ind % plot_col].matshow(ispcs, vmin=vmin, vmax=vmax, cmap='RdYlBu_r')\n",
    "    axs[int(ind / plot_col), ind % plot_col].set_title(title)\n",
    "    axs[int(ind / plot_col), ind % plot_col].set_xticks([])\n",
    "    axs[int(ind / plot_col), ind % plot_col].set_yticks([])\n",
    "    axs[int(ind / plot_col), ind % plot_col].set_xlabel('time')\n",
    "    axs[int(ind / plot_col), ind % plot_col].set_ylabel('time')\n",
    "    #cbar = plt.colorbar(image, ax=axs[0])  # Add colorbar\n",
    "    #cbar.set_label('Correlation')  # Set colorbar label\n",
    "\n",
    "# Main title for the entire plot\n",
    "plt.suptitle(f'{targ_cond} {targ_run} {targ_mov} ISPC', fontsize=16)\n",
    "\n",
    "\n",
    "# Add a single colorbar for all subplots\n",
    "cbar_ax = fig.add_axes([0.92, 0.15, 0.02, 0.7])  # Adjust the position and size of the colorbar\n",
    "cbar = plt.colorbar(image, cax=cbar_ax)\n",
    "cbar.set_label('Correlation')\n",
    "\n",
    "plt.tight_layout(rect=[0, 0, 0.9, 0.95])  # Adjust the layout to accommodate the main title\n",
    "plt.show()\n",
    "    \n",
    "    "
   ]
  },
  {
   "cell_type": "code",
   "execution_count": null,
   "id": "narrative-hospital",
   "metadata": {},
   "outputs": [],
   "source": []
  },
  {
   "cell_type": "code",
   "execution_count": null,
   "id": "selected-cloud",
   "metadata": {},
   "outputs": [],
   "source": []
  },
  {
   "cell_type": "markdown",
   "id": "nearby-prototype",
   "metadata": {},
   "source": [
    "## One Network"
   ]
  },
  {
   "cell_type": "code",
   "execution_count": 29,
   "id": "empty-bennett",
   "metadata": {},
   "outputs": [],
   "source": [
    "test = np.load(f'{isc_dir}/roi_bpress_ispc.npy', allow_pickle = True).item()\n",
    "#x = np.load(f'{isc_dir}/ext_isc.npz', mmap_mode='r')"
   ]
  },
  {
   "cell_type": "code",
   "execution_count": 23,
   "id": "effective-layer",
   "metadata": {},
   "outputs": [
    {
     "data": {
      "text/plain": [
       "(13, 1124, 9)"
      ]
     },
     "execution_count": 23,
     "metadata": {},
     "output_type": "execute_result"
    }
   ],
   "source": [
    "#anal = m_rep_int[4]['sherlock']\n",
    "anal = m_rep_ext[1]['sherlock']\n",
    "anal.shape"
   ]
  },
  {
   "cell_type": "code",
   "execution_count": 24,
   "id": "paperback-departure",
   "metadata": {},
   "outputs": [],
   "source": [
    "# Transpose input data to compute intersubject pattern correlation\n",
    "ispcs = isfc(np.rollaxis(anal, 1, 0),\n",
    "                    pairwise=False, vectorize_isfcs=False,\n",
    "                    summary_statistic='mean')"
   ]
  },
  {
   "cell_type": "code",
   "execution_count": 25,
   "id": "trained-liquid",
   "metadata": {
    "scrolled": true
   },
   "outputs": [
    {
     "data": {
      "image/png": "[encoded data removed]",
      "text/plain": [
       "<Figure size 864x432 with 3 Axes>"
      ]
     },
     "metadata": {
      "needs_background": "light"
     },
     "output_type": "display_data"
    }
   ],
   "source": [
    "# Plot time-point-by-time-point intersubject pattern correlation\n",
    "vmin, vmax = -0.15, 0.15\n",
    "\n",
    "fig, axs = plt.subplots(1, 2, figsize=(12, 6))\n",
    "\n",
    "# First plot: Matrix\n",
    "ispc = ispcs  # Choose the matrix to plot (intact_ispcs or scram_ispcs)\n",
    "title = f'{net_lab} ISPC'  # Choose the appropriate title\n",
    "image = axs[0].matshow(ispc, vmin=vmin, vmax=vmax, cmap='RdYlBu_r')\n",
    "axs[0].set_title(title)\n",
    "axs[0].set_xticks([])\n",
    "axs[0].set_yticks([])\n",
    "axs[0].set_xlabel('time')\n",
    "axs[0].set_ylabel('time')\n",
    "cbar = plt.colorbar(image, ax=axs[0])  # Add colorbar\n",
    "cbar.set_label('Correlation')  # Set colorbar label\n",
    "\n",
    "# Second plot: Seaborn lineplot with vertical line\n",
    "diagonal = np.diagonal(ispc)\n",
    "time_points = np.arange(len(diagonal))\n",
    "axs[1] = sns.lineplot(x=time_points, y=diagonal, color='blue')\n",
    "axs[1].set_title('Diagonal of Matrix')\n",
    "axs[1].set_xlabel('time')\n",
    "axs[1].set_ylabel('Correlation')\n",
    "axs[1].axvline(x=3, color='red', linestyle='--')  # Vertical line at the third tick\n",
    "axs[1].axhline(y=0, color='red', linestyle='--')  # Horizotnal line at 0\n",
    "\n",
    "\n",
    "plt.tight_layout()\n",
    "plt.show()\n"
   ]
  },
  {
   "cell_type": "code",
   "execution_count": null,
   "id": "refined-parish",
   "metadata": {},
   "outputs": [],
   "source": []
  },
  {
   "cell_type": "code",
   "execution_count": null,
   "id": "historical-charlotte",
   "metadata": {},
   "outputs": [],
   "source": []
  },
  {
   "cell_type": "markdown",
   "id": "chicken-reynolds",
   "metadata": {},
   "source": [
    "# Plot networks"
   ]
  },
  {
   "cell_type": "markdown",
   "id": "laden-conservation",
   "metadata": {},
   "source": [
    "### load atlas "
   ]
  },
  {
   "cell_type": "code",
   "execution_count": 24,
   "id": "yellow-retirement",
   "metadata": {},
   "outputs": [],
   "source": [
    "num_parc = 400\n",
    "\n",
    "## should be 17 to run\n",
    "num_net= 7"
   ]
  },
  {
   "cell_type": "code",
   "execution_count": 25,
   "id": "average-perception",
   "metadata": {},
   "outputs": [
    {
     "name": "stdout",
     "output_type": "stream",
     "text": [
      "Loading data from /jukebox/graziano/coolCatIsaac/MEI/data/bids/derivatives/fmriprep/sub-007/ses-01/func/sub-007_ses-01_task-None_run-02_space-MNI152NLin2009cAsym_desc-preproc_bold.nii.gz\n",
      "shape of run 2 is (78, 93, 65, 369) \n",
      "\n",
      "count parc:401\n",
      "shape of atlas nii object (78, 93, 65)\n"
     ]
    }
   ],
   "source": [
    "## fetch dataset\n",
    "dataset = datasets.fetch_atlas_schaefer_2018(n_rois=num_parc, yeo_networks = num_net)\n",
    "\n",
    "# get nii dataset location\n",
    "atlas_filename = dataset.maps\n",
    "## get *ROI* atlas labels\n",
    "labels = dataset.labels\n",
    "\n",
    "# resample loaded atlas \n",
    "atlas_nii, atlas_img = resample_atlas(atlas_filename, fmri_prep)"
   ]
  },
  {
   "cell_type": "markdown",
   "id": "concrete-tender",
   "metadata": {},
   "source": [
    "### get network labels"
   ]
  },
  {
   "cell_type": "code",
   "execution_count": 26,
   "id": "british-sleeping",
   "metadata": {},
   "outputs": [
    {
     "name": "stdout",
     "output_type": "stream",
     "text": [
      "two networks: ['L Vis', 'L SomMot'] \n",
      " total nets: 14\n"
     ]
    }
   ],
   "source": [
    "# Load in network labels for each parcell, ALL network labels, and the middle parcel within each network\n",
    "networks, network_labels, network_idxs = get_network_labels(num_parc, num_net)\n"
   ]
  },
  {
   "cell_type": "code",
   "execution_count": 11,
   "id": "destroyed-france",
   "metadata": {},
   "outputs": [],
   "source": [
    "# **7 NETWORK Get labels for parcels in left DMN A network** ## \n",
    "net_lab = 'R DorsAttn'\n",
    "\n",
    "## Target Conditions\n",
    "targ_cond = \"External\"\n",
    "\n",
    "## movie repetitions ##\n",
    "#m_reps = 1\n",
    "targ_run = 1\n",
    "\n",
    "## Get labels associated with the target network ## \n",
    "targ_net = (np.array(networks) == net_lab).nonzero()[0] + 1\n"
   ]
  },
  {
   "cell_type": "code",
   "execution_count": 13,
   "id": "empirical-merit",
   "metadata": {},
   "outputs": [
    {
     "data": {
      "text/plain": [
       "<nilearn.plotting.displays.OrthoSlicer at 0x7fe59e3fe710>"
      ]
     },
     "execution_count": 13,
     "metadata": {},
     "output_type": "execute_result"
    },
    {
     "data": {
      "image/png": "[encoded data removed]",
      "text/plain": [
       "<Figure size 475.2x187.2 with 4 Axes>"
      ]
     },
     "metadata": {},
     "output_type": "display_data"
    }
   ],
   "source": [
    "# Create an empty that is the shape of d\n",
    "roi_tem = np.zeros(atlas_nii.shape)\n",
    "# set all cases where parcel is equal to roi_num, equal to one, everything else zero (creates a mask)\n",
    "for parcel in targ_net:\n",
    "    roi_tem[atlas_img == parcel] = 1\n",
    "    \n",
    "# Create a nift image of the mask\n",
    "roi_img = nib.Nifti1Image(roi_tem, affine = atlas_nii.affine, header = atlas_nii.header)\n",
    "#nib.save(roi_img, rois_dir+'/'+ roi_name.decode(\"utf-8\"))\n",
    "\n",
    "\n",
    "mPFC_coords = (10,10, 45)\n",
    "pcc_coords = (10,-40, 45)\n",
    "\n",
    "#plot_roi(roi_img,cut_coords = pcc_coords)\n",
    "plot_roi(roi_img)"
   ]
  },
  {
   "cell_type": "code",
   "execution_count": null,
   "id": "demanding-horizon",
   "metadata": {},
   "outputs": [],
   "source": []
  },
  {
   "cell_type": "code",
   "execution_count": null,
   "id": "passive-browse",
   "metadata": {},
   "outputs": [],
   "source": []
  },
  {
   "cell_type": "code",
   "execution_count": null,
   "id": "burning-hours",
   "metadata": {},
   "outputs": [],
   "source": []
  }
 ],
 "metadata": {
  "kernelspec": {
   "display_name": "Python 3",
   "language": "python",
   "name": "python3"
  },
  "language_info": {
   "codemirror_mode": {
    "name": "ipython",
    "version": 3
   },
   "file_extension": ".py",
   "mimetype": "text/x-python",
   "name": "python",
   "nbconvert_exporter": "python",
   "pygments_lexer": "ipython3",
   "version": "3.7.9"
  }
 },
 "nbformat": 4,
 "nbformat_minor": 5
}
