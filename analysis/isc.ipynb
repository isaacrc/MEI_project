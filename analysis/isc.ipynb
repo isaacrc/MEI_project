{
 "cells": [
  {
   "cell_type": "markdown",
   "id": "unlimited-gauge",
   "metadata": {},
   "source": [
    "# Run ISC"
   ]
  },
  {
   "cell_type": "markdown",
   "id": "alleged-study",
   "metadata": {},
   "source": [
    "This script runs ISC"
   ]
  },
  {
   "cell_type": "markdown",
   "id": "changed-velvet",
   "metadata": {},
   "source": [
    "## py conversion"
   ]
  },
  {
   "cell_type": "code",
   "execution_count": 38,
   "id": "elementary-butter",
   "metadata": {},
   "outputs": [],
   "source": [
    "#jupyter nbconvert --to python slurm_create-data_preproc.ipynb"
   ]
  },
  {
   "cell_type": "markdown",
   "id": "liberal-canberra",
   "metadata": {},
   "source": [
    "## Imports "
   ]
  },
  {
   "cell_type": "code",
   "execution_count": 39,
   "id": "excess-talent",
   "metadata": {},
   "outputs": [],
   "source": [
    "import warnings\n",
    "import sys  \n",
    "import random\n",
    "# import logging\n",
    "\n",
    "import deepdish as dd\n",
    "import numpy as np\n",
    "\n",
    "import brainiak.eventseg.event\n",
    "import nibabel as nib\n",
    "import nilearn as nil\n",
    "# Import a function from BrainIAK to simulate fMRI data\n",
    "import brainiak.utils.fmrisim as sim  \n",
    "\n",
    "from nilearn.input_data import NiftiMasker\n",
    "\n",
    "import scipy.io\n",
    "from scipy import stats\n",
    "from scipy.stats import norm, zscore, pearsonr\n",
    "from scipy.signal import gaussian, convolve\n",
    "\n",
    "from matplotlib import pyplot as plt\n",
    "from mpl_toolkits.mplot3d import Axes3D\n",
    "import matplotlib.patches as patches\n",
    "import seaborn as sns \n",
    "\n",
    "\n",
    "\n",
    "from brainiak import image, io\n",
    "from scipy.stats import stats\n",
    "import nibabel as nib\n",
    "import numpy as np\n",
    "from matplotlib import pyplot as plt\n",
    "import pandas as pd\n",
    "\n",
    "from nilearn import datasets, plotting\n",
    "from nilearn.input_data import NiftiSpheresMasker\n",
    "\n",
    "from nilearn.glm.first_level import FirstLevelModel\n",
    "from nilearn.glm.first_level import make_first_level_design_matrix\n",
    "from nilearn.image import concat_imgs, resample_img, mean_img,index_img\n",
    "from nilearn import image\n",
    "from nilearn import masking\n",
    "from nilearn.plotting import view_img\n",
    "from nilearn.image import resample_to_img\n",
    "\n",
    "from nilearn.image import concat_imgs, resample_img, mean_img\n",
    "from nilearn.plotting import view_img\n",
    "\n",
    "import numpy as np \n",
    "import os\n",
    "import os.path\n",
    "import scipy.io\n",
    "import nibabel as nib\n",
    "from nilearn.input_data import NiftiMasker\n",
    "from nilearn.masking import compute_epi_mask, compute_brain_mask\n",
    "from sklearn import preprocessing\n",
    "from sklearn.preprocessing import StandardScaler\n",
    "from sklearn.model_selection import PredefinedSplit\n",
    "from copy import deepcopy\n",
    "\n",
    "# Brainiak # \n",
    "from brainiak import image, io \n",
    "from brainiak.isc import (isc, isfc, bootstrap_isc, permutation_isc,\n",
    "                          timeshift_isc, phaseshift_isc,\n",
    "                          compute_summary_statistic)\n",
    "from brainiak.io import load_boolean_mask, load_images\n",
    "from statsmodels.stats.multitest import multipletests\n",
    "from nilearn.plotting import plot_stat_map\n",
    "%matplotlib inline"
   ]
  },
  {
   "cell_type": "code",
   "execution_count": 40,
   "id": "negative-tactics",
   "metadata": {},
   "outputs": [],
   "source": [
    "random.seed(10)"
   ]
  },
  {
   "cell_type": "markdown",
   "id": "large-nutrition",
   "metadata": {},
   "source": [
    "## custom helper functions "
   ]
  },
  {
   "cell_type": "code",
   "execution_count": null,
   "id": "intensive-grammar",
   "metadata": {},
   "outputs": [],
   "source": []
  },
  {
   "cell_type": "markdown",
   "id": "continuing-athens",
   "metadata": {},
   "source": [
    "## directories "
   ]
  },
  {
   "cell_type": "code",
   "execution_count": 41,
   "id": "southwest-nerve",
   "metadata": {},
   "outputs": [],
   "source": [
    "top_dir = '/jukebox/graziano/coolCatIsaac/MEI'\n",
    "data_dir = top_dir + \"/data\"\n",
    "work_dir = data_dir + '/work'\n",
    "mask_dir = work_dir + '/masks'\n",
    "behav_dir = top_dir + '/data/behavioral'\n",
    "rois_dir = data_dir + \"/rois\"\n",
    "fmri_prep = data_dir + '/bids/derivatives/fmriprep'\n",
    "conf_dir = work_dir + '/confs'\n",
    "preproc_dir = work_dir + '/preproc'\n",
    "isc_dir = work_dir + '/isc_dat'\n"
   ]
  },
  {
   "cell_type": "markdown",
   "id": "stuffed-scottish",
   "metadata": {},
   "source": [
    "## main vars "
   ]
  },
  {
   "cell_type": "code",
   "execution_count": 42,
   "id": "stock-computer",
   "metadata": {},
   "outputs": [],
   "source": [
    "### sub_list ###\n",
    "\"\"\"\n",
    "\n",
    "========================================================\n",
    "===== ~~~ Summary ALL ~~~ ===== \n",
    "========================================================\n",
    "Initially exclude: sub-001, sub-003, sub-011, sub-012, sub-014, sub-015, sub-029 (3+ runs still available tho)\n",
    "Maybe exclude: sub-014, sub-024, sub-037 (No button presses)\n",
    "Maybe exclude: sub-020, sub-022, sub-031\n",
    "total exclude = 10\n",
    "\n",
    "\n",
    "~~~~~~~ BEHAVIORAL ~~~~~~~~~~\n",
    "~~~ Summary behavioral ~~~\n",
    "\n",
    "========================================================\n",
    "========================================================\n",
    "No button presses: sub-014, sub-024, sub-037 \n",
    "\n",
    "========================================================\n",
    "========================================================\n",
    "sub-003: Extra row observed for external, which was manually deleted. Should be fine to rerun -- i removed from bad_subs\n",
    "    - current brushing: 87, TRUE: 88 for THREE runs. last run when there was an issue and scan had to be restarted\n",
    "    - Scan 6 == 1 run of brushing\n",
    "    - Scan 7 = 3 runs of brushing \n",
    "    - ** no idea when run 7 was started tho! will prolly need to throw out! For now we can process all\n",
    "sub-014: NO internal OR external bpress, curious! ---should be fixed now\n",
    "    - changed excel data to include two null columns\n",
    "    - ALSO only 30 TRs for the second run epi data. i went into the room to adjust runny eyes. Data for this run is not usable. but after should\n",
    "      be okay if u want to put in the effort \n",
    "sub-015: less than 24 runs ---should be fixed now w custom code (but keep out of main run cuz will throw an error otherwise )\n",
    "    - SUMMARY: need to exclude the office run 3 for fMRI but can include run 3 in behavioral, no data at all for CAKE\n",
    "    - DID NOT add the 'mov_name' component to the custom code, will need to implment from current iteration\n",
    "    - **** Use external, ignore internal for now... cuz internal is fuqd. Can preprocess all 7 tho\n",
    "\n",
    "~~~~~~~ FMRI ~~~~~~~~~~\n",
    "~~~ Summary fMRI ~~~\n",
    "sub002: \n",
    " - appended two TRs onto the last run, copied from the third to last TR. should be good to use\n",
    "sub-003, sub-012, sub-014, sub-015, sub-029: \n",
    " - Five runs usable, will need to incorporate them at some point \n",
    "sub-001: external usable - first three runs \n",
    "\n",
    "========================================================\n",
    "========================================================\n",
    "subject 002: (usable, with adjustment)\n",
    "    only has 92 INSTEAD OF 94 TRs for the FINAL run of shrek. i think cuz i turned off the scanner\n",
    "    too soon, which didn't account for 4 TRs of buffer? Yep! end tr is 390, (388, 112179). so duplicate TRs maybe.\n",
    "    - Temporarily eliminate! or duplicate TRs \n",
    "    \n",
    "sub-003: (usable, 5 runs)\n",
    "- Scan 6 == 1 run of brushing\n",
    "- Scan 7 = 3 runs of brushing \n",
    "*** need to re-preprocess, then append 6 and 7 together; or just throw out this one cuz idk when scan started\n",
    "\n",
    "sub-011: (usable)\n",
    "- not preprocessed \n",
    "sub-012 (5 runs usable, one run idk)\n",
    "- I'll need to post process. It seems that an earbud fell out while reading the directions for run 5 \n",
    "summary: the fifth run  needs to be discarded. all others are usable.\n",
    "see the behav data: \n",
    "sub_dic['External']['oragami']\n",
    "{'run-1': {'start_tr': 94, 'end_tr': 188, 'bpress': -1},\n",
    " 'run-2': {'start_tr': 188, 'end_tr': 282, 'bpress': [100.81657150003593]},\n",
    " 'run-3': {'start_tr': 282, 'end_tr': 376, 'bpress': [88.26579949003644]},\n",
    " 'run-4': {'start_tr': 378,\n",
    "  'end_tr': 472,\n",
    "  }\n",
    "- you can see taht the start TR is 94!! that's becuz i had to go into the scan room during the instructions screen.\n",
    "- this is producing the wrong indexing -- becuz the scan doesn't contain enough TRs according to the behavioral data:\n",
    "    - run 4 of shrek only has 12 TRs because we start at TR 94.\n",
    "- im not sure when the scan actually started, but if i wanted to try to include i could \n",
    "    set the start TR to 1 -- essentially suggesting that the first TR was collected on the external 'waiting \n",
    "    for TR' flip. might as well try at some point, but exclude for now\n",
    "    - this would involve just subtracting 94 from all start end end TRs i think\n",
    "See the excel behavioral file for further notes notes\n",
    "this \n",
    "\n",
    "sub-014 - no button press data and 7 runs (5 runs usable, but no bpress)\n",
    "    - same problem as above -- i went into the scanner room during the instructions period to wipe eyes\n",
    "    {'run-1': {'start_tr': 237, 'end_tr': 323, 'bpress': -1},\n",
    "     'run-2': {'start_tr': 329, 'end_tr': 415, 'bpress': -1},\n",
    "     'run-3': {'start_tr': 417, 'end_tr': 503, 'bpress': -1},\n",
    "     'run-4': {'start_tr': 509, 'end_tr': 595, 'bpress': -1}}\n",
    "\n",
    "sub-029: (5 runs usable)\n",
    "- scanner malfunction, maybe possible to stitch together run 6 cuz i started on the *tenth* TR\n",
    "\n",
    "========================================================\n",
    "========================================================\n",
    "Left handed: (sub-020, sub-022, sub-032)\n",
    "    - sub-020: also no button presses, appeared to be awake tho\n",
    "    - sub-022: lefty\n",
    "    - sub-031: ambidexterious, great data\n",
    "========================================================\n",
    "========================================================\n",
    "\"\"\"\n",
    "\n",
    "## adjusted sublist \n",
    "sub_list = [\n",
    "    'sub-002', 'sub-004', 'sub-005','sub-006','sub-007','sub-008','sub-009','sub-010',\n",
    "    'sub-013','sub-016','sub-017','sub-018','sub-019','sub-020','sub-021',\n",
    "    'sub-022','sub-023','sub-024','sub-025','sub-026','sub-027','sub-028','sub-030','sub-031','sub-032',\n",
    "    'sub-033','sub-034','sub-035','sub-036','sub-037','sub-038','sub-039','sub-040'\n",
    "]\n",
    "#sub_list = ['sub-002', 'sub-003', 'sub-004', 'sub-005']\n",
    "\n",
    "###### LOADING VARS #######\n",
    "\n",
    "\n"
   ]
  },
  {
   "cell_type": "code",
   "execution_count": 7,
   "id": "demonstrated-receipt",
   "metadata": {},
   "outputs": [],
   "source": [
    "## TR length of each movie ## \n",
    "mov_len_dic = {\n",
    "'oragami' :  82,\n",
    "'shrek' : 90,\n",
    "'sherlock' : 98,\n",
    "'brushing' : 88,\n",
    "'cake' : 99,\n",
    "'office' : 102    \n",
    "}\n",
    "\n",
    "voxel_num = 112179"
   ]
  },
  {
   "cell_type": "code",
   "execution_count": 8,
   "id": "classified-klein",
   "metadata": {},
   "outputs": [],
   "source": [
    "## how many TRs on the end? ## \n",
    "tr_buffer = 4 \n",
    "\n",
    "## how many TRs at the beginning to trim? ## \n"
   ]
  },
  {
   "cell_type": "code",
   "execution_count": null,
   "id": "correct-cowboy",
   "metadata": {
    "scrolled": true
   },
   "outputs": [
    {
     "name": "stdout",
     "output_type": "stream",
     "text": [
      "start sub-002\n",
      "movie: shrek with shape (94, 112179, 0)\n",
      "stacked! (94, 112179, 1)\n",
      "stacked! (94, 112179, 2)\n",
      "stacked! (94, 112179, 3)\n",
      "stacked! (94, 112179, 4)\n",
      "movie: sherlock with shape (102, 112179, 0)\n",
      "stacked! (102, 112179, 1)\n",
      "stacked! (102, 112179, 2)\n",
      "stacked! (102, 112179, 3)\n",
      "stacked! (102, 112179, 4)\n",
      "movie: oragami with shape (86, 112179, 0)\n",
      "stacked! (86, 112179, 1)\n",
      "stacked! (86, 112179, 2)\n",
      "stacked! (86, 112179, 3)\n",
      "stacked! (86, 112179, 4)\n",
      "movie: office with shape (106, 112179, 0)\n",
      "stacked! (106, 112179, 1)\n",
      "stacked! (106, 112179, 2)\n",
      "stacked! (106, 112179, 3)\n",
      "stacked! (106, 112179, 4)\n",
      "movie: cake with shape (103, 112179, 0)\n",
      "stacked! (103, 112179, 1)\n",
      "stacked! (103, 112179, 2)\n",
      "stacked! (103, 112179, 3)\n",
      "stacked! (103, 112179, 4)\n",
      "movie: brushing with shape (92, 112179, 0)\n",
      "stacked! (92, 112179, 1)\n",
      "stacked! (92, 112179, 2)\n",
      "stacked! (92, 112179, 3)\n",
      "stacked! (92, 112179, 4)\n",
      "\n",
      " subject sub-002 finished \n",
      "\n",
      "start sub-004\n",
      "movie: cake with shape (103, 112179, 0)\n",
      "stacked! (103, 112179, 1)\n",
      "stacked! (103, 112179, 2)\n",
      "stacked! (103, 112179, 3)\n",
      "stacked! (103, 112179, 4)\n",
      "movie: brushing with shape (92, 112179, 0)\n",
      "stacked! (92, 112179, 1)\n",
      "stacked! (92, 112179, 2)\n",
      "stacked! (92, 112179, 3)\n",
      "stacked! (92, 112179, 4)\n",
      "movie: office with shape (106, 112179, 0)\n",
      "stacked! (106, 112179, 1)\n",
      "stacked! (106, 112179, 2)\n",
      "stacked! (106, 112179, 3)\n",
      "stacked! (106, 112179, 4)\n",
      "movie: shrek with shape (94, 112179, 0)\n",
      "stacked! (94, 112179, 1)\n",
      "stacked! (94, 112179, 2)\n",
      "stacked! (94, 112179, 3)\n",
      "stacked! (94, 112179, 4)\n",
      "movie: sherlock with shape (102, 112179, 0)\n",
      "stacked! (102, 112179, 1)\n",
      "stacked! (102, 112179, 2)\n",
      "stacked! (102, 112179, 3)\n",
      "stacked! (102, 112179, 4)\n",
      "movie: oragami with shape (86, 112179, 0)\n",
      "stacked! (86, 112179, 1)\n",
      "stacked! (86, 112179, 2)\n",
      "stacked! (86, 112179, 3)\n",
      "stacked! (86, 112179, 4)\n",
      "\n",
      " subject sub-004 finished \n",
      "\n",
      "start sub-005\n",
      "movie: cake with shape (103, 112179, 0)\n",
      "stacked! (103, 112179, 1)\n",
      "stacked! (103, 112179, 2)\n",
      "stacked! (103, 112179, 3)\n",
      "stacked! (103, 112179, 4)\n",
      "movie: office with shape (106, 112179, 0)\n",
      "stacked! (106, 112179, 1)\n",
      "stacked! (106, 112179, 2)\n",
      "stacked! (106, 112179, 3)\n",
      "stacked! (106, 112179, 4)\n",
      "movie: brushing with shape (92, 112179, 0)\n",
      "stacked! (92, 112179, 1)\n",
      "stacked! (92, 112179, 2)\n",
      "stacked! (92, 112179, 3)\n",
      "stacked! (92, 112179, 4)\n",
      "movie: oragami with shape (86, 112179, 0)\n",
      "stacked! (86, 112179, 1)\n",
      "stacked! (86, 112179, 2)\n",
      "stacked! (86, 112179, 3)\n",
      "stacked! (86, 112179, 4)\n",
      "movie: shrek with shape (94, 112179, 0)\n",
      "stacked! (94, 112179, 1)\n",
      "stacked! (94, 112179, 2)\n",
      "stacked! (94, 112179, 3)\n",
      "stacked! (94, 112179, 4)\n",
      "movie: sherlock with shape (102, 112179, 0)\n",
      "stacked! (102, 112179, 1)\n",
      "stacked! (102, 112179, 2)\n",
      "stacked! (102, 112179, 3)\n",
      "stacked! (102, 112179, 4)\n",
      "\n",
      " subject sub-005 finished \n",
      "\n",
      "start sub-006\n",
      "movie: oragami with shape (86, 112179, 0)\n",
      "stacked! (86, 112179, 1)\n",
      "stacked! (86, 112179, 2)\n",
      "stacked! (86, 112179, 3)\n",
      "stacked! (86, 112179, 4)\n",
      "movie: sherlock with shape (102, 112179, 0)\n",
      "stacked! (102, 112179, 1)\n",
      "stacked! (102, 112179, 2)\n",
      "stacked! (102, 112179, 3)\n",
      "stacked! (102, 112179, 4)\n",
      "movie: shrek with shape (94, 112179, 0)\n",
      "stacked! (94, 112179, 1)\n",
      "stacked! (94, 112179, 2)\n",
      "stacked! (94, 112179, 3)\n",
      "stacked! (94, 112179, 4)\n",
      "movie: cake with shape (103, 112179, 0)\n",
      "stacked! (103, 112179, 1)\n",
      "stacked! (103, 112179, 2)\n",
      "stacked! (103, 112179, 3)\n",
      "stacked! (103, 112179, 4)\n",
      "movie: office with shape (106, 112179, 0)\n",
      "stacked! (106, 112179, 1)\n",
      "stacked! (106, 112179, 2)\n",
      "stacked! (106, 112179, 3)\n",
      "stacked! (106, 112179, 4)\n",
      "movie: brushing with shape (92, 112179, 0)\n",
      "stacked! (92, 112179, 1)\n",
      "stacked! (92, 112179, 2)\n",
      "stacked! (92, 112179, 3)\n",
      "stacked! (92, 112179, 4)\n",
      "\n",
      " subject sub-006 finished \n",
      "\n",
      "start sub-007\n",
      "movie: sherlock with shape (102, 112179, 0)\n",
      "stacked! (102, 112179, 1)\n",
      "stacked! (102, 112179, 2)\n",
      "stacked! (102, 112179, 3)\n",
      "stacked! (102, 112179, 4)\n",
      "movie: oragami with shape (86, 112179, 0)\n",
      "stacked! (86, 112179, 1)\n",
      "stacked! (86, 112179, 2)\n",
      "stacked! (86, 112179, 3)\n",
      "stacked! (86, 112179, 4)\n",
      "movie: shrek with shape (94, 112179, 0)\n",
      "stacked! (94, 112179, 1)\n",
      "stacked! (94, 112179, 2)\n",
      "stacked! (94, 112179, 3)\n",
      "stacked! (94, 112179, 4)\n",
      "movie: brushing with shape (92, 112179, 0)\n",
      "stacked! (92, 112179, 1)\n",
      "stacked! (92, 112179, 2)\n",
      "stacked! (92, 112179, 3)\n",
      "stacked! (92, 112179, 4)\n",
      "movie: cake with shape (103, 112179, 0)\n",
      "stacked! (103, 112179, 1)\n",
      "stacked! (103, 112179, 2)\n",
      "stacked! (103, 112179, 3)\n",
      "stacked! (103, 112179, 4)\n",
      "movie: office with shape (106, 112179, 0)\n",
      "stacked! (106, 112179, 1)\n",
      "stacked! (106, 112179, 2)\n",
      "stacked! (106, 112179, 3)\n",
      "stacked! (106, 112179, 4)\n",
      "\n",
      " subject sub-007 finished \n",
      "\n",
      "start sub-008\n",
      "movie: brushing with shape (92, 112179, 0)\n",
      "stacked! (92, 112179, 1)\n",
      "stacked! (92, 112179, 2)\n",
      "stacked! (92, 112179, 3)\n",
      "stacked! (92, 112179, 4)\n",
      "movie: office with shape (106, 112179, 0)\n",
      "stacked! (106, 112179, 1)\n",
      "stacked! (106, 112179, 2)\n",
      "stacked! (106, 112179, 3)\n",
      "stacked! (106, 112179, 4)\n",
      "movie: cake with shape (103, 112179, 0)\n",
      "stacked! (103, 112179, 1)\n",
      "stacked! (103, 112179, 2)\n",
      "stacked! (103, 112179, 3)\n",
      "stacked! (103, 112179, 4)\n",
      "movie: shrek with shape (94, 112179, 0)\n",
      "stacked! (94, 112179, 1)\n",
      "stacked! (94, 112179, 2)\n",
      "stacked! (94, 112179, 3)\n",
      "stacked! (94, 112179, 4)\n",
      "movie: oragami with shape (86, 112179, 0)\n",
      "stacked! (86, 112179, 1)\n",
      "stacked! (86, 112179, 2)\n",
      "stacked! (86, 112179, 3)\n",
      "stacked! (86, 112179, 4)\n",
      "movie: sherlock with shape (102, 112179, 0)\n",
      "stacked! (102, 112179, 1)\n",
      "stacked! (102, 112179, 2)\n",
      "stacked! (102, 112179, 3)\n",
      "stacked! (102, 112179, 4)\n",
      "\n",
      " subject sub-008 finished \n",
      "\n",
      "start sub-009\n",
      "movie: cake with shape (103, 112179, 0)\n",
      "stacked! (103, 112179, 1)\n",
      "stacked! (103, 112179, 2)\n",
      "stacked! (103, 112179, 3)\n",
      "stacked! (103, 112179, 4)\n",
      "movie: office with shape (106, 112179, 0)\n",
      "stacked! (106, 112179, 1)\n",
      "stacked! (106, 112179, 2)\n",
      "stacked! (106, 112179, 3)\n",
      "stacked! (106, 112179, 4)\n",
      "movie: brushing with shape (92, 112179, 0)\n",
      "stacked! (92, 112179, 1)\n",
      "stacked! (92, 112179, 2)\n",
      "stacked! (92, 112179, 3)\n",
      "stacked! (92, 112179, 4)\n",
      "movie: shrek with shape (94, 112179, 0)\n",
      "stacked! (94, 112179, 1)\n",
      "stacked! (94, 112179, 2)\n",
      "stacked! (94, 112179, 3)\n",
      "stacked! (94, 112179, 4)\n",
      "movie: oragami with shape (86, 112179, 0)\n",
      "stacked! (86, 112179, 1)\n",
      "stacked! (86, 112179, 2)\n",
      "stacked! (86, 112179, 3)\n",
      "stacked! (86, 112179, 4)\n",
      "movie: sherlock with shape (102, 112179, 0)\n",
      "stacked! (102, 112179, 1)\n",
      "stacked! (102, 112179, 2)\n",
      "stacked! (102, 112179, 3)\n",
      "stacked! (102, 112179, 4)\n",
      "\n",
      " subject sub-009 finished \n",
      "\n",
      "start sub-010\n",
      "movie: shrek with shape (94, 112179, 0)\n",
      "stacked! (94, 112179, 1)\n",
      "stacked! (94, 112179, 2)\n",
      "stacked! (94, 112179, 3)\n",
      "stacked! (94, 112179, 4)\n",
      "movie: oragami with shape (86, 112179, 0)\n",
      "stacked! (86, 112179, 1)\n",
      "stacked! (86, 112179, 2)\n",
      "stacked! (86, 112179, 3)\n",
      "stacked! (86, 112179, 4)\n",
      "movie: sherlock with shape (102, 112179, 0)\n",
      "stacked! (102, 112179, 1)\n",
      "stacked! (102, 112179, 2)\n",
      "stacked! (102, 112179, 3)\n",
      "stacked! (102, 112179, 4)\n",
      "movie: office with shape (106, 112179, 0)\n",
      "stacked! (106, 112179, 1)\n",
      "stacked! (106, 112179, 2)\n",
      "stacked! (106, 112179, 3)\n",
      "stacked! (106, 112179, 4)\n",
      "movie: cake with shape (103, 112179, 0)\n",
      "stacked! (103, 112179, 1)\n",
      "stacked! (103, 112179, 2)\n",
      "stacked! (103, 112179, 3)\n",
      "stacked! (103, 112179, 4)\n",
      "movie: brushing with shape (92, 112179, 0)\n",
      "stacked! (92, 112179, 1)\n",
      "stacked! (92, 112179, 2)\n",
      "stacked! (92, 112179, 3)\n",
      "stacked! (92, 112179, 4)\n",
      "\n",
      " subject sub-010 finished \n",
      "\n",
      "start sub-013\n",
      "movie: cake with shape (103, 112179, 0)\n",
      "stacked! (103, 112179, 1)\n",
      "stacked! (103, 112179, 2)\n",
      "stacked! (103, 112179, 3)\n",
      "stacked! (103, 112179, 4)\n",
      "movie: brushing with shape (92, 112179, 0)\n",
      "stacked! (92, 112179, 1)\n",
      "stacked! (92, 112179, 2)\n",
      "stacked! (92, 112179, 3)\n",
      "stacked! (92, 112179, 4)\n",
      "movie: office with shape (106, 112179, 0)\n",
      "stacked! (106, 112179, 1)\n",
      "stacked! (106, 112179, 2)\n",
      "stacked! (106, 112179, 3)\n",
      "stacked! (106, 112179, 4)\n",
      "movie: oragami with shape (86, 112179, 0)\n",
      "stacked! (86, 112179, 1)\n",
      "stacked! (86, 112179, 2)\n",
      "stacked! (86, 112179, 3)\n",
      "stacked! (86, 112179, 4)\n",
      "movie: sherlock with shape (102, 112179, 0)\n",
      "stacked! (102, 112179, 1)\n",
      "stacked! (102, 112179, 2)\n",
      "stacked! (102, 112179, 3)\n",
      "stacked! (102, 112179, 4)\n",
      "movie: shrek with shape (94, 112179, 0)\n",
      "stacked! (94, 112179, 1)\n",
      "stacked! (94, 112179, 2)\n",
      "stacked! (94, 112179, 3)\n",
      "stacked! (94, 112179, 4)\n",
      "\n",
      " subject sub-013 finished \n",
      "\n",
      "start sub-016\n",
      "movie: cake with shape (103, 112179, 0)\n"
     ]
    },
    {
     "name": "stdout",
     "output_type": "stream",
     "text": [
      "stacked! (103, 112179, 1)\n",
      "stacked! (103, 112179, 2)\n",
      "stacked! (103, 112179, 3)\n",
      "stacked! (103, 112179, 4)\n",
      "movie: brushing with shape (92, 112179, 0)\n",
      "stacked! (92, 112179, 1)\n",
      "stacked! (92, 112179, 2)\n",
      "stacked! (92, 112179, 3)\n",
      "stacked! (92, 112179, 4)\n",
      "movie: office with shape (106, 112179, 0)\n",
      "stacked! (106, 112179, 1)\n",
      "stacked! (106, 112179, 2)\n",
      "stacked! (106, 112179, 3)\n",
      "stacked! (106, 112179, 4)\n",
      "movie: shrek with shape (94, 112179, 0)\n",
      "stacked! (94, 112179, 1)\n",
      "stacked! (94, 112179, 2)\n",
      "stacked! (94, 112179, 3)\n",
      "stacked! (94, 112179, 4)\n",
      "movie: oragami with shape (86, 112179, 0)\n",
      "stacked! (86, 112179, 1)\n",
      "stacked! (86, 112179, 2)\n",
      "stacked! (86, 112179, 3)\n",
      "stacked! (86, 112179, 4)\n",
      "movie: sherlock with shape (102, 112179, 0)\n",
      "stacked! (102, 112179, 1)\n",
      "stacked! (102, 112179, 2)\n",
      "stacked! (102, 112179, 3)\n",
      "stacked! (102, 112179, 4)\n",
      "\n",
      " subject sub-016 finished \n",
      "\n",
      "start sub-017\n",
      "movie: cake with shape (103, 112179, 0)\n",
      "stacked! (103, 112179, 1)\n",
      "stacked! (103, 112179, 2)\n",
      "stacked! (103, 112179, 3)\n",
      "stacked! (103, 112179, 4)\n",
      "movie: office with shape (106, 112179, 0)\n",
      "stacked! (106, 112179, 1)\n",
      "stacked! (106, 112179, 2)\n",
      "stacked! (106, 112179, 3)\n",
      "stacked! (106, 112179, 4)\n",
      "movie: brushing with shape (92, 112179, 0)\n",
      "stacked! (92, 112179, 1)\n",
      "stacked! (92, 112179, 2)\n",
      "stacked! (92, 112179, 3)\n",
      "stacked! (92, 112179, 4)\n",
      "movie: oragami with shape (86, 112179, 0)\n",
      "stacked! (86, 112179, 1)\n",
      "stacked! (86, 112179, 2)\n",
      "stacked! (86, 112179, 3)\n",
      "stacked! (86, 112179, 4)\n",
      "movie: shrek with shape (94, 112179, 0)\n",
      "stacked! (94, 112179, 1)\n",
      "stacked! (94, 112179, 2)\n",
      "stacked! (94, 112179, 3)\n",
      "stacked! (94, 112179, 4)\n",
      "movie: sherlock with shape (102, 112179, 0)\n",
      "stacked! (102, 112179, 1)\n",
      "stacked! (102, 112179, 2)\n",
      "stacked! (102, 112179, 3)\n",
      "stacked! (102, 112179, 4)\n",
      "\n",
      " subject sub-017 finished \n",
      "\n",
      "start sub-018\n",
      "movie: sherlock with shape (102, 112179, 0)\n",
      "stacked! (102, 112179, 1)\n",
      "stacked! (102, 112179, 2)\n",
      "stacked! (102, 112179, 3)\n",
      "stacked! (102, 112179, 4)\n",
      "movie: oragami with shape (86, 112179, 0)\n",
      "stacked! (86, 112179, 1)\n",
      "stacked! (86, 112179, 2)\n",
      "stacked! (86, 112179, 3)\n",
      "stacked! (86, 112179, 4)\n",
      "movie: shrek with shape (94, 112179, 0)\n",
      "stacked! (94, 112179, 1)\n",
      "stacked! (94, 112179, 2)\n",
      "stacked! (94, 112179, 3)\n",
      "stacked! (94, 112179, 4)\n",
      "movie: brushing with shape (92, 112179, 0)\n",
      "stacked! (92, 112179, 1)\n",
      "stacked! (92, 112179, 2)\n",
      "stacked! (92, 112179, 3)\n",
      "stacked! (92, 112179, 4)\n",
      "movie: office with shape (106, 112179, 0)\n",
      "stacked! (106, 112179, 1)\n",
      "stacked! (106, 112179, 2)\n",
      "stacked! (106, 112179, 3)\n",
      "stacked! (106, 112179, 4)\n",
      "movie: cake with shape (103, 112179, 0)\n",
      "stacked! (103, 112179, 1)\n",
      "stacked! (103, 112179, 2)\n",
      "stacked! (103, 112179, 3)\n",
      "stacked! (103, 112179, 4)\n",
      "\n",
      " subject sub-018 finished \n",
      "\n",
      "start sub-019\n",
      "movie: sherlock with shape (102, 112179, 0)\n",
      "stacked! (102, 112179, 1)\n",
      "stacked! (102, 112179, 2)\n",
      "stacked! (102, 112179, 3)\n",
      "stacked! (102, 112179, 4)\n",
      "movie: shrek with shape (94, 112179, 0)\n",
      "stacked! (94, 112179, 1)\n",
      "stacked! (94, 112179, 2)\n",
      "stacked! (94, 112179, 3)\n",
      "stacked! (94, 112179, 4)\n",
      "movie: oragami with shape (86, 112179, 0)\n",
      "stacked! (86, 112179, 1)\n",
      "stacked! (86, 112179, 2)\n",
      "stacked! (86, 112179, 3)\n",
      "stacked! (86, 112179, 4)\n",
      "movie: brushing with shape (92, 112179, 0)\n",
      "stacked! (92, 112179, 1)\n",
      "stacked! (92, 112179, 2)\n",
      "stacked! (92, 112179, 3)\n",
      "stacked! (92, 112179, 4)\n",
      "movie: cake with shape (103, 112179, 0)\n",
      "stacked! (103, 112179, 1)\n",
      "stacked! (103, 112179, 2)\n",
      "stacked! (103, 112179, 3)\n",
      "stacked! (103, 112179, 4)\n",
      "movie: office with shape (106, 112179, 0)\n",
      "stacked! (106, 112179, 1)\n",
      "stacked! (106, 112179, 2)\n",
      "stacked! (106, 112179, 3)\n",
      "stacked! (106, 112179, 4)\n",
      "\n",
      " subject sub-019 finished \n",
      "\n",
      "start sub-020\n",
      "movie: office with shape (106, 112179, 0)\n",
      "stacked! (106, 112179, 1)\n",
      "stacked! (106, 112179, 2)\n",
      "stacked! (106, 112179, 3)\n",
      "stacked! (106, 112179, 4)\n",
      "movie: cake with shape (103, 112179, 0)\n",
      "stacked! (103, 112179, 1)\n",
      "stacked! (103, 112179, 2)\n",
      "stacked! (103, 112179, 3)\n",
      "stacked! (103, 112179, 4)\n",
      "movie: brushing with shape (92, 112179, 0)\n",
      "stacked! (92, 112179, 1)\n",
      "stacked! (92, 112179, 2)\n",
      "stacked! (92, 112179, 3)\n",
      "stacked! (92, 112179, 4)\n",
      "movie: shrek with shape (94, 112179, 0)\n",
      "stacked! (94, 112179, 1)\n",
      "stacked! (94, 112179, 2)\n",
      "stacked! (94, 112179, 3)\n",
      "stacked! (94, 112179, 4)\n",
      "movie: oragami with shape (86, 112179, 0)\n",
      "stacked! (86, 112179, 1)\n",
      "stacked! (86, 112179, 2)\n",
      "stacked! (86, 112179, 3)\n",
      "stacked! (86, 112179, 4)\n",
      "movie: sherlock with shape (102, 112179, 0)\n",
      "stacked! (102, 112179, 1)\n",
      "stacked! (102, 112179, 2)\n",
      "stacked! (102, 112179, 3)\n",
      "stacked! (102, 112179, 4)\n",
      "\n",
      " subject sub-020 finished \n",
      "\n",
      "start sub-021\n",
      "movie: cake with shape (103, 112179, 0)\n",
      "stacked! (103, 112179, 1)\n",
      "stacked! (103, 112179, 2)\n",
      "stacked! (103, 112179, 3)\n",
      "stacked! (103, 112179, 4)\n",
      "movie: office with shape (106, 112179, 0)\n",
      "stacked! (106, 112179, 1)\n",
      "stacked! (106, 112179, 2)\n",
      "stacked! (106, 112179, 3)\n",
      "stacked! (106, 112179, 4)\n",
      "movie: brushing with shape (92, 112179, 0)\n",
      "stacked! (92, 112179, 1)\n",
      "stacked! (92, 112179, 2)\n",
      "stacked! (92, 112179, 3)\n",
      "stacked! (92, 112179, 4)\n",
      "movie: oragami with shape (86, 112179, 0)\n",
      "stacked! (86, 112179, 1)\n",
      "stacked! (86, 112179, 2)\n",
      "stacked! (86, 112179, 3)\n",
      "stacked! (86, 112179, 4)\n",
      "movie: shrek with shape (94, 112179, 0)\n",
      "stacked! (94, 112179, 1)\n",
      "stacked! (94, 112179, 2)\n",
      "stacked! (94, 112179, 3)\n",
      "stacked! (94, 112179, 4)\n",
      "movie: sherlock with shape (102, 112179, 0)\n",
      "stacked! (102, 112179, 1)\n",
      "stacked! (102, 112179, 2)\n",
      "stacked! (102, 112179, 3)\n",
      "stacked! (102, 112179, 4)\n",
      "\n",
      " subject sub-021 finished \n",
      "\n",
      "start sub-022\n",
      "movie: sherlock with shape (102, 112179, 0)\n",
      "stacked! (102, 112179, 1)\n",
      "stacked! (102, 112179, 2)\n",
      "stacked! (102, 112179, 3)\n",
      "stacked! (102, 112179, 4)\n",
      "movie: shrek with shape (94, 112179, 0)\n",
      "stacked! (94, 112179, 1)\n",
      "stacked! (94, 112179, 2)\n",
      "stacked! (94, 112179, 3)\n",
      "stacked! (94, 112179, 4)\n",
      "movie: oragami with shape (86, 112179, 0)\n",
      "stacked! (86, 112179, 1)\n",
      "stacked! (86, 112179, 2)\n",
      "stacked! (86, 112179, 3)\n",
      "stacked! (86, 112179, 4)\n",
      "movie: office with shape (106, 112179, 0)\n",
      "stacked! (106, 112179, 1)\n",
      "stacked! (106, 112179, 2)\n",
      "stacked! (106, 112179, 3)\n",
      "stacked! (106, 112179, 4)\n",
      "movie: brushing with shape (92, 112179, 0)\n",
      "stacked! (92, 112179, 1)\n",
      "stacked! (92, 112179, 2)\n",
      "stacked! (92, 112179, 3)\n",
      "stacked! (92, 112179, 4)\n",
      "movie: cake with shape (103, 112179, 0)\n",
      "stacked! (103, 112179, 1)\n",
      "stacked! (103, 112179, 2)\n",
      "stacked! (103, 112179, 3)\n",
      "stacked! (103, 112179, 4)\n",
      "\n",
      " subject sub-022 finished \n",
      "\n",
      "start sub-023\n",
      "movie: sherlock with shape (102, 112179, 0)\n",
      "stacked! (102, 112179, 1)\n",
      "stacked! (102, 112179, 2)\n",
      "stacked! (102, 112179, 3)\n",
      "stacked! (102, 112179, 4)\n",
      "movie: oragami with shape (86, 112179, 0)\n",
      "stacked! (86, 112179, 1)\n",
      "stacked! (86, 112179, 2)\n",
      "stacked! (86, 112179, 3)\n",
      "stacked! (86, 112179, 4)\n",
      "movie: shrek with shape (94, 112179, 0)\n",
      "stacked! (94, 112179, 1)\n",
      "stacked! (94, 112179, 2)\n",
      "stacked! (94, 112179, 3)\n",
      "stacked! (94, 112179, 4)\n",
      "movie: cake with shape (103, 112179, 0)\n",
      "stacked! (103, 112179, 1)\n",
      "stacked! (103, 112179, 2)\n",
      "stacked! (103, 112179, 3)\n",
      "stacked! (103, 112179, 4)\n",
      "movie: brushing with shape (92, 112179, 0)\n",
      "stacked! (92, 112179, 1)\n",
      "stacked! (92, 112179, 2)\n",
      "stacked! (92, 112179, 3)\n",
      "stacked! (92, 112179, 4)\n",
      "movie: office with shape (106, 112179, 0)\n",
      "stacked! (106, 112179, 1)\n",
      "stacked! (106, 112179, 2)\n",
      "stacked! (106, 112179, 3)\n",
      "stacked! (106, 112179, 4)\n",
      "\n",
      " subject sub-023 finished \n",
      "\n",
      "start sub-024\n",
      "movie: cake with shape (103, 112179, 0)\n",
      "stacked! (103, 112179, 1)\n",
      "stacked! (103, 112179, 2)\n",
      "stacked! (103, 112179, 3)\n",
      "stacked! (103, 112179, 4)\n",
      "movie: brushing with shape (92, 112179, 0)\n",
      "stacked! (92, 112179, 1)\n",
      "stacked! (92, 112179, 2)\n",
      "stacked! (92, 112179, 3)\n",
      "stacked! (92, 112179, 4)\n",
      "movie: office with shape (106, 112179, 0)\n",
      "stacked! (106, 112179, 1)\n",
      "stacked! (106, 112179, 2)\n",
      "stacked! (106, 112179, 3)\n",
      "stacked! (106, 112179, 4)\n",
      "movie: sherlock with shape (102, 112179, 0)\n",
      "stacked! (102, 112179, 1)\n",
      "stacked! (102, 112179, 2)\n",
      "stacked! (102, 112179, 3)\n",
      "stacked! (102, 112179, 4)\n",
      "movie: oragami with shape (86, 112179, 0)\n",
      "stacked! (86, 112179, 1)\n",
      "stacked! (86, 112179, 2)\n",
      "stacked! (86, 112179, 3)\n",
      "stacked! (86, 112179, 4)\n",
      "movie: shrek with shape (94, 112179, 0)\n",
      "stacked! (94, 112179, 1)\n",
      "stacked! (94, 112179, 2)\n",
      "stacked! (94, 112179, 3)\n",
      "stacked! (94, 112179, 4)\n",
      "\n",
      " subject sub-024 finished \n",
      "\n",
      "start sub-025\n",
      "movie: brushing with shape (92, 112179, 0)\n",
      "stacked! (92, 112179, 1)\n",
      "stacked! (92, 112179, 2)\n"
     ]
    },
    {
     "name": "stdout",
     "output_type": "stream",
     "text": [
      "stacked! (92, 112179, 3)\n",
      "stacked! (92, 112179, 4)\n",
      "movie: cake with shape (103, 112179, 0)\n",
      "stacked! (103, 112179, 1)\n",
      "stacked! (103, 112179, 2)\n",
      "stacked! (103, 112179, 3)\n",
      "stacked! (103, 112179, 4)\n",
      "movie: office with shape (106, 112179, 0)\n",
      "stacked! (106, 112179, 1)\n",
      "stacked! (106, 112179, 2)\n",
      "stacked! (106, 112179, 3)\n",
      "stacked! (106, 112179, 4)\n",
      "movie: oragami with shape (86, 112179, 0)\n",
      "stacked! (86, 112179, 1)\n",
      "stacked! (86, 112179, 2)\n",
      "stacked! (86, 112179, 3)\n",
      "stacked! (86, 112179, 4)\n",
      "movie: sherlock with shape (102, 112179, 0)\n",
      "stacked! (102, 112179, 1)\n",
      "stacked! (102, 112179, 2)\n",
      "stacked! (102, 112179, 3)\n",
      "stacked! (102, 112179, 4)\n",
      "movie: shrek with shape (94, 112179, 0)\n",
      "stacked! (94, 112179, 1)\n",
      "stacked! (94, 112179, 2)\n",
      "stacked! (94, 112179, 3)\n",
      "stacked! (94, 112179, 4)\n",
      "\n",
      " subject sub-025 finished \n",
      "\n",
      "start sub-026\n",
      "movie: sherlock with shape (102, 112179, 0)\n",
      "stacked! (102, 112179, 1)\n",
      "stacked! (102, 112179, 2)\n",
      "stacked! (102, 112179, 3)\n",
      "stacked! (102, 112179, 4)\n",
      "movie: shrek with shape (94, 112179, 0)\n",
      "stacked! (94, 112179, 1)\n",
      "stacked! (94, 112179, 2)\n",
      "stacked! (94, 112179, 3)\n",
      "stacked! (94, 112179, 4)\n",
      "movie: oragami with shape (86, 112179, 0)\n",
      "stacked! (86, 112179, 1)\n",
      "stacked! (86, 112179, 2)\n",
      "stacked! (86, 112179, 3)\n",
      "stacked! (86, 112179, 4)\n",
      "movie: cake with shape (103, 112179, 0)\n",
      "stacked! (103, 112179, 1)\n",
      "stacked! (103, 112179, 2)\n",
      "stacked! (103, 112179, 3)\n",
      "stacked! (103, 112179, 4)\n",
      "movie: brushing with shape (92, 112179, 0)\n",
      "stacked! (92, 112179, 1)\n",
      "stacked! (92, 112179, 2)\n",
      "stacked! (92, 112179, 3)\n",
      "stacked! (92, 112179, 4)\n",
      "movie: office with shape (106, 112179, 0)\n",
      "stacked! (106, 112179, 1)\n",
      "stacked! (106, 112179, 2)\n",
      "stacked! (106, 112179, 3)\n",
      "stacked! (106, 112179, 4)\n",
      "\n",
      " subject sub-026 finished \n",
      "\n",
      "start sub-027\n",
      "movie: oragami with shape (86, 112179, 0)\n",
      "stacked! (86, 112179, 1)\n",
      "stacked! (86, 112179, 2)\n",
      "stacked! (86, 112179, 3)\n",
      "stacked! (86, 112179, 4)\n",
      "movie: sherlock with shape (102, 112179, 0)\n",
      "stacked! (102, 112179, 1)\n",
      "stacked! (102, 112179, 2)\n",
      "stacked! (102, 112179, 3)\n",
      "stacked! (102, 112179, 4)\n",
      "movie: shrek with shape (94, 112179, 0)\n",
      "stacked! (94, 112179, 1)\n",
      "stacked! (94, 112179, 2)\n",
      "stacked! (94, 112179, 3)\n",
      "stacked! (94, 112179, 4)\n",
      "movie: cake with shape (103, 112179, 0)\n",
      "stacked! (103, 112179, 1)\n",
      "stacked! (103, 112179, 2)\n",
      "stacked! (103, 112179, 3)\n",
      "stacked! (103, 112179, 4)\n",
      "movie: office with shape (106, 112179, 0)\n",
      "stacked! (106, 112179, 1)\n",
      "stacked! (106, 112179, 2)\n",
      "stacked! (106, 112179, 3)\n",
      "stacked! (106, 112179, 4)\n",
      "movie: brushing with shape (92, 112179, 0)\n",
      "stacked! (92, 112179, 1)\n",
      "stacked! (92, 112179, 2)\n",
      "stacked! (92, 112179, 3)\n",
      "stacked! (92, 112179, 4)\n",
      "\n",
      " subject sub-027 finished \n",
      "\n",
      "start sub-028\n",
      "movie: brushing with shape (92, 112179, 0)\n",
      "stacked! (92, 112179, 1)\n",
      "stacked! (92, 112179, 2)\n",
      "stacked! (92, 112179, 3)\n",
      "stacked! (92, 112179, 4)\n",
      "movie: cake with shape (103, 112179, 0)\n",
      "stacked! (103, 112179, 1)\n",
      "stacked! (103, 112179, 2)\n",
      "stacked! (103, 112179, 3)\n",
      "stacked! (103, 112179, 4)\n",
      "movie: office with shape (106, 112179, 0)\n",
      "stacked! (106, 112179, 1)\n",
      "stacked! (106, 112179, 2)\n",
      "stacked! (106, 112179, 3)\n",
      "stacked! (106, 112179, 4)\n",
      "movie: shrek with shape (94, 112179, 0)\n",
      "stacked! (94, 112179, 1)\n",
      "stacked! (94, 112179, 2)\n",
      "stacked! (94, 112179, 3)\n",
      "stacked! (94, 112179, 4)\n",
      "movie: sherlock with shape (102, 112179, 0)\n",
      "stacked! (102, 112179, 1)\n",
      "stacked! (102, 112179, 2)\n",
      "stacked! (102, 112179, 3)\n",
      "stacked! (102, 112179, 4)\n",
      "movie: oragami with shape (86, 112179, 0)\n",
      "stacked! (86, 112179, 1)\n",
      "stacked! (86, 112179, 2)\n",
      "stacked! (86, 112179, 3)\n",
      "stacked! (86, 112179, 4)\n",
      "\n",
      " subject sub-028 finished \n",
      "\n",
      "start sub-030\n",
      "movie: oragami with shape (86, 112179, 0)\n",
      "stacked! (86, 112179, 1)\n",
      "stacked! (86, 112179, 2)\n",
      "stacked! (86, 112179, 3)\n",
      "stacked! (86, 112179, 4)\n",
      "movie: sherlock with shape (102, 112179, 0)\n",
      "stacked! (102, 112179, 1)\n",
      "stacked! (102, 112179, 2)\n",
      "stacked! (102, 112179, 3)\n",
      "stacked! (102, 112179, 4)\n",
      "movie: shrek with shape (94, 112179, 0)\n",
      "stacked! (94, 112179, 1)\n",
      "stacked! (94, 112179, 2)\n",
      "stacked! (94, 112179, 3)\n",
      "stacked! (94, 112179, 4)\n",
      "movie: brushing with shape (92, 112179, 0)\n",
      "stacked! (92, 112179, 1)\n",
      "stacked! (92, 112179, 2)\n",
      "stacked! (92, 112179, 3)\n",
      "stacked! (92, 112179, 4)\n",
      "movie: cake with shape (103, 112179, 0)\n",
      "stacked! (103, 112179, 1)\n",
      "stacked! (103, 112179, 2)\n",
      "stacked! (103, 112179, 3)\n",
      "stacked! (103, 112179, 4)\n",
      "movie: office with shape (106, 112179, 0)\n",
      "stacked! (106, 112179, 1)\n",
      "stacked! (106, 112179, 2)\n",
      "stacked! (106, 112179, 3)\n",
      "stacked! (106, 112179, 4)\n",
      "\n",
      " subject sub-030 finished \n",
      "\n",
      "start sub-031\n",
      "movie: sherlock with shape (102, 112179, 0)\n",
      "stacked! (102, 112179, 1)\n",
      "stacked! (102, 112179, 2)\n",
      "stacked! (102, 112179, 3)\n",
      "stacked! (102, 112179, 4)\n",
      "movie: oragami with shape (86, 112179, 0)\n",
      "stacked! (86, 112179, 1)\n",
      "stacked! (86, 112179, 2)\n",
      "stacked! (86, 112179, 3)\n",
      "stacked! (86, 112179, 4)\n",
      "movie: shrek with shape (94, 112179, 0)\n",
      "stacked! (94, 112179, 1)\n",
      "stacked! (94, 112179, 2)\n",
      "stacked! (94, 112179, 3)\n",
      "stacked! (94, 112179, 4)\n",
      "movie: office with shape (106, 112179, 0)\n",
      "stacked! (106, 112179, 1)\n",
      "stacked! (106, 112179, 2)\n",
      "stacked! (106, 112179, 3)\n",
      "stacked! (106, 112179, 4)\n",
      "movie: brushing with shape (92, 112179, 0)\n",
      "stacked! (92, 112179, 1)\n",
      "stacked! (92, 112179, 2)\n",
      "stacked! (92, 112179, 3)\n",
      "stacked! (92, 112179, 4)\n",
      "movie: cake with shape (103, 112179, 0)\n",
      "stacked! (103, 112179, 1)\n",
      "stacked! (103, 112179, 2)\n",
      "stacked! (103, 112179, 3)\n",
      "stacked! (103, 112179, 4)\n",
      "\n",
      " subject sub-031 finished \n",
      "\n",
      "start sub-032\n",
      "movie: cake with shape (103, 112179, 0)\n",
      "stacked! (103, 112179, 1)\n",
      "stacked! (103, 112179, 2)\n",
      "stacked! (103, 112179, 3)\n",
      "stacked! (103, 112179, 4)\n"
     ]
    }
   ],
   "source": [
    "external = {}\n",
    "internal = {}\n",
    "\n",
    "for sub in sub_list:\n",
    "    ### fMRI load ###\n",
    "    sub_dic_fmri = np.load(f'{preproc_dir}/{sub}_fwhm6_conf.npy', allow_pickle=True).item()\n",
    "    print(f'start {sub}')\n",
    "    ## BEHAVIORAL ##\n",
    "    sub_dic_behav = np.load(os.path.join(behav_dir, f'{sub}_behav.npy'), allow_pickle=True).item()\n",
    "\n",
    "    # Initialize an empty dictionary to store the stacked arrays for the current subject\n",
    "    stacked_arrays = {}\n",
    "    \n",
    "    # Create subject number \n",
    "    sub_num = int(sub[-3:])\n",
    "\n",
    "    for epi_index in range(0, 6):\n",
    "        # Add one to the index to create 1-6 runs\n",
    "        epi_run = epi_index + 1\n",
    "\n",
    "        # Get the movie name\n",
    "        mov_name = sub_dic_behav['mov_order'][epi_index]\n",
    "\n",
    "        # Create an empty array for the movie runs\n",
    "        mov_runs = np.zeros((mov_len_dic[mov_name] + tr_buffer, voxel_num, 0))\n",
    "\n",
    "        print(f'movie: {mov_name} with shape {mov_runs.shape}')\n",
    "\n",
    "        # Get the fMRI run for the current epi_index\n",
    "        fmri_run = sub_dic_fmri[epi_run]\n",
    "        \n",
    "        # Loop over runs\n",
    "        for run in range(1, 5):\n",
    "            # Is this an internal or external run?\n",
    "            key = 'External' if (sub_num % 2 == 1 and epi_index < 3) or (sub_num % 2 == 0 and epi_index >= 3) else 'Internal'\n",
    "            \n",
    "            # Begin slicing #\n",
    "            start_tr = sub_dic_behav[key][mov_name][f'run-{run:d}']['start_tr']\n",
    "            end_tr = sub_dic_behav[key][mov_name][f'run-{run:d}']['end_tr']\n",
    "            run_slice = fmri_run[start_tr:end_tr, :]\n",
    "            \n",
    "            # BEHAV checks #\n",
    "            assert mov_runs.shape[0] == mov_len_dic[mov_name] + tr_buffer, f'behavioral ERROR: movie: {mov_name}, epi {epi_run}, run: {run}'\n",
    "\n",
    "            # fMRI data check #\n",
    "            assert run_slice.shape[0] == mov_runs.shape[0], f'fMRI error! {run_slice.shape[0]} verse {mov_runs.shape[0]}'\n",
    "        \n",
    "            # Stack the run slice with the mov_runs array\n",
    "            mov_runs = np.dstack((mov_runs, run_slice))\n",
    "            print(f'stacked! {mov_runs.shape}')\n",
    "\n",
    "        # Add an additional dimension for subject stacking\n",
    "        #mov_runs = np.expand_dims(mov_runs, 3)\n",
    "        \n",
    "        # Stack the mov_runs array with the external[mov_name] array\n",
    "        #stacked_arrays[mov_name] = mov_runs\n",
    "        \n",
    "        # set outer loop #\n",
    "        if key == 'External':\n",
    "            target_dict = external\n",
    "        else:\n",
    "            target_dict = internal\n",
    "\n",
    "        if mov_name not in target_dict:\n",
    "            target_dict[mov_name] = mov_runs\n",
    "        else:\n",
    "            #mov_runs = np.expand_dims(mov_runs, 3)\n",
    "            target_dict[mov_name] = np.dstack((target_dict[mov_name], mov_runs))\n",
    "    print(f'\\n subject {sub} finished \\n')\n",
    "\n",
    "            \n",
    "print('done')\n",
    "            \n",
    "            \n",
    "            \n",
    "            \n",
    "            \n",
    "            "
   ]
  },
  {
   "cell_type": "markdown",
   "id": "celtic-aluminum",
   "metadata": {},
   "source": [
    "# Reshape Dictionary"
   ]
  },
  {
   "cell_type": "code",
   "execution_count": null,
   "id": "broad-struggle",
   "metadata": {},
   "outputs": [],
   "source": [
    "# .transpose(0, 1, 3, 2)"
   ]
  },
  {
   "cell_type": "code",
   "execution_count": null,
   "id": "artificial-perception",
   "metadata": {},
   "outputs": [],
   "source": [
    "def reshape_dictionary(data, num_repeats = 4):\n",
    "    \"\"\"\n",
    "    purpose: create a 4d array sorted into x runs per subject\n",
    "    input: dictionary of stacked subject data \n",
    "    output: 4d array sorted into runs\n",
    "    \"\"\"\n",
    "    output_dict = {}\n",
    "    for mov in data:\n",
    "        print(f'{mov} size is {data[mov].shape}')\n",
    "        dim_3 = num_repeats\n",
    "        dim_4 = int(data[mov].shape[2] / num_repeats)\n",
    "        \n",
    "        if key not in output_dict:\n",
    "            output_dict[mov] = data[mov].reshape(*data[mov].shape[:-1], dim_3, dim_4, order = 'F')\n",
    "        \n",
    "        #print(np.array_equal(data[mov][:, :, 1], output_dict[mov][:, :, 0, 1]))\n",
    "        #print(np.array_equal(data[mov][:, :, 17], output_dict[mov][:, :, 1, 0]))\n",
    "        print(np.array_equal(data[mov][:, :, 4], output_dict[mov][:, :, 0, 1]))\n",
    "        print(f'reshaped {output_dict[mov].shape}')\n",
    "    print()\n",
    "    return output_dict\n",
    "\n",
    "    "
   ]
  },
  {
   "cell_type": "code",
   "execution_count": 9,
   "id": "exposed-uzbekistan",
   "metadata": {},
   "outputs": [
    {
     "ename": "NameError",
     "evalue": "name 'reshape_dictionary' is not defined",
     "output_type": "error",
     "traceback": [
      "\u001b[0;31m---------------------------------------------------------------------------\u001b[0m",
      "\u001b[0;31mNameError\u001b[0m                                 Traceback (most recent call last)",
      "\u001b[0;32m<ipython-input-9-c78e2e15f0dc>\u001b[0m in \u001b[0;36m<module>\u001b[0;34m\u001b[0m\n\u001b[0;32m----> 1\u001b[0;31m \u001b[0mext_isc\u001b[0m \u001b[0;34m=\u001b[0m \u001b[0mreshape_dictionary\u001b[0m\u001b[0;34m(\u001b[0m\u001b[0mexternal\u001b[0m\u001b[0;34m)\u001b[0m\u001b[0;34m\u001b[0m\u001b[0;34m\u001b[0m\u001b[0m\n\u001b[0m\u001b[1;32m      2\u001b[0m \u001b[0mint_isc\u001b[0m \u001b[0;34m=\u001b[0m \u001b[0mreshape_dictionary\u001b[0m\u001b[0;34m(\u001b[0m\u001b[0minternal\u001b[0m\u001b[0;34m)\u001b[0m\u001b[0;34m\u001b[0m\u001b[0;34m\u001b[0m\u001b[0m\n",
      "\u001b[0;31mNameError\u001b[0m: name 'reshape_dictionary' is not defined"
     ]
    }
   ],
   "source": [
    "ext_isc = reshape_dictionary(external)\n",
    "int_isc = reshape_dictionary(internal)"
   ]
  },
  {
   "cell_type": "code",
   "execution_count": 136,
   "id": "charming-caribbean",
   "metadata": {
    "collapsed": true
   },
   "outputs": [
    {
     "ename": "KeyboardInterrupt",
     "evalue": "",
     "output_type": "error",
     "traceback": [
      "\u001b[0;31m---------------------------------------------------------------------------\u001b[0m",
      "\u001b[0;31mKeyboardInterrupt\u001b[0m                         Traceback (most recent call last)",
      "\u001b[0;32m<ipython-input-136-b782acd5f25d>\u001b[0m in \u001b[0;36m<module>\u001b[0;34m\u001b[0m\n\u001b[0;32m----> 1\u001b[0;31m \u001b[0mnp\u001b[0m\u001b[0;34m.\u001b[0m\u001b[0msavez_compressed\u001b[0m\u001b[0;34m(\u001b[0m\u001b[0;34mf'{isc_dir}/int_isc.npz'\u001b[0m\u001b[0;34m,\u001b[0m \u001b[0;34m**\u001b[0m\u001b[0mint_isc\u001b[0m\u001b[0;34m)\u001b[0m\u001b[0;34m\u001b[0m\u001b[0;34m\u001b[0m\u001b[0m\n\u001b[0m\u001b[1;32m      2\u001b[0m \u001b[0mnp\u001b[0m\u001b[0;34m.\u001b[0m\u001b[0msavez_compressed\u001b[0m\u001b[0;34m(\u001b[0m\u001b[0;34mf'{isc_dir}/ext_isc.npz'\u001b[0m\u001b[0;34m,\u001b[0m \u001b[0;34m**\u001b[0m\u001b[0mext_isc\u001b[0m\u001b[0;34m)\u001b[0m\u001b[0;34m\u001b[0m\u001b[0;34m\u001b[0m\u001b[0m\n",
      "\u001b[0;32m<__array_function__ internals>\u001b[0m in \u001b[0;36msavez_compressed\u001b[0;34m(*args, **kwargs)\u001b[0m\n",
      "\u001b[0;32m/jukebox/pkgs/PYGER/base/envs/0.11.0/lib/python3.7/site-packages/numpy/lib/npyio.py\u001b[0m in \u001b[0;36msavez_compressed\u001b[0;34m(file, *args, **kwds)\u001b[0m\n\u001b[1;32m    684\u001b[0m \u001b[0;34m\u001b[0m\u001b[0m\n\u001b[1;32m    685\u001b[0m     \"\"\"\n\u001b[0;32m--> 686\u001b[0;31m     \u001b[0m_savez\u001b[0m\u001b[0;34m(\u001b[0m\u001b[0mfile\u001b[0m\u001b[0;34m,\u001b[0m \u001b[0margs\u001b[0m\u001b[0;34m,\u001b[0m \u001b[0mkwds\u001b[0m\u001b[0;34m,\u001b[0m \u001b[0;32mTrue\u001b[0m\u001b[0;34m)\u001b[0m\u001b[0;34m\u001b[0m\u001b[0;34m\u001b[0m\u001b[0m\n\u001b[0m\u001b[1;32m    687\u001b[0m \u001b[0;34m\u001b[0m\u001b[0m\n\u001b[1;32m    688\u001b[0m \u001b[0;34m\u001b[0m\u001b[0m\n",
      "\u001b[0;32m/jukebox/pkgs/PYGER/base/envs/0.11.0/lib/python3.7/site-packages/numpy/lib/npyio.py\u001b[0m in \u001b[0;36m_savez\u001b[0;34m(file, args, kwds, compress, allow_pickle, pickle_kwargs)\u001b[0m\n\u001b[1;32m    721\u001b[0m                 format.write_array(fid, val,\n\u001b[1;32m    722\u001b[0m                                    \u001b[0mallow_pickle\u001b[0m\u001b[0;34m=\u001b[0m\u001b[0mallow_pickle\u001b[0m\u001b[0;34m,\u001b[0m\u001b[0;34m\u001b[0m\u001b[0;34m\u001b[0m\u001b[0m\n\u001b[0;32m--> 723\u001b[0;31m                                    pickle_kwargs=pickle_kwargs)\n\u001b[0m\u001b[1;32m    724\u001b[0m     \u001b[0;32melse\u001b[0m\u001b[0;34m:\u001b[0m\u001b[0;34m\u001b[0m\u001b[0;34m\u001b[0m\u001b[0m\n\u001b[1;32m    725\u001b[0m         \u001b[0;31m# Stage arrays in a temporary file on disk, before writing to zip.\u001b[0m\u001b[0;34m\u001b[0m\u001b[0;34m\u001b[0m\u001b[0;34m\u001b[0m\u001b[0m\n",
      "\u001b[0;32m/jukebox/pkgs/PYGER/base/envs/0.11.0/lib/python3.7/site-packages/numpy/lib/format.py\u001b[0m in \u001b[0;36mwrite_array\u001b[0;34m(fp, array, version, allow_pickle, pickle_kwargs)\u001b[0m\n\u001b[1;32m    678\u001b[0m                     \u001b[0marray\u001b[0m\u001b[0;34m,\u001b[0m \u001b[0mflags\u001b[0m\u001b[0;34m=\u001b[0m\u001b[0;34m[\u001b[0m\u001b[0;34m'external_loop'\u001b[0m\u001b[0;34m,\u001b[0m \u001b[0;34m'buffered'\u001b[0m\u001b[0;34m,\u001b[0m \u001b[0;34m'zerosize_ok'\u001b[0m\u001b[0;34m]\u001b[0m\u001b[0;34m,\u001b[0m\u001b[0;34m\u001b[0m\u001b[0;34m\u001b[0m\u001b[0m\n\u001b[1;32m    679\u001b[0m                     buffersize=buffersize, order='C'):\n\u001b[0;32m--> 680\u001b[0;31m                 \u001b[0mfp\u001b[0m\u001b[0;34m.\u001b[0m\u001b[0mwrite\u001b[0m\u001b[0;34m(\u001b[0m\u001b[0mchunk\u001b[0m\u001b[0;34m.\u001b[0m\u001b[0mtobytes\u001b[0m\u001b[0;34m(\u001b[0m\u001b[0;34m'C'\u001b[0m\u001b[0;34m)\u001b[0m\u001b[0;34m)\u001b[0m\u001b[0;34m\u001b[0m\u001b[0;34m\u001b[0m\u001b[0m\n\u001b[0m\u001b[1;32m    681\u001b[0m \u001b[0;34m\u001b[0m\u001b[0m\n\u001b[1;32m    682\u001b[0m \u001b[0;34m\u001b[0m\u001b[0m\n",
      "\u001b[0;32m/jukebox/pkgs/PYGER/base/envs/0.11.0/lib/python3.7/zipfile.py\u001b[0m in \u001b[0;36mwrite\u001b[0;34m(self, data)\u001b[0m\n\u001b[1;32m   1127\u001b[0m         \u001b[0mself\u001b[0m\u001b[0;34m.\u001b[0m\u001b[0m_crc\u001b[0m \u001b[0;34m=\u001b[0m \u001b[0mcrc32\u001b[0m\u001b[0;34m(\u001b[0m\u001b[0mdata\u001b[0m\u001b[0;34m,\u001b[0m \u001b[0mself\u001b[0m\u001b[0;34m.\u001b[0m\u001b[0m_crc\u001b[0m\u001b[0;34m)\u001b[0m\u001b[0;34m\u001b[0m\u001b[0;34m\u001b[0m\u001b[0m\n\u001b[1;32m   1128\u001b[0m         \u001b[0;32mif\u001b[0m \u001b[0mself\u001b[0m\u001b[0;34m.\u001b[0m\u001b[0m_compressor\u001b[0m\u001b[0;34m:\u001b[0m\u001b[0;34m\u001b[0m\u001b[0;34m\u001b[0m\u001b[0m\n\u001b[0;32m-> 1129\u001b[0;31m             \u001b[0mdata\u001b[0m \u001b[0;34m=\u001b[0m \u001b[0mself\u001b[0m\u001b[0;34m.\u001b[0m\u001b[0m_compressor\u001b[0m\u001b[0;34m.\u001b[0m\u001b[0mcompress\u001b[0m\u001b[0;34m(\u001b[0m\u001b[0mdata\u001b[0m\u001b[0;34m)\u001b[0m\u001b[0;34m\u001b[0m\u001b[0;34m\u001b[0m\u001b[0m\n\u001b[0m\u001b[1;32m   1130\u001b[0m             \u001b[0mself\u001b[0m\u001b[0;34m.\u001b[0m\u001b[0m_compress_size\u001b[0m \u001b[0;34m+=\u001b[0m \u001b[0mlen\u001b[0m\u001b[0;34m(\u001b[0m\u001b[0mdata\u001b[0m\u001b[0;34m)\u001b[0m\u001b[0;34m\u001b[0m\u001b[0;34m\u001b[0m\u001b[0m\n\u001b[1;32m   1131\u001b[0m         \u001b[0mself\u001b[0m\u001b[0;34m.\u001b[0m\u001b[0m_fileobj\u001b[0m\u001b[0;34m.\u001b[0m\u001b[0mwrite\u001b[0m\u001b[0;34m(\u001b[0m\u001b[0mdata\u001b[0m\u001b[0;34m)\u001b[0m\u001b[0;34m\u001b[0m\u001b[0;34m\u001b[0m\u001b[0m\n",
      "\u001b[0;31mKeyboardInterrupt\u001b[0m: "
     ]
    }
   ],
   "source": [
    "np.savez_compressed(f'{isc_dir}/ext_isc.npz', **ext_isc)\n",
    "np.savez_compressed(f'{isc_dir}/int_isc.npz', **int_isc)"
   ]
  },
  {
   "cell_type": "code",
   "execution_count": 10,
   "id": "minus-inspiration",
   "metadata": {},
   "outputs": [
    {
     "ename": "KeyError",
     "evalue": "'arr_0 is not a file in the archive'",
     "output_type": "error",
     "traceback": [
      "\u001b[0;31m---------------------------------------------------------------------------\u001b[0m",
      "\u001b[0;31mKeyError\u001b[0m                                  Traceback (most recent call last)",
      "\u001b[0;32m<ipython-input-10-1cb0f60c1b09>\u001b[0m in \u001b[0;36m<module>\u001b[0;34m\u001b[0m\n\u001b[1;32m      3\u001b[0m \u001b[0;34m\u001b[0m\u001b[0m\n\u001b[1;32m      4\u001b[0m \u001b[0;31m# Access the arrays within the loaded files\u001b[0m\u001b[0;34m\u001b[0m\u001b[0;34m\u001b[0m\u001b[0;34m\u001b[0m\u001b[0m\n\u001b[0;32m----> 5\u001b[0;31m \u001b[0mint_isc\u001b[0m \u001b[0;34m=\u001b[0m \u001b[0mloaded_int_isc\u001b[0m\u001b[0;34m[\u001b[0m\u001b[0;34m'arr_0'\u001b[0m\u001b[0;34m]\u001b[0m\u001b[0;34m\u001b[0m\u001b[0;34m\u001b[0m\u001b[0m\n\u001b[0m\u001b[1;32m      6\u001b[0m \u001b[0mext_isc\u001b[0m \u001b[0;34m=\u001b[0m \u001b[0mloaded_ext_isc\u001b[0m\u001b[0;34m[\u001b[0m\u001b[0;34m'arr_0'\u001b[0m\u001b[0;34m]\u001b[0m\u001b[0;34m\u001b[0m\u001b[0;34m\u001b[0m\u001b[0m\n",
      "\u001b[0;32m/jukebox/pkgs/PYGER/base/envs/0.11.0/lib/python3.7/site-packages/numpy/lib/npyio.py\u001b[0m in \u001b[0;36m__getitem__\u001b[0;34m(self, key)\u001b[0m\n\u001b[1;32m    257\u001b[0m                 \u001b[0;32mreturn\u001b[0m \u001b[0mself\u001b[0m\u001b[0;34m.\u001b[0m\u001b[0mzip\u001b[0m\u001b[0;34m.\u001b[0m\u001b[0mread\u001b[0m\u001b[0;34m(\u001b[0m\u001b[0mkey\u001b[0m\u001b[0;34m)\u001b[0m\u001b[0;34m\u001b[0m\u001b[0;34m\u001b[0m\u001b[0m\n\u001b[1;32m    258\u001b[0m         \u001b[0;32melse\u001b[0m\u001b[0;34m:\u001b[0m\u001b[0;34m\u001b[0m\u001b[0;34m\u001b[0m\u001b[0m\n\u001b[0;32m--> 259\u001b[0;31m             \u001b[0;32mraise\u001b[0m \u001b[0mKeyError\u001b[0m\u001b[0;34m(\u001b[0m\u001b[0;34m\"%s is not a file in the archive\"\u001b[0m \u001b[0;34m%\u001b[0m \u001b[0mkey\u001b[0m\u001b[0;34m)\u001b[0m\u001b[0;34m\u001b[0m\u001b[0;34m\u001b[0m\u001b[0m\n\u001b[0m\u001b[1;32m    260\u001b[0m \u001b[0;34m\u001b[0m\u001b[0m\n\u001b[1;32m    261\u001b[0m \u001b[0;34m\u001b[0m\u001b[0m\n",
      "\u001b[0;31mKeyError\u001b[0m: 'arr_0 is not a file in the archive'"
     ]
    }
   ],
   "source": [
    "loaded_int_isc = np.load(f'{isc_dir}/int_isc.npz')\n",
    "loaded_ext_isc = np.load(f'{isc_dir}/ext_isc.npz')\n",
    "\n",
    "# Access the arrays within the loaded files\n",
    "#int_isc = loaded_int_isc['arr_0']\n",
    "#ext_isc = loaded_ext_isc['arr_0']"
   ]
  },
  {
   "cell_type": "code",
   "execution_count": 12,
   "id": "respective-disabled",
   "metadata": {},
   "outputs": [
    {
     "data": {
      "text/plain": [
       "<bound method Mapping.keys of <numpy.lib.npyio.NpzFile object at 0x7faea15bdfd0>>"
      ]
     },
     "execution_count": 12,
     "metadata": {},
     "output_type": "execute_result"
    }
   ],
   "source": []
  },
  {
   "cell_type": "code",
   "execution_count": 13,
   "id": "respected-vatican",
   "metadata": {},
   "outputs": [
    {
     "ename": "KeyboardInterrupt",
     "evalue": "",
     "output_type": "error",
     "traceback": [
      "\u001b[0;31m---------------------------------------------------------------------------\u001b[0m",
      "\u001b[0;31mKeyboardInterrupt\u001b[0m                         Traceback (most recent call last)",
      "\u001b[0;32m<ipython-input-13-0b46c9fdfec7>\u001b[0m in \u001b[0;36m<module>\u001b[0;34m\u001b[0m\n\u001b[0;32m----> 1\u001b[0;31m \u001b[0mloaded_ext_isc\u001b[0m\u001b[0;34m[\u001b[0m\u001b[0;34m'office'\u001b[0m\u001b[0;34m]\u001b[0m\u001b[0;34m\u001b[0m\u001b[0;34m\u001b[0m\u001b[0m\n\u001b[0m",
      "\u001b[0;32m/jukebox/pkgs/PYGER/base/envs/0.11.0/lib/python3.7/site-packages/numpy/lib/npyio.py\u001b[0m in \u001b[0;36m__getitem__\u001b[0;34m(self, key)\u001b[0m\n\u001b[1;32m    253\u001b[0m                 return format.read_array(bytes,\n\u001b[1;32m    254\u001b[0m                                          \u001b[0mallow_pickle\u001b[0m\u001b[0;34m=\u001b[0m\u001b[0mself\u001b[0m\u001b[0;34m.\u001b[0m\u001b[0mallow_pickle\u001b[0m\u001b[0;34m,\u001b[0m\u001b[0;34m\u001b[0m\u001b[0;34m\u001b[0m\u001b[0m\n\u001b[0;32m--> 255\u001b[0;31m                                          pickle_kwargs=self.pickle_kwargs)\n\u001b[0m\u001b[1;32m    256\u001b[0m             \u001b[0;32melse\u001b[0m\u001b[0;34m:\u001b[0m\u001b[0;34m\u001b[0m\u001b[0;34m\u001b[0m\u001b[0m\n\u001b[1;32m    257\u001b[0m                 \u001b[0;32mreturn\u001b[0m \u001b[0mself\u001b[0m\u001b[0;34m.\u001b[0m\u001b[0mzip\u001b[0m\u001b[0;34m.\u001b[0m\u001b[0mread\u001b[0m\u001b[0;34m(\u001b[0m\u001b[0mkey\u001b[0m\u001b[0;34m)\u001b[0m\u001b[0;34m\u001b[0m\u001b[0;34m\u001b[0m\u001b[0m\n",
      "\u001b[0;32m/jukebox/pkgs/PYGER/base/envs/0.11.0/lib/python3.7/site-packages/numpy/lib/format.py\u001b[0m in \u001b[0;36mread_array\u001b[0;34m(fp, allow_pickle, pickle_kwargs)\u001b[0m\n\u001b[1;32m    763\u001b[0m                     \u001b[0mdata\u001b[0m \u001b[0;34m=\u001b[0m \u001b[0m_read_bytes\u001b[0m\u001b[0;34m(\u001b[0m\u001b[0mfp\u001b[0m\u001b[0;34m,\u001b[0m \u001b[0mread_size\u001b[0m\u001b[0;34m,\u001b[0m \u001b[0;34m\"array data\"\u001b[0m\u001b[0;34m)\u001b[0m\u001b[0;34m\u001b[0m\u001b[0;34m\u001b[0m\u001b[0m\n\u001b[1;32m    764\u001b[0m                     array[i:i+read_count] = numpy.frombuffer(data, dtype=dtype,\n\u001b[0;32m--> 765\u001b[0;31m                                                              count=read_count)\n\u001b[0m\u001b[1;32m    766\u001b[0m \u001b[0;34m\u001b[0m\u001b[0m\n\u001b[1;32m    767\u001b[0m         \u001b[0;32mif\u001b[0m \u001b[0mfortran_order\u001b[0m\u001b[0;34m:\u001b[0m\u001b[0;34m\u001b[0m\u001b[0;34m\u001b[0m\u001b[0m\n",
      "\u001b[0;31mKeyboardInterrupt\u001b[0m: "
     ]
    }
   ],
   "source": [
    "loaded_ext_isc['office']"
   ]
  },
  {
   "cell_type": "markdown",
   "id": "binary-processor",
   "metadata": {},
   "source": [
    "# ISC ANAL"
   ]
  },
  {
   "cell_type": "code",
   "execution_count": 12,
   "id": "gross-logging",
   "metadata": {},
   "outputs": [],
   "source": []
  },
  {
   "cell_type": "code",
   "execution_count": null,
   "id": "hawaiian-reader",
   "metadata": {},
   "outputs": [],
   "source": []
  },
  {
   "cell_type": "code",
   "execution_count": null,
   "id": "dominant-draft",
   "metadata": {},
   "outputs": [],
   "source": []
  },
  {
   "cell_type": "code",
   "execution_count": 223,
   "id": "amended-exclusion",
   "metadata": {},
   "outputs": [],
   "source": []
  },
  {
   "cell_type": "code",
   "execution_count": 15,
   "id": "obvious-leather",
   "metadata": {},
   "outputs": [],
   "source": [
    "run = 3\n",
    "movie = 'office'\n"
   ]
  },
  {
   "cell_type": "code",
   "execution_count": 16,
   "id": "incomplete-giant",
   "metadata": {},
   "outputs": [
    {
     "name": "stdout",
     "output_type": "stream",
     "text": [
      "office run 3 shape is: (102, 112179, 17)\n"
     ]
    },
    {
     "name": "stderr",
     "output_type": "stream",
     "text": [
      "/jukebox/pkgs/PYGER/base/envs/0.11.0/lib/python3.7/site-packages/scipy/stats/stats.py:2500: RuntimeWarning: invalid value encountered in true_divide\n",
      "  return (a - mns) / sstd\n"
     ]
    }
   ],
   "source": [
    "# select movie and run from loaded data \n",
    "data = ext_isc[movie][...,run - 1,:]\n",
    "#data = loaded_int_isc['sherlock'][...,run - 1,:]\n",
    "print(f'{movie} run {run} shape is: {data.shape}')\n",
    "\n",
    "# Z-score time series for each voxel\n",
    "data = zscore(data, axis=0)"
   ]
  },
  {
   "cell_type": "code",
   "execution_count": null,
   "id": "spread-winter",
   "metadata": {},
   "outputs": [],
   "source": []
  },
  {
   "cell_type": "code",
   "execution_count": 116,
   "id": "secure-tours",
   "metadata": {},
   "outputs": [],
   "source": [
    "# Leave-one-out approach\n",
    "iscs = isc(data, pairwise=False, tolerate_nans=.8)"
   ]
  },
  {
   "cell_type": "code",
   "execution_count": null,
   "id": "decreased-mambo",
   "metadata": {},
   "outputs": [],
   "source": []
  },
  {
   "cell_type": "code",
   "execution_count": 117,
   "id": "wired-matthew",
   "metadata": {},
   "outputs": [
    {
     "name": "stdout",
     "output_type": "stream",
     "text": [
      "ISC values shape = (17, 112179) \n",
      "i.e., 17 left-out subjects and 112179 voxel(s)\n"
     ]
    }
   ],
   "source": [
    "# Check shape of output ISC values\n",
    "print(f\"ISC values shape = {iscs.shape} \\ni.e., {iscs.shape[0]} \"\n",
    "      f\"left-out subjects and {iscs.shape[1]} voxel(s)\")"
   ]
  },
  {
   "cell_type": "code",
   "execution_count": 118,
   "id": "beneficial-athletics",
   "metadata": {},
   "outputs": [
    {
     "name": "stdout",
     "output_type": "stream",
     "text": [
      "ISC values shape = (112179,) \n",
      "i.e., 112179 mean value across left-out subjects and 112179 voxel(s)\n",
      "Minimum mean ISC across voxels = -0.152; maximum mean ISC across voxels = 0.746\n",
      "ISC values shape = (112179,) \n",
      "i.e., 112179 median value across left-out subjects and 112179 voxel(s)\n",
      "Minimum median ISC across voxels = -0.177; maximum median ISC across voxels = 0.787\n"
     ]
    }
   ],
   "source": [
    "# Compute mean ISC (with Fisher transformation)\n",
    "mean_iscs = compute_summary_statistic(iscs, summary_statistic='mean', axis=0)\n",
    "\n",
    "print(f\"ISC values shape = {mean_iscs.shape} \\ni.e., {mean_iscs.shape[0]} \"\n",
    "      f\"mean value across left-out subjects and {iscs.shape[1]} voxel(s)\"\n",
    "      f\"\\nMinimum mean ISC across voxels = {np.nanmin(mean_iscs):.3f}; \"\n",
    "      f\"maximum mean ISC across voxels = {np.nanmax(mean_iscs):.3f}\")\n",
    "\n",
    "\n",
    "# Compute median ISC\n",
    "median_iscs = compute_summary_statistic(iscs, summary_statistic='median',\n",
    "                                        axis=0)\n",
    "\n",
    "print(f\"ISC values shape = {median_iscs.shape} \\ni.e., {median_iscs.shape[0]} \"\n",
    "      f\"median value across left-out subjects and {iscs.shape[1]} voxel(s)\"\n",
    "      f\"\\nMinimum median ISC across voxels = {np.nanmin(median_iscs):.3f}; \"\n",
    "      f\"maximum median ISC across voxels = {np.nanmax(median_iscs):.3f}\")"
   ]
  },
  {
   "cell_type": "code",
   "execution_count": null,
   "id": "spread-vintage",
   "metadata": {},
   "outputs": [],
   "source": []
  },
  {
   "cell_type": "code",
   "execution_count": 119,
   "id": "requested-valley",
   "metadata": {},
   "outputs": [],
   "source": [
    "# Run bootstrap hypothesis test on ISCs\n",
    "n_boot = 1000\n",
    "observed, ci, p, distribution = bootstrap_isc(iscs, pairwise=False,\n",
    "                                              ci_percentile=95,\n",
    "                                              summary_statistic='median',\n",
    "                                              n_bootstraps=n_boot)"
   ]
  },
  {
   "cell_type": "code",
   "execution_count": 120,
   "id": "permanent-witch",
   "metadata": {},
   "outputs": [
    {
     "data": {
      "text/plain": [
       "(112179,)"
      ]
     },
     "execution_count": 120,
     "metadata": {},
     "output_type": "execute_result"
    }
   ],
   "source": [
    "observed.shape"
   ]
  },
  {
   "cell_type": "markdown",
   "id": "dimensional-proof",
   "metadata": {},
   "source": [
    "Before we correct for multiple tests, we should exclude any voxels with NaNs. To do this, we'll extract the non-NaN voxels, run the correction for multiple tests, then reinsert the non-NaN voxels into the full mask."
   ]
  },
  {
   "cell_type": "code",
   "execution_count": 121,
   "id": "imported-vulnerability",
   "metadata": {},
   "outputs": [
    {
     "name": "stdout",
     "output_type": "stream",
     "text": [
      "3635 voxels out of 112179 are NaNs (3.24%)\n"
     ]
    }
   ],
   "source": [
    "# Get number of NaN voxels\n",
    "n_nans = np.sum(np.isnan(observed))\n",
    "print(f\"{n_nans} voxels out of {observed.shape[0]} are NaNs \"\n",
    "      f\"({n_nans / observed.shape[0] * 100:.2f}%)\")\n",
    "\n",
    "# Get voxels without NaNs\n",
    "nonnan_mask = ~np.isnan(observed)\n",
    "nonnan_coords = np.where(nonnan_mask)\n",
    "\n",
    "# Mask both the ISC and p-value map to exclude NaNs\n",
    "nonnan_isc = observed[nonnan_mask]\n",
    "nonnan_p = p[nonnan_mask]"
   ]
  },
  {
   "cell_type": "code",
   "execution_count": null,
   "id": "entertaining-confidentiality",
   "metadata": {},
   "outputs": [],
   "source": []
  },
  {
   "cell_type": "markdown",
   "id": "million-flavor",
   "metadata": {},
   "source": [
    "Now we'll apply the multipletests function from StatsModels to the p-values from the bootstrap hypothesis test to control the false discovery rate (FDR) at 0.05 across all voxels. This yields a map of q-values. We can then threshold our ISC image based on the FDR-adjusted q-values, which are derived from the entire image, rather than the uncorrected p-values."
   ]
  },
  {
   "cell_type": "code",
   "execution_count": 122,
   "id": "tropical-bankruptcy",
   "metadata": {},
   "outputs": [
    {
     "name": "stdout",
     "output_type": "stream",
     "text": [
      "0 significant voxels controlling FDR at 0.05\n"
     ]
    }
   ],
   "source": [
    "# Get FDR-controlled q-values\n",
    "nonnan_q = multipletests(nonnan_p, method='fdr_by')[1]\n",
    "threshold = .05\n",
    "print(f\"{np.sum(nonnan_q < threshold)} significant voxels \"\n",
    "      f\"controlling FDR at {threshold}\")\n",
    "\n",
    "# Threshold ISCs according FDR-controlled threshold\n",
    "nonnan_isc[nonnan_q >= threshold] = np.nan\n",
    "\n",
    "# Reinsert thresholded ISCs back into whole brain image\n",
    "isc_thresh = np.full(observed.shape, np.nan)\n",
    "isc_thresh[nonnan_coords] = nonnan_isc"
   ]
  },
  {
   "cell_type": "markdown",
   "id": "adverse-strengthening",
   "metadata": {},
   "source": [
    "create empty 3d image for visualization"
   ]
  },
  {
   "cell_type": "code",
   "execution_count": 123,
   "id": "conservative-clothing",
   "metadata": {},
   "outputs": [],
   "source": [
    "## mask image ##\n",
    "ref_nii = nib.load(mask_dir + \"/whole_b_bnk.nii.gz\")\n",
    "mask_img = load_boolean_mask(mask_dir + \"/whole_b_bnk.nii.gz\")\n",
    "\n",
    "# Get coordinates of mask voxels in original image\n",
    "mask_coords = np.where(mask_img)"
   ]
  },
  {
   "cell_type": "code",
   "execution_count": 124,
   "id": "ignored-shelter",
   "metadata": {},
   "outputs": [],
   "source": [
    "# Create empty 3D image and populate\n",
    "# with thresholded ISC values\n",
    "isc_img = np.full(ref_nii.shape, np.nan)\n",
    "isc_img[mask_coords] = isc_thresh\n",
    "\n",
    "# Convert to NIfTI image\n",
    "isc_nii = nib.Nifti1Image(isc_img, ref_nii.affine, ref_nii.header)"
   ]
  },
  {
   "cell_type": "code",
   "execution_count": 125,
   "id": "hourly-return",
   "metadata": {},
   "outputs": [
    {
     "data": {
      "image/png": "[encoded data removed]",
      "text/plain": [
       "<Figure size 525.6x187.2 with 4 Axes>"
      ]
     },
     "metadata": {},
     "output_type": "display_data"
    },
    {
     "data": {
      "image/png": "[encoded data removed]",
      "text/plain": [
       "<Figure size 525.6x187.2 with 4 Axes>"
      ]
     },
     "metadata": {},
     "output_type": "display_data"
    }
   ],
   "source": [
    "# Plot slices at coordinates -61, -20, 8\n",
    "plot_stat_map(\n",
    "    isc_nii,\n",
    "    cmap='RdYlBu_r',\n",
    "    vmax=.5,\n",
    "    cut_coords=(-61, -20, 8))\n",
    "\n",
    "# Plot slices at coordinates 0, -65, 40\n",
    "plot_stat_map(\n",
    "    isc_nii,\n",
    "    cmap='RdYlBu_r',\n",
    "    vmax=.5,\n",
    "    cut_coords=(0, -65, 40))\n",
    "plt.show()"
   ]
  },
  {
   "cell_type": "code",
   "execution_count": null,
   "id": "curious-information",
   "metadata": {},
   "outputs": [],
   "source": []
  },
  {
   "cell_type": "code",
   "execution_count": null,
   "id": "cloudy-japanese",
   "metadata": {},
   "outputs": [],
   "source": []
  },
  {
   "cell_type": "code",
   "execution_count": null,
   "id": "celtic-conversion",
   "metadata": {},
   "outputs": [],
   "source": []
  },
  {
   "cell_type": "code",
   "execution_count": null,
   "id": "dependent-craps",
   "metadata": {},
   "outputs": [],
   "source": []
  },
  {
   "cell_type": "code",
   "execution_count": null,
   "id": "behavioral-rover",
   "metadata": {},
   "outputs": [],
   "source": []
  },
  {
   "cell_type": "markdown",
   "id": "duplicate-neighborhood",
   "metadata": {},
   "source": [
    "## ALL AT ONCE ## "
   ]
  },
  {
   "cell_type": "markdown",
   "id": "collaborative-cruise",
   "metadata": {},
   "source": [
    "### masking"
   ]
  },
  {
   "cell_type": "code",
   "execution_count": 11,
   "id": "insured-measure",
   "metadata": {},
   "outputs": [],
   "source": [
    "## mask image ##\n",
    "ref_nii = nib.load(mask_dir + \"/whole_b_bnk.nii.gz\")\n",
    "mask_img = load_boolean_mask(mask_dir + \"/whole_b_bnk.nii.gz\")\n",
    "\n",
    "# Get coordinates of mask voxels in original image\n",
    "mask_coords = np.where(mask_img)"
   ]
  },
  {
   "cell_type": "code",
   "execution_count": 12,
   "id": "attended-electric",
   "metadata": {},
   "outputs": [],
   "source": [
    "# load if necessary\n",
    "vis_dic = np.load(f'{isc_dir}/vis_dic.npy', allow_pickle=True).item()"
   ]
  },
  {
   "cell_type": "markdown",
   "id": "selective-shark",
   "metadata": {},
   "source": [
    "### vars"
   ]
  },
  {
   "cell_type": "code",
   "execution_count": 20,
   "id": "friendly-bearing",
   "metadata": {},
   "outputs": [],
   "source": [
    "runs = [1, 2, 3, 4]\n",
    "conditions = [\"Internal\", \"External\"]\n",
    "mov_list = ['office', 'brushing', 'oragami', 'shrek', 'cake', 'sherlock']\n",
    "vis_dic = {}"
   ]
  },
  {
   "cell_type": "markdown",
   "id": "social-anniversary",
   "metadata": {},
   "source": [
    "### run"
   ]
  },
  {
   "cell_type": "code",
   "execution_count": null,
   "id": "artistic-devil",
   "metadata": {
    "scrolled": true
   },
   "outputs": [
    {
     "name": "stdout",
     "output_type": "stream",
     "text": [
      "START Internal\n",
      "office run 1 shape is: (106, 112179, 16)\n"
     ]
    },
    {
     "name": "stderr",
     "output_type": "stream",
     "text": [
      "/jukebox/pkgs/PYGER/base/envs/0.11.0/lib/python3.7/site-packages/scipy/stats/stats.py:2500: RuntimeWarning: invalid value encountered in true_divide\n",
      "  return (a - mns) / sstd\n"
     ]
    },
    {
     "name": "stdout",
     "output_type": "stream",
     "text": [
      "ISC values shape = (16, 112179) \n",
      "i.e., 16 left-out subjects and 112179 voxel(s)\n",
      "ISC values shape = (112179,) \n",
      "i.e., 112179 mean value across left-out subjects and 112179 voxel(s)\n",
      "Minimum mean ISC across voxels = -0.161; maximum mean ISC across voxels = 0.751\n",
      "ISC values shape = (112179,) \n",
      "i.e., 112179 median value across left-out subjects and 112179 voxel(s)\n",
      "Minimum median ISC across voxels = -0.160; maximum median ISC across voxels = 0.761\n"
     ]
    },
    {
     "name": "stderr",
     "output_type": "stream",
     "text": [
      "/jukebox/pkgs/PYGER/base/envs/0.11.0/lib/python3.7/site-packages/brainiak/isc.py:523: RuntimeWarning: Mean of empty slice\n",
      "  statistic = np.tanh(np.nanmean(np.arctanh(iscs), axis=axis))\n",
      "/jukebox/pkgs/PYGER/base/envs/0.11.0/lib/python3.7/site-packages/numpy/lib/nanfunctions.py:1114: RuntimeWarning: All-NaN slice encountered\n",
      "  overwrite_input=overwrite_input)\n"
     ]
    },
    {
     "name": "stdout",
     "output_type": "stream",
     "text": [
      "3327 voxels out of 112179 are NaNs (2.97%)\n",
      "41090 significant voxels controlling FDR at 0.05\n",
      "\n",
      "finish Internal-office-1\n",
      "\n",
      "brushing run 1 shape is: (92, 112179, 16)\n",
      "ISC values shape = (16, 112179) \n",
      "i.e., 16 left-out subjects and 112179 voxel(s)\n",
      "ISC values shape = (112179,) \n",
      "i.e., 112179 mean value across left-out subjects and 112179 voxel(s)\n",
      "Minimum mean ISC across voxels = -0.175; maximum mean ISC across voxels = 0.536\n",
      "ISC values shape = (112179,) \n",
      "i.e., 112179 median value across left-out subjects and 112179 voxel(s)\n",
      "Minimum median ISC across voxels = -0.189; maximum median ISC across voxels = 0.600\n",
      "2650 voxels out of 112179 are NaNs (2.36%)\n",
      "0 significant voxels controlling FDR at 0.05\n",
      "\n",
      "finish Internal-brushing-1\n",
      "\n",
      "oragami run 1 shape is: (86, 112179, 17)\n",
      "ISC values shape = (17, 112179) \n",
      "i.e., 17 left-out subjects and 112179 voxel(s)\n",
      "ISC values shape = (112179,) \n",
      "i.e., 112179 mean value across left-out subjects and 112179 voxel(s)\n",
      "Minimum mean ISC across voxels = -0.183; maximum mean ISC across voxels = 0.732\n",
      "ISC values shape = (112179,) \n",
      "i.e., 112179 median value across left-out subjects and 112179 voxel(s)\n",
      "Minimum median ISC across voxels = -0.199; maximum median ISC across voxels = 0.782\n",
      "3383 voxels out of 112179 are NaNs (3.02%)\n",
      "0 significant voxels controlling FDR at 0.05\n",
      "\n",
      "finish Internal-oragami-1\n",
      "\n",
      "shrek run 1 shape is: (94, 112179, 17)\n",
      "ISC values shape = (17, 112179) \n",
      "i.e., 17 left-out subjects and 112179 voxel(s)\n",
      "ISC values shape = (112179,) \n",
      "i.e., 112179 mean value across left-out subjects and 112179 voxel(s)\n",
      "Minimum mean ISC across voxels = -0.188; maximum mean ISC across voxels = 0.647\n",
      "ISC values shape = (112179,) \n",
      "i.e., 112179 median value across left-out subjects and 112179 voxel(s)\n",
      "Minimum median ISC across voxels = -0.191; maximum median ISC across voxels = 0.665\n",
      "3502 voxels out of 112179 are NaNs (3.12%)\n",
      "0 significant voxels controlling FDR at 0.05\n",
      "\n",
      "finish Internal-shrek-1\n",
      "\n",
      "cake run 1 shape is: (103, 112179, 16)\n",
      "ISC values shape = (16, 112179) \n",
      "i.e., 16 left-out subjects and 112179 voxel(s)\n",
      "ISC values shape = (112179,) \n",
      "i.e., 112179 mean value across left-out subjects and 112179 voxel(s)\n",
      "Minimum mean ISC across voxels = -0.150; maximum mean ISC across voxels = 0.667\n",
      "ISC values shape = (112179,) \n",
      "i.e., 112179 median value across left-out subjects and 112179 voxel(s)\n",
      "Minimum median ISC across voxels = -0.187; maximum median ISC across voxels = 0.668\n"
     ]
    }
   ],
   "source": [
    "for cond in conditions:\n",
    "    print(f'START {cond}')\n",
    "    if cond == \"External\":\n",
    "        targ_dic = ext_isc\n",
    "    else:\n",
    "        targ_dic = int_isc\n",
    "    for run in runs:\n",
    "        for mov in mov_list:\n",
    "    \n",
    "            # select movie and run from loaded data ** account for indexing\n",
    "            data = targ_dic[mov][...,run - 1,:]\n",
    "            print(f'{mov} run {run} shape is: {data.shape}')\n",
    "\n",
    "            # Z-score time series for each voxel\n",
    "            data = zscore(data, axis=0)\n",
    "\n",
    "            # Leave-one-out approach\n",
    "            iscs = isc(data, pairwise=False, tolerate_nans=.8)\n",
    "\n",
    "            # Check shape of output ISC values\n",
    "            print(f\"ISC values shape = {iscs.shape} \\ni.e., {iscs.shape[0]} \"\n",
    "                  f\"left-out subjects and {iscs.shape[1]} voxel(s)\")\n",
    "\n",
    "            # Compute mean ISC (with Fisher transformation)\n",
    "            mean_iscs = compute_summary_statistic(iscs, summary_statistic='mean', axis=0)\n",
    "\n",
    "            print(f\"ISC values shape = {mean_iscs.shape} \\ni.e., {mean_iscs.shape[0]} \"\n",
    "                  f\"mean value across left-out subjects and {iscs.shape[1]} voxel(s)\"\n",
    "                  f\"\\nMinimum mean ISC across voxels = {np.nanmin(mean_iscs):.3f}; \"\n",
    "                  f\"maximum mean ISC across voxels = {np.nanmax(mean_iscs):.3f}\")\n",
    "\n",
    "\n",
    "            # Compute median ISC\n",
    "            median_iscs = compute_summary_statistic(iscs, summary_statistic='median',\n",
    "                                                    axis=0)\n",
    "\n",
    "            print(f\"ISC values shape = {median_iscs.shape} \\ni.e., {median_iscs.shape[0]} \"\n",
    "                  f\"median value across left-out subjects and {iscs.shape[1]} voxel(s)\"\n",
    "                  f\"\\nMinimum median ISC across voxels = {np.nanmin(median_iscs):.3f}; \"\n",
    "                  f\"maximum median ISC across voxels = {np.nanmax(median_iscs):.3f}\")\n",
    "\n",
    "            # Run bootstrap hypothesis test on ISCs\n",
    "            n_boot = 1000\n",
    "            observed, ci, p, distribution = bootstrap_isc(iscs, pairwise=False,\n",
    "                                                          ci_percentile=95,\n",
    "                                                          summary_statistic='median',\n",
    "                                                          n_bootstraps=n_boot)\n",
    "\n",
    "\n",
    "            # Get number of NaN voxels\n",
    "            n_nans = np.sum(np.isnan(observed))\n",
    "            print(f\"{n_nans} voxels out of {observed.shape[0]} are NaNs \"\n",
    "                  f\"({n_nans / observed.shape[0] * 100:.2f}%)\")\n",
    "\n",
    "            # Get voxels without NaNs\n",
    "            nonnan_mask = ~np.isnan(observed)\n",
    "            nonnan_coords = np.where(nonnan_mask)\n",
    "\n",
    "            # Mask both the ISC and p-value map to exclude NaNs\n",
    "            nonnan_isc = observed[nonnan_mask]\n",
    "            nonnan_p = p[nonnan_mask]\n",
    "\n",
    "            # Get FDR-controlled q-values\n",
    "            nonnan_q = multipletests(nonnan_p, method='fdr_by')[1]\n",
    "            threshold = .05\n",
    "            print(f\"{np.sum(nonnan_q < threshold)} significant voxels \"\n",
    "                  f\"controlling FDR at {threshold}\")\n",
    "\n",
    "            # Threshold ISCs according FDR-controlled threshold\n",
    "            nonnan_isc[nonnan_q >= threshold] = np.nan\n",
    "\n",
    "            # Reinsert thresholded ISCs back into whole brain image\n",
    "            isc_thresh = np.full(observed.shape, np.nan)\n",
    "            isc_thresh[nonnan_coords] = nonnan_isc\n",
    "\n",
    "            # Create empty 3D image and populate\n",
    "            # with thresholded ISC values\n",
    "            isc_img = np.full(ref_nii.shape, np.nan)\n",
    "            isc_img[mask_coords] = isc_thresh\n",
    "\n",
    "            # Convert to NIfTI image\n",
    "            isc_nii = nib.Nifti1Image(isc_img, ref_nii.affine, ref_nii.header)\n",
    "            \n",
    "            # Save\n",
    "            vis_dic[f'{cond}-{mov}-{run}'] = isc_nii\n",
    "            print(f'\\nfinish {cond}-{mov}-{run}\\n')\n",
    "            \n",
    "            #np.save(f'{isc_dir}/vis_dic.npy', vis_dic)"
   ]
  },
  {
   "cell_type": "code",
   "execution_count": 18,
   "id": "center-clarity",
   "metadata": {
    "scrolled": true
   },
   "outputs": [
    {
     "data": {
      "text/plain": [
       "{'Internal-office-1': <nibabel.nifti1.Nifti1Image at 0x7f8d54fcee10>,\n",
       " 'Internal-brushing-1': <nibabel.nifti1.Nifti1Image at 0x7f8d0ad97310>,\n",
       " 'Internal-oragami-1': <nibabel.nifti1.Nifti1Image at 0x7f8d0ad97a90>,\n",
       " 'Internal-shrek-1': <nibabel.nifti1.Nifti1Image at 0x7f8d0ad97b50>,\n",
       " 'Internal-cake-1': <nibabel.nifti1.Nifti1Image at 0x7f8d0ad97c50>,\n",
       " 'Internal-sherlock-1': <nibabel.nifti1.Nifti1Image at 0x7f8d89ce2790>,\n",
       " 'Internal-office-2': <nibabel.nifti1.Nifti1Image at 0x7f8d0ad97d90>,\n",
       " 'Internal-brushing-2': <nibabel.nifti1.Nifti1Image at 0x7f8d0ad97e50>,\n",
       " 'Internal-oragami-2': <nibabel.nifti1.Nifti1Image at 0x7f8d0ad97f10>,\n",
       " 'Internal-shrek-2': <nibabel.nifti1.Nifti1Image at 0x7f8d0ad97fd0>,\n",
       " 'Internal-cake-2': <nibabel.nifti1.Nifti1Image at 0x7f8d0ad90110>,\n",
       " 'Internal-sherlock-2': <nibabel.nifti1.Nifti1Image at 0x7f8d0ad901d0>,\n",
       " 'Internal-office-3': <nibabel.nifti1.Nifti1Image at 0x7f8d0ad90290>,\n",
       " 'Internal-brushing-3': <nibabel.nifti1.Nifti1Image at 0x7f8d0ad90350>,\n",
       " 'Internal-oragami-3': <nibabel.nifti1.Nifti1Image at 0x7f8d0ad90410>,\n",
       " 'Internal-shrek-3': <nibabel.nifti1.Nifti1Image at 0x7f8d0ad904d0>,\n",
       " 'Internal-cake-3': <nibabel.nifti1.Nifti1Image at 0x7f8d0ad905d0>,\n",
       " 'Internal-sherlock-3': <nibabel.nifti1.Nifti1Image at 0x7f8d0ad90690>,\n",
       " 'Internal-office-4': <nibabel.nifti1.Nifti1Image at 0x7f8d0ad90750>,\n",
       " 'Internal-brushing-4': <nibabel.nifti1.Nifti1Image at 0x7f8d0ad90810>,\n",
       " 'Internal-oragami-4': <nibabel.nifti1.Nifti1Image at 0x7f8d0ad908d0>,\n",
       " 'Internal-shrek-4': <nibabel.nifti1.Nifti1Image at 0x7f8d0ad90990>,\n",
       " 'Internal-cake-4': <nibabel.nifti1.Nifti1Image at 0x7f8d0ad90a90>,\n",
       " 'Internal-sherlock-4': <nibabel.nifti1.Nifti1Image at 0x7f8d0ad90b50>,\n",
       " 'External-office-1': <nibabel.nifti1.Nifti1Image at 0x7f8d0ad90c10>,\n",
       " 'External-brushing-1': <nibabel.nifti1.Nifti1Image at 0x7f8d0ad90cd0>,\n",
       " 'External-oragami-1': <nibabel.nifti1.Nifti1Image at 0x7f8d0ad90d90>,\n",
       " 'External-shrek-1': <nibabel.nifti1.Nifti1Image at 0x7f8d0ad90e50>,\n",
       " 'External-cake-1': <nibabel.nifti1.Nifti1Image at 0x7f8d0ad90f50>,\n",
       " 'External-sherlock-1': <nibabel.nifti1.Nifti1Image at 0x7f8d4b57b050>,\n",
       " 'External-office-2': <nibabel.nifti1.Nifti1Image at 0x7f8d4b57b110>,\n",
       " 'External-brushing-2': <nibabel.nifti1.Nifti1Image at 0x7f8d4b57b1d0>,\n",
       " 'External-oragami-2': <nibabel.nifti1.Nifti1Image at 0x7f8d4b57b290>,\n",
       " 'External-shrek-2': <nibabel.nifti1.Nifti1Image at 0x7f8d4b57b350>,\n",
       " 'External-cake-2': <nibabel.nifti1.Nifti1Image at 0x7f8d4b57b450>,\n",
       " 'External-sherlock-2': <nibabel.nifti1.Nifti1Image at 0x7f8d4b57b510>,\n",
       " 'External-office-3': <nibabel.nifti1.Nifti1Image at 0x7f8d4b57b5d0>,\n",
       " 'External-brushing-3': <nibabel.nifti1.Nifti1Image at 0x7f8d4b57b690>,\n",
       " 'External-oragami-3': <nibabel.nifti1.Nifti1Image at 0x7f8d4b57b750>,\n",
       " 'External-shrek-3': <nibabel.nifti1.Nifti1Image at 0x7f8d4b57b810>,\n",
       " 'External-cake-3': <nibabel.nifti1.Nifti1Image at 0x7f8d4b57b910>,\n",
       " 'External-sherlock-3': <nibabel.nifti1.Nifti1Image at 0x7f8d4b57b9d0>,\n",
       " 'External-office-4': <nibabel.nifti1.Nifti1Image at 0x7f8d4b57ba90>,\n",
       " 'External-brushing-4': <nibabel.nifti1.Nifti1Image at 0x7f8d4b57bbd0>,\n",
       " 'External-oragami-4': <nibabel.nifti1.Nifti1Image at 0x7f8d4b57bd50>,\n",
       " 'External-shrek-4': <nibabel.nifti1.Nifti1Image at 0x7f8d4b57bed0>,\n",
       " 'External-cake-4': <nibabel.nifti1.Nifti1Image at 0x7f8d4b5860d0>,\n",
       " 'External-sherlock-4': <nibabel.nifti1.Nifti1Image at 0x7f8d4b586250>}"
      ]
     },
     "execution_count": 18,
     "metadata": {},
     "output_type": "execute_result"
    }
   ],
   "source": [
    "vis_dic"
   ]
  },
  {
   "cell_type": "code",
   "execution_count": 142,
   "id": "quiet-rotation",
   "metadata": {},
   "outputs": [],
   "source": []
  },
  {
   "cell_type": "markdown",
   "id": "boxed-wesley",
   "metadata": {},
   "source": [
    "# Visualize"
   ]
  },
  {
   "cell_type": "code",
   "execution_count": 17,
   "id": "existing-repository",
   "metadata": {},
   "outputs": [],
   "source": [
    "# load if necessary\n",
    "vis_dic = np.load(f'{isc_dir}/vis_dic.npy', allow_pickle=True).item()"
   ]
  },
  {
   "cell_type": "code",
   "execution_count": 100,
   "id": "fleet-adaptation",
   "metadata": {},
   "outputs": [],
   "source": [
    "isc_nii = vis_dic['Internal-sherlock-1']"
   ]
  },
  {
   "cell_type": "code",
   "execution_count": 103,
   "id": "becoming-korea",
   "metadata": {},
   "outputs": [
    {
     "data": {
      "image/png": "[encoded data removed]",
      "text/plain": [
       "<Figure size 525.6x187.2 with 5 Axes>"
      ]
     },
     "metadata": {},
     "output_type": "display_data"
    },
    {
     "data": {
      "image/png": "[encoded data removed]",
      "text/plain": [
       "<Figure size 525.6x187.2 with 5 Axes>"
      ]
     },
     "metadata": {},
     "output_type": "display_data"
    },
    {
     "data": {
      "image/png": "[encoded data removed]",
      "text/plain": [
       "<Figure size 525.6x187.2 with 5 Axes>"
      ]
     },
     "metadata": {},
     "output_type": "display_data"
    },
    {
     "data": {
      "image/png": "[encoded data removed]",
      "text/plain": [
       "<Figure size 525.6x187.2 with 5 Axes>"
      ]
     },
     "metadata": {},
     "output_type": "display_data"
    }
   ],
   "source": [
    "# Plot slices at coordinates -61, -20, 8\n",
    "plot_stat_map(\n",
    "    isc_nii,\n",
    "    cmap='RdYlBu_r',\n",
    "    vmax=.75,\n",
    "    cut_coords=(-61, -20, 8))\n",
    "\n",
    "# Plot slices at coordinates 0, -65, 40\n",
    "plot_stat_map(\n",
    "    isc_nii,\n",
    "    cmap='RdYlBu_r',\n",
    "    vmax=.75,\n",
    "    cut_coords=(0, -65, 40))\n",
    "\n",
    "# Plot slices at coordinates 0, -65, 40\n",
    "plot_stat_map(\n",
    "    isc_nii,\n",
    "    cmap='RdYlBu_r',\n",
    "    vmax=.75,\n",
    "    cut_coords=(-24, 39, 25))\n",
    "\n",
    "# Plot slices at coordinates 0, -65, 40\n",
    "plot_stat_map(\n",
    "    isc_nii,\n",
    "    cmap='RdYlBu_r',\n",
    "    vmax=.75,\n",
    "    cut_coords=(47, -57, 27))\n",
    "\n",
    "plt.show()"
   ]
  },
  {
   "cell_type": "code",
   "execution_count": null,
   "id": "bizarre-bearing",
   "metadata": {},
   "outputs": [],
   "source": []
  },
  {
   "cell_type": "code",
   "execution_count": 18,
   "id": "anonymous-auction",
   "metadata": {},
   "outputs": [],
   "source": [
    "isc_nii = vis_dic['External-brushing-1']"
   ]
  },
  {
   "cell_type": "code",
   "execution_count": 19,
   "id": "violent-heart",
   "metadata": {},
   "outputs": [
    {
     "data": {
      "image/png": "[encoded data removed]",
      "text/plain": [
       "<Figure size 525.6x187.2 with 5 Axes>"
      ]
     },
     "metadata": {},
     "output_type": "display_data"
    },
    {
     "data": {
      "image/png": "[encoded data removed]",
      "text/plain": [
       "<Figure size 525.6x187.2 with 5 Axes>"
      ]
     },
     "metadata": {},
     "output_type": "display_data"
    },
    {
     "data": {
      "image/png": "[encoded data removed]",
      "text/plain": [
       "<Figure size 525.6x187.2 with 5 Axes>"
      ]
     },
     "metadata": {},
     "output_type": "display_data"
    },
    {
     "data": {
      "image/png": "[encoded data removed]",
      "text/plain": [
       "<Figure size 525.6x187.2 with 5 Axes>"
      ]
     },
     "metadata": {},
     "output_type": "display_data"
    }
   ],
   "source": [
    "# Plot slices at coordinates -61, -20, 8\n",
    "plot_stat_map(\n",
    "    isc_nii,\n",
    "    cmap='RdYlBu_r',\n",
    "    vmax=.5,\n",
    "    cut_coords=(-61, -20, 8))\n",
    "\n",
    "# Plot slices at coordinates 0, -65, 40\n",
    "plot_stat_map(\n",
    "    isc_nii,\n",
    "    cmap='RdYlBu_r',\n",
    "    vmax=.5,\n",
    "    cut_coords=(0, -65, 40))\n",
    "\n",
    "# Plot slices at coordinates 0, -65, 40\n",
    "plot_stat_map(\n",
    "    isc_nii,\n",
    "    cmap='RdYlBu_r',\n",
    "    vmax=.5,\n",
    "    cut_coords=(-24, 39, 25))\n",
    "\n",
    "# Plot slices at coordinates 0, -65, 40\n",
    "plot_stat_map(\n",
    "    isc_nii,\n",
    "    cmap='RdYlBu_r',\n",
    "    vmax=.5,\n",
    "    cut_coords=(47, -57, 27))\n",
    "\n",
    "plt.show()"
   ]
  },
  {
   "cell_type": "markdown",
   "id": "female-neutral",
   "metadata": {},
   "source": [
    "## plot by network"
   ]
  },
  {
   "cell_type": "markdown",
   "id": "automatic-pollution",
   "metadata": {},
   "source": [
    "### rerun ISC to get raw correlations, not q values"
   ]
  },
  {
   "cell_type": "code",
   "execution_count": 20,
   "id": "hybrid-massage",
   "metadata": {},
   "outputs": [],
   "source": [
    "from utils_anal import load_epi_data"
   ]
  },
  {
   "cell_type": "code",
   "execution_count": 23,
   "id": "specific-separation",
   "metadata": {},
   "outputs": [],
   "source": [
    "## here we just remove the portion of the code that threshholds \n",
    "runs = [1, 2, 3, 4]\n",
    "conditions = [\"Internal\", \"External\"]\n",
    "mov_list = ['office', 'brushing', 'oragami', 'shrek', 'cake', 'sherlock']\n",
    "mov_list = [ 'sherlock']\n",
    "num_parc = 400\n",
    "vis_dic = {}"
   ]
  },
  {
   "cell_type": "code",
   "execution_count": 24,
   "id": "convinced-wisconsin",
   "metadata": {},
   "outputs": [],
   "source": [
    "cor_dic = {}"
   ]
  },
  {
   "cell_type": "code",
   "execution_count": 33,
   "id": "respective-coverage",
   "metadata": {},
   "outputs": [
    {
     "data": {
      "text/plain": [
       "'R ContC'"
      ]
     },
     "execution_count": 33,
     "metadata": {},
     "output_type": "execute_result"
    }
   ],
   "source": [
    "net_lab"
   ]
  },
  {
   "cell_type": "code",
   "execution_count": 34,
   "id": "excited-dryer",
   "metadata": {},
   "outputs": [],
   "source": [
    "targ_net = (np.array(networks) == net_lab).nonzero()[0] + 1"
   ]
  },
  {
   "cell_type": "code",
   "execution_count": 35,
   "id": "arabic-cameroon",
   "metadata": {},
   "outputs": [
    {
     "data": {
      "text/plain": [
       "array([351, 352, 353, 354, 355, 356, 357])"
      ]
     },
     "execution_count": 35,
     "metadata": {},
     "output_type": "execute_result"
    }
   ],
   "source": [
    "targ_net"
   ]
  },
  {
   "cell_type": "code",
   "execution_count": 37,
   "id": "bound-oxford",
   "metadata": {
    "collapsed": true
   },
   "outputs": [
    {
     "name": "stdout",
     "output_type": "stream",
     "text": [
      "[ 1  2  3  4  5  6  7  8  9 10 11 12]\n",
      "[13 14 15 16 17 18 19 20 21 22 23 24]\n",
      "[25 26 27 28 29 30 31 32 33 34 35 36 37 38 39 40 41 42 43]\n",
      "[44 45 46 47 48 49 50 51 52 53 54 55 56 57 58 59]\n",
      "[60 61 62 63 64 65 66 67 68 69 70 71 72]\n",
      "[73 74 75 76 77 78 79 80 81 82 83 84 85]\n",
      "[ 86  87  88  89  90  91  92  93  94  95  96  97  98  99 100]\n",
      "[101 102 103 104 105 106 107 108]\n",
      "[109 110 111 112 113]\n",
      "[114 115 116 117 118 119 120]\n",
      "[121 122 123 124 125 126 127 128 129 130 131 132 133]\n",
      "[134 135 136 137 138 139 140 141 142 143]\n",
      "[144 145 146 147 148]\n",
      "[149 150 151 152 153 154 155 156 157 158 159 160 161 162 163 164 165 166]\n",
      "[167 168 169 170 171 172 173 174 175 176 177 178 179 180 181 182 183 184\n",
      " 185 186 187]\n",
      "[188 189 190 191 192 193 194]\n",
      "[195 196 197 198 199 200]\n",
      "[201 202 203 204 205 206 207 208 209 210 211 212]\n",
      "[213 214 215 216 217 218 219 220 221 222 223]\n",
      "[224 225 226 227 228 229 230 231 232 233 234 235 236 237 238 239 240 241\n",
      " 242 243]\n",
      "[244 245 246 247 248 249 250 251 252 253 254 255 256 257 258]\n",
      "[259 260 261 262 263 264 265 266 267 268 269 270 271 272]\n",
      "[273 274 275 276 277 278 279 280 281 282 283 284]\n",
      "[285 286 287 288 289 290 291 292 293 294 295 296 297 298 299 300 301 302\n",
      " 303]\n",
      "[304 305 306 307 308 309 310 311 312]\n",
      "[313 314 315 316 317 318]\n",
      "[319 320 321 322 323 324]\n",
      "[325 326 327 328 329 330 331 332 333 334 335]\n",
      "[336 337 338 339 340 341 342 343 344 345 346 347 348 349 350]\n",
      "[351 352 353 354 355 356 357]\n",
      "[358 359 360 361 362 363 364 365 366 367 368 369 370 371 372 373]\n",
      "[374 375 376 377 378 379 380 381 382 383 384]\n",
      "[385 386 387 388 389 390]\n",
      "[391 392 393 394 395 396 397 398 399 400]\n"
     ]
    }
   ],
   "source": [
    "for net_lab in network_labels:\n",
    "    targ_net = (np.array(networks) == net_lab).nonzero()[0] + 1\n",
    "    print(targ_net)"
   ]
  },
  {
   "cell_type": "code",
   "execution_count": 25,
   "id": "dense-breakdown",
   "metadata": {},
   "outputs": [
    {
     "ename": "NameError",
     "evalue": "name 'networks' is not defined",
     "output_type": "error",
     "traceback": [
      "\u001b[0;31m---------------------------------------------------------------------------\u001b[0m",
      "\u001b[0;31mNameError\u001b[0m                                 Traceback (most recent call last)",
      "\u001b[0;32m<ipython-input-25-8ae190f07f09>\u001b[0m in \u001b[0;36m<module>\u001b[0;34m\u001b[0m\n\u001b[1;32m     12\u001b[0m \u001b[0;34m\u001b[0m\u001b[0m\n\u001b[1;32m     13\u001b[0m \u001b[0;31m## Get labels associated with the target network ##\u001b[0m\u001b[0;34m\u001b[0m\u001b[0;34m\u001b[0m\u001b[0;34m\u001b[0m\u001b[0m\n\u001b[0;32m---> 14\u001b[0;31m \u001b[0mtarg_net\u001b[0m \u001b[0;34m=\u001b[0m \u001b[0;34m(\u001b[0m\u001b[0mnp\u001b[0m\u001b[0;34m.\u001b[0m\u001b[0marray\u001b[0m\u001b[0;34m(\u001b[0m\u001b[0mnetworks\u001b[0m\u001b[0;34m)\u001b[0m \u001b[0;34m==\u001b[0m \u001b[0mnet_lab\u001b[0m\u001b[0;34m)\u001b[0m\u001b[0;34m.\u001b[0m\u001b[0mnonzero\u001b[0m\u001b[0;34m(\u001b[0m\u001b[0;34m)\u001b[0m\u001b[0;34m[\u001b[0m\u001b[0;36m0\u001b[0m\u001b[0;34m]\u001b[0m \u001b[0;34m+\u001b[0m \u001b[0;36m1\u001b[0m\u001b[0;34m\u001b[0m\u001b[0;34m\u001b[0m\u001b[0m\n\u001b[0m",
      "\u001b[0;31mNameError\u001b[0m: name 'networks' is not defined"
     ]
    }
   ],
   "source": [
    "num_parc = 400\n",
    "\n",
    "# Get labels for parcels in left DMN A network\n",
    "net_lab = 'R ContC' #'L DefaultB'  #'R ContC' #R DorsAttnB  #R VisPeri  #R SalVentAttnA #'R TempPar' #'L SomMotA'\n",
    "\n",
    "## Target Conditions\n",
    "targ_cond = \"External\"\n",
    "\n",
    "## movie repetitions ##\n",
    "#m_reps = 1\n",
    "targ_run = 1\n",
    "\n",
    "## Get labels associated with the target network ## \n",
    "targ_net = (np.array(networks) == net_lab).nonzero()[0] + 1"
   ]
  },
  {
   "cell_type": "code",
   "execution_count": 29,
   "id": "certain-plenty",
   "metadata": {},
   "outputs": [
    {
     "name": "stdout",
     "output_type": "stream",
     "text": [
      "Atlas ROIs are located in nifti image (4D) at: /usr/people/isaacrc/nilearn_data/schaefer_2018/Schaefer2018_400Parcels_7Networks_order_FSLMNI152_1mm.nii.gz\n"
     ]
    }
   ],
   "source": [
    "dataset = datasets.fetch_atlas_schaefer_2018(n_rois=num_parc)\n",
    "atlas_filename = dataset.maps\n",
    "labels = dataset.labels\n",
    "\n",
    "print(f\"Atlas ROIs are located in nifti image (4D) at: {atlas_filename}\")"
   ]
  },
  {
   "cell_type": "code",
   "execution_count": 30,
   "id": "progressive-lunch",
   "metadata": {},
   "outputs": [
    {
     "name": "stdout",
     "output_type": "stream",
     "text": [
      "Loading data from /jukebox/graziano/coolCatIsaac/MEI/data/bids/derivatives/fmriprep/sub-007/ses-01/func/sub-007_ses-01_task-None_run-02_space-MNI152NLin2009cAsym_desc-preproc_bold.nii.gz\n",
      "shape of run 2 is (78, 93, 65, 369) \n",
      "\n",
      "count parc:401\n",
      "shape of atlas nii object (78, 93, 65)\n"
     ]
    }
   ],
   "source": [
    "# Load  sample data for resampling\n",
    "resamp_run = load_epi_data(fmri_prep, 'sub-007', 2, \"MNI\")\n",
    "# Load parcellation\n",
    "d = nib.load(atlas_filename)\n",
    "atlas_nii = resample_to_img(d, resamp_run, interpolation='nearest')\n",
    "# Get parcellation fdata\n",
    "atlas_img = atlas_nii.get_fdata()\n",
    "# paracellations scheme\n",
    "print(f'count parc:{len(np.unique(atlas_nii.get_fdata()))}')\n",
    "print(\"shape of atlas nii object\", atlas_img.shape)\n",
    "\n"
   ]
  },
  {
   "cell_type": "code",
   "execution_count": 27,
   "id": "indoor-interaction",
   "metadata": {},
   "outputs": [],
   "source": [
    "# Load in network labels\n",
    "label_fn = 'brainiak-aperture-isc-data/Schaefer2018_400Parcels_17Networks_order.txt'\n",
    "with open(label_fn) as f:\n",
    "    networks = [' '.join((label.split('_')[1][0], label.split('_')[2]))\n",
    "                for label in f.readlines()]\n",
    "    \n",
    "# Get sorted unique network labels\n",
    "idxs = np.unique(networks, return_index=True)[1]\n",
    "network_labels = [networks[idx] for idx in sorted(idxs)]\n",
    "\n",
    "# Get middle index for each network for plotting\n",
    "network_idxs = [int(np.median([i for i, n in enumerate(networks)\n",
    "                                if n == network]))\n",
    "                for network in network_labels]"
   ]
  },
  {
   "cell_type": "code",
   "execution_count": 29,
   "id": "twelve-mistake",
   "metadata": {
    "scrolled": true
   },
   "outputs": [
    {
     "data": {
      "text/plain": [
       "{'Internal-office-1': <nibabel.nifti1.Nifti1Image at 0x7f8d9347ca50>,\n",
       " 'Internal-brushing-1': <nibabel.nifti1.Nifti1Image at 0x7f8d4b5a7fd0>,\n",
       " 'Internal-oragami-1': <nibabel.nifti1.Nifti1Image at 0x7f8d0ad915d0>,\n",
       " 'Internal-shrek-1': <nibabel.nifti1.Nifti1Image at 0x7f8d4b5a8bd0>,\n",
       " 'Internal-cake-1': <nibabel.nifti1.Nifti1Image at 0x7f8d4b5a8b90>,\n",
       " 'Internal-sherlock-1': <nibabel.nifti1.Nifti1Image at 0x7f8d4b5a8a10>,\n",
       " 'Internal-office-2': <nibabel.nifti1.Nifti1Image at 0x7f8d4b5a8950>,\n",
       " 'Internal-brushing-2': <nibabel.nifti1.Nifti1Image at 0x7f8d89cd8890>,\n",
       " 'Internal-oragami-2': <nibabel.nifti1.Nifti1Image at 0x7f8d4b5a88d0>,\n",
       " 'Internal-shrek-2': <nibabel.nifti1.Nifti1Image at 0x7f8d4b5a8810>,\n",
       " 'Internal-cake-2': <nibabel.nifti1.Nifti1Image at 0x7f8d89cd88d0>,\n",
       " 'Internal-sherlock-2': <nibabel.nifti1.Nifti1Image at 0x7f8d4b5a8690>,\n",
       " 'Internal-office-3': <nibabel.nifti1.Nifti1Image at 0x7f8d4b5a8510>,\n",
       " 'Internal-brushing-3': <nibabel.nifti1.Nifti1Image at 0x7f8d4b5a8450>,\n",
       " 'Internal-oragami-3': <nibabel.nifti1.Nifti1Image at 0x7f8d4b5a8390>,\n",
       " 'Internal-shrek-3': <nibabel.nifti1.Nifti1Image at 0x7f8d4b5a82d0>,\n",
       " 'Internal-cake-3': <nibabel.nifti1.Nifti1Image at 0x7f8d4b5a8290>,\n",
       " 'Internal-sherlock-3': <nibabel.nifti1.Nifti1Image at 0x7f8d4b5a8110>,\n",
       " 'Internal-office-4': <nibabel.nifti1.Nifti1Image at 0x7f8d4b5a8050>,\n",
       " 'Internal-brushing-4': <nibabel.nifti1.Nifti1Image at 0x7f8d4b5a8e10>,\n",
       " 'Internal-oragami-4': <nibabel.nifti1.Nifti1Image at 0x7f8d4b595c90>,\n",
       " 'Internal-shrek-4': <nibabel.nifti1.Nifti1Image at 0x7f8d4b5954d0>,\n",
       " 'Internal-cake-4': <nibabel.nifti1.Nifti1Image at 0x7f8d4b595750>,\n",
       " 'Internal-sherlock-4': <nibabel.nifti1.Nifti1Image at 0x7f8d4b5956d0>,\n",
       " 'External-office-1': <nibabel.nifti1.Nifti1Image at 0x7f8d4b5959d0>,\n",
       " 'External-brushing-1': <nibabel.nifti1.Nifti1Image at 0x7f8d4b5aedd0>,\n",
       " 'External-oragami-1': <nibabel.nifti1.Nifti1Image at 0x7f8d4b5aecd0>,\n",
       " 'External-shrek-1': <nibabel.nifti1.Nifti1Image at 0x7f8d4b5aead0>,\n",
       " 'External-cake-1': <nibabel.nifti1.Nifti1Image at 0x7f8d4b5ae790>,\n",
       " 'External-sherlock-1': <nibabel.nifti1.Nifti1Image at 0x7f8d4b5ae850>,\n",
       " 'External-office-2': <nibabel.nifti1.Nifti1Image at 0x7f8d4b5ae910>,\n",
       " 'External-brushing-2': <nibabel.nifti1.Nifti1Image at 0x7f8d4b5ae9d0>,\n",
       " 'External-oragami-2': <nibabel.nifti1.Nifti1Image at 0x7f8d4b5aea90>,\n",
       " 'External-shrek-2': <nibabel.nifti1.Nifti1Image at 0x7f8d4b5aec10>,\n",
       " 'External-cake-2': <nibabel.nifti1.Nifti1Image at 0x7f8d4b5b0390>,\n",
       " 'External-sherlock-2': <nibabel.nifti1.Nifti1Image at 0x7f8d4b5b0890>,\n",
       " 'External-office-3': <nibabel.nifti1.Nifti1Image at 0x7f8d4b5b0850>,\n",
       " 'External-brushing-3': <nibabel.nifti1.Nifti1Image at 0x7f8d4b5b07d0>,\n",
       " 'External-oragami-3': <nibabel.nifti1.Nifti1Image at 0x7f8d4b5b01d0>,\n",
       " 'External-shrek-3': <nibabel.nifti1.Nifti1Image at 0x7f8d4b5b0650>,\n",
       " 'External-cake-3': <nibabel.nifti1.Nifti1Image at 0x7f8d4b5b0250>,\n",
       " 'External-sherlock-3': <nibabel.nifti1.Nifti1Image at 0x7f8d4b5b0450>,\n",
       " 'External-office-4': <nibabel.nifti1.Nifti1Image at 0x7f8d4b5b0150>,\n",
       " 'External-brushing-4': <nibabel.nifti1.Nifti1Image at 0x7f8d21d90f90>,\n",
       " 'External-oragami-4': <nibabel.nifti1.Nifti1Image at 0x7f8d21d9c090>,\n",
       " 'External-shrek-4': <nibabel.nifti1.Nifti1Image at 0x7f8d21d9c150>,\n",
       " 'External-cake-4': <nibabel.nifti1.Nifti1Image at 0x7f8d21d9c250>,\n",
       " 'External-sherlock-4': <nibabel.nifti1.Nifti1Image at 0x7f8d21d9c310>}"
      ]
     },
     "execution_count": 29,
     "metadata": {},
     "output_type": "execute_result"
    }
   ],
   "source": [
    "# load if necessary\n",
    "#vis_dic = np.load(f'{isc_dir}/vis_dic_nothresh.npy', allow_pickle=True).item()\n",
    "vis_dic"
   ]
  },
  {
   "cell_type": "code",
   "execution_count": 31,
   "id": "sporting-poultry",
   "metadata": {},
   "outputs": [],
   "source": [
    "bpress_nii = vis_dic['Internal-office-1']"
   ]
  },
  {
   "cell_type": "code",
   "execution_count": 71,
   "id": "freelance-latino",
   "metadata": {},
   "outputs": [
    {
     "name": "stdout",
     "output_type": "stream",
     "text": [
      "START Internal\n",
      "office run 1 shape is: (106, 112179, 16)\n"
     ]
    },
    {
     "name": "stderr",
     "output_type": "stream",
     "text": [
      "/jukebox/pkgs/PYGER/base/envs/0.11.0/lib/python3.7/site-packages/scipy/stats/stats.py:2500: RuntimeWarning: invalid value encountered in true_divide\n",
      "  return (a - mns) / sstd\n"
     ]
    },
    {
     "name": "stdout",
     "output_type": "stream",
     "text": [
      "ISC values shape = (16, 112179) \n",
      "i.e., 16 left-out subjects and 112179 voxel(s)\n",
      "ISC values shape = (112179,) \n",
      "i.e., 112179 mean value across left-out subjects and 112179 voxel(s)\n",
      "Minimum mean ISC across voxels = -0.161; maximum mean ISC across voxels = 0.751\n"
     ]
    },
    {
     "name": "stderr",
     "output_type": "stream",
     "text": [
      "/jukebox/pkgs/PYGER/base/envs/0.11.0/lib/python3.7/site-packages/brainiak/isc.py:523: RuntimeWarning: Mean of empty slice\n",
      "  statistic = np.tanh(np.nanmean(np.arctanh(iscs), axis=axis))\n",
      "/jukebox/pkgs/PYGER/base/envs/0.11.0/lib/python3.7/site-packages/numpy/lib/nanfunctions.py:1114: RuntimeWarning: All-NaN slice encountered\n",
      "  overwrite_input=overwrite_input)\n"
     ]
    },
    {
     "name": "stdout",
     "output_type": "stream",
     "text": [
      "ISC values shape = (112179,) \n",
      "i.e., 112179 median value across left-out subjects and 112179 voxel(s)\n",
      "Minimum median ISC across voxels = -0.160; maximum median ISC across voxels = 0.761\n",
      "3327 voxels out of 112179 are NaNs (2.97%)\n",
      "41732 significant voxels controlling FDR at 0.05\n",
      "\n",
      "finish Internal-office-1\n",
      "\n"
     ]
    },
    {
     "ename": "NameError",
     "evalue": "name 'cor_dic' is not defined",
     "output_type": "error",
     "traceback": [
      "\u001b[0;31m---------------------------------------------------------------------------\u001b[0m",
      "\u001b[0;31mNameError\u001b[0m                                 Traceback (most recent call last)",
      "\u001b[0;32m<ipython-input-71-eca95b49a824>\u001b[0m in \u001b[0;36m<module>\u001b[0;34m\u001b[0m\n\u001b[1;32m     95\u001b[0m \u001b[0;34m\u001b[0m\u001b[0m\n\u001b[1;32m     96\u001b[0m             \u001b[0;32mfor\u001b[0m \u001b[0mparcel\u001b[0m \u001b[0;32min\u001b[0m \u001b[0mtarg_net\u001b[0m\u001b[0;34m:\u001b[0m\u001b[0;34m\u001b[0m\u001b[0;34m\u001b[0m\u001b[0m\n\u001b[0;32m---> 97\u001b[0;31m                 \u001b[0;32mif\u001b[0m \u001b[0;34mf'{cond}-{mov}-{parcel}'\u001b[0m \u001b[0;32mnot\u001b[0m \u001b[0;32min\u001b[0m \u001b[0mcor_dic\u001b[0m\u001b[0;34m:\u001b[0m\u001b[0;34m\u001b[0m\u001b[0;34m\u001b[0m\u001b[0m\n\u001b[0m\u001b[1;32m     98\u001b[0m                     \u001b[0mcor_dic\u001b[0m\u001b[0;34m[\u001b[0m\u001b[0;34mf'{cond}-{mov}-{parcel}'\u001b[0m\u001b[0;34m]\u001b[0m \u001b[0;34m=\u001b[0m \u001b[0mnp\u001b[0m\u001b[0;34m.\u001b[0m\u001b[0mnanmean\u001b[0m\u001b[0;34m(\u001b[0m\u001b[0;34m[\u001b[0m\u001b[0mnp\u001b[0m\u001b[0;34m.\u001b[0m\u001b[0mnanmean\u001b[0m\u001b[0;34m(\u001b[0m\u001b[0mf_dat_4d\u001b[0m\u001b[0;34m[\u001b[0m\u001b[0matlas_img\u001b[0m \u001b[0;34m==\u001b[0m \u001b[0mparcel\u001b[0m\u001b[0;34m]\u001b[0m\u001b[0;34m)\u001b[0m\u001b[0;34m]\u001b[0m\u001b[0;34m)\u001b[0m\u001b[0;34m\u001b[0m\u001b[0;34m\u001b[0m\u001b[0m\n\u001b[1;32m     99\u001b[0m                 \u001b[0;32melse\u001b[0m\u001b[0;34m:\u001b[0m\u001b[0;34m\u001b[0m\u001b[0;34m\u001b[0m\u001b[0m\n",
      "\u001b[0;31mNameError\u001b[0m: name 'cor_dic' is not defined"
     ]
    }
   ],
   "source": [
    "for cond in conditions:\n",
    "    print(f'START {cond}')\n",
    "    if cond == \"External\":\n",
    "        targ_dic = ext_isc\n",
    "    else:\n",
    "        targ_dic = int_isc\n",
    "    for run in runs:\n",
    "        for mov in mov_list:\n",
    "    \n",
    "            # select movie and run from loaded data ** account for indexing\n",
    "            data = targ_dic[mov][...,run - 1,:]\n",
    "            print(f'{mov} run {run} shape is: {data.shape}')\n",
    "\n",
    "            # Z-score time series for each voxel\n",
    "            data = zscore(data, axis=0)\n",
    "\n",
    "            # Leave-one-out approach\n",
    "            iscs = isc(data, pairwise=False, tolerate_nans=.8)\n",
    "\n",
    "            # Check shape of output ISC values\n",
    "            print(f\"ISC values shape = {iscs.shape} \\ni.e., {iscs.shape[0]} \"\n",
    "                  f\"left-out subjects and {iscs.shape[1]} voxel(s)\")\n",
    "\n",
    "            # Compute mean ISC (with Fisher transformation)\n",
    "            mean_iscs = compute_summary_statistic(iscs, summary_statistic='mean', axis=0)\n",
    "\n",
    "            print(f\"ISC values shape = {mean_iscs.shape} \\ni.e., {mean_iscs.shape[0]} \"\n",
    "                  f\"mean value across left-out subjects and {iscs.shape[1]} voxel(s)\"\n",
    "                  f\"\\nMinimum mean ISC across voxels = {np.nanmin(mean_iscs):.3f}; \"\n",
    "                  f\"maximum mean ISC across voxels = {np.nanmax(mean_iscs):.3f}\")\n",
    "\n",
    "\n",
    "            # Compute median ISC\n",
    "            median_iscs = compute_summary_statistic(iscs, summary_statistic='median',\n",
    "                                                    axis=0)\n",
    "\n",
    "            print(f\"ISC values shape = {median_iscs.shape} \\ni.e., {median_iscs.shape[0]} \"\n",
    "                  f\"median value across left-out subjects and {iscs.shape[1]} voxel(s)\"\n",
    "                  f\"\\nMinimum median ISC across voxels = {np.nanmin(median_iscs):.3f}; \"\n",
    "                  f\"maximum median ISC across voxels = {np.nanmax(median_iscs):.3f}\")\n",
    "\n",
    "            # Run bootstrap hypothesis test on ISCs\n",
    "            n_boot = 1000\n",
    "            observed, ci, p, distribution = bootstrap_isc(iscs, pairwise=False,\n",
    "                                                          ci_percentile=95,\n",
    "                                                          summary_statistic='median',\n",
    "                                                          n_bootstraps=n_boot)\n",
    "\n",
    "\n",
    "            # Get number of NaN voxels\n",
    "            n_nans = np.sum(np.isnan(observed))\n",
    "            print(f\"{n_nans} voxels out of {observed.shape[0]} are NaNs \"\n",
    "                  f\"({n_nans / observed.shape[0] * 100:.2f}%)\")\n",
    "\n",
    "            # Get voxels without NaNs\n",
    "            nonnan_mask = ~np.isnan(observed)\n",
    "            nonnan_coords = np.where(nonnan_mask)\n",
    "\n",
    "            # Mask both the ISC and p-value map to exclude NaNs\n",
    "            nonnan_isc = observed[nonnan_mask]\n",
    "            nonnan_p = p[nonnan_mask]\n",
    "\n",
    "            # Get FDR-controlled q-values\n",
    "            nonnan_q = multipletests(nonnan_p, method='fdr_by')[1]\n",
    "            threshold = .05\n",
    "            print(f\"{np.sum(nonnan_q < threshold)} significant voxels \"\n",
    "                  f\"controlling FDR at {threshold}\")\n",
    "\n",
    "            # Threshold ISCs according FDR-controlled threshold\n",
    "            #nonnan_isc[nonnan_q >= threshold] = np.nan\n",
    "\n",
    "            # Reinsert thresholded ISCs back into whole brain image\n",
    "            isc_thresh = np.full(observed.shape, np.nan)\n",
    "            isc_thresh[nonnan_coords] = nonnan_isc\n",
    "\n",
    "            # Create empty 3D image and populate\n",
    "            # with thresholded ISC values\n",
    "            isc_img = np.full(ref_nii.shape, np.nan)\n",
    "            isc_img[mask_coords] = isc_thresh\n",
    "\n",
    "            # Convert to NIfTI image\n",
    "            isc_nii = nib.Nifti1Image(isc_img, ref_nii.affine, ref_nii.header)\n",
    "            \n",
    "            # Save\n",
    "            vis_dic[f'{cond}-{mov}-{run}'] = isc_nii\n",
    "            print(f'\\nfinish {cond}-{mov}-{run}\\n')\n",
    "            \n",
    "            np.save(f'{isc_dir}/vis_dic_nothresh.npy', vis_dic)\n",
    "            \n",
    "            # DO rois # \n",
    "            # Convert to 4d numpy array\n",
    "            f_dat_4d = bpress_nii.get_fdata()\n",
    "\n",
    "            #targ_net = (np.array(networks) == net_lab).nonzero()[0] + 1\n",
    "            \n",
    "            for net in np.array(networks):\n",
    "                targ_net = net.nonzero()[0] + 1\n",
    "            \n",
    "                for parcel in targ_net:\n",
    "                    if f'{cond}-{mov}-{parcel}' not in cor_dic:\n",
    "                        cor_dic[f'{cond}-{mov}-{parcel}'] = np.nanmean([np.nanmean(f_dat_4d[atlas_img == parcel])])\n",
    "                    else:\n",
    "                        cor_dic[f'{cond}-{mov}-{parcel}'].append(np.nanmean([np.nanmean(f_dat_4d[atlas_img == parcel])]))\n",
    "            "
   ]
  },
  {
   "cell_type": "code",
   "execution_count": 86,
   "id": "appreciated-interval",
   "metadata": {},
   "outputs": [],
   "source": [
    "cor_dic = {}"
   ]
  },
  {
   "cell_type": "code",
   "execution_count": 87,
   "id": "ceramic-trick",
   "metadata": {},
   "outputs": [],
   "source": [
    "# DO rois # \n",
    "# Convert to 4d numpy array\n",
    "f_dat_4d = bpress_nii.get_fdata()\n",
    "\n",
    "targ_net = (np.array(networks) == net_lab).nonzero()[0] + 1\n",
    "\n",
    "temp = [np.nanmean([np.nanmean(f_dat_4d[atlas_img == parcel])]) for parcel in targ_net]\n",
    "if f'{cond}-{mov}-{net_lab}' not in cor_dic:\n",
    "    cor_dic[f'{cond}-{mov}-{net_lab}'] = [np.nanmean(temp)]\n",
    "else:\n",
    "    cor_dic[f'{cond}-{mov}-{net_lab}'].append(np.nanmean(temp))"
   ]
  },
  {
   "cell_type": "code",
   "execution_count": 88,
   "id": "loving-judgment",
   "metadata": {},
   "outputs": [
    {
     "data": {
      "text/plain": [
       "{'Internal-office-R ContC': [0.16539153784835273]}"
      ]
     },
     "execution_count": 88,
     "metadata": {},
     "output_type": "execute_result"
    }
   ],
   "source": [
    "cor_dic"
   ]
  },
  {
   "cell_type": "code",
   "execution_count": 77,
   "id": "isolated-nigeria",
   "metadata": {},
   "outputs": [],
   "source": [
    "temp = [np.nanmean([np.nanmean(f_dat_4d[atlas_img == parcel])]) for parcel in targ_net]\n"
   ]
  },
  {
   "cell_type": "code",
   "execution_count": 78,
   "id": "needed-pizza",
   "metadata": {},
   "outputs": [
    {
     "data": {
      "text/plain": [
       "[0.15212171162661273,\n",
       " 0.12460714368962275,\n",
       " 0.17385008319929765,\n",
       " 0.15132106836969056,\n",
       " 0.13594276718869874,\n",
       " 0.17802443846383664,\n",
       " 0.24187355240071007]"
      ]
     },
     "execution_count": 78,
     "metadata": {},
     "output_type": "execute_result"
    }
   ],
   "source": [
    "temp"
   ]
  },
  {
   "cell_type": "code",
   "execution_count": null,
   "id": "modular-draft",
   "metadata": {},
   "outputs": [],
   "source": []
  },
  {
   "cell_type": "code",
   "execution_count": null,
   "id": "grateful-april",
   "metadata": {},
   "outputs": [],
   "source": []
  },
  {
   "cell_type": "code",
   "execution_count": 41,
   "id": "first-movie",
   "metadata": {},
   "outputs": [
    {
     "ename": "ValueError",
     "evalue": "all the input array dimensions for the concatenation axis must match exactly, but along dimension 0, the array at index 0 has size 162 and the array at index 1 has size 215",
     "output_type": "error",
     "traceback": [
      "\u001b[0;31m---------------------------------------------------------------------------\u001b[0m",
      "\u001b[0;31mValueError\u001b[0m                                Traceback (most recent call last)",
      "\u001b[0;32m<ipython-input-41-5ad9b3c768d8>\u001b[0m in \u001b[0;36m<module>\u001b[0;34m\u001b[0m\n\u001b[1;32m      6\u001b[0m \u001b[0;31m# loop through all TRs and get the target voxel pattern #\u001b[0m\u001b[0;34m\u001b[0m\u001b[0;34m\u001b[0m\u001b[0;34m\u001b[0m\u001b[0m\n\u001b[1;32m      7\u001b[0m bpress_pat = np.column_stack([f_dat_4d[atlas_img == parcel].T\n\u001b[0;32m----> 8\u001b[0;31m                 for parcel in targ_net])\n\u001b[0m",
      "\u001b[0;32m<__array_function__ internals>\u001b[0m in \u001b[0;36mcolumn_stack\u001b[0;34m(*args, **kwargs)\u001b[0m\n",
      "\u001b[0;32m/jukebox/pkgs/PYGER/base/envs/0.11.0/lib/python3.7/site-packages/numpy/lib/shape_base.py\u001b[0m in \u001b[0;36mcolumn_stack\u001b[0;34m(tup)\u001b[0m\n\u001b[1;32m    654\u001b[0m             \u001b[0marr\u001b[0m \u001b[0;34m=\u001b[0m \u001b[0marray\u001b[0m\u001b[0;34m(\u001b[0m\u001b[0marr\u001b[0m\u001b[0;34m,\u001b[0m \u001b[0mcopy\u001b[0m\u001b[0;34m=\u001b[0m\u001b[0;32mFalse\u001b[0m\u001b[0;34m,\u001b[0m \u001b[0msubok\u001b[0m\u001b[0;34m=\u001b[0m\u001b[0;32mTrue\u001b[0m\u001b[0;34m,\u001b[0m \u001b[0mndmin\u001b[0m\u001b[0;34m=\u001b[0m\u001b[0;36m2\u001b[0m\u001b[0;34m)\u001b[0m\u001b[0;34m.\u001b[0m\u001b[0mT\u001b[0m\u001b[0;34m\u001b[0m\u001b[0;34m\u001b[0m\u001b[0m\n\u001b[1;32m    655\u001b[0m         \u001b[0marrays\u001b[0m\u001b[0;34m.\u001b[0m\u001b[0mappend\u001b[0m\u001b[0;34m(\u001b[0m\u001b[0marr\u001b[0m\u001b[0;34m)\u001b[0m\u001b[0;34m\u001b[0m\u001b[0;34m\u001b[0m\u001b[0m\n\u001b[0;32m--> 656\u001b[0;31m     \u001b[0;32mreturn\u001b[0m \u001b[0m_nx\u001b[0m\u001b[0;34m.\u001b[0m\u001b[0mconcatenate\u001b[0m\u001b[0;34m(\u001b[0m\u001b[0marrays\u001b[0m\u001b[0;34m,\u001b[0m \u001b[0;36m1\u001b[0m\u001b[0;34m)\u001b[0m\u001b[0;34m\u001b[0m\u001b[0;34m\u001b[0m\u001b[0m\n\u001b[0m\u001b[1;32m    657\u001b[0m \u001b[0;34m\u001b[0m\u001b[0m\n\u001b[1;32m    658\u001b[0m \u001b[0;34m\u001b[0m\u001b[0m\n",
      "\u001b[0;32m<__array_function__ internals>\u001b[0m in \u001b[0;36mconcatenate\u001b[0;34m(*args, **kwargs)\u001b[0m\n",
      "\u001b[0;31mValueError\u001b[0m: all the input array dimensions for the concatenation axis must match exactly, but along dimension 0, the array at index 0 has size 162 and the array at index 1 has size 215"
     ]
    }
   ],
   "source": [
    "# Convert to 4d numpy array\n",
    "f_dat_4d = bpress_nii.get_fdata()\n",
    "\n",
    "targ_net = (np.array(networks) == net_lab).nonzero()[0] + 1\n",
    "\n",
    "# loop through all TRs and get the target voxel pattern #\n",
    "bpress_pat = np.column_stack([f_dat_4d[atlas_img == parcel].T\n",
    "                for parcel in targ_net])"
   ]
  },
  {
   "cell_type": "code",
   "execution_count": 37,
   "id": "heated-treasury",
   "metadata": {},
   "outputs": [
    {
     "data": {
      "text/plain": [
       "(78, 93, 65)"
      ]
     },
     "execution_count": 37,
     "metadata": {},
     "output_type": "execute_result"
    }
   ],
   "source": [
    "atlas_img.shape"
   ]
  },
  {
   "cell_type": "code",
   "execution_count": 47,
   "id": "subtle-newsletter",
   "metadata": {},
   "outputs": [
    {
     "data": {
      "text/plain": [
       "0.24187355240071007"
      ]
     },
     "execution_count": 47,
     "metadata": {},
     "output_type": "execute_result"
    }
   ],
   "source": [
    "np.nanmean(f_dat_4d[atlas_img == parcel])"
   ]
  },
  {
   "cell_type": "code",
   "execution_count": 42,
   "id": "native-maryland",
   "metadata": {},
   "outputs": [
    {
     "name": "stdout",
     "output_type": "stream",
     "text": [
      "351\n",
      "352\n",
      "353\n",
      "354\n",
      "355\n",
      "356\n",
      "357\n"
     ]
    }
   ],
   "source": [
    "for parcel in targ_net:\n",
    "    np.column_stack(f_dat_4d[atlas_img == parcel])\n",
    "    print(parcel)"
   ]
  },
  {
   "cell_type": "code",
   "execution_count": 52,
   "id": "accessible-garage",
   "metadata": {},
   "outputs": [],
   "source": [
    "reg_cor = np.nanmean([np.nanmean(f_dat_4d[atlas_img == parcel])\n",
    "                for parcel in targ_net])"
   ]
  },
  {
   "cell_type": "code",
   "execution_count": null,
   "id": "adolescent-navigation",
   "metadata": {},
   "outputs": [],
   "source": [
    "cor_dic = {}\n",
    "runz = [1, 2, 3, 4]\n",
    "\n",
    "\n",
    "for parcel in targ_net:\n",
    "    if parcel not in cor_dic:\n",
    "        cor_dic[parcel] = np.nanmean([np.nanmean(f_dat_4d[atlas_img == parcel])])\n",
    "    else:\n",
    "        cor_dic[parcel].append(np.nanmean([np.nanmean(f_dat_4d[atlas_img == parcel])]))\n",
    "                        "
   ]
  },
  {
   "cell_type": "code",
   "execution_count": 53,
   "id": "premium-villa",
   "metadata": {},
   "outputs": [
    {
     "data": {
      "text/plain": [
       "0.16539153784835273"
      ]
     },
     "execution_count": 53,
     "metadata": {},
     "output_type": "execute_result"
    }
   ],
   "source": [
    "bpress_pat"
   ]
  },
  {
   "cell_type": "code",
   "execution_count": null,
   "id": "silver-desire",
   "metadata": {},
   "outputs": [],
   "source": [
    "f_dat_4d[]"
   ]
  }
 ],
 "metadata": {
  "kernelspec": {
   "display_name": "Python 3",
   "language": "python",
   "name": "python3"
  },
  "language_info": {
   "codemirror_mode": {
    "name": "ipython",
    "version": 3
   },
   "file_extension": ".py",
   "mimetype": "text/x-python",
   "name": "python",
   "nbconvert_exporter": "python",
   "pygments_lexer": "ipython3",
   "version": "3.7.9"
  }
 },
 "nbformat": 4,
 "nbformat_minor": 5
}
